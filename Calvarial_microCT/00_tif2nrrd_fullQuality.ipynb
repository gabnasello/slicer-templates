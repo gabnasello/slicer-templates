{
 "cells": [
  {
   "cell_type": "markdown",
   "id": "e9e365a5-96dd-44ec-9271-cb778da070dd",
   "metadata": {
    "editable": true,
    "slideshow": {
     "slide_type": ""
    },
    "tags": []
   },
   "source": [
    "<span STYLE=\"font-size:150%\"> \n",
    "    Convert .tif files to .nrrd\n",
    "</span>\n",
    "\n",
    "Docker image: gnasello/slicer-env:2023-10-10 \\\n",
    "Latest update: 10 October 2023"
   ]
  },
  {
   "cell_type": "markdown",
   "id": "b06273b8-ed89-406c-af12-191b17fdc261",
   "metadata": {},
   "source": [
    "- load image stack in Slicer\n",
    "- segment mineralized tissue\n",
    "- compute segmented statistics (volumes)"
   ]
  },
  {
   "cell_type": "markdown",
   "id": "8a604800-71f1-47b6-af62-7668c5af1d19",
   "metadata": {},
   "source": [
    "# Load libraries"
   ]
  },
  {
   "cell_type": "code",
   "execution_count": 1,
   "id": "ee34ac62-8898-4805-813b-a1b5573a675e",
   "metadata": {},
   "outputs": [],
   "source": [
    "import pyslicer as ps\n",
    "import slicer\n",
    "from pathlib import Path\n",
    "import pandas as pd\n",
    "import glob"
   ]
  },
  {
   "cell_type": "markdown",
   "id": "96139740-037b-4593-a20d-f5e8c394493a",
   "metadata": {
    "tags": []
   },
   "source": [
    "# Image input"
   ]
  },
  {
   "cell_type": "markdown",
   "id": "0f8c273a-7361-4112-90c4-64e98d318d02",
   "metadata": {},
   "source": [
    "Write the path of the image file directory and the name of the output files"
   ]
  },
  {
   "cell_type": "code",
   "execution_count": null,
   "id": "4d4ce121-b80b-49b1-bde1-273116f0f530",
   "metadata": {
    "editable": true,
    "slideshow": {
     "slide_type": ""
    },
    "tags": [
     "parameters"
    ]
   },
   "outputs": [],
   "source": [
    "# this cell is tagged 'parameters'\n",
    "image_directory_name = 'tif stack'\n",
    "output_dir_path = 'microCT_volume'"
   ]
  },
  {
   "cell_type": "markdown",
   "id": "f7a55b10-1181-4426-9f3b-26087e221450",
   "metadata": {},
   "source": [
    "Get first image .tif file"
   ]
  },
  {
   "cell_type": "code",
   "execution_count": null,
   "id": "7c4813a6-7de3-443a-9995-09d118e9f7e8",
   "metadata": {},
   "outputs": [],
   "source": [
    "image_file = glob.glob(str(Path(image_directory_name) / '*_0000.tif'))[0]\n",
    "image_file"
   ]
  },
  {
   "cell_type": "code",
   "execution_count": 2,
   "id": "d5355e20-94ae-419b-9661-2c62dca0747e",
   "metadata": {},
   "outputs": [],
   "source": [
    "path = Path(image_file)\n",
    "\n",
    "# Remove image numbering _0000, _0001 ...\n",
    "filename_output = path.stem[:-4]"
   ]
  },
  {
   "cell_type": "markdown",
   "id": "1fb1718c-d59d-49be-bb9b-481e876d42ab",
   "metadata": {},
   "source": [
    "Make ```segmented_volumes``` folder"
   ]
  },
  {
   "cell_type": "code",
   "execution_count": 3,
   "id": "6d8fc3ca-c210-4987-87d7-155a4892738f",
   "metadata": {
    "editable": true,
    "slideshow": {
     "slide_type": ""
    },
    "tags": []
   },
   "outputs": [],
   "source": [
    "output_directory = Path(output_dir_path)\n",
    "\n",
    "output_directory.mkdir(parents=True, exist_ok=True)"
   ]
  },
  {
   "cell_type": "markdown",
   "id": "b09a6bf0-5ce3-4026-8b9d-51e259c20d1e",
   "metadata": {},
   "source": [
    "# Load image"
   ]
  },
  {
   "cell_type": "markdown",
   "id": "482af021-6e82-40f3-9208-57bbf4c05b15",
   "metadata": {},
   "source": [
    "## Load stack of image files as a 3D volume into 3D Slicer"
   ]
  },
  {
   "cell_type": "markdown",
   "id": "8775fb2a-f447-417d-b0fa-8d459048cd5b",
   "metadata": {},
   "source": [
    "Write the [X, Y, Z] voxel spaxing if you want it to be different from metadata.\n",
    "\n",
    "If ```manual_spacing = False```, it will use default spacing value embedded in the image files"
   ]
  },
  {
   "cell_type": "code",
   "execution_count": 4,
   "id": "a666ad5a-6973-45ca-821a-e1a0182bd542",
   "metadata": {},
   "outputs": [],
   "source": [
    "manual_spacing = False\n",
    "# manual_spacing = [0.0107574, 0.0107574, 0.0107574] # mm"
   ]
  },
  {
   "cell_type": "markdown",
   "id": "91f00f44-ad31-417e-852b-9f9273096da8",
   "metadata": {},
   "source": [
    "Set the quality resolution of the output volume. \n",
    "\n",
    "The default quality is ```'preview'``` and you get it with ```quality = Flase```"
   ]
  },
  {
   "cell_type": "code",
   "execution_count": 5,
   "id": "acd82a50-c486-41d8-b23b-0cbce8b21cdd",
   "metadata": {},
   "outputs": [],
   "source": [
    "# quality = 'preview'\n",
    "# quality = 'half'\n",
    "quality = 'full'\n",
    "#quality = False"
   ]
  },
  {
   "cell_type": "code",
   "execution_count": 6,
   "id": "22fd15d9-9968-4a7f-881d-4dbc07103501",
   "metadata": {},
   "outputs": [],
   "source": [
    "masterVolumeNode = ps.load.imagestacks(first_image_file = image_file, \n",
    "                                       quality=quality,\n",
    "                                       spacing=manual_spacing)"
   ]
  },
  {
   "cell_type": "markdown",
   "id": "ef9c4702-0a45-4117-9ecd-14d77170fbec",
   "metadata": {},
   "source": [
    "Print spacing"
   ]
  },
  {
   "cell_type": "code",
   "execution_count": 7,
   "id": "c959e73e-d9e5-4d63-909b-07b1fbf2309a",
   "metadata": {},
   "outputs": [
    {
     "data": {
      "text/plain": [
       "(0.00835566, 0.00835566, 0.00835566)"
      ]
     },
     "execution_count": 7,
     "metadata": {},
     "output_type": "execute_result"
    }
   ],
   "source": [
    "## mm\n",
    "masterVolumeNode.GetSpacing()"
   ]
  },
  {
   "cell_type": "markdown",
   "id": "1c3fd32e-edf7-48ef-a812-29d366ed8fc9",
   "metadata": {},
   "source": [
    "Export volume Node as `.nrrd` file"
   ]
  },
  {
   "cell_type": "code",
   "execution_count": 8,
   "id": "c42dc1ef-d828-4539-9f68-bcef2572e222",
   "metadata": {},
   "outputs": [
    {
     "data": {
      "text/plain": [
       "True"
      ]
     },
     "execution_count": 8,
     "metadata": {},
     "output_type": "execute_result"
    }
   ],
   "source": [
    "filename_output = 'microCT_volume.nrrd'\n",
    "\n",
    "slicer.util.exportNode(masterVolumeNode, output_directory / filename_output)"
   ]
  },
  {
   "cell_type": "code",
   "execution_count": null,
   "id": "6e05ec6f-8676-4db0-b3ec-4bfd871b18dd",
   "metadata": {},
   "outputs": [],
   "source": []
  }
 ],
 "metadata": {
  "kernelspec": {
   "display_name": "Slicer 5.6",
   "language": "python",
   "name": "slicer-5.6"
  },
  "language_info": {
   "file_extension": ".py",
   "mimetype": "text/x-python",
   "name": "python",
   "version": "3.9.10"
  },
  "toc-autonumbering": true
 },
 "nbformat": 4,
 "nbformat_minor": 5
}
