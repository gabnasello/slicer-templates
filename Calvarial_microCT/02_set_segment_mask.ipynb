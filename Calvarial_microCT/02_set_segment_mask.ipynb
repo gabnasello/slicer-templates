{
 "cells": [
  {
   "cell_type": "markdown",
   "id": "e9e365a5-96dd-44ec-9271-cb778da070dd",
   "metadata": {},
   "source": [
    "<span STYLE=\"font-size:150%\"> \n",
    "    Segment microCT scans\n",
    "</span>\n",
    "\n",
    "Docker image: gnasello/slicer-env:2023-07-06 \\\n",
    "Latest update: 10 March 2023"
   ]
  },
  {
   "cell_type": "markdown",
   "id": "b06273b8-ed89-406c-af12-191b17fdc261",
   "metadata": {},
   "source": [
    "- load image stack in Slicer\n",
    "- segment mineralized tissue\n",
    "- compute segmented statistics (volumes)"
   ]
  },
  {
   "cell_type": "markdown",
   "id": "8a604800-71f1-47b6-af62-7668c5af1d19",
   "metadata": {},
   "source": [
    "# Load libraries"
   ]
  },
  {
   "cell_type": "code",
   "execution_count": null,
   "id": "ee34ac62-8898-4805-813b-a1b5573a675e",
   "metadata": {},
   "outputs": [],
   "source": [
    "# import pyslicer as ps\n",
    "# import pyslicer as ps\n",
    "import pyslicer as ps\n",
    "import slicer\n",
    "from pathlib import Path\n",
    "import pandas as pd"
   ]
  },
  {
   "cell_type": "markdown",
   "id": "97c713cf-b480-4c66-9202-afa57c2572e4",
   "metadata": {
    "tags": []
   },
   "source": [
    "# Volume input"
   ]
  },
  {
   "cell_type": "markdown",
   "id": "05c94d5a-9541-43de-a7ce-66307c2e7ea2",
   "metadata": {},
   "source": [
    "## Load `.nrrd` file into 3D Slicer"
   ]
  },
  {
   "cell_type": "markdown",
   "id": "e5c509eb-3052-48a2-9411-99ed46576279",
   "metadata": {},
   "source": [
    "Write the path of the `.nrrd` file and load it to Slicer"
   ]
  },
  {
   "cell_type": "code",
   "execution_count": null,
   "id": "85df2450-9c71-4a39-aa38-bf6e3b7885d5",
   "metadata": {},
   "outputs": [],
   "source": [
    "volume_file = 'microCT_volume_preview/microCT_volume_preview.nrrd'\n",
    "\n",
    "path = Path(volume_file)\n",
    "\n",
    "# Remove image numbering _0000, _0001 ...\n",
    "filename_output = path.stem[:-4]"
   ]
  },
  {
   "cell_type": "code",
   "execution_count": null,
   "id": "7ba1e387-b7b0-47ce-aaed-e113794b23e1",
   "metadata": {},
   "outputs": [],
   "source": [
    "masterVolumeNode = slicer.util.loadNodeFromFile(volume_file)"
   ]
  },
  {
   "cell_type": "markdown",
   "id": "b0c419a4-f392-48da-8903-3e76a41501f7",
   "metadata": {},
   "source": [
    "Print spacing"
   ]
  },
  {
   "cell_type": "code",
   "execution_count": null,
   "id": "f08b12e9-1a4d-4015-bdf8-39c38c24d646",
   "metadata": {},
   "outputs": [],
   "source": [
    "## mm\n",
    "masterVolumeNode.GetSpacing()"
   ]
  },
  {
   "cell_type": "markdown",
   "id": "06981e0f-9165-47c1-8481-785e38c97a1e",
   "metadata": {},
   "source": [
    "Make ```segmented_volumes``` folder"
   ]
  },
  {
   "cell_type": "code",
   "execution_count": null,
   "id": "79ae0e3d-cc3c-4449-8917-688c70d959c7",
   "metadata": {},
   "outputs": [],
   "source": [
    "output_directory = Path('segmented_volumes')\n",
    "\n",
    "output_directory.mkdir(parents=True, exist_ok=True)"
   ]
  },
  {
   "cell_type": "code",
   "execution_count": null,
   "id": "f2f5be3e-45ec-46fe-920b-d88c26dd739c",
   "metadata": {},
   "outputs": [],
   "source": [
    "output_cylinderDefect_path = Path('segmented_volumes/polygonDefect')\n",
    "\n",
    "output_cylinderDefect_path.mkdir(parents=True, exist_ok=True)"
   ]
  },
  {
   "cell_type": "markdown",
   "id": "4fc8e675-b224-4cf4-b500-63144e06231c",
   "metadata": {},
   "source": [
    "## Adjust window/level (brightness/contrast)"
   ]
  },
  {
   "cell_type": "markdown",
   "id": "149bfe9f-c7d9-495a-b260-9676a98ace35",
   "metadata": {},
   "source": [
    "Adjust the image window/level from the GUI. It is enough to select a region where the signal is present ([youtube](https://slicer.readthedocs.io/en/latest/user_guide/user_interface.html#adjusting-image-window-level)). \n",
    "\n",
    "After, get the Window and Level properties from the displayNode associate to the VolumeNode and apply them programmatically anytime you run again the same image.\n",
    "\n",
    "For more information on the relationship between window/level and brightness/contrast, see [Window and Level Contrast Enhancement](http://fisica.ciens.ucv.ve/curs/dipcourse/html/one-oper/window-level/front-page.html)"
   ]
  },
  {
   "cell_type": "code",
   "execution_count": null,
   "id": "8c4ce52e-a65b-40c0-8854-34f1974b4738",
   "metadata": {},
   "outputs": [],
   "source": [
    "displayNode = masterVolumeNode.GetDisplayNode()\n",
    "print('displayNode.SetWindow(' + str(displayNode.GetWindow()) + ')')\n",
    "print('displayNode.SetLevel(' + str(displayNode.GetLevel()) + ')')"
   ]
  },
  {
   "cell_type": "code",
   "execution_count": null,
   "id": "ae1d41db-d0df-44d0-a3da-a900a6ec32e1",
   "metadata": {},
   "outputs": [],
   "source": [
    "# displayNode = masterVolumeNode.GetDisplayNode()\n",
    "# displayNode.AutoWindowLevelOff()\n",
    "# displayNode.SetWindow(19678.0)\n",
    "# displayNode.SetLevel(14679.0)"
   ]
  },
  {
   "cell_type": "markdown",
   "id": "e6e6599a-6624-48c1-aecc-c68ea2350427",
   "metadata": {
    "tags": []
   },
   "source": [
    "# Thresholding"
   ]
  },
  {
   "cell_type": "markdown",
   "id": "1937edd2-778e-48cc-8669-ebb270af75a7",
   "metadata": {},
   "source": [
    "## Create segmentation-related nodes"
   ]
  },
  {
   "cell_type": "markdown",
   "id": "b1d618bb-877a-48f8-9580-7285e9132692",
   "metadata": {},
   "source": [
    "Create segmentation node"
   ]
  },
  {
   "cell_type": "code",
   "execution_count": null,
   "id": "ad698c59-5446-4061-a85f-2be27c7a2ee6",
   "metadata": {},
   "outputs": [],
   "source": [
    "segmentationNode = ps.segmentation.segmentationNode(name='Segmentation')"
   ]
  },
  {
   "cell_type": "markdown",
   "id": "39b5c5c1-556c-41ac-903a-fe02a28c7595",
   "metadata": {},
   "source": [
    "Create temporary segment editor to get access to effects"
   ]
  },
  {
   "cell_type": "code",
   "execution_count": null,
   "id": "0defe996-4c60-4375-b12b-a7026d057b52",
   "metadata": {},
   "outputs": [],
   "source": [
    "segmentEditorWidget, segmentEditorNode = ps.segmentation.segmentEditorWidget(segmentationNode = segmentationNode, \n",
    "                                                                             masterVolumeNode = masterVolumeNode)"
   ]
  },
  {
   "cell_type": "markdown",
   "id": "afd9833d-5e59-4987-9ab3-c4790c63425e",
   "metadata": {},
   "source": [
    "## Check different automatic segmentation algorithms"
   ]
  },
  {
   "cell_type": "markdown",
   "id": "b598bf5d-dd75-4385-9458-d0c80fae2a2e",
   "metadata": {},
   "source": [
    "The first time you analyze an image/channel. Go to the ```Segment Editor```, add a new segment and choose the thresholding method. There you test different automatic thresholding technique and choose the one working best. For later analysis, you can just copy the thresholding values in the ```segments_greyvalues``` object at the beginning of this notebook."
   ]
  },
  {
   "cell_type": "code",
   "execution_count": null,
   "id": "4f5100c3-7cda-4cd3-91a6-7ec5bab2edf1",
   "metadata": {},
   "outputs": [],
   "source": [
    "ps.volume.plot_histogram(masterVolumeNode, yscale='log')"
   ]
  },
  {
   "cell_type": "markdown",
   "id": "21befe69-11d0-4d66-aa3d-dab0bd43295c",
   "metadata": {},
   "source": [
    "Get automatic thresholding values, as indicated in [this script](https://github.com/jzeyl/3D-Slicer-Scripts/blob/db51967cc642837e8bae0fea1585a95074d8420b/load_dicom_modified_otsu.py#L56)"
   ]
  },
  {
   "cell_type": "code",
   "execution_count": null,
   "id": "6a442550-7232-4e79-951c-a32496ced7ac",
   "metadata": {},
   "outputs": [],
   "source": [
    "methods = [\n",
    "            'HUANG',\n",
    "            'INTERMODES',\n",
    "            'ISO_DATA',\n",
    "            'KITTLER_ILLINGWORTH',\n",
    "            'LI',\n",
    "            'MAXIMUM_ENTROPY',\n",
    "            'MOMENTS',\n",
    "            'OTSU',\n",
    "            'RENYI_ENTROPY',\n",
    "            'SHANBHAG',\n",
    "            'TRIANGLE',\n",
    "            'YEN'\n",
    "            ]\n",
    "\n",
    "thresholds = dict.fromkeys(methods, None)\n",
    "thresholds"
   ]
  },
  {
   "cell_type": "markdown",
   "id": "feabde32-904c-4a18-9276-2decb5aaa940",
   "metadata": {},
   "source": [
    "Otsu thresholding"
   ]
  },
  {
   "cell_type": "code",
   "execution_count": null,
   "id": "5f8d9dff-bf66-4fab-b1df-e5fe8b49eeb2",
   "metadata": {},
   "outputs": [],
   "source": [
    "method = 'OTSU'\n",
    "\n",
    "threshold = ps.segmentation.compute_threshold(method = method, volumeNode = masterVolumeNode)\n",
    "\n",
    "thresholds[method.upper()] = threshold\n",
    "\n",
    "print(method + \" threshold: \" + str(threshold))\n",
    "ps.volume.plot_histogram(masterVolumeNode, threshold = threshold, title = method, yscale='log')"
   ]
  },
  {
   "cell_type": "markdown",
   "id": "83c1b22c-e354-410e-9da5-23ed442144a1",
   "metadata": {},
   "source": [
    "IsoData thresholding"
   ]
  },
  {
   "cell_type": "code",
   "execution_count": null,
   "id": "54fc99a3-e1be-4995-9699-cffd7ce12f3f",
   "metadata": {},
   "outputs": [],
   "source": [
    "method = 'ISO_DATA'\n",
    "\n",
    "threshold = ps.segmentation.compute_threshold(method = method, volumeNode = masterVolumeNode)\n",
    "\n",
    "thresholds[method.upper()] = threshold\n",
    "\n",
    "print(method + \" threshold: \" + str(threshold))\n",
    "ps.volume.plot_histogram(masterVolumeNode, threshold = threshold, title = method, yscale='log')"
   ]
  },
  {
   "cell_type": "markdown",
   "id": "3f935d5c-bf83-442b-a313-f85e3fc8811c",
   "metadata": {
    "tags": []
   },
   "source": [
    "MOMENTS thresholding"
   ]
  },
  {
   "cell_type": "code",
   "execution_count": null,
   "id": "fbddaf70-a930-4c8c-a982-4cc20197572d",
   "metadata": {},
   "outputs": [],
   "source": [
    "method = 'MOMENTS'\n",
    "\n",
    "threshold = ps.segmentation.compute_threshold(method = method, volumeNode = masterVolumeNode)\n",
    "\n",
    "thresholds[method.upper()] = threshold\n",
    "\n",
    "print(method + \" threshold: \" + str(threshold))\n",
    "ps.volume.plot_histogram(masterVolumeNode, threshold = threshold, title = method, yscale='log')"
   ]
  },
  {
   "cell_type": "markdown",
   "id": "55bbf508-72df-489d-889d-53ea896b7f2c",
   "metadata": {},
   "source": [
    "MAXIMUM_ENTROPY thresholding"
   ]
  },
  {
   "cell_type": "markdown",
   "id": "56dadd8a-85f2-438a-aea1-807d665dba4f",
   "metadata": {
    "tags": []
   },
   "source": [
    "INTERMODES thresholding"
   ]
  },
  {
   "cell_type": "markdown",
   "id": "009e11af-0a08-4fdb-b37d-efc9c029e4a7",
   "metadata": {},
   "source": [
    "## Select thresholding values"
   ]
  },
  {
   "cell_type": "code",
   "execution_count": null,
   "id": "29d85ccb-afc2-4fcd-b5ae-15f79b98aa02",
   "metadata": {},
   "outputs": [],
   "source": [
    "thresholds"
   ]
  },
  {
   "cell_type": "code",
   "execution_count": null,
   "id": "5760f8ca-6071-4919-b716-a12fc4131f54",
   "metadata": {},
   "outputs": [],
   "source": [
    "segments_greyvalues = {\n",
    "    \"Bone\": [thresholds['MOMENTS']*1.15, 65535], # [MaxEntropy, MaxIntensity]\n",
    "    }\n",
    "\n",
    "segments_greyvalues"
   ]
  },
  {
   "cell_type": "markdown",
   "id": "28dd2914-3af2-4496-ba7a-7079a6a8873e",
   "metadata": {
    "tags": []
   },
   "source": [
    "## Create segments by thresholding"
   ]
  },
  {
   "cell_type": "code",
   "execution_count": null,
   "id": "aa539815-f96a-4809-8bc9-ba0a595d701f",
   "metadata": {},
   "outputs": [],
   "source": [
    "# Avoid overwrite of overlapping segments\n",
    "segmentEditorNode.SetOverwriteMode(slicer.vtkMRMLSegmentEditorNode.OverwriteNone)\n",
    "\n",
    "ps.segmentation.segments_by_thresholding(segments_greyvalues, \n",
    "                                         segmentationNode,\n",
    "                                         segmentEditorNode,\n",
    "                                         segmentEditorWidget)"
   ]
  },
  {
   "cell_type": "markdown",
   "id": "1af2bf00-5b93-4aeb-8f1b-71d5c2ab17b3",
   "metadata": {},
   "source": [
    "Set segments color"
   ]
  },
  {
   "cell_type": "code",
   "execution_count": null,
   "id": "91f790cf-b870-4f08-8b15-89471ba4d7e5",
   "metadata": {},
   "outputs": [],
   "source": [
    "segments_color = {\n",
    "    \"Bone\": (0.9450980392156862, 0.8392156862745098, 0.5686274509803921), # \"Bone\" color in Slicer\n",
    "    }\n",
    "\n",
    "segments_color"
   ]
  },
  {
   "cell_type": "code",
   "execution_count": null,
   "id": "e1fcfc37-a9cd-4415-a0b7-b0a68c6e3117",
   "metadata": {},
   "outputs": [],
   "source": [
    "ps.segmentation.set_segments_color(segments_color, segmentationNode)"
   ]
  },
  {
   "cell_type": "markdown",
   "id": "03ca7d61-f2f4-4e64-8df3-ea120a6efce0",
   "metadata": {},
   "source": [
    "Get closed surface representation of the segment and visualize segment in 3D view, from [slicer scripting repository](https://slicer.readthedocs.io/en/latest/developer_guide/script_repository.html#export-nodes-warped-by-transform-sequence)"
   ]
  },
  {
   "cell_type": "code",
   "execution_count": null,
   "id": "c13f7a8d-ef02-4714-ac35-3eda952dc59f",
   "metadata": {},
   "outputs": [],
   "source": [
    "segmentationNode.CreateClosedSurfaceRepresentation()"
   ]
  },
  {
   "cell_type": "markdown",
   "id": "f3a18f1f-1d1e-4e89-b670-f7c461026505",
   "metadata": {},
   "source": [
    "# Isolate Skull"
   ]
  },
  {
   "cell_type": "markdown",
   "id": "269bbff6-40ed-4f1e-a011-81afc94ab0a3",
   "metadata": {},
   "source": [
    "Duplicate `Bone` segmentation"
   ]
  },
  {
   "cell_type": "code",
   "execution_count": null,
   "id": "f50b498d-23bb-4ec9-99ce-d0e66b875e93",
   "metadata": {},
   "outputs": [],
   "source": [
    "copy_segmentName = 'Bone'\n",
    "\n",
    "segmentation = segmentationNode.GetSegmentation()\n",
    "copy_segmentID = segmentation.GetSegmentIdBySegmentName(copy_segmentName)"
   ]
  },
  {
   "cell_type": "code",
   "execution_count": null,
   "id": "574aaf16-ee5c-453d-b155-6e7b1088b1d9",
   "metadata": {},
   "outputs": [],
   "source": [
    "new_segmentName = 'Skull'"
   ]
  },
  {
   "cell_type": "code",
   "execution_count": null,
   "id": "45308d79-a13c-4145-aaee-505ede256985",
   "metadata": {},
   "outputs": [],
   "source": [
    "# '''\n",
    "# COPY operation from the [SegmentEditorLogicalEffect](https://github.com/Slicer/Slicer/blob/4483cc0e6f288b0816b6329f1829d9ef8c5aa81a/Modules/Loadable/Segmentations/EditorEffects/Python/SegmentEditorLogicalEffect.py)\n",
    "# '''\n",
    "# \n",
    "\n",
    "# Create segment\n",
    "addedSegmentID = segmentationNode.GetSegmentation().AddEmptySegment(new_segmentName)\n",
    "segmentEditorNode.SetSelectedSegmentID(addedSegmentID)\n",
    "\n",
    "# Fill by thresholding\n",
    "segmentEditorWidget.setActiveEffectByName(\"Logical operators\")\n",
    "effect = segmentEditorWidget.activeEffect()\n",
    "effect.setParameter('Operation','COPY')\n",
    "effect.setParameter(\"ModifierSegmentID\",copy_segmentID)\n",
    "effect.self().onApply()"
   ]
  },
  {
   "cell_type": "markdown",
   "id": "a5477ab1-a77a-4b7d-8989-15b4a9fc6a23",
   "metadata": {},
   "source": [
    "Keep only the largest segment (i.e. the skull)"
   ]
  },
  {
   "cell_type": "code",
   "execution_count": null,
   "id": "1150fe2a-f8b5-4fd3-9b22-7e940824a8d8",
   "metadata": {},
   "outputs": [],
   "source": [
    "ps.segmentation.keep_largest_island(minimum_size=1000, \n",
    "                                    segment_name='Skull', \n",
    "                                    segmentEditorNode=segmentEditorNode, \n",
    "                                    segmentEditorWidget=segmentEditorWidget)"
   ]
  },
  {
   "cell_type": "code",
   "execution_count": null,
   "id": "91baf8d5-bb45-446c-ae05-3c73a2e95c0d",
   "metadata": {},
   "outputs": [],
   "source": [
    "displayNode = segmentationNode.GetDisplayNode()\n",
    "displayNode.SetAllSegmentsVisibility(False) # Hide all segments\n",
    "displayNode.SetSegmentVisibility('Skull', True) # Show specific segment"
   ]
  },
  {
   "cell_type": "markdown",
   "id": "1f42e3fd-bc9e-4e82-a663-1c7ec829b118",
   "metadata": {},
   "source": [
    "# Adjust skull segment manually "
   ]
  },
  {
   "cell_type": "markdown",
   "id": "78daa566-b64f-48fd-b952-2e61ec935782",
   "metadata": {},
   "source": [
    "Remove part of the skull segment manually using the `Scissor tool` in the `Segment Editor` module. \n",
    "\n",
    "Select the `Erase Inside` operation."
   ]
  },
  {
   "cell_type": "markdown",
   "id": "407f1112-812a-40c5-89bc-4230720f5ae6",
   "metadata": {},
   "source": [
    "# Export Skull segmentation as `seg.nrrd` file (labelmap node)"
   ]
  },
  {
   "cell_type": "markdown",
   "id": "63665c1c-9a17-4cb8-966b-d5b57e91caec",
   "metadata": {},
   "source": [
    "Export a selection of segments (identified by their names), from [slicer tutorial](https://slicer.readthedocs.io/en/latest/developer_guide/script_repository.html#export-labelmap-node-from-segmentation-node)"
   ]
  },
  {
   "cell_type": "code",
   "execution_count": null,
   "id": "e327c6cb-0b71-493a-9518-6a87c66fa725",
   "metadata": {},
   "outputs": [],
   "source": [
    "seg_name = 'Skull'"
   ]
  },
  {
   "cell_type": "code",
   "execution_count": null,
   "id": "d22141f8-adc5-4327-acc4-a9b96209528b",
   "metadata": {},
   "outputs": [],
   "source": [
    "skull_labelmap = ps.segmentation.individual_segment_to_labelmapNode(segmentName = seg_name,\n",
    "                                                                      segmentationNode = segmentationNode,\n",
    "                                                                      volumeNode = masterVolumeNode)"
   ]
  },
  {
   "cell_type": "code",
   "execution_count": null,
   "id": "a187191c-f0c0-43de-b894-651c9aa85bc0",
   "metadata": {},
   "outputs": [],
   "source": [
    "filename_output = seg_name + '.seg.nrrd'\n",
    "\n",
    "slicer.util.exportNode(skull_labelmap, output_directory / filename_output)"
   ]
  },
  {
   "cell_type": "markdown",
   "id": "159a65c3-e927-4c57-b054-efcd0116acfd",
   "metadata": {},
   "source": [
    "# Define polygon defect "
   ]
  },
  {
   "cell_type": "markdown",
   "id": "960ca38c-0e53-4f5a-b24e-0fbc8b950139",
   "metadata": {},
   "source": [
    "## Set-up the markups module"
   ]
  },
  {
   "cell_type": "code",
   "execution_count": null,
   "id": "71778519-5f51-46a9-95db-817e2c6fd840",
   "metadata": {},
   "outputs": [],
   "source": [
    "# Show Markups module\n",
    "slicer.util.selectModule('Markups')\n",
    "\n",
    "# Create new fiducial list named \"F\"\n",
    "markupsLogic = slicer.modules.markups.logic()\n",
    "fidNodeName = markupsLogic.AddNewFiducialNode()   # returns string name\n",
    "fidList = slicer.util.getNode(fidNodeName)        # fetch node object\n",
    "fidList.SetName(\"F\")\n",
    "\n",
    "# Show markups toolbar\n",
    "slicer.util.mainWindow().findChild(\"qMRMLMarkupsToolBar\").setVisible(True)"
   ]
  },
  {
   "cell_type": "code",
   "execution_count": null,
   "id": "ffe42d7d-0c3d-43d6-9913-ea080085ab73",
   "metadata": {},
   "outputs": [],
   "source": [
    "# Enable \"Place multiple control points\"\n",
    "selectionNode = slicer.app.applicationLogic().GetSelectionNode()\n",
    "selectionNode.SetReferenceActivePlaceNodeClassName(\"vtkMRMLMarkupsFiducialNode\")\n",
    "slicer.app.applicationLogic().GetInteractionNode().SetPlaceModePersistence(1)  # allow multiple points\n",
    "#slicer.app.applicationLogic().GetInteractionNode().SwitchToSinglePlaceMode()   # switch to placing"
   ]
  },
  {
   "cell_type": "code",
   "execution_count": null,
   "id": "78980d24-d756-4ad3-bcd1-a9fcbcab5075",
   "metadata": {},
   "outputs": [],
   "source": [
    "# Switch to \"One 3D view\" layout\n",
    "layoutManager = slicer.app.layoutManager()\n",
    "layoutManager.setLayout(slicer.vtkMRMLLayoutNode.SlicerLayoutOneUp3DView)\n",
    "\n",
    "# If you want to return later to the default layout (4-up), you can use:\n",
    "# layoutManager.setLayout(slicer.vtkMRMLLayoutNode.SlicerLayoutFourUpView)"
   ]
  },
  {
   "cell_type": "markdown",
   "id": "752a359c-aac9-4186-98a7-216992e132f6",
   "metadata": {},
   "source": [
    "## Draw points in Slicer UI"
   ]
  },
  {
   "cell_type": "markdown",
   "id": "4e4bef9b-f018-4337-a71e-75d8664f9f6c",
   "metadata": {},
   "source": [
    "Before running the code below, go to the Slicer UI and define a **Point List** from the ```markups``` module. To select more points, click on `Toggle Markups Toolbar` and select the option `Place multiple control points`.\n",
    "\n",
    "Set the name of the Point List node to ```F```. Any name is actually fine, but you should change the line below accoridngly."
   ]
  },
  {
   "cell_type": "markdown",
   "id": "c3e6c788-bb56-47c4-9cb0-42b277af4a70",
   "metadata": {},
   "source": [
    "**IMPORTANT** - Points in the Point List node ```F``` must be sorted to draw the polygon. You can move points in the list from the GUI (click `Advanced` in the Control Points List."
   ]
  },
  {
   "cell_type": "code",
   "execution_count": null,
   "id": "c2febfba-8831-43ff-9255-d97922a127a1",
   "metadata": {},
   "outputs": [],
   "source": [
    "nodename = 'F'\n",
    "pointsNode = slicer.util.getNode(nodename)"
   ]
  },
  {
   "cell_type": "code",
   "execution_count": null,
   "id": "32d23adc-64a6-4419-b19e-43936c61c73a",
   "metadata": {},
   "outputs": [],
   "source": [
    "f_output = 'F.mrk.json'\n",
    "\n",
    "slicer.util.exportNode(pointsNode, output_directory / f_output)"
   ]
  },
  {
   "cell_type": "markdown",
   "id": "4910d1c7-3a16-44dc-b21c-ff83eda058f0",
   "metadata": {},
   "source": [
    "## Fit plane to PointList"
   ]
  },
  {
   "cell_type": "code",
   "execution_count": null,
   "id": "c0dad22c-1533-4434-b05f-80e45cb5b6e4",
   "metadata": {},
   "outputs": [],
   "source": [
    "planeNode, plane_dict = ps.markup.fitPlane_from_pointMarkup(pointNodename = 'F', namePlane = 'FittingPlane')\n",
    "plane_dict"
   ]
  },
  {
   "cell_type": "code",
   "execution_count": null,
   "id": "4caa03d3-f5ca-4d7b-8a0f-29d96aa3dd12",
   "metadata": {},
   "outputs": [],
   "source": [
    "color = (68/255, 172/255, 100/255)\n",
    "opacity = 0.4\n",
    "\n",
    "modelDisplayNode = planeNode.GetDisplayNode()\n",
    "modelDisplayNode.SetColor(color[0], color[1], color[2])\n",
    "modelDisplayNode.SetOpacity(opacity)"
   ]
  },
  {
   "cell_type": "markdown",
   "id": "99d78525-8576-4c7d-8866-9196ca9671ee",
   "metadata": {},
   "source": [
    "## Create defect Polygon"
   ]
  },
  {
   "cell_type": "code",
   "execution_count": null,
   "id": "96177fe4-3245-422d-bad7-6a5c15afda72",
   "metadata": {},
   "outputs": [],
   "source": [
    "# Switch to the Data module\n",
    "slicer.util.selectModule('Data')\n",
    "\n",
    "# Hide the Markups Toolbar\n",
    "markupsToolbar = slicer.util.mainWindow().findChild(\"qMRMLMarkupsToolBar\")\n",
    "if markupsToolbar:\n",
    "    markupsToolbar.setVisible(False)"
   ]
  },
  {
   "cell_type": "code",
   "execution_count": null,
   "id": "ea6a9fbb-6ab5-4d0d-ab13-512f4ac853e3",
   "metadata": {},
   "outputs": [],
   "source": [
    "projected_points = ps.markup.project_markupPoints_to_plane(pointNodename='F',\n",
    "                                                           plane_normal=plane_dict['normal'],\n",
    "                                                           plane_origin=plane_dict['origin']\n",
    "                                                          )"
   ]
  },
  {
   "cell_type": "markdown",
   "id": "59480308-a5b0-41c2-8f31-eab69f0bda9b",
   "metadata": {},
   "source": [
    "Sort points clockwise"
   ]
  },
  {
   "cell_type": "code",
   "execution_count": null,
   "id": "75f92b18-7af9-4346-a40d-66304e738c43",
   "metadata": {},
   "outputs": [],
   "source": [
    "# projected_points = ps.model.sort_points_clockwise(projected_points)"
   ]
  },
  {
   "cell_type": "markdown",
   "id": "3e83e8fa-2191-4e40-8d93-08711dc1b83b",
   "metadata": {},
   "source": [
    "Plot projected points to cylinder plane"
   ]
  },
  {
   "cell_type": "code",
   "execution_count": null,
   "id": "f9ca9715-4029-471a-91f8-7393bc879cc2",
   "metadata": {},
   "outputs": [],
   "source": [
    "from shapely import geometry\n",
    "import JupyterNotebooksLib as slicernb\n",
    "import matplotlib.pyplot as plt\n",
    "\n",
    "fig,ax = plt.subplots()\n",
    "\n",
    "polygon = geometry.Polygon(projected_points)\n",
    "x, y = polygon.exterior.xy\n",
    "plt.plot(x,y, 'b')\n",
    "plt.plot(projected_points[:,0], projected_points[:,1], 'or')\n",
    "\n",
    "polygon_shrunken = ps.model.shrink_or_swell_shapely_polygon(polygon, factor=0.2, swell=False)\n",
    "\n",
    "if polygon_shrunken.type == 'MultiPolygon':\n",
    "    from shapely import Polygon\n",
    "    largest_polygon = Polygon()\n",
    "    for p in polygon_shrunken.geoms:\n",
    "        if largest_polygon.area < p.area:\n",
    "            largest_polygon = p\n",
    "    polygon_shrunken = largest_polygon\n",
    "\n",
    "x, y = polygon_shrunken.exterior.xy\n",
    "plt.plot(x,y, 'r')\n",
    "plt.plot(x,y, 'ob')\n",
    "\n",
    "# to net let the image be distorted along the axis\n",
    "ax.axis('equal')\n",
    "\n",
    "print('Points projected to minimum cylinder axis')\n",
    "slicernb.MatplotlibDisplay(fig)"
   ]
  },
  {
   "cell_type": "markdown",
   "id": "f055ba5d-bfdd-40ef-91ee-62f112533034",
   "metadata": {},
   "source": [
    "Compute defect area"
   ]
  },
  {
   "cell_type": "code",
   "execution_count": null,
   "id": "fd5236f0-4eae-441c-ab4b-5fd8ac8989ed",
   "metadata": {},
   "outputs": [],
   "source": [
    "defect_area = polygon.area\n",
    "defect_area"
   ]
  },
  {
   "cell_type": "markdown",
   "id": "730400db-478d-4fc1-a6da-b9cc98888781",
   "metadata": {},
   "source": [
    "Compute area reduction"
   ]
  },
  {
   "cell_type": "code",
   "execution_count": null,
   "id": "2f7d0230-1a22-49e5-aa22-ed7f890b0be2",
   "metadata": {},
   "outputs": [],
   "source": [
    "area_reduction = (1 - polygon_shrunken.area / polygon.area) * 100\n",
    "\n",
    "print('Area reduction in shrunk polygon \\n')\n",
    "print(area_reduction, '%')"
   ]
  },
  {
   "cell_type": "markdown",
   "id": "51cdaf88-c76d-43ee-95af-935782110b92",
   "metadata": {},
   "source": [
    "Create Defect polygon"
   ]
  },
  {
   "cell_type": "code",
   "execution_count": null,
   "id": "53e2f0fe-4ae5-4af5-8987-316db69431e4",
   "metadata": {},
   "outputs": [],
   "source": [
    "height = 1 #mm\n",
    "opacity = 0.4\n",
    "\n",
    "color = (68/255, 172/255, 100/255)\n",
    "\n",
    "rotate_x=0\n",
    "rotate_y=0\n",
    "rotate_z=10\n",
    "\n",
    "defectPolygonNode = ps.model.extrude_polygon_from_points(points=projected_points,\n",
    "                                                         height=height, \n",
    "                                                         sort_points=False,\n",
    "                                                         rotate_z=rotate_z,\n",
    "                                                         rotate_y=rotate_y,\n",
    "                                                         rotate_x=rotate_x,\n",
    "                                                         transform=plane_dict['transform'],\n",
    "                                                         nameModel='defectPolygon', \n",
    "                                                         color=color, \n",
    "                                                         opacity=opacity)"
   ]
  },
  {
   "cell_type": "markdown",
   "id": "188ea29e-ce40-4d6c-a7d3-99a0ba37fde9",
   "metadata": {},
   "source": [
    "## Create inner defect polygon"
   ]
  },
  {
   "cell_type": "markdown",
   "id": "c05cbcfb-89a7-47e6-b140-525fc88f4094",
   "metadata": {},
   "source": [
    "Inner Defect polygon"
   ]
  },
  {
   "cell_type": "code",
   "execution_count": null,
   "id": "5184ef59-9a74-497b-86dc-465446f30850",
   "metadata": {},
   "outputs": [],
   "source": [
    "height = 1 #mm\n",
    "opacity = 0.4\n",
    "\n",
    "x, y = polygon_shrunken.exterior.xy\n",
    "import numpy as np\n",
    "shrunk_points = np.array([x, y]).T\n",
    "\n",
    "color = (230/255, 75/255, 53/255)\n",
    "\n",
    "innerDefectPolygonNode = ps.model.extrude_polygon_from_points(points=shrunk_points,\n",
    "                                                              height=height,\n",
    "                                                              sort_points=False,\n",
    "                                                              rotate_z=rotate_z,\n",
    "                                                              rotate_y=rotate_y,\n",
    "                                                              rotate_x=rotate_x,\n",
    "                                                              transform=plane_dict['transform'],\n",
    "                                                              nameModel='innerDefectPolygon', \n",
    "                                                              color=color, \n",
    "                                                              opacity=opacity)"
   ]
  },
  {
   "cell_type": "markdown",
   "id": "b7d1e74a-d974-40f5-901a-1de352b1188a",
   "metadata": {},
   "source": [
    "## Export polygons and properties"
   ]
  },
  {
   "cell_type": "code",
   "execution_count": null,
   "id": "dd51e94b-297b-4f9e-ba6a-31ab20106b54",
   "metadata": {},
   "outputs": [],
   "source": [
    "directory_notebook = Path().parent.absolute()\n",
    "sample_name = directory_notebook.stem\n",
    "sample_name"
   ]
  },
  {
   "cell_type": "markdown",
   "id": "c165ed56-5ae0-4f9e-b1d2-85e93599c6f6",
   "metadata": {},
   "source": [
    "Defect cylinder diameter"
   ]
  },
  {
   "cell_type": "code",
   "execution_count": null,
   "id": "08a89a52-7d77-41d3-b222-64c5174bdaf2",
   "metadata": {},
   "outputs": [],
   "source": [
    "# Scalar values\n",
    "data = {'sample':sample_name,\n",
    "        'defect_area_mm2':defect_area}\n",
    "\n",
    "df_polygon = pd.DataFrame(data, index=[0])\n",
    "\n",
    "df_polygon.to_csv(output_cylinderDefect_path / (sample_name + '_defect_area.csv'), index = False)\n",
    "\n",
    "df_polygon"
   ]
  },
  {
   "cell_type": "markdown",
   "id": "59ac7fef-3bf4-411b-b398-ad55d5553f12",
   "metadata": {},
   "source": [
    "Fitting plane model"
   ]
  },
  {
   "cell_type": "code",
   "execution_count": null,
   "id": "5df2ae58-52ee-4a4e-95ba-c19bf5c387cf",
   "metadata": {},
   "outputs": [],
   "source": [
    "model = planeNode\n",
    "\n",
    "filename_output = model.GetName() + '.vtk'\n",
    "\n",
    "slicer.util.exportNode(model, output_cylinderDefect_path / filename_output)"
   ]
  },
  {
   "cell_type": "markdown",
   "id": "9476a869-d690-4ef2-aa18-f633406db677",
   "metadata": {},
   "source": [
    "Defect cylinder model"
   ]
  },
  {
   "cell_type": "code",
   "execution_count": null,
   "id": "8a9d61b1-0937-4e34-812e-7ff46f5196fb",
   "metadata": {},
   "outputs": [],
   "source": [
    "model = defectPolygonNode\n",
    "\n",
    "filename_output = model.GetName() + '.vtk'\n",
    "\n",
    "slicer.util.exportNode(model, output_cylinderDefect_path / filename_output)"
   ]
  },
  {
   "cell_type": "markdown",
   "id": "63432c2e-2b22-463e-8698-333669db4221",
   "metadata": {},
   "source": [
    "Inner cylinder model"
   ]
  },
  {
   "cell_type": "code",
   "execution_count": null,
   "id": "712361c4-1cd1-46ad-a849-f7aa56878640",
   "metadata": {},
   "outputs": [],
   "source": [
    "model = innerDefectPolygonNode\n",
    "\n",
    "filename_output = model.GetName() + '.vtk'\n",
    "\n",
    "slicer.util.exportNode(model, output_cylinderDefect_path / filename_output)"
   ]
  },
  {
   "cell_type": "markdown",
   "id": "4aef4154-6fb8-492a-8384-5075221925aa",
   "metadata": {},
   "source": [
    "# Grow skull segment"
   ]
  },
  {
   "cell_type": "code",
   "execution_count": null,
   "id": "0979a71d-717c-44ac-9cd3-c7b1e0c5ccc2",
   "metadata": {},
   "outputs": [],
   "source": [
    "new_segmentName = 'Segment_mask'"
   ]
  },
  {
   "cell_type": "code",
   "execution_count": null,
   "id": "1d5af6ca-7f1c-4c81-b796-57b5b43ec764",
   "metadata": {},
   "outputs": [],
   "source": [
    "copy_segmentName = 'Skull'\n",
    "\n",
    "segmentation = segmentationNode.GetSegmentation()\n",
    "copy_segmentID = segmentation.GetSegmentIdBySegmentName(copy_segmentName)"
   ]
  },
  {
   "cell_type": "code",
   "execution_count": null,
   "id": "f6afe770-aacb-45db-acdf-1d04f23e6887",
   "metadata": {},
   "outputs": [],
   "source": [
    "# '''\n",
    "# COPY operation from the [SegmentEditorLogicalEffect](https://github.com/Slicer/Slicer/blob/4483cc0e6f288b0816b6329f1829d9ef8c5aa81a/Modules/Loadable/Segmentations/EditorEffects/Python/SegmentEditorLogicalEffect.py)\n",
    "# '''\n",
    "\n",
    "# Create segment\n",
    "addedSegmentID = segmentationNode.GetSegmentation().AddEmptySegment(new_segmentName)\n",
    "segmentEditorNode.SetSelectedSegmentID(addedSegmentID)\n",
    "\n",
    "# Fill by thresholding\n",
    "segmentEditorWidget.setActiveEffectByName(\"Logical operators\")\n",
    "effect = segmentEditorWidget.activeEffect()\n",
    "effect.setParameter('Operation','COPY')\n",
    "effect.setParameter(\"ModifierSegmentID\",copy_segmentID)\n",
    "effect.self().onApply()"
   ]
  },
  {
   "cell_type": "code",
   "execution_count": null,
   "id": "928b3e2d-d828-432e-873f-d1a738b3ac84",
   "metadata": {},
   "outputs": [],
   "source": [
    "# '''\n",
    "# COPY operation from the [SegmentEditorMarginEffect](https://github.com/Slicer/Slicer/blob/4483cc0e6f288b0816b6329f1829d9ef8c5aa81a/Modules/Loadable/Segmentations/EditorEffects/Python/SegmentEditorMarginEffect.py)\n",
    "# '''\n",
    "\n",
    "# Fill by thresholding\n",
    "segmentEditorWidget.setActiveEffectByName(\"Margin\")\n",
    "effect = segmentEditorWidget.activeEffect()\n",
    "effect.setParameter('Operation','Grow')\n",
    "effect.setParameter(\"MarginSizeMm\",0.5)\n",
    "effect.self().onApply()"
   ]
  },
  {
   "cell_type": "markdown",
   "id": "6c397490-0add-4ec8-97f1-5b397d7d5023",
   "metadata": {},
   "source": [
    "# Merge defect model to segment mask"
   ]
  },
  {
   "cell_type": "code",
   "execution_count": null,
   "id": "901df0a9-c4b0-491e-ac4c-6f39f414907c",
   "metadata": {},
   "outputs": [],
   "source": [
    "# Import the model into the segmentation node\n",
    "slicer.modules.segmentations.logic().ImportModelToSegmentationNode(defectPolygonNode, segmentationNode)"
   ]
  },
  {
   "cell_type": "code",
   "execution_count": null,
   "id": "521174b2-7f89-44ad-93a0-e887d39e566d",
   "metadata": {},
   "outputs": [],
   "source": [
    "segmentName = 'Segment_mask'"
   ]
  },
  {
   "cell_type": "code",
   "execution_count": null,
   "id": "0e1553e9-5dac-432e-898b-4eef4d38c18e",
   "metadata": {},
   "outputs": [],
   "source": [
    "ModifierSegment_name = defectPolygonNode.GetName()\n",
    "\n",
    "segmentation = segmentationNode.GetSegmentation()\n",
    "ModifierSegmentID = segmentation.GetSegmentIdBySegmentName(ModifierSegment_name)"
   ]
  },
  {
   "cell_type": "code",
   "execution_count": null,
   "id": "096ea9e2-3f6a-469a-a4fa-1384a389a29d",
   "metadata": {},
   "outputs": [],
   "source": [
    "# '''\n",
    "# LOGICAL_UNION operation from the [SegmentEditorLogicalEffect](https://github.com/Slicer/Slicer/blob/4483cc0e6f288b0816b6329f1829d9ef8c5aa81a/Modules/Loadable/Segmentations/EditorEffects/Python/SegmentEditorLogicalEffect.py)\n",
    "# '''\n",
    "\n",
    "# Create segment\n",
    "selected_SegmentID = segmentation.GetSegmentIdBySegmentName(segmentName)\n",
    "segmentEditorNode.SetSelectedSegmentID(selected_SegmentID)\n",
    "\n",
    "# Fill by thresholding\n",
    "segmentEditorWidget.setActiveEffectByName(\"Logical operators\")\n",
    "effect = segmentEditorWidget.activeEffect()\n",
    "effect.setParameter('Operation','UNION')\n",
    "effect.setParameter(\"ModifierSegmentID\",ModifierSegmentID)\n",
    "effect.self().onApply()"
   ]
  },
  {
   "cell_type": "code",
   "execution_count": null,
   "id": "2ee693e4-4019-4b6d-ab95-ad1fb65cf68a",
   "metadata": {},
   "outputs": [],
   "source": [
    "displayNode = segmentationNode.GetDisplayNode()\n",
    "displayNode.SetAllSegmentsVisibility(False) # Hide all segments\n",
    "displayNode.SetSegmentVisibility('Segment_mask', True) # Show specific segment"
   ]
  },
  {
   "cell_type": "markdown",
   "id": "51e442f2-ed1e-47f2-987f-899e5beb25ed",
   "metadata": {},
   "source": [
    "# Export segment mask as `seg.nrrd` file (labelmap node)"
   ]
  },
  {
   "cell_type": "markdown",
   "id": "5d8f1f49-9428-45ea-83ad-d1f0b35c5955",
   "metadata": {},
   "source": [
    "Export a selection of segments (identified by their names), from [slicer tutorial](https://slicer.readthedocs.io/en/latest/developer_guide/script_repository.html#export-labelmap-node-from-segmentation-node)"
   ]
  },
  {
   "cell_type": "markdown",
   "id": "a5a3f5af-6ea0-4eef-a5e6-b6d4910919a8",
   "metadata": {},
   "source": [
    "Bone LabelmapNode"
   ]
  },
  {
   "cell_type": "code",
   "execution_count": null,
   "id": "971d0654-ad15-44ca-949b-bae7b17c6973",
   "metadata": {},
   "outputs": [],
   "source": [
    "seg_name = 'Segment_mask'"
   ]
  },
  {
   "cell_type": "code",
   "execution_count": null,
   "id": "9243a4fc-bbbb-4420-90cc-58e21e7ca9c5",
   "metadata": {},
   "outputs": [],
   "source": [
    "segMask_labelmap = ps.segmentation.individual_segment_to_labelmapNode(segmentName = seg_name,\n",
    "                                                                      segmentationNode = segmentationNode,\n",
    "                                                                      volumeNode = masterVolumeNode)"
   ]
  },
  {
   "cell_type": "code",
   "execution_count": null,
   "id": "0005d7d8-99b8-48b6-b1de-429b9462947b",
   "metadata": {},
   "outputs": [],
   "source": [
    "filename_output = seg_name + '.seg.nrrd'\n",
    "\n",
    "slicer.util.exportNode(segMask_labelmap, output_directory / filename_output)"
   ]
  },
  {
   "cell_type": "markdown",
   "id": "82875de9-9310-4a28-bf54-518a4e1eb32f",
   "metadata": {},
   "source": [
    "# Visualize segmentations in 3D view"
   ]
  },
  {
   "cell_type": "markdown",
   "id": "4e3287b7-f391-49a3-953b-bb696a7d31bb",
   "metadata": {},
   "source": [
    "Get viewNode"
   ]
  },
  {
   "cell_type": "code",
   "execution_count": null,
   "id": "3a407ed2-138d-4699-83b9-731fb6aaf11b",
   "metadata": {},
   "outputs": [],
   "source": [
    "view = slicer.app.layoutManager().threeDWidget(0).threeDView()\n",
    "viewNode = view.mrmlViewNode()\n",
    "\n",
    "# Switch off cube and labels\n",
    "viewNode.SetAxisLabelsVisible(False)\n",
    "viewNode.SetBoxVisible(False)\n",
    "\n",
    "color = (28/255, 29/255, 36/255)\n",
    "# Set view background to RGB color of choice\n",
    "viewNode.SetBackgroundColor(color[0], color[1], color[2])\n",
    "viewNode.SetBackgroundColor2(color[0], color[1], color[2])\n",
    "\n",
    "# Se?t Orthographic rendering, which is required to show the ruler in a 3D view\n",
    "viewNode.SetRenderMode(viewNode.Orthographic)\n",
    "\n",
    "# Set thick and white ruler\n",
    "viewNode.SetRulerType(2) # 2 - thick\n",
    "viewNode.SetRulerColor(0) # 0 - white\n",
    "\n",
    "# Get camera position\n",
    "cameraNode = slicer.modules.cameras.logic().GetViewActiveCameraNode(viewNode)"
   ]
  },
  {
   "cell_type": "markdown",
   "id": "35cd6356-2070-4571-8694-115ccd36992c",
   "metadata": {},
   "source": [
    "## Get camera position in 3D view"
   ]
  },
  {
   "cell_type": "code",
   "execution_count": null,
   "id": "59aede66-2270-4771-a1f5-c9629c7a2301",
   "metadata": {},
   "outputs": [],
   "source": [
    "position = cameraNode.GetPosition()\n",
    "\n",
    "viewAngle = cameraNode.GetViewAngle()\n",
    "\n",
    "viewUp = cameraNode.GetViewUp()\n",
    "\n",
    "focalPoint = cameraNode.GetFocalPoint()\n",
    "\n",
    "parallelScale = cameraNode.GetParallelScale()"
   ]
  },
  {
   "cell_type": "code",
   "execution_count": null,
   "id": "64175818-edb3-41bd-9917-c128284c7c22",
   "metadata": {},
   "outputs": [],
   "source": [
    "df1 = pd.DataFrame({'position':position,\n",
    "                    'viewUp':viewUp,\n",
    "                    'focalPoint':focalPoint})\n",
    "\n",
    "df2 = pd.DataFrame({'viewAngle':[viewAngle],\n",
    "                    'parallelScale':[parallelScale]})\n",
    "\n",
    "df_camera = pd.concat([df1,df2], axis=1)\n",
    "df_camera"
   ]
  },
  {
   "cell_type": "code",
   "execution_count": null,
   "id": "dc4d75f3-dc2f-4bc7-9d94-9428be70a8d5",
   "metadata": {},
   "outputs": [],
   "source": [
    "outputfile = output_directory / 'camera_view.csv'\n",
    "df_camera.to_csv(outputfile, index=False, na_rep='NULL')"
   ]
  },
  {
   "cell_type": "code",
   "execution_count": null,
   "id": "26798ed3-f16b-4575-b903-24de3a342766",
   "metadata": {},
   "outputs": [],
   "source": []
  }
 ],
 "metadata": {
  "kernelspec": {
   "display_name": "Slicer 5.6",
   "language": "python",
   "name": "slicer-5.6"
  },
  "language_info": {
   "file_extension": ".py",
   "mimetype": "text/x-python",
   "name": "python",
   "version": "3.9.10"
  },
  "toc-autonumbering": true
 },
 "nbformat": 4,
 "nbformat_minor": 5
}
