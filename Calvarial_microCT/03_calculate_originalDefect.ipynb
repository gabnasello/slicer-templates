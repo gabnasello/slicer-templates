{
 "cells": [
  {
   "cell_type": "markdown",
   "id": "e9e365a5-96dd-44ec-9271-cb778da070dd",
   "metadata": {
    "editable": true,
    "papermill": {
     "duration": null,
     "end_time": null,
     "exception": null,
     "start_time": null,
     "status": "completed"
    },
    "slideshow": {
     "slide_type": ""
    },
    "tags": []
   },
   "source": [
    "<span STYLE=\"font-size:150%\"> \n",
    "    Segment polygonal regions from microCT scans\n",
    "</span>\n",
    "\n",
    "Docker image: gnasello/slicer-env:2023-10-10 \\\n",
    "Latest update: 11 October 2023"
   ]
  },
  {
   "cell_type": "markdown",
   "id": "b06273b8-ed89-406c-af12-191b17fdc261",
   "metadata": {
    "papermill": {
     "duration": null,
     "end_time": null,
     "exception": null,
     "start_time": null,
     "status": "completed"
    },
    "tags": []
   },
   "source": [
    "- load image stack in Slicer\n",
    "- segment mineralized tissue\n",
    "- compute segmented statistics (volumes)"
   ]
  },
  {
   "cell_type": "markdown",
   "id": "8a604800-71f1-47b6-af62-7668c5af1d19",
   "metadata": {
    "papermill": {
     "duration": null,
     "end_time": null,
     "exception": null,
     "start_time": null,
     "status": "completed"
    },
    "tags": []
   },
   "source": [
    "# Load libraries"
   ]
  },
  {
   "cell_type": "code",
   "execution_count": null,
   "id": "ee34ac62-8898-4805-813b-a1b5573a675e",
   "metadata": {
    "papermill": {
     "duration": null,
     "end_time": null,
     "exception": null,
     "start_time": null,
     "status": "completed"
    },
    "tags": []
   },
   "outputs": [],
   "source": [
    "import pyslicer as ps\n",
    "import slicer\n",
    "from pathlib import Path\n",
    "import pandas as pd\n",
    "import trimesh\n",
    "import vtk\n",
    "import numpy as np"
   ]
  },
  {
   "cell_type": "markdown",
   "id": "dcd67865-e62c-4fbc-a92e-e124ff3dfece",
   "metadata": {
    "papermill": {
     "duration": null,
     "end_time": null,
     "exception": null,
     "start_time": null,
     "status": "completed"
    },
    "tags": []
   },
   "source": [
    "# Volume input"
   ]
  },
  {
   "cell_type": "markdown",
   "id": "a3fadbf4-c0a2-4da8-a6f3-4639c9a1f989",
   "metadata": {
    "papermill": {
     "duration": null,
     "end_time": null,
     "exception": null,
     "start_time": null,
     "status": "completed"
    },
    "tags": []
   },
   "source": [
    "## Load `.nrrd` file into 3D Slicer"
   ]
  },
  {
   "cell_type": "markdown",
   "id": "090e0d8b-30a3-47d4-a894-e2bc87b9ad75",
   "metadata": {
    "editable": true,
    "papermill": {
     "duration": null,
     "end_time": null,
     "exception": null,
     "start_time": null,
     "status": "completed"
    },
    "slideshow": {
     "slide_type": ""
    },
    "tags": []
   },
   "source": [
    "Write the path of the `.nrrd` file and load it to Slicer"
   ]
  },
  {
   "cell_type": "code",
   "execution_count": null,
   "id": "3e7a643c-b96a-4e37-839e-bef6d70a65c5",
   "metadata": {
    "editable": true,
    "papermill": {
     "duration": null,
     "end_time": null,
     "exception": null,
     "start_time": null,
     "status": "completed"
    },
    "slideshow": {
     "slide_type": ""
    },
    "tags": [
     "parameters"
    ]
   },
   "outputs": [],
   "source": [
    "# this cell is tagged 'parameters'\n",
    "volume_file = 'microCT_volume_preview/microCT_volume_preview.nrrd'\n",
    "output_polygon_dir_path = 'segmented_volumes/polygonDefect'\n",
    "output_cylinder_dir_path = 'segmented_volumes/originalDefect'\n",
    "file_segmentation = 'segmented_volumes/Skull.seg.nrrd'\n",
    "directory_notebook = Path().parent.absolute()\n",
    "sample_name = directory_notebook.stem\n",
    "camera_view_file = 'segmented_volumes/camera_view.csv'"
   ]
  },
  {
   "cell_type": "code",
   "execution_count": null,
   "id": "2937b8df-59de-42b1-b209-e04cbbb562ca",
   "metadata": {
    "papermill": {
     "duration": null,
     "end_time": null,
     "exception": null,
     "start_time": null,
     "status": "completed"
    },
    "tags": []
   },
   "outputs": [],
   "source": [
    "masterVolumeNode = slicer.util.loadNodeFromFile(volume_file)"
   ]
  },
  {
   "cell_type": "markdown",
   "id": "258bebce-35ad-438e-b598-78d51f5cdbfb",
   "metadata": {
    "papermill": {
     "duration": null,
     "end_time": null,
     "exception": null,
     "start_time": null,
     "status": "completed"
    },
    "tags": []
   },
   "source": [
    "Print spacing"
   ]
  },
  {
   "cell_type": "code",
   "execution_count": null,
   "id": "48e27e1d-5729-442c-8fa8-dff88acd90b1",
   "metadata": {
    "papermill": {
     "duration": null,
     "end_time": null,
     "exception": null,
     "start_time": null,
     "status": "completed"
    },
    "tags": []
   },
   "outputs": [],
   "source": [
    "## mm\n",
    "masterVolumeNode.GetSpacing()"
   ]
  },
  {
   "cell_type": "markdown",
   "id": "3dc23f11-51f8-4620-ac62-7fc13c62e8ea",
   "metadata": {
    "papermill": {
     "duration": null,
     "end_time": null,
     "exception": null,
     "start_time": null,
     "status": "completed"
    },
    "tags": []
   },
   "source": [
    "Make ```segmented_volumes``` folder"
   ]
  },
  {
   "cell_type": "code",
   "execution_count": null,
   "id": "4459e579-eb82-4b01-b980-974ef05eb3ef",
   "metadata": {
    "editable": true,
    "papermill": {
     "duration": null,
     "end_time": null,
     "exception": null,
     "start_time": null,
     "status": "completed"
    },
    "slideshow": {
     "slide_type": ""
    },
    "tags": []
   },
   "outputs": [],
   "source": [
    "output_originalDefect_path = Path(output_cylinder_dir_path)\n",
    "\n",
    "output_originalDefect_path.mkdir(parents=True, exist_ok=True)"
   ]
  },
  {
   "cell_type": "code",
   "execution_count": null,
   "id": "f72d77df-fbfe-45d8-b7c1-a63c294fbb34",
   "metadata": {
    "editable": true,
    "papermill": {
     "duration": null,
     "end_time": null,
     "exception": null,
     "start_time": null,
     "status": "completed"
    },
    "slideshow": {
     "slide_type": ""
    },
    "tags": []
   },
   "outputs": [],
   "source": [
    "output_polygonDefect_path = Path(output_polygon_dir_path)"
   ]
  },
  {
   "cell_type": "markdown",
   "id": "be0823fa-36da-4db1-ac79-704d63a624f2",
   "metadata": {
    "papermill": {
     "duration": null,
     "end_time": null,
     "exception": null,
     "start_time": null,
     "status": "completed"
    },
    "tags": []
   },
   "source": [
    "Get norebook directory name"
   ]
  },
  {
   "cell_type": "code",
   "execution_count": null,
   "id": "2fe299d9-625c-450c-8f64-6ac7e84d6c56",
   "metadata": {
    "editable": true,
    "papermill": {
     "duration": null,
     "end_time": null,
     "exception": null,
     "start_time": null,
     "status": "completed"
    },
    "slideshow": {
     "slide_type": ""
    },
    "tags": []
   },
   "outputs": [],
   "source": [
    "sample_name"
   ]
  },
  {
   "cell_type": "markdown",
   "id": "951b224e-702b-4493-af68-22785c8ffaa5",
   "metadata": {
    "papermill": {
     "duration": 0.01095,
     "end_time": "2025-09-01T13:54:32.591499",
     "exception": false,
     "start_time": "2025-09-01T13:54:32.580549",
     "status": "completed"
    },
    "tags": []
   },
   "source": [
    "# Create segmentationNode"
   ]
  },
  {
   "cell_type": "markdown",
   "id": "05505b7e-e946-494c-bb5c-822e17fb86b4",
   "metadata": {},
   "source": [
    "## Load Bone Segment as segmentationNode"
   ]
  },
  {
   "cell_type": "code",
   "execution_count": null,
   "id": "7effc245-a214-4606-b0fa-466edbe6915d",
   "metadata": {},
   "outputs": [],
   "source": [
    "segmentationNode = slicer.util.loadSegmentation(str(Path(file_segmentation).resolve()), properties={\"name\": \"Segmentation\"})"
   ]
  },
  {
   "cell_type": "markdown",
   "id": "8bf8e1ab-7282-4f99-8f84-069132ef6f85",
   "metadata": {
    "papermill": {
     "duration": 0.011871,
     "end_time": "2025-09-01T13:54:36.294543",
     "exception": false,
     "start_time": "2025-09-01T13:54:36.282672",
     "status": "completed"
    },
    "tags": []
   },
   "source": [
    "Rename segment of the segmentation node "
   ]
  },
  {
   "cell_type": "code",
   "execution_count": null,
   "id": "9825e5d3-f83f-4014-a4d8-ee86b76a0bda",
   "metadata": {
    "papermill": {
     "duration": 0.02778,
     "end_time": "2025-09-01T13:54:36.332432",
     "exception": false,
     "start_time": "2025-09-01T13:54:36.304652",
     "status": "completed"
    },
    "tags": []
   },
   "outputs": [],
   "source": [
    "segmentation = segmentationNode.GetSegmentation()\n",
    "segment = segmentation.GetNthSegment(0)\n",
    "segment.SetName(\"Skull\")"
   ]
  },
  {
   "cell_type": "markdown",
   "id": "55ef93fc-9a7f-4591-a69a-a1ff076fc763",
   "metadata": {
    "papermill": {
     "duration": 0.011934,
     "end_time": "2025-09-01T13:54:32.721162",
     "exception": false,
     "start_time": "2025-09-01T13:54:32.709228",
     "status": "completed"
    },
    "tags": []
   },
   "source": [
    "Create temporary segment editor to get access to effects"
   ]
  },
  {
   "cell_type": "code",
   "execution_count": null,
   "id": "334ca92a-c62b-41cd-b3cd-d189df13c552",
   "metadata": {
    "papermill": {
     "duration": 2.35178,
     "end_time": "2025-09-01T13:54:35.083629",
     "exception": false,
     "start_time": "2025-09-01T13:54:32.731849",
     "status": "completed"
    },
    "tags": []
   },
   "outputs": [],
   "source": [
    "segmentEditorWidget, segmentEditorNode = ps.segmentation.segmentEditorWidget(segmentationNode = segmentationNode, \n",
    "                                                                             masterVolumeNode = masterVolumeNode)"
   ]
  },
  {
   "cell_type": "markdown",
   "id": "81949f02-97d1-4bc7-ad23-acfdf261dd15",
   "metadata": {
    "papermill": {
     "duration": null,
     "end_time": null,
     "exception": null,
     "start_time": null,
     "status": "completed"
    },
    "tags": []
   },
   "source": [
    "Get closed surface representation of the segment, from [slicer scripting repository](https://slicer.readthedocs.io/en/latest/developer_guide/script_repository.html#export-nodes-warped-by-transform-sequence)"
   ]
  },
  {
   "cell_type": "code",
   "execution_count": null,
   "id": "0abc7df1-1268-4d8a-8775-f34762c548a4",
   "metadata": {
    "papermill": {
     "duration": null,
     "end_time": null,
     "exception": null,
     "start_time": null,
     "status": "completed"
    },
    "tags": []
   },
   "outputs": [],
   "source": [
    "segmentationNode.CreateClosedSurfaceRepresentation()"
   ]
  },
  {
   "cell_type": "code",
   "execution_count": null,
   "id": "260cf308-de58-482c-83cf-cbb78c700e50",
   "metadata": {
    "papermill": {
     "duration": 0.021539,
     "end_time": "2025-09-01T14:05:54.579186",
     "exception": false,
     "start_time": "2025-09-01T14:05:54.557647",
     "status": "completed"
    },
    "tags": []
   },
   "outputs": [],
   "source": [
    "segments_color = {\n",
    "    \"Skull\": (0.9450980392156862, 0.8392156862745098, 0.5686274509803921), # \"Bone\" color in Slicer\n",
    "    }\n",
    "\n",
    "segments_color"
   ]
  },
  {
   "cell_type": "code",
   "execution_count": null,
   "id": "b3925ebd-934f-4888-be8c-6a98bc997497",
   "metadata": {
    "papermill": {
     "duration": 0.138421,
     "end_time": "2025-09-01T14:05:54.748162",
     "exception": false,
     "start_time": "2025-09-01T14:05:54.609741",
     "status": "completed"
    },
    "tags": []
   },
   "outputs": [],
   "source": [
    "ps.segmentation.set_segments_color(segments_color, segmentationNode)"
   ]
  },
  {
   "cell_type": "markdown",
   "id": "b5a4e94d-4e36-415d-bcb5-3378297a3263",
   "metadata": {
    "papermill": {
     "duration": null,
     "end_time": null,
     "exception": null,
     "start_time": null,
     "status": "completed"
    },
    "tags": []
   },
   "source": [
    "# Visualize segmentations in 3D view"
   ]
  },
  {
   "cell_type": "code",
   "execution_count": null,
   "id": "899850d1-5072-4eeb-b412-1b973c29554b",
   "metadata": {},
   "outputs": [],
   "source": [
    "# Switch to \"One 3D view\" layout\n",
    "layoutManager = slicer.app.layoutManager()\n",
    "layoutManager.setLayout(slicer.vtkMRMLLayoutNode.SlicerLayoutOneUp3DView)\n",
    "\n",
    "# If you want to return later to the default layout (4-up), you can use:\n",
    "# layoutManager.setLayout(slicer.vtkMRMLLayoutNode.SlicerLayoutFourUpView)"
   ]
  },
  {
   "cell_type": "code",
   "execution_count": null,
   "id": "dcefe85c-1949-4c5a-ae34-a0a0e9093287",
   "metadata": {},
   "outputs": [],
   "source": [
    "ps.view.default_dark_3D_view()"
   ]
  },
  {
   "cell_type": "markdown",
   "id": "9c4b6db9-c1c3-4c53-ba63-6f0eac95e1d4",
   "metadata": {
    "papermill": {
     "duration": null,
     "end_time": null,
     "exception": null,
     "start_time": null,
     "status": "completed"
    },
    "tags": []
   },
   "source": [
    "## Get camera position in 3D view"
   ]
  },
  {
   "cell_type": "markdown",
   "id": "a44cd465-ee3e-407f-ba32-3dab8aa1185f",
   "metadata": {
    "papermill": {
     "duration": null,
     "end_time": null,
     "exception": null,
     "start_time": null,
     "status": "completed"
    },
    "tags": []
   },
   "source": [
    "Load `camera_view.csv` file"
   ]
  },
  {
   "cell_type": "code",
   "execution_count": null,
   "id": "b851c7e3-c508-4d79-b29b-5096952f1b98",
   "metadata": {
    "editable": true,
    "papermill": {
     "duration": null,
     "end_time": null,
     "exception": null,
     "start_time": null,
     "status": "completed"
    },
    "slideshow": {
     "slide_type": ""
    },
    "tags": []
   },
   "outputs": [],
   "source": [
    "df_camera = pd.read_csv(camera_view_file)\n",
    "df_camera"
   ]
  },
  {
   "cell_type": "code",
   "execution_count": null,
   "id": "cbf3f7b7-1f68-4da4-a59b-50d60e31e02a",
   "metadata": {},
   "outputs": [],
   "source": [
    "ps.view.set_camera_3Dview(position=df_camera['position'],\n",
    "                          viewAngle=df_camera['viewAngle'][0],\n",
    "                          viewUp=df_camera['viewUp'],\n",
    "                          parallelScale=df_camera['parallelScale'][0])"
   ]
  },
  {
   "cell_type": "markdown",
   "id": "cdb5b25b-f36f-4140-b16d-72fcfcc833b2",
   "metadata": {},
   "source": [
    "# load `.vtk` file to 3D Slicer as model"
   ]
  },
  {
   "cell_type": "code",
   "execution_count": null,
   "id": "8960a888-ba0e-4bc3-b97c-4440324f5057",
   "metadata": {},
   "outputs": [],
   "source": [
    "import slicer\n",
    "\n",
    "# Path to your VTK file\n",
    "vtk_file_path = str(Path(output_polygon_dir_path) / 'defectPolygon.vtk')\n",
    "\n",
    "# Load model into the scene\n",
    "model_node = slicer.util.loadModel(vtk_file_path)\n",
    "\n",
    "if model_node:\n",
    "    print(\"Model loaded successfully:\", model_node.GetName())\n",
    "else:\n",
    "    print(\"Failed to load model.\")\n"
   ]
  },
  {
   "cell_type": "markdown",
   "id": "aa41480e-328c-4bc2-ae1a-ea941d949343",
   "metadata": {},
   "source": [
    "# Create minimal enclosing cylinder that is not restricted to axis alignment"
   ]
  },
  {
   "cell_type": "code",
   "execution_count": null,
   "id": "0cf98ae8-9df5-463e-a3df-c39ca234bf03",
   "metadata": {},
   "outputs": [],
   "source": [
    "ModelNode = model_node\n",
    "\n",
    "# Get polydata associated to your model node\n",
    "polyData = model_node.GetPolyData()\n",
    "\n",
    "# Extract points\n",
    "points = slicer.util.arrayFromModelPoints(model_node)\n",
    "\n",
    "# Extract faces (triangles) from vtkPolyData\n",
    "faces_vtk = polyData.GetPolys()\n",
    "faces_vtk.InitTraversal()\n",
    "idList = vtk.vtkIdList()\n",
    "\n",
    "faces = []\n",
    "while faces_vtk.GetNextCell(idList):\n",
    "    if idList.GetNumberOfIds() == 3:  # only triangles\n",
    "        faces.append([idList.GetId(0), idList.GetId(1), idList.GetId(2)])\n",
    "\n",
    "faces = np.array(faces)\n",
    "\n",
    "# Build trimesh mesh\n",
    "mesh = trimesh.Trimesh(vertices=points, faces=faces, process=True)\n",
    "\n",
    "# Compute minimum enclosing cylinder\n",
    "cylinder_primitive = trimesh.bounds.minimum_cylinder(mesh)\n",
    "\n",
    "# Get bounding_cylinder as mesh object\n",
    "cylinder_mesh = mesh.bounding_cylinder"
   ]
  },
  {
   "cell_type": "markdown",
   "id": "ea23ac27-e401-4b9d-aecc-1b275326bd26",
   "metadata": {},
   "source": [
    "Print cylinder radius"
   ]
  },
  {
   "cell_type": "code",
   "execution_count": null,
   "id": "b39d29b2-7cd8-49ee-8006-55f241a91e44",
   "metadata": {},
   "outputs": [],
   "source": [
    "cylinder_primitive['radius']"
   ]
  },
  {
   "cell_type": "code",
   "execution_count": null,
   "id": "78f26e85-e424-443e-a68d-500fcd515aa9",
   "metadata": {},
   "outputs": [],
   "source": [
    "# Create a model in 3D Slicer with the bounding cylinder cylinder\n",
    "enclosing_cylinder_model = ps.model.create_hollow_cylinder(height=cylinder_primitive['height'], \n",
    "                                                             radius_inner=0, radius_outer=cylinder_primitive['radius'], space =5, \n",
    "                                                             center=cylinder_mesh.center_mass,\n",
    "                                                             direction=cylinder_mesh.direction.tolist(),\n",
    "                                                             transform=False,\n",
    "                                                             nameModel='EnclosingCylinder', \n",
    "                                                             color=(128/255, 174/255, 128/255), \n",
    "                                                             opacity=0.5)"
   ]
  },
  {
   "cell_type": "markdown",
   "id": "cada2a54-104a-43fb-8076-b4a41eff59cc",
   "metadata": {},
   "source": [
    "# Create a cylinder covering the original defect area"
   ]
  },
  {
   "cell_type": "code",
   "execution_count": null,
   "id": "aa8f3792-a452-4281-9956-772e98fee98e",
   "metadata": {},
   "outputs": [],
   "source": [
    "original_radius = max(cylinder_primitive['radius'], 2) #mm\n",
    "\n",
    "defect_height = 0.8 #mm \n",
    "\n",
    "# Create a model in 3D Slicer with the bounding cylinder cylinder\n",
    "original_defect_cylinder = ps.model.create_hollow_cylinder(height=defect_height, \n",
    "                                                           radius_inner=0, radius_outer=original_radius, space =5, \n",
    "                                                           center=cylinder_mesh.center_mass,\n",
    "                                                           direction=cylinder_mesh.direction.tolist(),\n",
    "                                                           transform=False,\n",
    "                                                           nameModel='OriginalDefect', \n",
    "                                                           color=(216/255, 101/255, 79/255), \n",
    "                                                           opacity=0.5)"
   ]
  },
  {
   "cell_type": "markdown",
   "id": "07f897d3-d9c6-4dc6-9c47-e245d03ac821",
   "metadata": {},
   "source": [
    "# Export cylinder and properties"
   ]
  },
  {
   "cell_type": "code",
   "execution_count": null,
   "id": "bf9b2f0e-dc56-43ab-977a-226173030f86",
   "metadata": {},
   "outputs": [],
   "source": [
    "sample_name"
   ]
  },
  {
   "cell_type": "markdown",
   "id": "758c8996-d61b-4075-a97f-8f429636aef9",
   "metadata": {},
   "source": [
    "Defect cylinder diameter"
   ]
  },
  {
   "cell_type": "code",
   "execution_count": null,
   "id": "7d45bea6-659c-4529-a622-cee96c7b406b",
   "metadata": {},
   "outputs": [],
   "source": [
    "# Scalar values\n",
    "data = {'sample':sample_name,\n",
    "        'original_defect_radius':original_radius}\n",
    "\n",
    "df_polygon = pd.DataFrame(data, index=[0])\n",
    "\n",
    "df_polygon.to_csv(output_originalDefect_path / (sample_name + '_original_defect.csv'), index = False)\n",
    "\n",
    "df_polygon"
   ]
  },
  {
   "cell_type": "markdown",
   "id": "f41edfa4-659c-472d-bf81-972f9ecbddb4",
   "metadata": {},
   "source": [
    "Original Defect model"
   ]
  },
  {
   "cell_type": "code",
   "execution_count": null,
   "id": "dcc855aa-c805-4830-bd1c-cf3d162b1b74",
   "metadata": {},
   "outputs": [],
   "source": [
    "model = original_defect_cylinder\n",
    "\n",
    "filename_output = model.GetName() + '.vtk'\n",
    "\n",
    "slicer.util.exportNode(model, output_originalDefect_path / filename_output)"
   ]
  },
  {
   "cell_type": "markdown",
   "id": "080c982a-4b6c-45d1-8bd5-66bde7bcd4de",
   "metadata": {
    "papermill": {
     "duration": null,
     "end_time": null,
     "exception": null,
     "start_time": null,
     "status": "completed"
    },
    "tags": []
   },
   "source": [
    "Get closed surface representation of the segment, from [slicer scripting repository](https://slicer.readthedocs.io/en/latest/developer_guide/script_repository.html#export-nodes-warped-by-transform-sequence)"
   ]
  },
  {
   "cell_type": "code",
   "execution_count": null,
   "id": "a7dda856-ee7d-4175-a87f-b7278a5426ab",
   "metadata": {
    "papermill": {
     "duration": null,
     "end_time": null,
     "exception": null,
     "start_time": null,
     "status": "completed"
    },
    "tags": []
   },
   "outputs": [],
   "source": [
    "segmentationNode.CreateClosedSurfaceRepresentation()"
   ]
  },
  {
   "cell_type": "code",
   "execution_count": null,
   "id": "013bd54a-bdd1-4b0c-8c96-a78c2b8c837e",
   "metadata": {
    "papermill": {
     "duration": null,
     "end_time": null,
     "exception": null,
     "start_time": null,
     "status": "completed"
    },
    "tags": []
   },
   "outputs": [],
   "source": [
    "slicer.modules.segmentations.logic().ExportSegmentsClosedSurfaceRepresentationToFiles(str(output_polygonDefect_path), segmentationNode)"
   ]
  },
  {
   "cell_type": "code",
   "execution_count": null,
   "id": "9089bb8e-42f4-407f-9aff-5752ace7fa7e",
   "metadata": {
    "papermill": {
     "duration": null,
     "end_time": null,
     "exception": null,
     "start_time": null,
     "status": "completed"
    },
    "tags": []
   },
   "outputs": [],
   "source": []
  }
 ],
 "metadata": {
  "kernelspec": {
   "display_name": "Slicer 5.6",
   "language": "python",
   "name": "slicer-5.6"
  },
  "language_info": {
   "file_extension": ".py",
   "mimetype": "text/x-python",
   "name": "python",
   "version": "3.9.10"
  },
  "papermill": {
   "default_parameters": {},
   "duration": 60.815425,
   "end_time": "2025-08-29T08:48:41.381182",
   "environment_variables": {},
   "exception": null,
   "input_path": "03_segment_polygonDefects.ipynb",
   "output_path": "/config/Downloads/Gomez 5p1/03_segment_polygonDefects.ipynb",
   "parameters": {
    "camera_view_file": "/config/Downloads/Gomez 5p1/segmented_volumes/camera_view.csv",
    "file_nuclei_segmentation": "/config/Downloads/Gomez 5p1/segmented_volumes/Bone.seg.nrrd",
    "output_polygon_dir_path": "/config/Downloads/Gomez 5p1/segmented_volumes/polygonDefect/",
    "sample_name": "Gomez 5p1",
    "volume_file": "/config/Downloads/Gomez 5p1/microCT_volume/microCT_volume.nrrd"
   },
   "start_time": "2025-08-29T08:47:40.565757",
   "version": "2.6.0"
  },
  "toc-autonumbering": true
 },
 "nbformat": 4,
 "nbformat_minor": 5
}
