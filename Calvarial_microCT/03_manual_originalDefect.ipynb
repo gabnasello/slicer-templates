{
 "cells": [
  {
   "cell_type": "markdown",
   "id": "e9e365a5-96dd-44ec-9271-cb778da070dd",
   "metadata": {
    "editable": true,
    "papermill": {
     "duration": 0.018294,
     "end_time": "2025-09-03T16:52:41.806059",
     "exception": false,
     "start_time": "2025-09-03T16:52:41.787765",
     "status": "completed"
    },
    "slideshow": {
     "slide_type": ""
    },
    "tags": []
   },
   "source": [
    "<span STYLE=\"font-size:150%\"> \n",
    "    Segment polygonal regions from microCT scans\n",
    "</span>\n",
    "\n",
    "Docker image: gnasello/slicer-env:2023-10-10 \\\n",
    "Latest update: 11 October 2023"
   ]
  },
  {
   "cell_type": "markdown",
   "id": "b06273b8-ed89-406c-af12-191b17fdc261",
   "metadata": {
    "papermill": {
     "duration": 0.006991,
     "end_time": "2025-09-03T16:52:41.823874",
     "exception": false,
     "start_time": "2025-09-03T16:52:41.816883",
     "status": "completed"
    },
    "tags": []
   },
   "source": [
    "- load image stack in Slicer\n",
    "- segment mineralized tissue\n",
    "- compute segmented statistics (volumes)"
   ]
  },
  {
   "cell_type": "markdown",
   "id": "8a604800-71f1-47b6-af62-7668c5af1d19",
   "metadata": {
    "papermill": {
     "duration": 0.005572,
     "end_time": "2025-09-03T16:52:41.835274",
     "exception": false,
     "start_time": "2025-09-03T16:52:41.829702",
     "status": "completed"
    },
    "tags": []
   },
   "source": [
    "# Load libraries"
   ]
  },
  {
   "cell_type": "code",
   "execution_count": null,
   "id": "ee34ac62-8898-4805-813b-a1b5573a675e",
   "metadata": {
    "papermill": {
     "duration": 0.728653,
     "end_time": "2025-09-03T16:52:42.569218",
     "exception": false,
     "start_time": "2025-09-03T16:52:41.840565",
     "status": "completed"
    },
    "tags": []
   },
   "outputs": [],
   "source": [
    "import pyslicer as ps\n",
    "import slicer\n",
    "from pathlib import Path\n",
    "import pandas as pd\n",
    "import trimesh\n",
    "import vtk\n",
    "import numpy as np"
   ]
  },
  {
   "cell_type": "markdown",
   "id": "dcd67865-e62c-4fbc-a92e-e124ff3dfece",
   "metadata": {
    "papermill": {
     "duration": 0.005568,
     "end_time": "2025-09-03T16:52:42.580696",
     "exception": false,
     "start_time": "2025-09-03T16:52:42.575128",
     "status": "completed"
    },
    "tags": []
   },
   "source": [
    "# Volume input"
   ]
  },
  {
   "cell_type": "markdown",
   "id": "a3fadbf4-c0a2-4da8-a6f3-4639c9a1f989",
   "metadata": {
    "papermill": {
     "duration": 0.005334,
     "end_time": "2025-09-03T16:52:42.591378",
     "exception": false,
     "start_time": "2025-09-03T16:52:42.586044",
     "status": "completed"
    },
    "tags": []
   },
   "source": [
    "## Load `.nrrd` file into 3D Slicer"
   ]
  },
  {
   "cell_type": "markdown",
   "id": "090e0d8b-30a3-47d4-a894-e2bc87b9ad75",
   "metadata": {
    "editable": true,
    "papermill": {
     "duration": 0.005323,
     "end_time": "2025-09-03T16:52:42.601895",
     "exception": false,
     "start_time": "2025-09-03T16:52:42.596572",
     "status": "completed"
    },
    "slideshow": {
     "slide_type": ""
    },
    "tags": []
   },
   "source": [
    "Write the path of the `.nrrd` file and load it to Slicer"
   ]
  },
  {
   "cell_type": "code",
   "execution_count": null,
   "id": "3e7a643c-b96a-4e37-839e-bef6d70a65c5",
   "metadata": {
    "editable": true,
    "papermill": {
     "duration": 0.016025,
     "end_time": "2025-09-03T16:52:42.623132",
     "exception": false,
     "start_time": "2025-09-03T16:52:42.607107",
     "status": "completed"
    },
    "slideshow": {
     "slide_type": ""
    },
    "tags": [
     "parameters"
    ]
   },
   "outputs": [],
   "source": [
    "# this cell is tagged 'parameters'\n",
    "volume_file = 'microCT_volume_preview/microCT_volume_preview.nrrd'\n",
    "output_polygon_dir_path = 'segmented_volumes/polygonDefect'\n",
    "output_cylinder_dir_path = 'segmented_volumes/originalDefect'\n",
    "file_segmentation = 'segmented_volumes/Skull.seg.nrrd'\n",
    "directory_notebook = Path().parent.absolute()\n",
    "sample_name = directory_notebook.stem\n",
    "camera_view_file = 'segmented_volumes/camera_view.csv'"
   ]
  },
  {
   "cell_type": "code",
   "execution_count": null,
   "id": "2937b8df-59de-42b1-b209-e04cbbb562ca",
   "metadata": {
    "papermill": {
     "duration": 1.432388,
     "end_time": "2025-09-03T16:52:44.089003",
     "exception": false,
     "start_time": "2025-09-03T16:52:42.656615",
     "status": "completed"
    },
    "tags": []
   },
   "outputs": [],
   "source": [
    "masterVolumeNode = slicer.util.loadNodeFromFile(volume_file)"
   ]
  },
  {
   "cell_type": "markdown",
   "id": "258bebce-35ad-438e-b598-78d51f5cdbfb",
   "metadata": {
    "papermill": {
     "duration": 0.020715,
     "end_time": "2025-09-03T16:52:44.133081",
     "exception": false,
     "start_time": "2025-09-03T16:52:44.112366",
     "status": "completed"
    },
    "tags": []
   },
   "source": [
    "Print spacing"
   ]
  },
  {
   "cell_type": "code",
   "execution_count": null,
   "id": "48e27e1d-5729-442c-8fa8-dff88acd90b1",
   "metadata": {
    "papermill": {
     "duration": 0.046263,
     "end_time": "2025-09-03T16:52:44.197806",
     "exception": false,
     "start_time": "2025-09-03T16:52:44.151543",
     "status": "completed"
    },
    "tags": []
   },
   "outputs": [],
   "source": [
    "## mm\n",
    "masterVolumeNode.GetSpacing()"
   ]
  },
  {
   "cell_type": "markdown",
   "id": "3dc23f11-51f8-4620-ac62-7fc13c62e8ea",
   "metadata": {
    "papermill": {
     "duration": 0.006995,
     "end_time": "2025-09-03T16:52:44.212429",
     "exception": false,
     "start_time": "2025-09-03T16:52:44.205434",
     "status": "completed"
    },
    "tags": []
   },
   "source": [
    "Make ```segmented_volumes``` folder"
   ]
  },
  {
   "cell_type": "code",
   "execution_count": null,
   "id": "4459e579-eb82-4b01-b980-974ef05eb3ef",
   "metadata": {
    "editable": true,
    "papermill": {
     "duration": 0.020643,
     "end_time": "2025-09-03T16:52:44.240420",
     "exception": false,
     "start_time": "2025-09-03T16:52:44.219777",
     "status": "completed"
    },
    "slideshow": {
     "slide_type": ""
    },
    "tags": []
   },
   "outputs": [],
   "source": [
    "output_originalDefect_path = Path(output_cylinder_dir_path)\n",
    "\n",
    "output_originalDefect_path.mkdir(parents=True, exist_ok=True)"
   ]
  },
  {
   "cell_type": "code",
   "execution_count": null,
   "id": "f72d77df-fbfe-45d8-b7c1-a63c294fbb34",
   "metadata": {
    "editable": true,
    "papermill": {
     "duration": 0.027921,
     "end_time": "2025-09-03T16:52:44.287761",
     "exception": false,
     "start_time": "2025-09-03T16:52:44.259840",
     "status": "completed"
    },
    "slideshow": {
     "slide_type": ""
    },
    "tags": []
   },
   "outputs": [],
   "source": [
    "output_polygonDefect_path = Path(output_polygon_dir_path)"
   ]
  },
  {
   "cell_type": "markdown",
   "id": "be0823fa-36da-4db1-ac79-704d63a624f2",
   "metadata": {
    "papermill": {
     "duration": 0.010127,
     "end_time": "2025-09-03T16:52:44.314608",
     "exception": false,
     "start_time": "2025-09-03T16:52:44.304481",
     "status": "completed"
    },
    "tags": []
   },
   "source": [
    "Get norebook directory name"
   ]
  },
  {
   "cell_type": "code",
   "execution_count": null,
   "id": "2fe299d9-625c-450c-8f64-6ac7e84d6c56",
   "metadata": {
    "editable": true,
    "papermill": {
     "duration": 0.018606,
     "end_time": "2025-09-03T16:52:44.340954",
     "exception": false,
     "start_time": "2025-09-03T16:52:44.322348",
     "status": "completed"
    },
    "slideshow": {
     "slide_type": ""
    },
    "tags": []
   },
   "outputs": [],
   "source": [
    "sample_name"
   ]
  },
  {
   "cell_type": "markdown",
   "id": "951b224e-702b-4493-af68-22785c8ffaa5",
   "metadata": {
    "papermill": {
     "duration": 0.006677,
     "end_time": "2025-09-03T16:52:44.355704",
     "exception": false,
     "start_time": "2025-09-03T16:52:44.349027",
     "status": "completed"
    },
    "tags": []
   },
   "source": [
    "# Create segmentationNode"
   ]
  },
  {
   "cell_type": "markdown",
   "id": "05505b7e-e946-494c-bb5c-822e17fb86b4",
   "metadata": {
    "papermill": {
     "duration": 0.005764,
     "end_time": "2025-09-03T16:52:44.367368",
     "exception": false,
     "start_time": "2025-09-03T16:52:44.361604",
     "status": "completed"
    },
    "tags": []
   },
   "source": [
    "## Load Bone Segment as segmentationNode"
   ]
  },
  {
   "cell_type": "code",
   "execution_count": null,
   "id": "7effc245-a214-4606-b0fa-466edbe6915d",
   "metadata": {
    "papermill": {
     "duration": 1.03468,
     "end_time": "2025-09-03T16:52:45.407728",
     "exception": false,
     "start_time": "2025-09-03T16:52:44.373048",
     "status": "completed"
    },
    "tags": []
   },
   "outputs": [],
   "source": [
    "segmentationNode = slicer.util.loadSegmentation(str(Path(file_segmentation).resolve()), properties={\"name\": \"Segmentation\"})"
   ]
  },
  {
   "cell_type": "markdown",
   "id": "8bf8e1ab-7282-4f99-8f84-069132ef6f85",
   "metadata": {
    "papermill": {
     "duration": 0.011328,
     "end_time": "2025-09-03T16:52:45.439971",
     "exception": false,
     "start_time": "2025-09-03T16:52:45.428643",
     "status": "completed"
    },
    "tags": []
   },
   "source": [
    "Rename segment of the segmentation node "
   ]
  },
  {
   "cell_type": "code",
   "execution_count": null,
   "id": "9825e5d3-f83f-4014-a4d8-ee86b76a0bda",
   "metadata": {
    "papermill": {
     "duration": 0.011665,
     "end_time": "2025-09-03T16:52:45.459057",
     "exception": false,
     "start_time": "2025-09-03T16:52:45.447392",
     "status": "completed"
    },
    "tags": []
   },
   "outputs": [],
   "source": [
    "segmentation = segmentationNode.GetSegmentation()\n",
    "segment = segmentation.GetNthSegment(0)\n",
    "segment.SetName(\"Skull\")"
   ]
  },
  {
   "cell_type": "markdown",
   "id": "55ef93fc-9a7f-4591-a69a-a1ff076fc763",
   "metadata": {
    "papermill": {
     "duration": 0.005768,
     "end_time": "2025-09-03T16:52:45.470565",
     "exception": false,
     "start_time": "2025-09-03T16:52:45.464797",
     "status": "completed"
    },
    "tags": []
   },
   "source": [
    "Create temporary segment editor to get access to effects"
   ]
  },
  {
   "cell_type": "code",
   "execution_count": null,
   "id": "334ca92a-c62b-41cd-b3cd-d189df13c552",
   "metadata": {
    "papermill": {
     "duration": 1.094142,
     "end_time": "2025-09-03T16:52:46.570594",
     "exception": false,
     "start_time": "2025-09-03T16:52:45.476452",
     "status": "completed"
    },
    "tags": []
   },
   "outputs": [],
   "source": [
    "segmentEditorWidget, segmentEditorNode = ps.segmentation.segmentEditorWidget(segmentationNode = segmentationNode, \n",
    "                                                                             masterVolumeNode = masterVolumeNode)"
   ]
  },
  {
   "cell_type": "markdown",
   "id": "81949f02-97d1-4bc7-ad23-acfdf261dd15",
   "metadata": {
    "papermill": {
     "duration": 0.023807,
     "end_time": "2025-09-03T16:52:46.609525",
     "exception": false,
     "start_time": "2025-09-03T16:52:46.585718",
     "status": "completed"
    },
    "tags": []
   },
   "source": [
    "Get closed surface representation of the segment, from [slicer scripting repository](https://slicer.readthedocs.io/en/latest/developer_guide/script_repository.html#export-nodes-warped-by-transform-sequence)"
   ]
  },
  {
   "cell_type": "code",
   "execution_count": null,
   "id": "0abc7df1-1268-4d8a-8775-f34762c548a4",
   "metadata": {
    "papermill": {
     "duration": 0.607989,
     "end_time": "2025-09-03T16:52:47.228680",
     "exception": false,
     "start_time": "2025-09-03T16:52:46.620691",
     "status": "completed"
    },
    "tags": []
   },
   "outputs": [],
   "source": [
    "segmentationNode.CreateClosedSurfaceRepresentation()"
   ]
  },
  {
   "cell_type": "code",
   "execution_count": null,
   "id": "260cf308-de58-482c-83cf-cbb78c700e50",
   "metadata": {
    "papermill": {
     "duration": 0.202183,
     "end_time": "2025-09-03T16:52:47.448770",
     "exception": false,
     "start_time": "2025-09-03T16:52:47.246587",
     "status": "completed"
    },
    "tags": []
   },
   "outputs": [],
   "source": [
    "segments_color = {\n",
    "    \"Skull\": (0.9450980392156862, 0.8392156862745098, 0.5686274509803921), # \"Bone\" color in Slicer\n",
    "    }\n",
    "\n",
    "segments_color"
   ]
  },
  {
   "cell_type": "code",
   "execution_count": null,
   "id": "b3925ebd-934f-4888-be8c-6a98bc997497",
   "metadata": {
    "papermill": {
     "duration": 0.114779,
     "end_time": "2025-09-03T16:52:47.577267",
     "exception": false,
     "start_time": "2025-09-03T16:52:47.462488",
     "status": "completed"
    },
    "tags": []
   },
   "outputs": [],
   "source": [
    "ps.segmentation.set_segments_color(segments_color, segmentationNode)"
   ]
  },
  {
   "cell_type": "markdown",
   "id": "b5a4e94d-4e36-415d-bcb5-3378297a3263",
   "metadata": {
    "papermill": {
     "duration": 0.009723,
     "end_time": "2025-09-03T16:52:47.604491",
     "exception": false,
     "start_time": "2025-09-03T16:52:47.594768",
     "status": "completed"
    },
    "tags": []
   },
   "source": [
    "# Visualize segmentations in 3D view"
   ]
  },
  {
   "cell_type": "code",
   "execution_count": null,
   "id": "899850d1-5072-4eeb-b412-1b973c29554b",
   "metadata": {
    "papermill": {
     "duration": 0.1818,
     "end_time": "2025-09-03T16:52:47.793372",
     "exception": false,
     "start_time": "2025-09-03T16:52:47.611572",
     "status": "completed"
    },
    "tags": []
   },
   "outputs": [],
   "source": [
    "# Switch to \"One 3D view\" layout\n",
    "layoutManager = slicer.app.layoutManager()\n",
    "layoutManager.setLayout(slicer.vtkMRMLLayoutNode.SlicerLayoutOneUp3DView)\n",
    "\n",
    "# If you want to return later to the default layout (4-up), you can use:\n",
    "# layoutManager.setLayout(slicer.vtkMRMLLayoutNode.SlicerLayoutFourUpView)"
   ]
  },
  {
   "cell_type": "code",
   "execution_count": null,
   "id": "dcefe85c-1949-4c5a-ae34-a0a0e9093287",
   "metadata": {
    "papermill": {
     "duration": 0.385953,
     "end_time": "2025-09-03T16:52:48.202158",
     "exception": false,
     "start_time": "2025-09-03T16:52:47.816205",
     "status": "completed"
    },
    "tags": []
   },
   "outputs": [],
   "source": [
    "ps.view.default_dark_3D_view()"
   ]
  },
  {
   "cell_type": "markdown",
   "id": "9c4b6db9-c1c3-4c53-ba63-6f0eac95e1d4",
   "metadata": {
    "papermill": {
     "duration": 0.007574,
     "end_time": "2025-09-03T16:52:48.228283",
     "exception": false,
     "start_time": "2025-09-03T16:52:48.220709",
     "status": "completed"
    },
    "tags": []
   },
   "source": [
    "## Get camera position in 3D view"
   ]
  },
  {
   "cell_type": "markdown",
   "id": "a44cd465-ee3e-407f-ba32-3dab8aa1185f",
   "metadata": {
    "papermill": {
     "duration": 0.006492,
     "end_time": "2025-09-03T16:52:48.241533",
     "exception": false,
     "start_time": "2025-09-03T16:52:48.235041",
     "status": "completed"
    },
    "tags": []
   },
   "source": [
    "Load `camera_view.csv` file"
   ]
  },
  {
   "cell_type": "code",
   "execution_count": null,
   "id": "b851c7e3-c508-4d79-b29b-5096952f1b98",
   "metadata": {
    "editable": true,
    "papermill": {
     "duration": 0.15757,
     "end_time": "2025-09-03T16:52:48.405310",
     "exception": false,
     "start_time": "2025-09-03T16:52:48.247740",
     "status": "completed"
    },
    "slideshow": {
     "slide_type": ""
    },
    "tags": []
   },
   "outputs": [],
   "source": [
    "df_camera = pd.read_csv(camera_view_file)\n",
    "df_camera"
   ]
  },
  {
   "cell_type": "code",
   "execution_count": null,
   "id": "cbf3f7b7-1f68-4da4-a59b-50d60e31e02a",
   "metadata": {
    "papermill": {
     "duration": 0.025548,
     "end_time": "2025-09-03T16:52:48.450945",
     "exception": false,
     "start_time": "2025-09-03T16:52:48.425397",
     "status": "completed"
    },
    "tags": []
   },
   "outputs": [],
   "source": [
    "ps.view.set_camera_3Dview(position=df_camera['position'],\n",
    "                          viewAngle=df_camera['viewAngle'][0],\n",
    "                          viewUp=df_camera['viewUp'],\n",
    "                          parallelScale=df_camera['parallelScale'][0])"
   ]
  },
  {
   "cell_type": "markdown",
   "id": "f690ad41-9159-4172-8faf-f8c0c11eac4e",
   "metadata": {},
   "source": [
    "# Define polygon defect "
   ]
  },
  {
   "cell_type": "markdown",
   "id": "3ad3f545-7102-43b8-bab1-23d0269a47b7",
   "metadata": {},
   "source": [
    "## Set-up the markups module"
   ]
  },
  {
   "cell_type": "code",
   "execution_count": null,
   "id": "b1858456-4bb0-4ff8-b26c-77712c74405b",
   "metadata": {},
   "outputs": [],
   "source": [
    "# Show Markups module\n",
    "slicer.util.selectModule('Markups')\n",
    "\n",
    "# Create new fiducial list named \"F\"\n",
    "markupsLogic = slicer.modules.markups.logic()\n",
    "fidNodeName = markupsLogic.AddNewFiducialNode()   # returns string name\n",
    "fidList = slicer.util.getNode(fidNodeName)        # fetch node object\n",
    "fidList.SetName(\"F\")\n",
    "\n",
    "# Show markups toolbar\n",
    "slicer.util.mainWindow().findChild(\"qMRMLMarkupsToolBar\").setVisible(True)"
   ]
  },
  {
   "cell_type": "code",
   "execution_count": null,
   "id": "0a49307d-9ba2-40ae-9b83-1e8950a60fe4",
   "metadata": {},
   "outputs": [],
   "source": [
    "# Enable \"Place multiple control points\"\n",
    "selectionNode = slicer.app.applicationLogic().GetSelectionNode()\n",
    "selectionNode.SetReferenceActivePlaceNodeClassName(\"vtkMRMLMarkupsFiducialNode\")\n",
    "slicer.app.applicationLogic().GetInteractionNode().SetPlaceModePersistence(1)  # allow multiple points\n",
    "#slicer.app.applicationLogic().GetInteractionNode().SwitchToSinglePlaceMode()   # switch to placing"
   ]
  },
  {
   "cell_type": "code",
   "execution_count": null,
   "id": "0d42a4f7-5a79-46de-8919-7080dd3a613f",
   "metadata": {},
   "outputs": [],
   "source": [
    "# Switch to \"One 3D view\" layout\n",
    "layoutManager = slicer.app.layoutManager()\n",
    "layoutManager.setLayout(slicer.vtkMRMLLayoutNode.SlicerLayoutOneUp3DView)\n",
    "\n",
    "# If you want to return later to the default layout (4-up), you can use:\n",
    "# layoutManager.setLayout(slicer.vtkMRMLLayoutNode.SlicerLayoutFourUpView)"
   ]
  },
  {
   "cell_type": "markdown",
   "id": "a4db813d-bfbf-40eb-96bb-008b28951728",
   "metadata": {},
   "source": [
    "## Draw points in Slicer UI"
   ]
  },
  {
   "cell_type": "markdown",
   "id": "a5dbf73e-3903-4c0c-b4cc-7b10c9fa3946",
   "metadata": {},
   "source": [
    "Before running the code below, go to the Slicer UI and define a **Point List** from the ```markups``` module. To select more points, click on `Toggle Markups Toolbar` and select the option `Place multiple control points`.\n",
    "\n",
    "Set the name of the Point List node to ```F```. Any name is actually fine, but you should change the line below accoridngly."
   ]
  },
  {
   "cell_type": "markdown",
   "id": "6af63a99-86a6-496b-9f25-50a9c695ac9a",
   "metadata": {},
   "source": [
    "**IMPORTANT** - Points in the Point List node ```F``` must be sorted to draw the polygon. You can move points in the list from the GUI (click `Advanced` in the Control Points List."
   ]
  },
  {
   "cell_type": "code",
   "execution_count": null,
   "id": "cbca013d-65c3-46e3-9742-50fd9843f343",
   "metadata": {},
   "outputs": [],
   "source": [
    "nodename = 'F'\n",
    "pointsNode = slicer.util.getNode(nodename)"
   ]
  },
  {
   "cell_type": "code",
   "execution_count": null,
   "id": "634f02d2-6bff-4069-a751-a05198998eeb",
   "metadata": {},
   "outputs": [],
   "source": [
    "f_output = 'F.mrk.json'\n",
    "\n",
    "slicer.util.exportNode(pointsNode, output_originalDefect_path / f_output)"
   ]
  },
  {
   "cell_type": "markdown",
   "id": "c6899d8d-f0fe-4172-9cd6-2ba4fe35171f",
   "metadata": {},
   "source": [
    "## Fit plane to PointList"
   ]
  },
  {
   "cell_type": "code",
   "execution_count": null,
   "id": "5a69a347-a8f6-47ac-a042-255a84324815",
   "metadata": {},
   "outputs": [],
   "source": [
    "planeNode, plane_dict = ps.markup.fitPlane_from_pointMarkup(pointNodename = 'F', namePlane = 'FittingPlane')\n",
    "plane_dict"
   ]
  },
  {
   "cell_type": "code",
   "execution_count": null,
   "id": "e7f5077a-6dd9-4b8a-b0aa-2baf57065489",
   "metadata": {},
   "outputs": [],
   "source": [
    "color = (68/255, 172/255, 100/255)\n",
    "opacity = 0.4\n",
    "\n",
    "modelDisplayNode = planeNode.GetDisplayNode()\n",
    "modelDisplayNode.SetColor(color[0], color[1], color[2])\n",
    "modelDisplayNode.SetOpacity(opacity)"
   ]
  },
  {
   "cell_type": "markdown",
   "id": "600bc288-e706-4ee6-b321-ab478419a62d",
   "metadata": {
    "papermill": {
     "duration": 0.006872,
     "end_time": "2025-09-03T16:52:49.470471",
     "exception": false,
     "start_time": "2025-09-03T16:52:49.463599",
     "status": "completed"
    },
    "tags": []
   },
   "source": [
    "# Create a cylinder covering the original defect area"
   ]
  },
  {
   "cell_type": "code",
   "execution_count": null,
   "id": "7fc55dcf",
   "metadata": {},
   "outputs": [],
   "source": [
    "projected_points = ps.markup.project_markupPoints_to_plane(pointNodename='F',\n",
    "                                                           plane_normal=plane_dict['normal'],\n",
    "                                                           plane_origin=plane_dict['origin']\n",
    "                                                          )"
   ]
  },
  {
   "cell_type": "code",
   "execution_count": null,
   "id": "25cb2545",
   "metadata": {},
   "outputs": [],
   "source": [
    "# Compute distances from the origin in 2D\n",
    "radii = np.linalg.norm(projected_points, axis=1)\n",
    "\n",
    "# Cylinder radius = max distance\n",
    "original_radius = radii.max()\n",
    "\n",
    "print(\"radii:\", radii)\n",
    "print(f\"Original Defect Radius = {original_radius:.3f}\")"
   ]
  },
  {
   "cell_type": "code",
   "execution_count": null,
   "id": "30cdc874-042f-4e58-9977-63cd86ac058a",
   "metadata": {
    "papermill": {
     "duration": 0.22915,
     "end_time": "2025-09-03T16:52:49.706290",
     "exception": false,
     "start_time": "2025-09-03T16:52:49.477140",
     "status": "completed"
    },
    "tags": []
   },
   "outputs": [],
   "source": [
    "defect_height = 0.8 #mm \n",
    "\n",
    "# Create a model in 3D Slicer with the bounding cylinder cylinder\n",
    "original_defect_cylinder = ps.model.create_hollow_cylinder(height=defect_height, \n",
    "                                                           radius_inner=0, radius_outer=original_radius, space =5, \n",
    "                                                           center=plane_dict['origin'],\n",
    "                                                           direction=plane_dict['normal'],\n",
    "                                                           transform=False,\n",
    "                                                           nameModel='OriginalDefect', \n",
    "                                                           color=(216/255, 101/255, 79/255), \n",
    "                                                           opacity=0.5)"
   ]
  },
  {
   "cell_type": "markdown",
   "id": "07f897d3-d9c6-4dc6-9c47-e245d03ac821",
   "metadata": {
    "papermill": {
     "duration": 0.01944,
     "end_time": "2025-09-03T16:52:49.739972",
     "exception": false,
     "start_time": "2025-09-03T16:52:49.720532",
     "status": "completed"
    },
    "tags": []
   },
   "source": [
    "# Export cylinder and properties"
   ]
  },
  {
   "cell_type": "code",
   "execution_count": null,
   "id": "bf9b2f0e-dc56-43ab-977a-226173030f86",
   "metadata": {
    "papermill": {
     "duration": 0.118719,
     "end_time": "2025-09-03T16:52:49.880389",
     "exception": false,
     "start_time": "2025-09-03T16:52:49.761670",
     "status": "completed"
    },
    "tags": []
   },
   "outputs": [],
   "source": [
    "sample_name"
   ]
  },
  {
   "cell_type": "markdown",
   "id": "758c8996-d61b-4075-a97f-8f429636aef9",
   "metadata": {
    "papermill": {
     "duration": 0.009607,
     "end_time": "2025-09-03T16:52:49.906174",
     "exception": false,
     "start_time": "2025-09-03T16:52:49.896567",
     "status": "completed"
    },
    "tags": []
   },
   "source": [
    "Defect cylinder diameter"
   ]
  },
  {
   "cell_type": "code",
   "execution_count": null,
   "id": "7d45bea6-659c-4529-a622-cee96c7b406b",
   "metadata": {
    "papermill": {
     "duration": 0.034502,
     "end_time": "2025-09-03T16:52:49.947464",
     "exception": false,
     "start_time": "2025-09-03T16:52:49.912962",
     "status": "completed"
    },
    "tags": []
   },
   "outputs": [],
   "source": [
    "# Scalar values\n",
    "data = {'sample':sample_name,\n",
    "        'original_defect_radius':original_radius}\n",
    "\n",
    "df_polygon = pd.DataFrame(data, index=[0])\n",
    "\n",
    "df_polygon.to_csv(output_originalDefect_path / (sample_name + '_original_defect.csv'), index = False)\n",
    "\n",
    "df_polygon"
   ]
  },
  {
   "cell_type": "markdown",
   "id": "f41edfa4-659c-472d-bf81-972f9ecbddb4",
   "metadata": {
    "papermill": {
     "duration": 0.008431,
     "end_time": "2025-09-03T16:52:49.967283",
     "exception": false,
     "start_time": "2025-09-03T16:52:49.958852",
     "status": "completed"
    },
    "tags": []
   },
   "source": [
    "Original Defect model"
   ]
  },
  {
   "cell_type": "code",
   "execution_count": null,
   "id": "dcc855aa-c805-4830-bd1c-cf3d162b1b74",
   "metadata": {
    "papermill": {
     "duration": 0.046607,
     "end_time": "2025-09-03T16:52:50.020432",
     "exception": false,
     "start_time": "2025-09-03T16:52:49.973825",
     "status": "completed"
    },
    "tags": []
   },
   "outputs": [],
   "source": [
    "model = original_defect_cylinder\n",
    "\n",
    "filename_output = model.GetName() + '.vtk'\n",
    "\n",
    "slicer.util.exportNode(model, output_originalDefect_path / filename_output)"
   ]
  },
  {
   "cell_type": "markdown",
   "id": "080c982a-4b6c-45d1-8bd5-66bde7bcd4de",
   "metadata": {
    "papermill": {
     "duration": 0.010204,
     "end_time": "2025-09-03T16:52:50.049132",
     "exception": false,
     "start_time": "2025-09-03T16:52:50.038928",
     "status": "completed"
    },
    "tags": []
   },
   "source": [
    "Get closed surface representation of the segment, from [slicer scripting repository](https://slicer.readthedocs.io/en/latest/developer_guide/script_repository.html#export-nodes-warped-by-transform-sequence)"
   ]
  },
  {
   "cell_type": "code",
   "execution_count": null,
   "id": "a7dda856-ee7d-4175-a87f-b7278a5426ab",
   "metadata": {
    "papermill": {
     "duration": 0.0196,
     "end_time": "2025-09-03T16:52:50.075876",
     "exception": false,
     "start_time": "2025-09-03T16:52:50.056276",
     "status": "completed"
    },
    "tags": []
   },
   "outputs": [],
   "source": [
    "segmentationNode.CreateClosedSurfaceRepresentation()"
   ]
  },
  {
   "cell_type": "code",
   "execution_count": null,
   "id": "013bd54a-bdd1-4b0c-8c96-a78c2b8c837e",
   "metadata": {
    "papermill": {
     "duration": 0.243528,
     "end_time": "2025-09-03T16:52:50.327993",
     "exception": false,
     "start_time": "2025-09-03T16:52:50.084465",
     "status": "completed"
    },
    "tags": []
   },
   "outputs": [],
   "source": [
    "slicer.modules.segmentations.logic().ExportSegmentsClosedSurfaceRepresentationToFiles(str(output_polygonDefect_path), segmentationNode)"
   ]
  }
 ],
 "metadata": {
  "kernelspec": {
   "display_name": "Slicer 5.6",
   "language": "python",
   "name": "slicer-5.6"
  },
  "language_info": {
   "file_extension": ".py",
   "mimetype": "text/x-python",
   "name": "python",
   "version": "3.9.10"
  },
  "papermill": {
   "default_parameters": {},
   "duration": 19.16639,
   "end_time": "2025-09-03T16:52:50.501835",
   "environment_variables": {},
   "exception": null,
   "input_path": "03_calculate_originalDefect.ipynb",
   "output_path": "/config/Downloads/Gomez_4p5/03_calculate_originalDefect.ipynb",
   "parameters": {
    "camera_view_file": "/config/Downloads/Gomez_4p5/segmented_volumes/camera_view.csv",
    "file_segmentation": "/config/Downloads/Gomez_4p5/segmented_volumes/Skull.seg.nrrd",
    "output_cylinder_dir_path": "/config/Downloads/Gomez_4p5/segmented_volumes/originalDefect",
    "output_polygon_dir_path": "/config/Downloads/Gomez_4p5/segmented_volumes/polygonDefect",
    "sample_name": "Gomez_4p5",
    "volume_file": "/config/Downloads/Gomez_4p5/microCT_volume_preview/microCT_volume_preview.nrrd"
   },
   "start_time": "2025-09-03T16:52:31.335445",
   "version": "2.6.0"
  },
  "toc-autonumbering": true
 },
 "nbformat": 4,
 "nbformat_minor": 5
}
