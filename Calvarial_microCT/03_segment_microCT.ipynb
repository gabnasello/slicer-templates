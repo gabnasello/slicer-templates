{
 "cells": [
  {
   "cell_type": "markdown",
   "id": "e9e365a5-96dd-44ec-9271-cb778da070dd",
   "metadata": {
    "editable": true,
    "papermill": {
     "duration": 0.030984,
     "end_time": "2025-09-01T13:53:21.663361",
     "exception": false,
     "start_time": "2025-09-01T13:53:21.632377",
     "status": "completed"
    },
    "slideshow": {
     "slide_type": ""
    },
    "tags": []
   },
   "source": [
    "<span STYLE=\"font-size:150%\"> \n",
    "    Segment microCT scans\n",
    "</span>\n",
    "\n",
    "Docker image: gnasello/slicer-env:2023-07-06 \\\n",
    "Latest update: 10 March 2023"
   ]
  },
  {
   "cell_type": "markdown",
   "id": "b06273b8-ed89-406c-af12-191b17fdc261",
   "metadata": {
    "papermill": {
     "duration": 0.012421,
     "end_time": "2025-09-01T13:53:21.696495",
     "exception": false,
     "start_time": "2025-09-01T13:53:21.684074",
     "status": "completed"
    },
    "tags": []
   },
   "source": [
    "- load image stack in Slicer\n",
    "- segment mineralized tissue\n",
    "- compute segmented statistics (volumes)"
   ]
  },
  {
   "cell_type": "code",
   "execution_count": 1,
   "id": "c329ec6a-b40a-4621-a0cd-57ee5d706ce0",
   "metadata": {},
   "outputs": [
    {
     "name": "stdout",
     "output_type": "stream",
     "text": [
      "0.7232780456542969 GB used\n"
     ]
    }
   ],
   "source": [
    "# Monitor Memory in Slicer\n",
    "import psutil, os\n",
    "print(psutil.Process(os.getpid()).memory_info().rss / (1024**3), \"GB used\")"
   ]
  },
  {
   "cell_type": "markdown",
   "id": "8a604800-71f1-47b6-af62-7668c5af1d19",
   "metadata": {
    "papermill": {
     "duration": 0.010003,
     "end_time": "2025-09-01T13:53:21.718449",
     "exception": false,
     "start_time": "2025-09-01T13:53:21.708446",
     "status": "completed"
    },
    "tags": []
   },
   "source": [
    "# Load libraries"
   ]
  },
  {
   "cell_type": "code",
   "execution_count": 2,
   "id": "ee34ac62-8898-4805-813b-a1b5573a675e",
   "metadata": {
    "papermill": {
     "duration": 0.308758,
     "end_time": "2025-09-01T13:53:22.036603",
     "exception": false,
     "start_time": "2025-09-01T13:53:21.727845",
     "status": "completed"
    },
    "tags": []
   },
   "outputs": [],
   "source": [
    "import pyslicer as ps\n",
    "import slicer\n",
    "from pathlib import Path\n",
    "import pandas as pd"
   ]
  },
  {
   "cell_type": "markdown",
   "id": "96139740-037b-4593-a20d-f5e8c394493a",
   "metadata": {
    "papermill": {
     "duration": 0.014654,
     "end_time": "2025-09-01T13:53:22.060561",
     "exception": false,
     "start_time": "2025-09-01T13:53:22.045907",
     "status": "completed"
    },
    "tags": []
   },
   "source": [
    "# Volume input"
   ]
  },
  {
   "cell_type": "markdown",
   "id": "dbd53820-e196-4bef-9f89-e81c638bb281",
   "metadata": {
    "papermill": {
     "duration": 0.02287,
     "end_time": "2025-09-01T13:53:22.115834",
     "exception": false,
     "start_time": "2025-09-01T13:53:22.092964",
     "status": "completed"
    },
    "tags": []
   },
   "source": [
    "## Load `.nrrd` file into 3D Slicer"
   ]
  },
  {
   "cell_type": "markdown",
   "id": "0f8c273a-7361-4112-90c4-64e98d318d02",
   "metadata": {
    "editable": true,
    "papermill": {
     "duration": 0.01066,
     "end_time": "2025-09-01T13:53:22.144291",
     "exception": false,
     "start_time": "2025-09-01T13:53:22.133631",
     "status": "completed"
    },
    "slideshow": {
     "slide_type": ""
    },
    "tags": []
   },
   "source": [
    "Write the path of the `.nrrd` file and load it to Slicer"
   ]
  },
  {
   "cell_type": "code",
   "execution_count": 3,
   "id": "b1c2443d-a03c-4db9-b886-faceb7af2363",
   "metadata": {
    "editable": true,
    "papermill": {
     "duration": 0.016254,
     "end_time": "2025-09-01T13:53:22.169716",
     "exception": false,
     "start_time": "2025-09-01T13:53:22.153462",
     "status": "completed"
    },
    "slideshow": {
     "slide_type": ""
    },
    "tags": [
     "parameters"
    ]
   },
   "outputs": [],
   "source": [
    "# this cell is tagged 'parameters'\n",
    "volume_file = 'microCT_volume/microCT_volume.nrrd'\n",
    "output_dir_path = 'segmented_volumes'\n",
    "segmentMask_file = 'segmented_volumes/Segment_mask.seg.nrrd'\n",
    "segments_greyvalues_file = 'segmented_volumes/segments_greyvalues.csv'"
   ]
  },
  {
   "cell_type": "code",
   "execution_count": 4,
   "id": "949fd7a5",
   "metadata": {
    "papermill": {
     "duration": 0.030644,
     "end_time": "2025-09-01T13:53:22.224475",
     "exception": false,
     "start_time": "2025-09-01T13:53:22.193831",
     "status": "completed"
    },
    "tags": [
     "injected-parameters"
    ]
   },
   "outputs": [],
   "source": [
    "# Parameters\n",
    "volume_file = \"/config/Downloads/Gomez 5p1/microCT_volume/microCT_volume.nrrd\"\n",
    "output_dir_path = \"/config/Downloads/Gomez 5p1/segmented_volumes/\"\n",
    "segmentMask_file = \"/config/Downloads/Gomez 5p1/segmented_volumes/Segment_mask.seg.nrrd\"\n"
   ]
  },
  {
   "cell_type": "code",
   "execution_count": 5,
   "id": "d5355e20-94ae-419b-9661-2c62dca0747e",
   "metadata": {
    "editable": true,
    "papermill": {
     "duration": 0.021885,
     "end_time": "2025-09-01T13:53:22.255491",
     "exception": false,
     "start_time": "2025-09-01T13:53:22.233606",
     "status": "completed"
    },
    "slideshow": {
     "slide_type": ""
    },
    "tags": []
   },
   "outputs": [],
   "source": [
    "path = Path(volume_file)\n",
    "\n",
    "# Remove image numbering _0000, _0001 ...\n",
    "filename_output = path.stem[:-4]"
   ]
  },
  {
   "cell_type": "code",
   "execution_count": 6,
   "id": "431b8505-9923-40da-8ad8-fa22d8229227",
   "metadata": {
    "papermill": {
     "duration": 69.949955,
     "end_time": "2025-09-01T13:54:32.232893",
     "exception": false,
     "start_time": "2025-09-01T13:53:22.282938",
     "status": "completed"
    },
    "tags": []
   },
   "outputs": [],
   "source": [
    "masterVolumeNode = slicer.util.loadNodeFromFile(volume_file)"
   ]
  },
  {
   "cell_type": "markdown",
   "id": "23dd2291-2ccc-4b32-b6b8-850a346648c1",
   "metadata": {
    "papermill": {
     "duration": 0.016205,
     "end_time": "2025-09-01T13:54:32.284030",
     "exception": false,
     "start_time": "2025-09-01T13:54:32.267825",
     "status": "completed"
    },
    "tags": []
   },
   "source": [
    "Print spacing"
   ]
  },
  {
   "cell_type": "code",
   "execution_count": 7,
   "id": "30f6aec2-0777-4bba-bcff-7f187c176336",
   "metadata": {
    "papermill": {
     "duration": 0.085835,
     "end_time": "2025-09-01T13:54:32.380536",
     "exception": false,
     "start_time": "2025-09-01T13:54:32.294701",
     "status": "completed"
    },
    "tags": []
   },
   "outputs": [
    {
     "data": {
      "text/plain": [
       "(0.009743730000000003, 0.009743730000000003, 0.009743730000000003)"
      ]
     },
     "execution_count": 7,
     "metadata": {},
     "output_type": "execute_result"
    }
   ],
   "source": [
    "## mm\n",
    "masterVolumeNode.GetSpacing()"
   ]
  },
  {
   "cell_type": "markdown",
   "id": "1fb1718c-d59d-49be-bb9b-481e876d42ab",
   "metadata": {
    "papermill": {
     "duration": 0.01402,
     "end_time": "2025-09-01T13:54:32.409286",
     "exception": false,
     "start_time": "2025-09-01T13:54:32.395266",
     "status": "completed"
    },
    "tags": []
   },
   "source": [
    "Make ```segmented_volumes``` folder"
   ]
  },
  {
   "cell_type": "code",
   "execution_count": 8,
   "id": "6d8fc3ca-c210-4987-87d7-155a4892738f",
   "metadata": {
    "editable": true,
    "papermill": {
     "duration": 0.021223,
     "end_time": "2025-09-01T13:54:32.457903",
     "exception": false,
     "start_time": "2025-09-01T13:54:32.436680",
     "status": "completed"
    },
    "slideshow": {
     "slide_type": ""
    },
    "tags": []
   },
   "outputs": [],
   "source": [
    "output_directory = Path(output_dir_path)\n",
    "\n",
    "output_directory.mkdir(parents=True, exist_ok=True)"
   ]
  },
  {
   "cell_type": "code",
   "execution_count": 9,
   "id": "85cd21b9-986e-479c-b2d8-8dca04c9ac29",
   "metadata": {},
   "outputs": [
    {
     "name": "stdout",
     "output_type": "stream",
     "text": [
      "15.424633026123047 GB used\n"
     ]
    }
   ],
   "source": [
    "# Monitor Memory in Slicer\n",
    "import psutil, os\n",
    "print(psutil.Process(os.getpid()).memory_info().rss / (1024**3), \"GB used\")"
   ]
  },
  {
   "cell_type": "code",
   "execution_count": 10,
   "id": "13f724f7-69f3-4e5a-a2d2-f40bf9eb7573",
   "metadata": {},
   "outputs": [
    {
     "name": "stdout",
     "output_type": "stream",
     "text": [
      "15.430126190185547 GB used\n"
     ]
    }
   ],
   "source": [
    "# Monitor Memory in Slicer\n",
    "import psutil, os\n",
    "print(psutil.Process(os.getpid()).memory_info().rss / (1024**3), \"GB used\")"
   ]
  },
  {
   "cell_type": "markdown",
   "id": "43c2067b-72cf-4132-a55e-8192d9d7989a",
   "metadata": {
    "papermill": {
     "duration": 0.01095,
     "end_time": "2025-09-01T13:54:32.591499",
     "exception": false,
     "start_time": "2025-09-01T13:54:32.580549",
     "status": "completed"
    },
    "tags": []
   },
   "source": [
    "# Create segmentationNode"
   ]
  },
  {
   "cell_type": "markdown",
   "id": "a848262f-b790-44ed-9d1c-a5a64dcfed62",
   "metadata": {},
   "source": [
    "## Load Segment Mask LabelmapNode"
   ]
  },
  {
   "cell_type": "code",
   "execution_count": 11,
   "id": "c3edfe4e-bc9c-425e-835a-0085dba38efd",
   "metadata": {},
   "outputs": [],
   "source": [
    "segmentationNode = slicer.util.loadSegmentation(segmentMask_file, properties={\"name\": \"Segmentation\"})"
   ]
  },
  {
   "cell_type": "markdown",
   "id": "9ec94207-338a-4dbd-80e0-4d67f1522af2",
   "metadata": {
    "papermill": {
     "duration": 0.011871,
     "end_time": "2025-09-01T13:54:36.294543",
     "exception": false,
     "start_time": "2025-09-01T13:54:36.282672",
     "status": "completed"
    },
    "tags": []
   },
   "source": [
    "Rename segment of the segmentation node "
   ]
  },
  {
   "cell_type": "code",
   "execution_count": 13,
   "id": "b2d0090b-6feb-4d01-9e27-5529564a3219",
   "metadata": {
    "papermill": {
     "duration": 0.02778,
     "end_time": "2025-09-01T13:54:36.332432",
     "exception": false,
     "start_time": "2025-09-01T13:54:36.304652",
     "status": "completed"
    },
    "tags": []
   },
   "outputs": [],
   "source": [
    "segmentation = segmentationNode.GetSegmentation()\n",
    "segment = segmentation.GetNthSegment(0)\n",
    "segment.SetName(\"SegmentMask\")"
   ]
  },
  {
   "cell_type": "markdown",
   "id": "23a39787-a0b4-403c-8e39-f9e9d5c20bd6",
   "metadata": {
    "papermill": {
     "duration": 0.011934,
     "end_time": "2025-09-01T13:54:32.721162",
     "exception": false,
     "start_time": "2025-09-01T13:54:32.709228",
     "status": "completed"
    },
    "tags": []
   },
   "source": [
    "Create temporary segment editor to get access to effects"
   ]
  },
  {
   "cell_type": "code",
   "execution_count": 14,
   "id": "0defe996-4c60-4375-b12b-a7026d057b52",
   "metadata": {
    "papermill": {
     "duration": 2.35178,
     "end_time": "2025-09-01T13:54:35.083629",
     "exception": false,
     "start_time": "2025-09-01T13:54:32.731849",
     "status": "completed"
    },
    "tags": []
   },
   "outputs": [],
   "source": [
    "segmentEditorWidget, segmentEditorNode = ps.segmentation.segmentEditorWidget(segmentationNode = segmentationNode, \n",
    "                                                                             masterVolumeNode = masterVolumeNode)"
   ]
  },
  {
   "cell_type": "markdown",
   "id": "05dcd4ba-de7b-4b69-80b8-b2751d939791",
   "metadata": {
    "papermill": {
     "duration": 0.014591,
     "end_time": "2025-09-01T13:54:36.503430",
     "exception": false,
     "start_time": "2025-09-01T13:54:36.488839",
     "status": "completed"
    },
    "tags": []
   },
   "source": [
    "## Set a mask in segmentation node\n",
    "[link](https://discourse.slicer.org/t/masking-settings-from-a-script-on-a-segment-editor-effect-in-python/14323/7)"
   ]
  },
  {
   "cell_type": "code",
   "execution_count": 15,
   "id": "87fd48ac-1b10-4747-a3c7-41105162fac3",
   "metadata": {
    "papermill": {
     "duration": 0.021836,
     "end_time": "2025-09-01T13:54:36.535532",
     "exception": false,
     "start_time": "2025-09-01T13:54:36.513696",
     "status": "completed"
    },
    "tags": []
   },
   "outputs": [],
   "source": [
    "MaskSegment_name = 'SegmentMask'\n",
    "\n",
    "MaskSegmentID = segmentation.GetSegmentIdBySegmentName(MaskSegment_name)\n",
    "segmentEditorNode.SetMaskSegmentID(MaskSegmentID)\n",
    "\n",
    "# Mask Mode 5 means paint only allowed inside one segment\n",
    "# https://discourse.slicer.org/t/how-can-i-set-masking-settings-on-a-segment-editor-effect-in-python/4406/2\n",
    "segmentEditorNode.SetMaskMode(5)\n",
    "\n",
    "# Avoid overwrite of overlapping segments\n",
    "segmentEditorNode.SetOverwriteMode(slicer.vtkMRMLSegmentEditorNode.OverwriteNone)"
   ]
  },
  {
   "cell_type": "markdown",
   "id": "e6e6599a-6624-48c1-aecc-c68ea2350427",
   "metadata": {
    "papermill": {
     "duration": 0.010284,
     "end_time": "2025-09-01T13:54:36.558461",
     "exception": false,
     "start_time": "2025-09-01T13:54:36.548177",
     "status": "completed"
    },
    "tags": []
   },
   "source": [
    "# Thresholding"
   ]
  },
  {
   "cell_type": "markdown",
   "id": "11bf3452-cb7b-4f5a-8916-084e4cbeaff2",
   "metadata": {},
   "source": [
    "## Read file with thresholding values"
   ]
  },
  {
   "cell_type": "code",
   "execution_count": 21,
   "id": "14245569-0d4d-4513-9f5b-7ef4f1021bc4",
   "metadata": {},
   "outputs": [
    {
     "data": {
      "text/plain": [
       "{'Bone': [8654.02001953125, 65535.0]}"
      ]
     },
     "execution_count": 21,
     "metadata": {},
     "output_type": "execute_result"
    }
   ],
   "source": [
    "grey_df = pd.read_csv(segments_greyvalues_file)\n",
    "\n",
    "segments_greyvalues = grey_df.to_dict('list')\n",
    "segments_greyvalues"
   ]
  },
  {
   "cell_type": "markdown",
   "id": "28dd2914-3af2-4496-ba7a-7079a6a8873e",
   "metadata": {
    "papermill": {
     "duration": 0.014397,
     "end_time": "2025-09-01T14:05:07.569711",
     "exception": false,
     "start_time": "2025-09-01T14:05:07.555314",
     "status": "completed"
    },
    "tags": []
   },
   "source": [
    "## Create segments by thresholding"
   ]
  },
  {
   "cell_type": "code",
   "execution_count": 22,
   "id": "aa539815-f96a-4809-8bc9-ba0a595d701f",
   "metadata": {
    "papermill": {
     "duration": 46.898397,
     "end_time": "2025-09-01T14:05:54.480207",
     "exception": false,
     "start_time": "2025-09-01T14:05:07.581810",
     "status": "completed"
    },
    "tags": []
   },
   "outputs": [],
   "source": [
    "ps.segmentation.segments_by_thresholding(segments_greyvalues, \n",
    "                                         segmentationNode,\n",
    "                                         segmentEditorNode,\n",
    "                                         segmentEditorWidget)"
   ]
  },
  {
   "cell_type": "markdown",
   "id": "1af2bf00-5b93-4aeb-8f1b-71d5c2ab17b3",
   "metadata": {
    "papermill": {
     "duration": 0.018353,
     "end_time": "2025-09-01T14:05:54.544849",
     "exception": false,
     "start_time": "2025-09-01T14:05:54.526496",
     "status": "completed"
    },
    "tags": []
   },
   "source": [
    "Set segments color"
   ]
  },
  {
   "cell_type": "code",
   "execution_count": 23,
   "id": "91f790cf-b870-4f08-8b15-89471ba4d7e5",
   "metadata": {
    "papermill": {
     "duration": 0.021539,
     "end_time": "2025-09-01T14:05:54.579186",
     "exception": false,
     "start_time": "2025-09-01T14:05:54.557647",
     "status": "completed"
    },
    "tags": []
   },
   "outputs": [
    {
     "data": {
      "text/plain": [
       "{'Bone': (0.9450980392156862, 0.8392156862745098, 0.5686274509803921)}"
      ]
     },
     "execution_count": 23,
     "metadata": {},
     "output_type": "execute_result"
    }
   ],
   "source": [
    "segments_color = {\n",
    "    \"Bone\": (0.9450980392156862, 0.8392156862745098, 0.5686274509803921), # \"Bone\" color in Slicer\n",
    "    }\n",
    "\n",
    "segments_color"
   ]
  },
  {
   "cell_type": "code",
   "execution_count": 24,
   "id": "e1fcfc37-a9cd-4415-a0b7-b0a68c6e3117",
   "metadata": {
    "papermill": {
     "duration": 0.138421,
     "end_time": "2025-09-01T14:05:54.748162",
     "exception": false,
     "start_time": "2025-09-01T14:05:54.609741",
     "status": "completed"
    },
    "tags": []
   },
   "outputs": [],
   "source": [
    "ps.segmentation.set_segments_color(segments_color, segmentationNode)"
   ]
  },
  {
   "cell_type": "code",
   "execution_count": 28,
   "id": "7a567c8e-5386-47c9-97cb-8d9b53f3ed6f",
   "metadata": {},
   "outputs": [
    {
     "name": "stdout",
     "output_type": "stream",
     "text": [
      "17.039264678955078 GB used\n"
     ]
    }
   ],
   "source": [
    "# Monitor Memory in Slicer\n",
    "import psutil, os\n",
    "print(psutil.Process(os.getpid()).memory_info().rss / (1024**3), \"GB used\")"
   ]
  },
  {
   "cell_type": "markdown",
   "id": "caf1e4e2-7bf6-42b1-8080-95b0ca4d0b43",
   "metadata": {
    "papermill": {
     "duration": 0.017003,
     "end_time": "2025-09-01T14:05:54.778259",
     "exception": false,
     "start_time": "2025-09-01T14:05:54.761256",
     "status": "completed"
    },
    "tags": []
   },
   "source": [
    "# Operation on segments"
   ]
  },
  {
   "cell_type": "markdown",
   "id": "26c9972c-4b5c-46cc-8247-0cab48fbf3c8",
   "metadata": {
    "papermill": {
     "duration": 0.013109,
     "end_time": "2025-09-01T14:05:54.807476",
     "exception": false,
     "start_time": "2025-09-01T14:05:54.794367",
     "status": "completed"
    },
    "tags": []
   },
   "source": [
    "## Manual fix of the segmentation"
   ]
  },
  {
   "cell_type": "markdown",
   "id": "fffcd1f4-b476-4a2e-94d5-e7569d1bcb2f",
   "metadata": {
    "papermill": {
     "duration": 0.012535,
     "end_time": "2025-09-01T14:05:54.832388",
     "exception": false,
     "start_time": "2025-09-01T14:05:54.819853",
     "status": "completed"
    },
    "tags": []
   },
   "source": [
    "Sometimes it might be necessary to remove speckles at the image boundaries. If so, use the `scissor` tool in the `Segment Editor` before proceeding with the rest of the script. "
   ]
  },
  {
   "cell_type": "markdown",
   "id": "5dead05e-0783-4e47-b693-cd2c9b40685b",
   "metadata": {
    "papermill": {
     "duration": 0.012186,
     "end_time": "2025-09-01T14:05:54.856729",
     "exception": false,
     "start_time": "2025-09-01T14:05:54.844543",
     "status": "completed"
    },
    "tags": []
   },
   "source": [
    "## Remove small islands"
   ]
  },
  {
   "cell_type": "markdown",
   "id": "1c75c688-f991-41fa-97af-579e1f343d78",
   "metadata": {
    "papermill": {
     "duration": 0.012675,
     "end_time": "2025-09-01T14:05:54.881434",
     "exception": false,
     "start_time": "2025-09-01T14:05:54.868759",
     "status": "completed"
    },
    "tags": []
   },
   "source": [
    "REMOVE_SMALL_ISLANDS operation from the [SegmentEditorIslandsEffect](https://github.com/Slicer/Slicer/blob/294ef47edbac2ccb194d5ee982a493696795cdc0/Modules/Loadable/Segmentations/EditorEffects/Python/SegmentEditorIslandsEffect.py#L402)"
   ]
  },
  {
   "cell_type": "code",
   "execution_count": 31,
   "id": "12060cd8-7210-43af-995d-ea76ac15d66a",
   "metadata": {
    "execution": {
     "iopub.execute_input": "2025-09-01T14:05:54.917543Z",
     "iopub.status.busy": "2025-09-01T14:05:54.917425Z",
     "iopub.status.idle": "2025-09-01T14:05:54.918846Z",
     "shell.execute_reply": "2025-09-01T14:05:54.918730Z"
    },
    "papermill": {
     "duration": 0.02847,
     "end_time": "2025-09-01T14:05:54.922689",
     "exception": false,
     "start_time": "2025-09-01T14:05:54.894219",
     "status": "completed"
    },
    "tags": []
   },
   "outputs": [],
   "source": [
    "# segment_name = 'Bone'\n",
    "# minimum_size = 20 #number of voxels"
   ]
  },
  {
   "cell_type": "code",
   "execution_count": 32,
   "id": "0af4238d-23f2-4766-80fb-3b8deda984fc",
   "metadata": {
    "execution": {
     "iopub.execute_input": "2025-09-01T14:05:54.967089Z",
     "iopub.status.busy": "2025-09-01T14:05:54.966964Z",
     "iopub.status.idle": "2025-09-01T14:05:54.968427Z",
     "shell.execute_reply": "2025-09-01T14:05:54.968320Z"
    },
    "papermill": {
     "duration": 0.018361,
     "end_time": "2025-09-01T14:05:54.969132",
     "exception": false,
     "start_time": "2025-09-01T14:05:54.950771",
     "status": "completed"
    },
    "tags": []
   },
   "outputs": [],
   "source": [
    "# ps.segmentation.remove_small_islands(minimum_size, \n",
    "#                                      segment_name, \n",
    "#                                      segmentEditorNode,\n",
    "#                                      segmentEditorWidget)"
   ]
  },
  {
   "cell_type": "markdown",
   "id": "a5c6dca2-d05d-42c0-bb29-3db90cfb90a0",
   "metadata": {
    "papermill": {
     "duration": 0.013012,
     "end_time": "2025-09-01T14:05:54.994593",
     "exception": false,
     "start_time": "2025-09-01T14:05:54.981581",
     "status": "completed"
    },
    "tags": []
   },
   "source": [
    "## Smoothing thresholded segment"
   ]
  },
  {
   "cell_type": "code",
   "execution_count": 25,
   "id": "bd70cbfb-7294-4df4-a8ea-6ff507f23523",
   "metadata": {
    "papermill": {
     "duration": 0.0245,
     "end_time": "2025-09-01T14:05:55.031356",
     "exception": false,
     "start_time": "2025-09-01T14:05:55.006856",
     "status": "completed"
    },
    "tags": []
   },
   "outputs": [],
   "source": [
    "segment_name = 'Bone'\n",
    "gaussiaSD_mm = 0.001 #units are in millimiters"
   ]
  },
  {
   "cell_type": "code",
   "execution_count": 26,
   "id": "cb55a9ac-2993-49b1-b781-5835642ebd87",
   "metadata": {
    "papermill": {
     "duration": 120.59249,
     "end_time": "2025-09-01T14:07:55.653624",
     "exception": false,
     "start_time": "2025-09-01T14:05:55.061134",
     "status": "completed"
    },
    "tags": []
   },
   "outputs": [],
   "source": [
    "ps.segmentation.gaussian_smoothing(gaussiaSD_mm, \n",
    "                                   segment_name, \n",
    "                                   segmentEditorNode, \n",
    "                                   segmentEditorWidget)"
   ]
  },
  {
   "cell_type": "markdown",
   "id": "16eba519-91a2-4a89-b785-cb379b7839ad",
   "metadata": {
    "papermill": {
     "duration": null,
     "end_time": null,
     "exception": null,
     "start_time": null,
     "status": "completed"
    },
    "tags": []
   },
   "source": [
    "# Export Bone segment"
   ]
  },
  {
   "cell_type": "markdown",
   "id": "bfa4cf31-9e39-4b92-92c5-44c16b3b044d",
   "metadata": {},
   "source": [
    "# Create a new temporary segmentation node with only the `Bone` segment"
   ]
  },
  {
   "cell_type": "code",
   "execution_count": 49,
   "id": "30a36b25-575f-4d4e-b16f-be100bcff94e",
   "metadata": {},
   "outputs": [
    {
     "data": {
      "text/plain": [
       "True"
      ]
     },
     "execution_count": 49,
     "metadata": {},
     "output_type": "execute_result"
    }
   ],
   "source": [
    "seg_name = 'Bone'\n",
    "\n",
    "# Create a new temporary segmentation node\n",
    "temp_seg_node = slicer.mrmlScene.AddNewNodeByClass(\"vtkMRMLSegmentationNode\")\n",
    "\n",
    "# Get the segment from the original node\n",
    "segment = segmentationNode.GetSegmentation().GetSegment(seg_name)\n",
    "\n",
    "# Add a new empty segment to the temporary node and copy the original segment\n",
    "temp_seg_node.GetSegmentation().AddSegment(segment)"
   ]
  },
  {
   "cell_type": "markdown",
   "id": "c7a71302-3b8c-4885-96f1-50a03a55ee55",
   "metadata": {
    "papermill": {
     "duration": null,
     "end_time": null,
     "exception": null,
     "start_time": null,
     "status": "completed"
    },
    "tags": []
   },
   "source": [
    "## Export as seg.nrrd file"
   ]
  },
  {
   "cell_type": "code",
   "execution_count": 48,
   "id": "64b09a80-d40e-453e-8ffa-2d4b2596e292",
   "metadata": {},
   "outputs": [],
   "source": [
    "filename_output = seg_name + '.seg.nrrd'\n",
    "\n",
    "# Save the single segment to a .seg.nrrd file\n",
    "slicer.util.saveNode(temp_seg_node, str(output_directory / filename_output))\n",
    "\n",
    "# Optionally, remove the temporary node from the scene\n",
    "#slicer.mrmlScene.RemoveNode(temp_seg_node)"
   ]
  },
  {
   "cell_type": "markdown",
   "id": "6e97bad7-3938-499e-821e-8800f733fb55",
   "metadata": {
    "papermill": {
     "duration": null,
     "end_time": null,
     "exception": null,
     "start_time": null,
     "status": "completed"
    },
    "tags": []
   },
   "source": [
    "## Convert all segments to model nodes"
   ]
  },
  {
   "cell_type": "markdown",
   "id": "080c982a-4b6c-45d1-8bd5-66bde7bcd4de",
   "metadata": {
    "papermill": {
     "duration": null,
     "end_time": null,
     "exception": null,
     "start_time": null,
     "status": "completed"
    },
    "tags": []
   },
   "source": [
    "Get closed surface representation of the segment, from [slicer scripting repository](https://slicer.readthedocs.io/en/latest/developer_guide/script_repository.html#export-nodes-warped-by-transform-sequence)"
   ]
  },
  {
   "cell_type": "code",
   "execution_count": 50,
   "id": "a7dda856-ee7d-4175-a87f-b7278a5426ab",
   "metadata": {
    "papermill": {
     "duration": null,
     "end_time": null,
     "exception": null,
     "start_time": null,
     "status": "completed"
    },
    "tags": []
   },
   "outputs": [
    {
     "data": {
      "text/plain": [
       "True"
      ]
     },
     "execution_count": 50,
     "metadata": {},
     "output_type": "execute_result"
    }
   ],
   "source": [
    "temp_seg_node.CreateClosedSurfaceRepresentation()"
   ]
  },
  {
   "cell_type": "code",
   "execution_count": 51,
   "id": "d08f64e3-5ef2-4de7-9077-55ec55fd3087",
   "metadata": {
    "papermill": {
     "duration": null,
     "end_time": null,
     "exception": null,
     "start_time": null,
     "status": "completed"
    },
    "tags": []
   },
   "outputs": [
    {
     "data": {
      "text/plain": [
       "True"
      ]
     },
     "execution_count": 51,
     "metadata": {},
     "output_type": "execute_result"
    }
   ],
   "source": [
    "shNode = slicer.mrmlScene.GetSubjectHierarchyNode()\n",
    "exportFolderItemId = shNode.CreateFolderItem(shNode.GetSceneItemID(), \"Segments\")\n",
    "slicer.modules.segmentations.logic().ExportAllSegmentsToModels(temp_seg_node, exportFolderItemId)"
   ]
  },
  {
   "cell_type": "code",
   "execution_count": 53,
   "id": "d1d6b821-34cb-4f3a-be3f-fef5274607b2",
   "metadata": {},
   "outputs": [],
   "source": [
    "# Optionally, remove the temporary node from the scene\n",
    "slicer.mrmlScene.RemoveNode(temp_seg_node)"
   ]
  },
  {
   "cell_type": "code",
   "execution_count": 54,
   "id": "97521a68-87cb-4920-ac18-dec4401aba16",
   "metadata": {},
   "outputs": [
    {
     "name": "stdout",
     "output_type": "stream",
     "text": [
      "32.05612564086914 GB used\n"
     ]
    }
   ],
   "source": [
    "# Monitor Memory in Slicer\n",
    "import psutil, os\n",
    "print(psutil.Process(os.getpid()).memory_info().rss / (1024**3), \"GB used\")"
   ]
  },
  {
   "cell_type": "markdown",
   "id": "549408e0-b279-447a-9fce-0a811ad94b58",
   "metadata": {
    "papermill": {
     "duration": null,
     "end_time": null,
     "exception": null,
     "start_time": null,
     "status": "completed"
    },
    "tags": []
   },
   "source": [
    "## Decimate model node from segmentation node"
   ]
  },
  {
   "cell_type": "markdown",
   "id": "801b0496-3d13-499b-bb75-2f57d360646d",
   "metadata": {
    "papermill": {
     "duration": null,
     "end_time": null,
     "exception": null,
     "start_time": null,
     "status": "completed"
    },
    "tags": []
   },
   "source": [
    "Get `VTK Polydata` from model"
   ]
  },
  {
   "cell_type": "code",
   "execution_count": 55,
   "id": "e82c729e-f676-4229-928f-479139260021",
   "metadata": {
    "papermill": {
     "duration": null,
     "end_time": null,
     "exception": null,
     "start_time": null,
     "status": "completed"
    },
    "tags": []
   },
   "outputs": [],
   "source": [
    "nodename = 'Bone'\n",
    "modelNode = slicer.util.getNode(nodename)"
   ]
  },
  {
   "cell_type": "markdown",
   "id": "ad815fef-1ecd-4888-b68d-fac93ef5c878",
   "metadata": {
    "papermill": {
     "duration": null,
     "end_time": null,
     "exception": null,
     "start_time": null,
     "status": "completed"
    },
    "tags": []
   },
   "source": [
    "Use pyvista to get faces and vertices of the `VTK PolyData` object"
   ]
  },
  {
   "cell_type": "code",
   "execution_count": 56,
   "id": "6f5c5067-2889-4a11-97f7-bacaade8d3b5",
   "metadata": {
    "papermill": {
     "duration": null,
     "end_time": null,
     "exception": null,
     "start_time": null,
     "status": "completed"
    },
    "tags": []
   },
   "outputs": [],
   "source": [
    "import pyvista as pv"
   ]
  },
  {
   "cell_type": "code",
   "execution_count": 57,
   "id": "0859a61d-dbf5-4036-ac84-0ebcf8d7081b",
   "metadata": {
    "papermill": {
     "duration": null,
     "end_time": null,
     "exception": null,
     "start_time": null,
     "status": "completed"
    },
    "tags": []
   },
   "outputs": [],
   "source": [
    "model_pv = pv.wrap(modelNode.GetPolyData())\n",
    "vertices = model_pv.points\n",
    "faces = model_pv.regular_faces"
   ]
  },
  {
   "cell_type": "markdown",
   "id": "8cc3952e-0f0d-45c1-9f59-36358c853f8d",
   "metadata": {
    "papermill": {
     "duration": null,
     "end_time": null,
     "exception": null,
     "start_time": null,
     "status": "completed"
    },
    "tags": []
   },
   "source": [
    "Import pyvista object to pymeshlab, which performs more efficient decimation than VTK\n",
    "\n",
    "Check how to [import mesh from arrays in meshlab](https://pymeshlab.readthedocs.io/en/0.1.9/tutorials/import_mesh_from_arrays.html)"
   ]
  },
  {
   "cell_type": "code",
   "execution_count": 58,
   "id": "1c35f799-b4a2-4a28-b0e7-fe67041a2bb9",
   "metadata": {
    "papermill": {
     "duration": null,
     "end_time": null,
     "exception": null,
     "start_time": null,
     "status": "completed"
    },
    "tags": []
   },
   "outputs": [
    {
     "name": "stdout",
     "output_type": "stream",
     "text": [
      "input mesh has 769410 vertex and 1544452 faces\n"
     ]
    }
   ],
   "source": [
    "import pymeshlab \n",
    "# create a new Mesh with the two arrays\n",
    "model_ml = pymeshlab.Mesh(vertices, faces)\n",
    "\n",
    "# create a new MeshSet\n",
    "mesh_set = pymeshlab.MeshSet()\n",
    "\n",
    "# add the mesh to the MeshSet\n",
    "mesh_set.add_mesh(model_ml, \"mesh\")\n",
    "\n",
    "print('input mesh has', model_ml.vertex_number(), 'vertex and', model_ml.face_number(), 'faces')"
   ]
  },
  {
   "cell_type": "markdown",
   "id": "4846cf72-a131-4d1f-9863-94954991e11d",
   "metadata": {
    "papermill": {
     "duration": null,
     "end_time": null,
     "exception": null,
     "start_time": null,
     "status": "completed"
    },
    "tags": []
   },
   "source": [
    "Decimate mesh with `pymeshlab`, from [stackoverflow](https://stackoverflow.com/questions/75169329/how-to-use-pymeshlab-to-reduce-number-of-faces-to-a-guaranteed-specific-number)"
   ]
  },
  {
   "cell_type": "code",
   "execution_count": null,
   "id": "5d434d79-e093-4a99-9a01-58705a883a37",
   "metadata": {
    "papermill": {
     "duration": null,
     "end_time": null,
     "exception": null,
     "start_time": null,
     "status": "completed"
    },
    "scrolled": true,
    "tags": []
   },
   "outputs": [],
   "source": [
    "decimation_factor = 0.2\n",
    "\n",
    "#Target number of vertex\n",
    "TARGET = round(model_ml.vertex_number() * decimation_factor)\n",
    "\n",
    "#Reduce to TARGET. Sometimes will fall into TARGET-1\n",
    "mesh_set.meshing_decimation_quadric_edge_collapse(targetfacenum=TARGET, preservenormal=True)\n",
    "\n",
    "model_ml = mesh_set.current_mesh()\n",
    "print('output mesh has', model_ml.vertex_number(), 'vertex and', model_ml.face_number(), 'faces')"
   ]
  },
  {
   "cell_type": "markdown",
   "id": "e6cf55f5-6044-4fe2-bd1c-8a64e09599ce",
   "metadata": {
    "papermill": {
     "duration": null,
     "end_time": null,
     "exception": null,
     "start_time": null,
     "status": "completed"
    },
    "tags": []
   },
   "source": [
    "Load decimated model to Slicer"
   ]
  },
  {
   "cell_type": "code",
   "execution_count": null,
   "id": "d25132d2-4be2-449b-9726-c4f4ab1fcf4d",
   "metadata": {
    "papermill": {
     "duration": null,
     "end_time": null,
     "exception": null,
     "start_time": null,
     "status": "completed"
    },
    "tags": []
   },
   "outputs": [],
   "source": [
    "vertices = model_ml.vertex_matrix()\n",
    "faces = model_ml.face_matrix()\n",
    "model_decimated = pv.PolyData.from_regular_faces(vertices, faces)\n",
    "\n",
    "decimatedNode = slicer.modules.models.logic().AddModel(model_decimated)"
   ]
  },
  {
   "cell_type": "markdown",
   "id": "c1cf7de2-2ff4-429f-9cd6-30eb01052457",
   "metadata": {
    "papermill": {
     "duration": null,
     "end_time": null,
     "exception": null,
     "start_time": null,
     "status": "completed"
    },
    "tags": []
   },
   "source": [
    "## Export decimated model from segmentation node"
   ]
  },
  {
   "cell_type": "markdown",
   "id": "7dee38f4-c77b-445d-a3fd-bfbe3f19fb51",
   "metadata": {
    "papermill": {
     "duration": null,
     "end_time": null,
     "exception": null,
     "start_time": null,
     "status": "completed"
    },
    "tags": []
   },
   "source": [
    "Export pymeshlab object to .stl file"
   ]
  },
  {
   "cell_type": "code",
   "execution_count": null,
   "id": "2c97b120-07b8-4e0a-a5a6-16327a53b31c",
   "metadata": {
    "papermill": {
     "duration": null,
     "end_time": null,
     "exception": null,
     "start_time": null,
     "status": "completed"
    },
    "tags": []
   },
   "outputs": [],
   "source": [
    "filename_output = 'Bone.stl'\n",
    "\n",
    "slicer.util.exportNode(decimatedNode, output_directory / filename_output)"
   ]
  }
 ],
 "metadata": {
  "kernelspec": {
   "display_name": "Slicer 5.6",
   "language": "python",
   "name": "slicer-5.6"
  },
  "language_info": {
   "file_extension": ".py",
   "mimetype": "text/x-python",
   "name": "python",
   "version": "3.9.10"
  },
  "papermill": {
   "default_parameters": {},
   "duration": 884.418713,
   "end_time": "2025-09-01T14:07:55.859537",
   "environment_variables": {},
   "exception": null,
   "input_path": "02_segment_microCT.ipynb",
   "output_path": "/config/Downloads/Gomez 5p1/02_segment_microCT.ipynb",
   "parameters": {
    "output_dir_path": "/config/Downloads/Gomez 5p1/segmented_volumes/",
    "segmentMask_file": "/config/Downloads/Gomez 5p1/segmented_volumes/Segment_mask.seg.nrrd",
    "volume_file": "/config/Downloads/Gomez 5p1/microCT_volume/microCT_volume.nrrd"
   },
   "start_time": "2025-09-01T13:53:11.440824",
   "version": "2.6.0"
  },
  "toc-autonumbering": true
 },
 "nbformat": 4,
 "nbformat_minor": 5
}
