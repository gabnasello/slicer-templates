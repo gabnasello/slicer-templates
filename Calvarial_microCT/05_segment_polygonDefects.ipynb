{
 "cells": [
  {
   "cell_type": "markdown",
   "id": "e9e365a5-96dd-44ec-9271-cb778da070dd",
   "metadata": {
    "editable": true,
    "slideshow": {
     "slide_type": ""
    },
    "tags": []
   },
   "source": [
    "<span STYLE=\"font-size:150%\"> \n",
    "    Segment polygonal regions from microCT scans\n",
    "</span>\n",
    "\n",
    "Docker image: gnasello/slicer-env:2023-10-10 \\\n",
    "Latest update: 11 October 2023"
   ]
  },
  {
   "cell_type": "markdown",
   "id": "b06273b8-ed89-406c-af12-191b17fdc261",
   "metadata": {},
   "source": [
    "- load image stack in Slicer\n",
    "- segment mineralized tissue\n",
    "- compute segmented statistics (volumes)"
   ]
  },
  {
   "cell_type": "markdown",
   "id": "8a604800-71f1-47b6-af62-7668c5af1d19",
   "metadata": {},
   "source": [
    "# Load libraries"
   ]
  },
  {
   "cell_type": "code",
   "execution_count": 1,
   "id": "ee34ac62-8898-4805-813b-a1b5573a675e",
   "metadata": {},
   "outputs": [],
   "source": [
    "import pyslicer as ps\n",
    "import slicer\n",
    "from pathlib import Path\n",
    "import pandas as pd"
   ]
  },
  {
   "cell_type": "markdown",
   "id": "dcd67865-e62c-4fbc-a92e-e124ff3dfece",
   "metadata": {
    "tags": []
   },
   "source": [
    "# Volume input"
   ]
  },
  {
   "cell_type": "markdown",
   "id": "a3fadbf4-c0a2-4da8-a6f3-4639c9a1f989",
   "metadata": {},
   "source": [
    "## Load `.nrrd` file into 3D Slicer"
   ]
  },
  {
   "cell_type": "markdown",
   "id": "090e0d8b-30a3-47d4-a894-e2bc87b9ad75",
   "metadata": {
    "editable": true,
    "slideshow": {
     "slide_type": ""
    },
    "tags": []
   },
   "source": [
    "Write the path of the `.nrrd` file and load it to Slicer"
   ]
  },
  {
   "cell_type": "code",
   "execution_count": null,
   "id": "3e7a643c-b96a-4e37-839e-bef6d70a65c5",
   "metadata": {
    "editable": true,
    "slideshow": {
     "slide_type": ""
    },
    "tags": [
     "parameters"
    ]
   },
   "outputs": [],
   "source": [
    "# this cell is tagged 'parameters'\n",
    "volume_file = 'microCT_volume/microCT_volume.nrrd'\n",
    "output_polygon_dir_path = 'segmented_volumes/polygonDefect'\n",
    "file_nuclei_segmentation = 'segmented_volumes/Bone.seg.nrrd'\n",
    "directory_notebook = Path().parent.absolute()\n",
    "sample_name = directory_notebook.stem\n",
    "camera_view_file = 'segmented_volumes/camera_view.csv'"
   ]
  },
  {
   "cell_type": "code",
   "execution_count": 2,
   "id": "576fbb29-dc86-45ec-a784-7dcf6024f2f0",
   "metadata": {
    "editable": true,
    "slideshow": {
     "slide_type": ""
    },
    "tags": []
   },
   "outputs": [],
   "source": [
    "path = Path(volume_file)\n",
    "\n",
    "# Remove image numbering _0000, _0001 ...\n",
    "filename_output = path.stem[:-4]"
   ]
  },
  {
   "cell_type": "code",
   "execution_count": 3,
   "id": "2937b8df-59de-42b1-b209-e04cbbb562ca",
   "metadata": {},
   "outputs": [],
   "source": [
    "masterVolumeNode = slicer.util.loadNodeFromFile(volume_file)"
   ]
  },
  {
   "cell_type": "markdown",
   "id": "258bebce-35ad-438e-b598-78d51f5cdbfb",
   "metadata": {},
   "source": [
    "Print spacing"
   ]
  },
  {
   "cell_type": "code",
   "execution_count": 4,
   "id": "48e27e1d-5729-442c-8fa8-dff88acd90b1",
   "metadata": {},
   "outputs": [
    {
     "data": {
      "text/plain": [
       "(0.007716500000000002, 0.007716500000000002, 0.007716500000000002)"
      ]
     },
     "execution_count": 4,
     "metadata": {},
     "output_type": "execute_result"
    }
   ],
   "source": [
    "## mm\n",
    "masterVolumeNode.GetSpacing()"
   ]
  },
  {
   "cell_type": "markdown",
   "id": "3dc23f11-51f8-4620-ac62-7fc13c62e8ea",
   "metadata": {},
   "source": [
    "Make ```segmented_volumes``` folder"
   ]
  },
  {
   "cell_type": "code",
   "execution_count": 6,
   "id": "f72d77df-fbfe-45d8-b7c1-a63c294fbb34",
   "metadata": {
    "editable": true,
    "slideshow": {
     "slide_type": ""
    },
    "tags": []
   },
   "outputs": [],
   "source": [
    "output_polygonDefect_path = Path(output_polygon_dir_path)\n",
    "\n",
    "output_polygonDefect_path.mkdir(parents=True, exist_ok=True)"
   ]
  },
  {
   "cell_type": "markdown",
   "id": "be0823fa-36da-4db1-ac79-704d63a624f2",
   "metadata": {},
   "source": [
    "Get norebook directory name"
   ]
  },
  {
   "cell_type": "code",
   "execution_count": 7,
   "id": "2fe299d9-625c-450c-8f64-6ac7e84d6c56",
   "metadata": {
    "editable": true,
    "slideshow": {
     "slide_type": ""
    },
    "tags": []
   },
   "outputs": [
    {
     "data": {
      "text/plain": [
       "'AS-L_4'"
      ]
     },
     "execution_count": 7,
     "metadata": {},
     "output_type": "execute_result"
    }
   ],
   "source": [
    "sample_name"
   ]
  },
  {
   "cell_type": "markdown",
   "id": "4fc8e675-b224-4cf4-b500-63144e06231c",
   "metadata": {},
   "source": [
    "## Adjust window/level (brightness/contrast)"
   ]
  },
  {
   "cell_type": "markdown",
   "id": "149bfe9f-c7d9-495a-b260-9676a98ace35",
   "metadata": {},
   "source": [
    "Adjust the image window/level from the GUI. It is enough to select a region where the signal is present ([youtube](https://slicer.readthedocs.io/en/latest/user_guide/user_interface.html#adjusting-image-window-level)). \n",
    "\n",
    "After, get the Window and Level properties from the displayNode associate to the VolumeNode and apply them programmatically anytime you run again the same image.\n",
    "\n",
    "For more information on the relationship between window/level and brightness/contrast, see [Window and Level Contrast Enhancement](http://fisica.ciens.ucv.ve/curs/dipcourse/html/one-oper/window-level/front-page.html)"
   ]
  },
  {
   "cell_type": "code",
   "execution_count": 8,
   "id": "8c4ce52e-a65b-40c0-8854-34f1974b4738",
   "metadata": {
    "scrolled": true
   },
   "outputs": [
    {
     "name": "stdout",
     "output_type": "stream",
     "text": [
      "displayNode.SetWindow(17233.0)\n",
      "displayNode.SetLevel(17305.5)\n"
     ]
    }
   ],
   "source": [
    "displayNode = masterVolumeNode.GetDisplayNode()\n",
    "print('displayNode.SetWindow(' + str(displayNode.GetWindow()) + ')')\n",
    "print('displayNode.SetLevel(' + str(displayNode.GetLevel()) + ')')"
   ]
  },
  {
   "cell_type": "code",
   "execution_count": 9,
   "id": "ae1d41db-d0df-44d0-a3da-a900a6ec32e1",
   "metadata": {},
   "outputs": [],
   "source": [
    "# displayNode = masterVolumeNode.GetDisplayNode()\n",
    "# displayNode.AutoWindowLevelOff()\n",
    "# displayNode.SetWindow(12415.0)\n",
    "# displayNode.SetLevel(11271.5)"
   ]
  },
  {
   "cell_type": "markdown",
   "id": "f65216b9-3351-4300-9764-1c5d6325350f",
   "metadata": {},
   "source": [
    "# Create segmentationNode"
   ]
  },
  {
   "cell_type": "markdown",
   "id": "6ab2842a-e11e-4a62-9c46-257c35782195",
   "metadata": {},
   "source": [
    "## Create segmentation-related nodes"
   ]
  },
  {
   "cell_type": "markdown",
   "id": "39aeb9fd-bcba-4677-b606-60829466aa84",
   "metadata": {},
   "source": [
    "Create segmentation node"
   ]
  },
  {
   "cell_type": "code",
   "execution_count": 10,
   "id": "23048984-b4af-4b52-a644-80a59f86d568",
   "metadata": {},
   "outputs": [],
   "source": [
    "segmentationNode = ps.segmentation.segmentationNode(name='Segmentation')"
   ]
  },
  {
   "cell_type": "markdown",
   "id": "1b874a78-25db-4cec-901b-d75a22651f64",
   "metadata": {},
   "source": [
    "Create temporary segment editor to get access to effects"
   ]
  },
  {
   "cell_type": "code",
   "execution_count": 11,
   "id": "aee78734-de34-4013-98c8-9fdc67859a03",
   "metadata": {},
   "outputs": [],
   "source": [
    "segmentEditorWidget, segmentEditorNode = ps.segmentation.segmentEditorWidget(segmentationNode = segmentationNode, \n",
    "                                                                             masterVolumeNode = masterVolumeNode)"
   ]
  },
  {
   "cell_type": "markdown",
   "id": "3469d6fc-6560-46ad-b3ee-e37b58ff2db5",
   "metadata": {},
   "source": [
    "## Load bone segmentation to segmentation node"
   ]
  },
  {
   "cell_type": "markdown",
   "id": "e2db9163-74b0-4211-b1f8-86cc05bf9b8e",
   "metadata": {},
   "source": [
    "Load segmentation from .nrrd file as labelmap node slicer util module to load from File [github](https://github.com/Slicer/Slicer/blob/master/Base/Python/slicer/util.py#L341-L344)"
   ]
  },
  {
   "cell_type": "code",
   "execution_count": 12,
   "id": "f0ee4805-594c-4ceb-a47d-0b8fc9111167",
   "metadata": {
    "editable": true,
    "slideshow": {
     "slide_type": ""
    },
    "tags": []
   },
   "outputs": [],
   "source": [
    "# Load segmentation from .seg.nrrd file (includes segment names and colors)\n",
    "\n",
    "bone_labelmap = slicer.util.loadNodeFromFile(file_nuclei_segmentation, 'VolumeFile', properties={'labelmap':True})\n",
    "# segmentationNode = slicer.util.loadSegmentation(file_nuclei_segmentation)"
   ]
  },
  {
   "cell_type": "markdown",
   "id": "58cda057-889e-4373-96c2-2570dfeb33f3",
   "metadata": {},
   "source": [
    "Import bone labelmapNode to segmentationNode"
   ]
  },
  {
   "cell_type": "code",
   "execution_count": 13,
   "id": "7df8e021-a13f-4d49-b434-aa607465a476",
   "metadata": {},
   "outputs": [
    {
     "data": {
      "text/plain": [
       "True"
      ]
     },
     "execution_count": 13,
     "metadata": {},
     "output_type": "execute_result"
    }
   ],
   "source": [
    "slicer.modules.segmentations.logic().ImportLabelmapToSegmentationNode(bone_labelmap, segmentationNode)"
   ]
  },
  {
   "cell_type": "markdown",
   "id": "823d4578-e361-4cbb-af2d-3df6a57c3678",
   "metadata": {},
   "source": [
    "Rename segment of the segmentation node "
   ]
  },
  {
   "cell_type": "code",
   "execution_count": 14,
   "id": "ea4156d5-50b5-4eae-bbc6-ccd5a4d65e1c",
   "metadata": {},
   "outputs": [],
   "source": [
    "segmentation = segmentationNode.GetSegmentation()\n",
    "segment = segmentation.GetNthSegment(0)\n",
    "segment.SetName(\"Bone\")"
   ]
  },
  {
   "cell_type": "markdown",
   "id": "b356beaf-0ca7-47f0-8ac6-3845351ce53c",
   "metadata": {},
   "source": [
    "Delete bone labelmapNode"
   ]
  },
  {
   "cell_type": "code",
   "execution_count": 15,
   "id": "58d52293-c2d6-4a4b-8f27-698f94c2a27c",
   "metadata": {},
   "outputs": [],
   "source": [
    "slicer.mrmlScene.RemoveNode(bone_labelmap)\n",
    "# masterVolumeNode.SetDisplayVisibility(1)"
   ]
  },
  {
   "cell_type": "markdown",
   "id": "d862f668-214c-47a2-a45c-f68c7277b770",
   "metadata": {},
   "source": [
    "## Load defect cylinders in segment node"
   ]
  },
  {
   "cell_type": "markdown",
   "id": "4538369f-9169-4993-8475-3e8fb1ba8178",
   "metadata": {},
   "source": [
    "Load `.stl` files as models to Slicer"
   ]
  },
  {
   "cell_type": "code",
   "execution_count": 16,
   "id": "3460df21-8ea4-4109-abd8-75559cb3093c",
   "metadata": {},
   "outputs": [],
   "source": [
    "cylinder_files = [output_polygonDefect_path / 'innerDefectPolygon.vtk',\n",
    "                  output_polygonDefect_path / 'defectPolygon.vtk'\n",
    "                 ]\n",
    "\n",
    "color_list = [\n",
    "         (230/255, 75/255, 53/255),\n",
    "         (77/255, 187/255, 213/255),\n",
    "        ]\n",
    "\n",
    "cylinderModel_nodes = []\n",
    "\n",
    "for i, file in enumerate(cylinder_files):\n",
    "    \n",
    "    color = color_list[i]\n",
    "    \n",
    "    model = slicer.util.loadModel(file)\n",
    "    model.SetName('Ingrowth_' + file.stem)\n",
    "    cylinderModel_nodes.append(model)\n",
    "\n",
    "    slicer.modules.segmentations.logic().ImportModelToSegmentationNode(model, segmentationNode)\n",
    "\n",
    "    modelDisplayNode = model.GetDisplayNode()\n",
    "    modelDisplayNode.SetColor(color[0], color[1], color[2])\n",
    "    modelDisplayNode.SetOpacity(0.4)"
   ]
  },
  {
   "cell_type": "markdown",
   "id": "d7f64992-fc45-41f8-b400-bb787bbb5881",
   "metadata": {},
   "source": [
    "Set segment colors"
   ]
  },
  {
   "cell_type": "code",
   "execution_count": 17,
   "id": "e78b4b8e-7798-412c-876b-aef56e4a0d7c",
   "metadata": {},
   "outputs": [],
   "source": [
    "segments_color = {'Bone':(0.9450980392156862, 0.8392156862745098, 0.5686274509803921), # \"Bone\" color in Slicer\n",
    "                  'Ingrowth_innerDefectPolygon':(230/255, 75/255, 53/255),\n",
    "                  'Ingrowth_defectPolygon':(77/255, 187/255, 213/255)\n",
    "                  }\n",
    "\n",
    "ps.segmentation.set_segments_color(segments_color, segmentationNode)"
   ]
  },
  {
   "cell_type": "markdown",
   "id": "caf1e4e2-7bf6-42b1-8080-95b0ca4d0b43",
   "metadata": {
    "tags": []
   },
   "source": [
    "# Operation on segments"
   ]
  },
  {
   "cell_type": "markdown",
   "id": "26c9972c-4b5c-46cc-8247-0cab48fbf3c8",
   "metadata": {
    "tags": []
   },
   "source": [
    "## Manual fix of the segmentation"
   ]
  },
  {
   "cell_type": "markdown",
   "id": "fffcd1f4-b476-4a2e-94d5-e7569d1bcb2f",
   "metadata": {},
   "source": [
    "Sometimes it might be necessary to remove speckles at the image boundaries. If so, use the `scissor` tool in the `Segment Editor` before proceeding with the rest of the script. "
   ]
  },
  {
   "cell_type": "markdown",
   "id": "43427326-5625-4774-b233-3734d5c111d3",
   "metadata": {},
   "source": [
    "## Intersect cylinder segments with bone segment"
   ]
  },
  {
   "cell_type": "code",
   "execution_count": 18,
   "id": "2597a8b5-c89a-4226-af0c-ec19e229fbfe",
   "metadata": {},
   "outputs": [],
   "source": [
    "ps.segmentation.logical_intersect('Ingrowth_innerDefectPolygon', 'Bone', segmentationNode, segmentEditorNode, segmentEditorWidget)\n",
    "ps.segmentation.logical_intersect('Ingrowth_defectPolygon', 'Bone', segmentationNode, segmentEditorNode, segmentEditorWidget)"
   ]
  },
  {
   "cell_type": "markdown",
   "id": "170a1fe8-bc15-47f4-96be-e6a6810644b6",
   "metadata": {},
   "source": [
    "# Compute bone ingrowth volumes"
   ]
  },
  {
   "cell_type": "markdown",
   "id": "7a496831-16f5-41a8-92b7-6365e8577a91",
   "metadata": {},
   "source": [
    "Delete `Bone` segment before computing volumes"
   ]
  },
  {
   "cell_type": "code",
   "execution_count": 19,
   "id": "87ecdc23-954c-4779-b11c-c3c39625f9c6",
   "metadata": {},
   "outputs": [],
   "source": [
    "segmentName = 'Bone'\n",
    "segmentId = segmentationNode.GetSegmentation().GetSegmentIdBySegmentName(segmentName)\n",
    "segmentationNode.GetSegmentation().RemoveSegment('1')"
   ]
  },
  {
   "cell_type": "markdown",
   "id": "bdbcc984-a67d-40ff-b3bf-f745d3108732",
   "metadata": {},
   "source": [
    "Compute segment statistics"
   ]
  },
  {
   "cell_type": "code",
   "execution_count": 20,
   "id": "8167e9cd-348a-47fd-8b91-db63c99ac858",
   "metadata": {},
   "outputs": [],
   "source": [
    "stats = ps.segmentation.segment_statistics(segmentationNode)"
   ]
  },
  {
   "cell_type": "markdown",
   "id": "7b2598fd-c704-45ae-9eed-0da0ecad5357",
   "metadata": {},
   "source": [
    "Store volume of each segment"
   ]
  },
  {
   "cell_type": "code",
   "execution_count": 21,
   "id": "85ca5d04-6210-48b4-a16c-67ecc656bd2b",
   "metadata": {},
   "outputs": [
    {
     "data": {
      "text/html": [
       "<div>\n",
       "<style scoped>\n",
       "    .dataframe tbody tr th:only-of-type {\n",
       "        vertical-align: middle;\n",
       "    }\n",
       "\n",
       "    .dataframe tbody tr th {\n",
       "        vertical-align: top;\n",
       "    }\n",
       "\n",
       "    .dataframe thead th {\n",
       "        text-align: right;\n",
       "    }\n",
       "</style>\n",
       "<table border=\"1\" class=\"dataframe\">\n",
       "  <thead>\n",
       "    <tr style=\"text-align: right;\">\n",
       "      <th></th>\n",
       "      <th>segmentName</th>\n",
       "      <th>volume_mm3</th>\n",
       "    </tr>\n",
       "  </thead>\n",
       "  <tbody>\n",
       "    <tr>\n",
       "      <th>0</th>\n",
       "      <td>Ingrowth_innerDefectPolygon</td>\n",
       "      <td>0.000805</td>\n",
       "    </tr>\n",
       "    <tr>\n",
       "      <th>1</th>\n",
       "      <td>Ingrowth_defectPolygon</td>\n",
       "      <td>0.079025</td>\n",
       "    </tr>\n",
       "  </tbody>\n",
       "</table>\n",
       "</div>"
      ],
      "text/plain": [
       "                   segmentName  volume_mm3\n",
       "0  Ingrowth_innerDefectPolygon    0.000805\n",
       "1       Ingrowth_defectPolygon    0.079025"
      ]
     },
     "execution_count": 21,
     "metadata": {},
     "output_type": "execute_result"
    }
   ],
   "source": [
    "segment_names = []\n",
    "volumes_ingrowth_mm3 = []\n",
    "\n",
    "# Display volume of each segment\n",
    "for segmentId in stats[\"SegmentIDs\"]:\n",
    "    \n",
    "    volume_mm3 = stats[segmentId,\"LabelmapSegmentStatisticsPlugin.volume_mm3\"]\n",
    "    volumes_ingrowth_mm3.append(volume_mm3)\n",
    "    \n",
    "    segmentName = segmentationNode.GetSegmentation().GetSegment(segmentId).GetName()\n",
    "    segment_names.append(segmentName)\n",
    "\n",
    "data_dict = {'segmentName': segment_names, 'volume_mm3':volumes_ingrowth_mm3}\n",
    "df = pd.DataFrame(data_dict)\n",
    "df"
   ]
  },
  {
   "cell_type": "markdown",
   "id": "de8df4ed-fafc-429c-8032-7d21fb510fd7",
   "metadata": {},
   "source": [
    "Add sample name columns to DataFrame"
   ]
  },
  {
   "cell_type": "code",
   "execution_count": 22,
   "id": "4915297c-3ba8-4aab-b3a6-0c9378c9dffa",
   "metadata": {},
   "outputs": [
    {
     "data": {
      "text/html": [
       "<div>\n",
       "<style scoped>\n",
       "    .dataframe tbody tr th:only-of-type {\n",
       "        vertical-align: middle;\n",
       "    }\n",
       "\n",
       "    .dataframe tbody tr th {\n",
       "        vertical-align: top;\n",
       "    }\n",
       "\n",
       "    .dataframe thead th {\n",
       "        text-align: right;\n",
       "    }\n",
       "</style>\n",
       "<table border=\"1\" class=\"dataframe\">\n",
       "  <thead>\n",
       "    <tr style=\"text-align: right;\">\n",
       "      <th></th>\n",
       "      <th>segmentName</th>\n",
       "      <th>volume_mm3</th>\n",
       "      <th>sample</th>\n",
       "    </tr>\n",
       "  </thead>\n",
       "  <tbody>\n",
       "    <tr>\n",
       "      <th>0</th>\n",
       "      <td>Ingrowth_innerDefectPolygon</td>\n",
       "      <td>0.000805</td>\n",
       "      <td>AS-L_4</td>\n",
       "    </tr>\n",
       "    <tr>\n",
       "      <th>1</th>\n",
       "      <td>Ingrowth_defectPolygon</td>\n",
       "      <td>0.079025</td>\n",
       "      <td>AS-L_4</td>\n",
       "    </tr>\n",
       "  </tbody>\n",
       "</table>\n",
       "</div>"
      ],
      "text/plain": [
       "                   segmentName  volume_mm3  sample\n",
       "0  Ingrowth_innerDefectPolygon    0.000805  AS-L_4\n",
       "1       Ingrowth_defectPolygon    0.079025  AS-L_4"
      ]
     },
     "execution_count": 22,
     "metadata": {},
     "output_type": "execute_result"
    }
   ],
   "source": [
    "df['sample'] = [sample_name] * len(df. index)\n",
    "df"
   ]
  },
  {
   "cell_type": "code",
   "execution_count": 23,
   "id": "784d1029-2190-4f72-bbcd-38b8e3a492de",
   "metadata": {},
   "outputs": [],
   "source": [
    "outputfile = output_polygonDefect_path / (sample_name + '_volume_ingrowth.csv')\n",
    "df.to_csv(outputfile, index=False)"
   ]
  },
  {
   "cell_type": "markdown",
   "id": "16eba519-91a2-4a89-b785-cb379b7839ad",
   "metadata": {
    "tags": []
   },
   "source": [
    "# Export segments"
   ]
  },
  {
   "cell_type": "markdown",
   "id": "6e97bad7-3938-499e-821e-8800f733fb55",
   "metadata": {},
   "source": [
    "## Export all segments to individual `.stl` files"
   ]
  },
  {
   "cell_type": "markdown",
   "id": "080c982a-4b6c-45d1-8bd5-66bde7bcd4de",
   "metadata": {
    "tags": []
   },
   "source": [
    "Get closed surface representation of the segment, from [slicer scripting repository](https://slicer.readthedocs.io/en/latest/developer_guide/script_repository.html#export-nodes-warped-by-transform-sequence)"
   ]
  },
  {
   "cell_type": "code",
   "execution_count": 24,
   "id": "a7dda856-ee7d-4175-a87f-b7278a5426ab",
   "metadata": {},
   "outputs": [
    {
     "data": {
      "text/plain": [
       "True"
      ]
     },
     "execution_count": 24,
     "metadata": {},
     "output_type": "execute_result"
    }
   ],
   "source": [
    "segmentationNode.CreateClosedSurfaceRepresentation()"
   ]
  },
  {
   "cell_type": "code",
   "execution_count": 25,
   "id": "013bd54a-bdd1-4b0c-8c96-a78c2b8c837e",
   "metadata": {},
   "outputs": [
    {
     "data": {
      "text/plain": [
       "True"
      ]
     },
     "execution_count": 25,
     "metadata": {},
     "output_type": "execute_result"
    }
   ],
   "source": [
    "slicer.modules.segmentations.logic().ExportSegmentsClosedSurfaceRepresentationToFiles(str(output_polygonDefect_path), segmentationNode)"
   ]
  },
  {
   "cell_type": "markdown",
   "id": "a2f5c183-8d9c-4f72-b782-272a8aa3c165",
   "metadata": {},
   "source": [
    "# Visualize segmentations in 3D view"
   ]
  },
  {
   "cell_type": "markdown",
   "id": "1a4ade2b-8840-49f7-8337-f912eef243cb",
   "metadata": {},
   "source": [
    "Get viewNode"
   ]
  },
  {
   "cell_type": "code",
   "execution_count": 26,
   "id": "6c45b139-9954-4314-93b0-9c58b10a5abf",
   "metadata": {},
   "outputs": [],
   "source": [
    "view = slicer.app.layoutManager().threeDWidget(0).threeDView()\n",
    "viewNode = view.mrmlViewNode()\n",
    "\n",
    "# Switch off cube and labels\n",
    "viewNode.SetAxisLabelsVisible(False)\n",
    "viewNode.SetBoxVisible(False)\n",
    "\n",
    "color = (28/255, 29/255, 36/255)\n",
    "# Set view background to RGB color of choice\n",
    "viewNode.SetBackgroundColor(color[0], color[1], color[2])\n",
    "viewNode.SetBackgroundColor2(color[0], color[1], color[2])\n",
    "\n",
    "# Set Orthographic rendering, which is required to show the ruler in a 3D view\n",
    "viewNode.SetRenderMode(viewNode.Orthographic)\n",
    "\n",
    "# Set thick and white ruler\n",
    "viewNode.SetRulerType(2) # 2 - thick\n",
    "viewNode.SetRulerColor(0) # 0 - white\n",
    "\n",
    "# Get camera position\n",
    "cameraNode = slicer.modules.cameras.logic().GetViewActiveCameraNode(viewNode)"
   ]
  },
  {
   "cell_type": "markdown",
   "id": "0b681433-5ff2-41de-8436-9f2fa10f3e09",
   "metadata": {},
   "source": [
    "## Get camera position in 3D view"
   ]
  },
  {
   "cell_type": "markdown",
   "id": "5ce30ac3-b74e-4594-bae2-d9a8e6090cb3",
   "metadata": {},
   "source": [
    "Load `camera_view.csv` file"
   ]
  },
  {
   "cell_type": "code",
   "execution_count": 27,
   "id": "b851c7e3-c508-4d79-b29b-5096952f1b98",
   "metadata": {
    "editable": true,
    "slideshow": {
     "slide_type": ""
    },
    "tags": []
   },
   "outputs": [
    {
     "data": {
      "text/html": [
       "<div>\n",
       "<style scoped>\n",
       "    .dataframe tbody tr th:only-of-type {\n",
       "        vertical-align: middle;\n",
       "    }\n",
       "\n",
       "    .dataframe tbody tr th {\n",
       "        vertical-align: top;\n",
       "    }\n",
       "\n",
       "    .dataframe thead th {\n",
       "        text-align: right;\n",
       "    }\n",
       "</style>\n",
       "<table border=\"1\" class=\"dataframe\">\n",
       "  <thead>\n",
       "    <tr style=\"text-align: right;\">\n",
       "      <th></th>\n",
       "      <th>position</th>\n",
       "      <th>viewUp</th>\n",
       "      <th>focalPoint</th>\n",
       "      <th>viewAngle</th>\n",
       "      <th>parallelScale</th>\n",
       "    </tr>\n",
       "  </thead>\n",
       "  <tbody>\n",
       "    <tr>\n",
       "      <th>0</th>\n",
       "      <td>-19.969042</td>\n",
       "      <td>-0.148436</td>\n",
       "      <td>-4.723929</td>\n",
       "      <td>30.0</td>\n",
       "      <td>6.469837</td>\n",
       "    </tr>\n",
       "    <tr>\n",
       "      <th>1</th>\n",
       "      <td>-4.091685</td>\n",
       "      <td>-0.238192</td>\n",
       "      <td>-4.822962</td>\n",
       "      <td>NaN</td>\n",
       "      <td>NaN</td>\n",
       "    </tr>\n",
       "    <tr>\n",
       "      <th>2</th>\n",
       "      <td>10.066162</td>\n",
       "      <td>-0.959808</td>\n",
       "      <td>7.889958</td>\n",
       "      <td>NaN</td>\n",
       "      <td>NaN</td>\n",
       "    </tr>\n",
       "  </tbody>\n",
       "</table>\n",
       "</div>"
      ],
      "text/plain": [
       "    position    viewUp  focalPoint  viewAngle  parallelScale\n",
       "0 -19.969042 -0.148436   -4.723929       30.0       6.469837\n",
       "1  -4.091685 -0.238192   -4.822962        NaN            NaN\n",
       "2  10.066162 -0.959808    7.889958        NaN            NaN"
      ]
     },
     "execution_count": 27,
     "metadata": {},
     "output_type": "execute_result"
    }
   ],
   "source": [
    "df_camera = pd.read_csv(camera_view_file)\n",
    "df_camera"
   ]
  },
  {
   "cell_type": "markdown",
   "id": "2f66a576-3965-40f6-8acd-62dcd4beca6f",
   "metadata": {
    "tags": []
   },
   "source": [
    "## Set lighting in 3D view"
   ]
  },
  {
   "cell_type": "code",
   "execution_count": 28,
   "id": "8a80b369-b325-483d-88f9-73011f947b83",
   "metadata": {},
   "outputs": [],
   "source": [
    "slicer.util.selectModule('Lights')\n",
    "moduleWidget = slicer.modules.lights.widgetRepresentation().self()"
   ]
  },
  {
   "cell_type": "markdown",
   "id": "e39cbc5f-8f42-4827-8840-77ce8cb9a6ee",
   "metadata": {},
   "source": [
    "Set the Managed 3D view"
   ]
  },
  {
   "cell_type": "code",
   "execution_count": 29,
   "id": "1243d0a7-e532-4add-baa8-9b20e7b497cf",
   "metadata": {},
   "outputs": [],
   "source": [
    "moduleWidget.logic.addManagedView(viewNode)"
   ]
  },
  {
   "cell_type": "markdown",
   "id": "1251e719-278d-4c0b-a749-1d221fdb6a73",
   "metadata": {},
   "source": [
    "Set Key light parameters"
   ]
  },
  {
   "cell_type": "code",
   "execution_count": 30,
   "id": "3e93d932-abd6-4c6c-ae04-a26522765ca5",
   "metadata": {},
   "outputs": [],
   "source": [
    "LightIntensity = 0.92\n",
    "LightWarmth = 0.36\n",
    "LightElevation = 47.45\n",
    "LightAzimuth = 16.50\n",
    "\n",
    "moduleWidget.logic.lightKit.SetKeyLightIntensity(LightIntensity)\n",
    "moduleWidget.logic.lightKit.SetKeyLightWarmth(LightWarmth)\n",
    "moduleWidget.logic.lightKit.SetKeyLightElevation(LightElevation)\n",
    "moduleWidget.logic.lightKit.SetKeyLightAzimuth(LightAzimuth)"
   ]
  },
  {
   "cell_type": "code",
   "execution_count": 31,
   "id": "346e750c-60b8-4f34-a3ba-e6498c249b96",
   "metadata": {},
   "outputs": [],
   "source": [
    "moduleWidget.updateWidgetFromLogic()"
   ]
  },
  {
   "cell_type": "markdown",
   "id": "4d238068-2041-4771-bb18-871f6fe73d82",
   "metadata": {},
   "source": [
    "## Set camera position in 3D view"
   ]
  },
  {
   "cell_type": "markdown",
   "id": "f88e1fc0-118a-41eb-807d-ce96680ae9c0",
   "metadata": {},
   "source": [
    "Choose pre-set values for camera position, focal point and view up direction"
   ]
  },
  {
   "cell_type": "code",
   "execution_count": 32,
   "id": "c7ac3d45-9d07-44ec-a5d4-8cfec3ddc319",
   "metadata": {},
   "outputs": [],
   "source": [
    "cameraNode.SetPosition(df_camera['position'])\n",
    "cameraNode.SetViewAngle(df_camera['viewAngle'][0])\n",
    "cameraNode.SetViewUp(df_camera['viewUp'])\n",
    "cameraNode.SetFocalPoint(df_camera['focalPoint'])\n",
    "cameraNode.SetParallelScale(df_camera['parallelScale'][0])"
   ]
  },
  {
   "cell_type": "code",
   "execution_count": null,
   "id": "9089bb8e-42f4-407f-9aff-5752ace7fa7e",
   "metadata": {},
   "outputs": [],
   "source": []
  }
 ],
 "metadata": {
  "kernelspec": {
   "display_name": "Slicer 5.6",
   "language": "python",
   "name": "slicer-5.6"
  },
  "language_info": {
   "file_extension": ".py",
   "mimetype": "text/x-python",
   "name": "python",
   "version": "3.9.10"
  },
  "toc-autonumbering": true
 },
 "nbformat": 4,
 "nbformat_minor": 5
}
