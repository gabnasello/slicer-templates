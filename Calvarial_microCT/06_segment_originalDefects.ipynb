{
 "cells": [
  {
   "cell_type": "markdown",
   "id": "e9e365a5-96dd-44ec-9271-cb778da070dd",
   "metadata": {
    "editable": true,
    "slideshow": {
     "slide_type": ""
    },
    "tags": []
   },
   "source": [
    "<span STYLE=\"font-size:150%\"> \n",
    "    Segment polygonal regions from microCT scans\n",
    "</span>\n",
    "\n",
    "Docker image: gnasello/slicer-env:2023-10-10 \\\n",
    "Latest update: 11 October 2023"
   ]
  },
  {
   "cell_type": "markdown",
   "id": "b06273b8-ed89-406c-af12-191b17fdc261",
   "metadata": {},
   "source": [
    "- load image stack in Slicer\n",
    "- segment mineralized tissue\n",
    "- compute segmented statistics (volumes)"
   ]
  },
  {
   "cell_type": "markdown",
   "id": "8a604800-71f1-47b6-af62-7668c5af1d19",
   "metadata": {},
   "source": [
    "# Load libraries"
   ]
  },
  {
   "cell_type": "code",
   "execution_count": null,
   "id": "ee34ac62-8898-4805-813b-a1b5573a675e",
   "metadata": {},
   "outputs": [],
   "source": [
    "import pyslicer as ps\n",
    "import slicer\n",
    "from pathlib import Path\n",
    "import pandas as pd"
   ]
  },
  {
   "cell_type": "markdown",
   "id": "dcd67865-e62c-4fbc-a92e-e124ff3dfece",
   "metadata": {
    "tags": []
   },
   "source": [
    "# Volume input"
   ]
  },
  {
   "cell_type": "markdown",
   "id": "a3fadbf4-c0a2-4da8-a6f3-4639c9a1f989",
   "metadata": {},
   "source": [
    "## Load `.nrrd` file into 3D Slicer"
   ]
  },
  {
   "cell_type": "markdown",
   "id": "090e0d8b-30a3-47d4-a894-e2bc87b9ad75",
   "metadata": {
    "editable": true,
    "slideshow": {
     "slide_type": ""
    },
    "tags": []
   },
   "source": [
    "Write the path of the `.nrrd` file and load it to Slicer"
   ]
  },
  {
   "cell_type": "code",
   "execution_count": null,
   "id": "3e7a643c-b96a-4e37-839e-bef6d70a65c5",
   "metadata": {
    "editable": true,
    "slideshow": {
     "slide_type": ""
    },
    "tags": [
     "parameters"
    ]
   },
   "outputs": [],
   "source": [
    "# this cell is tagged 'parameters'\n",
    "volume_file = 'microCT_volume/microCT_volume.nrrd'\n",
    "original_defect_path = 'segmented_volumes/originalDefect/'\n",
    "file_segmentation = 'segmented_volumes/Bone.seg.nrrd'\n",
    "directory_notebook = Path().parent.absolute()\n",
    "sample_name = directory_notebook.stem"
   ]
  },
  {
   "cell_type": "code",
   "execution_count": null,
   "id": "2937b8df-59de-42b1-b209-e04cbbb562ca",
   "metadata": {},
   "outputs": [],
   "source": [
    "masterVolumeNode = slicer.util.loadNodeFromFile(volume_file)"
   ]
  },
  {
   "cell_type": "markdown",
   "id": "258bebce-35ad-438e-b598-78d51f5cdbfb",
   "metadata": {},
   "source": [
    "Print spacing"
   ]
  },
  {
   "cell_type": "code",
   "execution_count": null,
   "id": "48e27e1d-5729-442c-8fa8-dff88acd90b1",
   "metadata": {},
   "outputs": [],
   "source": [
    "## mm\n",
    "masterVolumeNode.GetSpacing()"
   ]
  },
  {
   "cell_type": "markdown",
   "id": "3dc23f11-51f8-4620-ac62-7fc13c62e8ea",
   "metadata": {},
   "source": [
    "Get ```originalDefect``` directory"
   ]
  },
  {
   "cell_type": "code",
   "execution_count": null,
   "id": "f72d77df-fbfe-45d8-b7c1-a63c294fbb34",
   "metadata": {
    "editable": true,
    "slideshow": {
     "slide_type": ""
    },
    "tags": []
   },
   "outputs": [],
   "source": [
    "output_originalDefect_path = Path(original_defect_path)"
   ]
  },
  {
   "cell_type": "markdown",
   "id": "be0823fa-36da-4db1-ac79-704d63a624f2",
   "metadata": {},
   "source": [
    "Get norebook directory name"
   ]
  },
  {
   "cell_type": "code",
   "execution_count": null,
   "id": "2fe299d9-625c-450c-8f64-6ac7e84d6c56",
   "metadata": {
    "editable": true,
    "slideshow": {
     "slide_type": ""
    },
    "tags": []
   },
   "outputs": [],
   "source": [
    "sample_name"
   ]
  },
  {
   "cell_type": "markdown",
   "id": "f02cadc5-9b92-4caf-8da4-6a8be4152726",
   "metadata": {
    "papermill": {
     "duration": 0.01095,
     "end_time": "2025-09-01T13:54:32.591499",
     "exception": false,
     "start_time": "2025-09-01T13:54:32.580549",
     "status": "completed"
    },
    "tags": []
   },
   "source": [
    "# Create segmentationNode"
   ]
  },
  {
   "cell_type": "markdown",
   "id": "5d3323a6-e7fa-447d-9f37-dfdcae34b098",
   "metadata": {},
   "source": [
    "## Load Bone Segment as segmentationNode"
   ]
  },
  {
   "cell_type": "code",
   "execution_count": null,
   "id": "635b2bef-d616-43f6-a69c-07ff0a4b657c",
   "metadata": {},
   "outputs": [],
   "source": [
    "segmentationNode = slicer.util.loadSegmentation(str(Path(file_segmentation).resolve()), properties={\"name\": \"Segmentation\"})"
   ]
  },
  {
   "cell_type": "markdown",
   "id": "e4637a63-52e4-4182-bb3e-673e66be4083",
   "metadata": {
    "papermill": {
     "duration": 0.011871,
     "end_time": "2025-09-01T13:54:36.294543",
     "exception": false,
     "start_time": "2025-09-01T13:54:36.282672",
     "status": "completed"
    },
    "tags": []
   },
   "source": [
    "Rename segment of the segmentation node "
   ]
  },
  {
   "cell_type": "code",
   "execution_count": null,
   "id": "feb4733a-895a-44ce-b43b-44b252ccb8d4",
   "metadata": {
    "papermill": {
     "duration": 0.02778,
     "end_time": "2025-09-01T13:54:36.332432",
     "exception": false,
     "start_time": "2025-09-01T13:54:36.304652",
     "status": "completed"
    },
    "tags": []
   },
   "outputs": [],
   "source": [
    "segmentation = segmentationNode.GetSegmentation()\n",
    "segment = segmentation.GetNthSegment(0)\n",
    "segment.SetName(\"Bone\")"
   ]
  },
  {
   "cell_type": "markdown",
   "id": "b44612a3-51e2-48b1-9086-461bf28580f3",
   "metadata": {
    "papermill": {
     "duration": 0.011934,
     "end_time": "2025-09-01T13:54:32.721162",
     "exception": false,
     "start_time": "2025-09-01T13:54:32.709228",
     "status": "completed"
    },
    "tags": []
   },
   "source": [
    "Create temporary segment editor to get access to effects"
   ]
  },
  {
   "cell_type": "code",
   "execution_count": null,
   "id": "85aa2574-733c-4ba1-b521-f546bc28a1a1",
   "metadata": {
    "papermill": {
     "duration": 2.35178,
     "end_time": "2025-09-01T13:54:35.083629",
     "exception": false,
     "start_time": "2025-09-01T13:54:32.731849",
     "status": "completed"
    },
    "tags": []
   },
   "outputs": [],
   "source": [
    "segmentEditorWidget, segmentEditorNode = ps.segmentation.segmentEditorWidget(segmentationNode = segmentationNode, \n",
    "                                                                             masterVolumeNode = masterVolumeNode)"
   ]
  },
  {
   "cell_type": "markdown",
   "id": "d862f668-214c-47a2-a45c-f68c7277b770",
   "metadata": {},
   "source": [
    "## Load defect cylinders in segment node"
   ]
  },
  {
   "cell_type": "markdown",
   "id": "4538369f-9169-4993-8475-3e8fb1ba8178",
   "metadata": {},
   "source": [
    "Load `.stl` files as models to Slicer"
   ]
  },
  {
   "cell_type": "code",
   "execution_count": null,
   "id": "3460df21-8ea4-4109-abd8-75559cb3093c",
   "metadata": {},
   "outputs": [],
   "source": [
    "cylinder_files = [output_originalDefect_path / 'OriginalDefect.vtk']\n",
    "\n",
    "color_list = [\n",
    "    (77/255, 187/255, 213/255),\n",
    "        ]\n",
    "\n",
    "cylinderModel_nodes = []\n",
    "\n",
    "for i, file in enumerate(cylinder_files):\n",
    "    \n",
    "    color = color_list[i]\n",
    "    \n",
    "    model = slicer.util.loadModel(file)\n",
    "    model.SetName('Ingrowth_' + file.stem)\n",
    "    cylinderModel_nodes.append(model)\n",
    "\n",
    "    slicer.modules.segmentations.logic().ImportModelToSegmentationNode(model, segmentationNode)\n",
    "\n",
    "    modelDisplayNode = model.GetDisplayNode()\n",
    "    modelDisplayNode.SetColor(color[0], color[1], color[2])\n",
    "    modelDisplayNode.SetOpacity(0.4)"
   ]
  },
  {
   "cell_type": "markdown",
   "id": "09378346-94a3-4737-9a3b-2adfd580e3cd",
   "metadata": {
    "papermill": {
     "duration": null,
     "end_time": null,
     "exception": null,
     "start_time": null,
     "status": "completed"
    },
    "tags": []
   },
   "source": [
    "Get closed surface representation of the segment, from [slicer scripting repository](https://slicer.readthedocs.io/en/latest/developer_guide/script_repository.html#export-nodes-warped-by-transform-sequence)"
   ]
  },
  {
   "cell_type": "code",
   "execution_count": null,
   "id": "1816a129-d659-4d35-ad0c-2744f03c63fc",
   "metadata": {
    "papermill": {
     "duration": null,
     "end_time": null,
     "exception": null,
     "start_time": null,
     "status": "completed"
    },
    "tags": []
   },
   "outputs": [],
   "source": [
    "segmentationNode.CreateClosedSurfaceRepresentation()"
   ]
  },
  {
   "cell_type": "markdown",
   "id": "d7f64992-fc45-41f8-b400-bb787bbb5881",
   "metadata": {},
   "source": [
    "Set segment colors"
   ]
  },
  {
   "cell_type": "code",
   "execution_count": null,
   "id": "e78b4b8e-7798-412c-876b-aef56e4a0d7c",
   "metadata": {},
   "outputs": [],
   "source": [
    "segments_color = {'Bone':(0.9450980392156862, 0.8392156862745098, 0.5686274509803921), # \"Bone\" color in Slicer\n",
    "                  'Ingrowth_OriginalDefect':(77/255, 187/255, 213/255)\n",
    "                  }\n",
    "\n",
    "ps.segmentation.set_segments_color(segments_color, segmentationNode)"
   ]
  },
  {
   "cell_type": "markdown",
   "id": "caf1e4e2-7bf6-42b1-8080-95b0ca4d0b43",
   "metadata": {
    "tags": []
   },
   "source": [
    "# Operation on segments"
   ]
  },
  {
   "cell_type": "markdown",
   "id": "26c9972c-4b5c-46cc-8247-0cab48fbf3c8",
   "metadata": {
    "tags": []
   },
   "source": [
    "## Manual fix of the segmentation"
   ]
  },
  {
   "cell_type": "markdown",
   "id": "fffcd1f4-b476-4a2e-94d5-e7569d1bcb2f",
   "metadata": {},
   "source": [
    "Sometimes it might be necessary to remove speckles at the image boundaries. If so, use the `scissor` tool in the `Segment Editor` before proceeding with the rest of the script. "
   ]
  },
  {
   "cell_type": "markdown",
   "id": "43427326-5625-4774-b233-3734d5c111d3",
   "metadata": {},
   "source": [
    "## Intersect cylinder segments with bone segment"
   ]
  },
  {
   "cell_type": "code",
   "execution_count": null,
   "id": "2597a8b5-c89a-4226-af0c-ec19e229fbfe",
   "metadata": {},
   "outputs": [],
   "source": [
    "ps.segmentation.logical_intersect('Ingrowth_OriginalDefect', 'Bone', segmentationNode, segmentEditorNode, segmentEditorWidget)"
   ]
  },
  {
   "cell_type": "markdown",
   "id": "170a1fe8-bc15-47f4-96be-e6a6810644b6",
   "metadata": {},
   "source": [
    "# Compute bone ingrowth volumes"
   ]
  },
  {
   "cell_type": "markdown",
   "id": "7a496831-16f5-41a8-92b7-6365e8577a91",
   "metadata": {},
   "source": [
    "Delete `Bone` segment before computing volumes"
   ]
  },
  {
   "cell_type": "code",
   "execution_count": null,
   "id": "87ecdc23-954c-4779-b11c-c3c39625f9c6",
   "metadata": {},
   "outputs": [],
   "source": [
    "segmentName = 'Bone'\n",
    "segmentationNode.GetSegmentation().RemoveSegment(segmentName)"
   ]
  },
  {
   "cell_type": "markdown",
   "id": "bdbcc984-a67d-40ff-b3bf-f745d3108732",
   "metadata": {},
   "source": [
    "Compute segment statistics"
   ]
  },
  {
   "cell_type": "code",
   "execution_count": null,
   "id": "8167e9cd-348a-47fd-8b91-db63c99ac858",
   "metadata": {},
   "outputs": [],
   "source": [
    "stats = ps.segmentation.segment_statistics(segmentationNode)"
   ]
  },
  {
   "cell_type": "markdown",
   "id": "7b2598fd-c704-45ae-9eed-0da0ecad5357",
   "metadata": {},
   "source": [
    "Store volume of each segment"
   ]
  },
  {
   "cell_type": "code",
   "execution_count": null,
   "id": "85ca5d04-6210-48b4-a16c-67ecc656bd2b",
   "metadata": {},
   "outputs": [],
   "source": [
    "segment_names = []\n",
    "volumes_ingrowth_mm3 = []\n",
    "\n",
    "# Display volume of each segment\n",
    "for segmentId in stats[\"SegmentIDs\"]:\n",
    "    \n",
    "    volume_mm3 = stats[segmentId,\"LabelmapSegmentStatisticsPlugin.volume_mm3\"]\n",
    "    volumes_ingrowth_mm3.append(volume_mm3)\n",
    "    \n",
    "    segmentName = segmentationNode.GetSegmentation().GetSegment(segmentId).GetName()\n",
    "    segment_names.append(segmentName)\n",
    "\n",
    "data_dict = {'segmentName': segment_names, 'volume_mm3':volumes_ingrowth_mm3}\n",
    "df = pd.DataFrame(data_dict)\n",
    "df"
   ]
  },
  {
   "cell_type": "markdown",
   "id": "de8df4ed-fafc-429c-8032-7d21fb510fd7",
   "metadata": {},
   "source": [
    "Add sample name columns to DataFrame"
   ]
  },
  {
   "cell_type": "code",
   "execution_count": null,
   "id": "4915297c-3ba8-4aab-b3a6-0c9378c9dffa",
   "metadata": {},
   "outputs": [],
   "source": [
    "df['sample'] = [sample_name] * len(df. index)\n",
    "df"
   ]
  },
  {
   "cell_type": "code",
   "execution_count": null,
   "id": "784d1029-2190-4f72-bbcd-38b8e3a492de",
   "metadata": {},
   "outputs": [],
   "source": [
    "outputfile = output_originalDefect_path / (sample_name + '_volume_ingrowth.csv')\n",
    "df.to_csv(outputfile, index=False)"
   ]
  },
  {
   "cell_type": "markdown",
   "id": "16eba519-91a2-4a89-b785-cb379b7839ad",
   "metadata": {
    "tags": []
   },
   "source": [
    "# Export segments"
   ]
  },
  {
   "cell_type": "markdown",
   "id": "6e97bad7-3938-499e-821e-8800f733fb55",
   "metadata": {},
   "source": [
    "## Export all segments to individual `.stl` files"
   ]
  },
  {
   "cell_type": "markdown",
   "id": "080c982a-4b6c-45d1-8bd5-66bde7bcd4de",
   "metadata": {
    "tags": []
   },
   "source": [
    "Get closed surface representation of the segment, from [slicer scripting repository](https://slicer.readthedocs.io/en/latest/developer_guide/script_repository.html#export-nodes-warped-by-transform-sequence)"
   ]
  },
  {
   "cell_type": "code",
   "execution_count": null,
   "id": "a7dda856-ee7d-4175-a87f-b7278a5426ab",
   "metadata": {},
   "outputs": [],
   "source": [
    "segmentationNode.CreateClosedSurfaceRepresentation()"
   ]
  },
  {
   "cell_type": "code",
   "execution_count": null,
   "id": "013bd54a-bdd1-4b0c-8c96-a78c2b8c837e",
   "metadata": {},
   "outputs": [],
   "source": [
    "slicer.modules.segmentations.logic().ExportSegmentsClosedSurfaceRepresentationToFiles(str(output_originalDefect_path), segmentationNode)"
   ]
  }
 ],
 "metadata": {
  "kernelspec": {
   "display_name": "Slicer 5.6",
   "language": "python",
   "name": "slicer-5.6"
  },
  "language_info": {
   "file_extension": ".py",
   "mimetype": "text/x-python",
   "name": "python",
   "version": "3.9.10"
  },
  "toc-autonumbering": true
 },
 "nbformat": 4,
 "nbformat_minor": 5
}
