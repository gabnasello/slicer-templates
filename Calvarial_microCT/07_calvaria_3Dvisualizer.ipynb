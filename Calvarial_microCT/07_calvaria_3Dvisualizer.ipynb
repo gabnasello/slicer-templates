{
 "cells": [
  {
   "cell_type": "markdown",
   "id": "e9e365a5-96dd-44ec-9271-cb778da070dd",
   "metadata": {},
   "source": [
    "<span STYLE=\"font-size:150%\"> \n",
    "    Slicer 3D visualization \n",
    "</span>\n",
    "\n",
    "Docker image: gnasello/slicer-env:2024-05-08.2 \\\n",
    "Latest update: 8 May 2024"
   ]
  },
  {
   "cell_type": "markdown",
   "id": "b06273b8-ed89-406c-af12-191b17fdc261",
   "metadata": {},
   "source": [
    "- load .stl surface model files obtained from segmentations\n",
    "- visualize models in 3D"
   ]
  },
  {
   "cell_type": "markdown",
   "id": "8a604800-71f1-47b6-af62-7668c5af1d19",
   "metadata": {},
   "source": [
    "Load libraries"
   ]
  },
  {
   "cell_type": "code",
   "execution_count": 1,
   "id": "ee34ac62-8898-4805-813b-a1b5573a675e",
   "metadata": {},
   "outputs": [],
   "source": [
    "import slicer\n",
    "import pyslicer as ps\n",
    "import pandas as pd"
   ]
  },
  {
   "cell_type": "code",
   "execution_count": 2,
   "id": "441b60cb-d5f0-4d5d-8e01-6b0316abd106",
   "metadata": {},
   "outputs": [],
   "source": [
    "def calvarial_3Dvisualizer(model_dir):\n",
    "\n",
    "    slicer.mrmlScene.Clear()\n",
    "    ps.view.default_dark_3D_view()\n",
    "    \n",
    "    model_file = model_dir + 'segmented_volumes/Bone.stl'\n",
    "    camera_file = model_dir + 'segmented_volumes/camera_view.csv'\n",
    "    \n",
    "    model = ps.model.load(model_file, color=(0.9450980392156862, 0.8392156862745098, 0.5686274509803921)) # \"Bone\" color in Slicer\n",
    "    \n",
    "    df_camera = pd.read_csv(camera_file)\n",
    "    \n",
    "    ps.view.set_camera_3Dview(position=df_camera['position'],\n",
    "                              viewAngle=df_camera['viewAngle'][0],\n",
    "                              viewUp=df_camera['viewUp'],\n",
    "                              parallelScale=df_camera['parallelScale'][0])\n",
    "    \n",
    "    imagefile = model_dir + 'bone_defect.png'\n",
    "    ps.view.screenshot_3Dview(imagefile)\n",
    "    \n",
    "    model_file = model_dir + 'segmented_volumes/polygonDefect/defectPolygon.vtk'\n",
    "    \n",
    "    second_model = ps.model.load(model_file, color=(77/255, 187/255, 213/255), opacity = 0.4)\n",
    "    \n",
    "    imagefile = model_dir + 'bone_defect_polygon.png'\n",
    "    ps.view.screenshot_3Dview(imagefile)\n",
    "    \n",
    "    points_file = model_dir + 'segmented_volumes/polygonDefect/F.mrk.json'\n",
    "    \n",
    "    pointListNode = slicer.util.loadNodeFromFile(points_file, 'MarkupsFile')\n",
    "    \n",
    "    imagefile = model_dir + 'bone_defectPolygon_points.png'\n",
    "    ps.view.screenshot_3Dview(imagefile)"
   ]
  },
  {
   "cell_type": "markdown",
   "id": "6fbccc4d-3701-494e-98ab-c0d8378a8703",
   "metadata": {},
   "source": [
    "Visualize model"
   ]
  },
  {
   "cell_type": "code",
   "execution_count": null,
   "id": "8445b44e-4203-4e7a-9799-23ab7d9e834f",
   "metadata": {
    "editable": true,
    "slideshow": {
     "slide_type": ""
    },
    "tags": [
     "parameters"
    ]
   },
   "outputs": [],
   "source": [
    "# this cell is tagged 'parameters'\n",
    "model_dir = 'GN048_AS-IL2_1/'"
   ]
  },
  {
   "cell_type": "code",
   "execution_count": 3,
   "id": "6819ccec-df9d-4b40-9ede-8244909bd740",
   "metadata": {},
   "outputs": [],
   "source": [
    "calvarial_3Dvisualizer(model_dir)"
   ]
  },
  {
   "cell_type": "code",
   "execution_count": null,
   "id": "196c43f1-4465-49e5-9b52-705cadcb0e84",
   "metadata": {},
   "outputs": [],
   "source": []
  }
 ],
 "metadata": {
  "kernelspec": {
   "display_name": "Slicer 5.6",
   "language": "python",
   "name": "slicer-5.6"
  },
  "language_info": {
   "file_extension": ".py",
   "mimetype": "text/x-python",
   "name": "python",
   "version": "3.9.10"
  },
  "toc-autonumbering": true
 },
 "nbformat": 4,
 "nbformat_minor": 5
}
