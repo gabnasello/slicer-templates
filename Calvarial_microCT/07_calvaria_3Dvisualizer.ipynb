{
 "cells": [
  {
   "cell_type": "markdown",
   "id": "e9e365a5-96dd-44ec-9271-cb778da070dd",
   "metadata": {
    "papermill": {
     "duration": 0.006515,
     "end_time": "2025-09-08T15:39:44.497630",
     "exception": false,
     "start_time": "2025-09-08T15:39:44.491115",
     "status": "completed"
    },
    "tags": []
   },
   "source": [
    "<span STYLE=\"font-size:150%\"> \n",
    "    Slicer 3D visualization \n",
    "</span>\n",
    "\n",
    "Docker image: gnasello/slicer-env:2024-05-08.2 \\\n",
    "Latest update: 8 May 2024"
   ]
  },
  {
   "cell_type": "markdown",
   "id": "b06273b8-ed89-406c-af12-191b17fdc261",
   "metadata": {
    "papermill": {
     "duration": 0.005427,
     "end_time": "2025-09-08T15:39:44.510384",
     "exception": false,
     "start_time": "2025-09-08T15:39:44.504957",
     "status": "completed"
    },
    "tags": []
   },
   "source": [
    "- load .stl surface model files obtained from segmentations\n",
    "- visualize models in 3D"
   ]
  },
  {
   "cell_type": "markdown",
   "id": "8a604800-71f1-47b6-af62-7668c5af1d19",
   "metadata": {
    "papermill": {
     "duration": 0.003356,
     "end_time": "2025-09-08T15:39:44.517527",
     "exception": false,
     "start_time": "2025-09-08T15:39:44.514171",
     "status": "completed"
    },
    "tags": []
   },
   "source": [
    "Load libraries"
   ]
  },
  {
   "cell_type": "code",
   "execution_count": null,
   "id": "ee34ac62-8898-4805-813b-a1b5573a675e",
   "metadata": {
    "papermill": {
     "duration": 0.290981,
     "end_time": "2025-09-08T15:39:44.811726",
     "exception": false,
     "start_time": "2025-09-08T15:39:44.520745",
     "status": "completed"
    },
    "tags": []
   },
   "outputs": [],
   "source": [
    "import slicer\n",
    "import pyslicer as ps\n",
    "import pandas as pd"
   ]
  },
  {
   "cell_type": "code",
   "execution_count": null,
   "id": "441b60cb-d5f0-4d5d-8e01-6b0316abd106",
   "metadata": {
    "papermill": {
     "duration": 0.012184,
     "end_time": "2025-09-08T15:39:44.826056",
     "exception": false,
     "start_time": "2025-09-08T15:39:44.813872",
     "status": "completed"
    },
    "tags": []
   },
   "outputs": [],
   "source": [
    "def calvarial_3Dvisualizer(model_dir):\n",
    "\n",
    "    slicer.mrmlScene.Clear()\n",
    "    ps.view.default_dark_3D_view()\n",
    "    \n",
    "    model_file = model_dir + 'segmented_volumes/Bone.stl'\n",
    "    camera_file = model_dir + 'segmented_volumes/camera_view.csv'\n",
    "    \n",
    "    model = ps.model.load(model_file, color=(0.9450980392156862, 0.8392156862745098, 0.5686274509803921)) # \"Bone\" color in Slicer\n",
    "    \n",
    "    df_camera = pd.read_csv(camera_file)\n",
    "    \n",
    "    ps.view.set_camera_3Dview(position=df_camera['position'],\n",
    "                              viewAngle=df_camera['viewAngle'][0],\n",
    "                              viewUp=df_camera['viewUp'],\n",
    "                              parallelScale=df_camera['parallelScale'][0])\n",
    "    \n",
    "    imagefile = model_dir + 'bone_defect.png'\n",
    "    ps.view.screenshot_3Dview(imagefile)\n",
    "    \n",
    "    model_file = model_dir + 'segmented_volumes/polygonDefect/defectPolygon.vtk'\n",
    "    \n",
    "    second_model = ps.model.load(model_file, color=(77/255, 187/255, 213/255), opacity = 0.4)\n",
    "    \n",
    "    imagefile = model_dir + 'bone_defect_polygon.png'\n",
    "    ps.view.screenshot_3Dview(imagefile)\n",
    "    \n",
    "    # points_file = model_dir + 'segmented_volumes/polygonDefect/F.mrk.json'\n",
    "    points_file = model_dir + 'segmented_volumes/polygonDefect/F.mrk.json'\n",
    "    \n",
    "    pointListNode = slicer.util.loadNodeFromFile(points_file, 'MarkupsFile')\n",
    "    \n",
    "    imagefile = model_dir + 'bone_defectPolygon_points.png'\n",
    "    ps.view.screenshot_3Dview(imagefile)\n",
    "\n",
    "    slicer.mrmlScene.RemoveNode(second_model)\n",
    "    slicer.mrmlScene.RemoveNode(pointListNode)\n",
    "    \n",
    "    model_file = model_dir + 'segmented_volumes/originalDefect/OriginalDefect.vtk'\n",
    "    \n",
    "    second_model = ps.model.load(model_file, color=(216/255, 101/255, 79/255), opacity = 0.4)\n",
    "    \n",
    "    imagefile = model_dir + 'bone_originalDefect.png'\n",
    "    ps.view.screenshot_3Dview(imagefile)"
   ]
  },
  {
   "cell_type": "markdown",
   "id": "6fbccc4d-3701-494e-98ab-c0d8378a8703",
   "metadata": {
    "papermill": {
     "duration": 0.002057,
     "end_time": "2025-09-08T15:39:44.832963",
     "exception": false,
     "start_time": "2025-09-08T15:39:44.830906",
     "status": "completed"
    },
    "tags": []
   },
   "source": [
    "Visualize model"
   ]
  },
  {
   "cell_type": "code",
   "execution_count": null,
   "id": "8445b44e-4203-4e7a-9799-23ab7d9e834f",
   "metadata": {
    "editable": true,
    "papermill": {
     "duration": 0.015896,
     "end_time": "2025-09-08T15:39:44.850926",
     "exception": false,
     "start_time": "2025-09-08T15:39:44.835030",
     "status": "completed"
    },
    "slideshow": {
     "slide_type": ""
    },
    "tags": [
     "parameters"
    ]
   },
   "outputs": [],
   "source": [
    "# this cell is tagged 'parameters'\n",
    "model_dir = 'GN048_AS-IL2_1/'"
   ]
  },
  {
   "cell_type": "code",
   "execution_count": null,
   "id": "6819ccec-df9d-4b40-9ede-8244909bd740",
   "metadata": {
    "papermill": {
     "duration": 1.449718,
     "end_time": "2025-09-08T15:39:46.326493",
     "exception": false,
     "start_time": "2025-09-08T15:39:44.876775",
     "status": "completed"
    },
    "tags": []
   },
   "outputs": [],
   "source": [
    "calvarial_3Dvisualizer(model_dir)"
   ]
  },
  {
   "cell_type": "code",
   "execution_count": null,
   "id": "196c43f1-4465-49e5-9b52-705cadcb0e84",
   "metadata": {
    "papermill": {
     "duration": 0.005294,
     "end_time": "2025-09-08T15:39:46.338202",
     "exception": false,
     "start_time": "2025-09-08T15:39:46.332908",
     "status": "completed"
    },
    "tags": []
   },
   "outputs": [],
   "source": []
  }
 ],
 "metadata": {
  "kernelspec": {
   "display_name": "Slicer 5.6",
   "language": "python",
   "name": "slicer-5.6"
  },
  "language_info": {
   "file_extension": ".py",
   "mimetype": "text/x-python",
   "name": "python",
   "version": "3.9.10"
  },
  "papermill": {
   "default_parameters": {},
   "duration": 13.500255,
   "end_time": "2025-09-08T15:39:46.480141",
   "environment_variables": {},
   "exception": null,
   "input_path": "07_calvaria_3Dvisualizer.ipynb",
   "output_path": "/config/Downloads/Gomez_1p4/07_calvaria_3Dvisualizer.ipynb",
   "parameters": {
    "model_dir": "/config/Downloads/Gomez_1p4/"
   },
   "start_time": "2025-09-08T15:39:32.979886",
   "version": "2.6.0"
  },
  "toc-autonumbering": true
 },
 "nbformat": 4,
 "nbformat_minor": 5
}
