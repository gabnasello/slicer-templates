{
 "cells": [
  {
   "cell_type": "markdown",
   "id": "8d5cdf36-330a-4d9c-b820-6d1e531f2dce",
   "metadata": {},
   "source": [
    "- recursively gather all `.csv` files in your subdirectories\n",
    "- concatenate them into one big dataframe\n",
    "\n",
    "You can do this easily in Python with `pandas` and `glob`"
   ]
  },
  {
   "cell_type": "code",
   "execution_count": 9,
   "id": "b1744a72-2669-42f8-8a51-71bc5aa663d5",
   "metadata": {},
   "outputs": [],
   "source": [
    "import pandas as pd\n",
    "import glob\n",
    "import os\n",
    "\n",
    "def collect_csvs(suffix=\"_defect_area.csv\"):\n",
    "    # Find all matching csv files\n",
    "    csv_files = glob.glob(f\"**/*{suffix}\", recursive=True)\n",
    "\n",
    "    # Exclude already combined files\n",
    "    csv_files = [f for f in csv_files if not os.path.basename(f).startswith(\"combined\")]\n",
    "    \n",
    "    dfs = []\n",
    "    for file in csv_files:\n",
    "        df = pd.read_csv(file)\n",
    "        dfs.append(df)\n",
    "\n",
    "    combined_df = pd.concat(dfs, ignore_index=True)\n",
    "\n",
    "    # Show preview\n",
    "    print(combined_df.head())\n",
    "    print(combined_df.tail())\n",
    "    \n",
    "    # Output filename derived from suffix\n",
    "    output_file = f\"combined_{suffix}\"\n",
    "    combined_df.to_csv(output_file, index=False)\n",
    "\n",
    "    print(f\"Collected {len(csv_files)} files into {output_file}\")"
   ]
  },
  {
   "cell_type": "code",
   "execution_count": 10,
   "id": "b36ba9df-f761-4071-88b5-01eb99572e77",
   "metadata": {},
   "outputs": [
    {
     "name": "stdout",
     "output_type": "stream",
     "text": [
      "      sample  defect_area_mm2\n",
      "0  Gomez_2p3        10.507689\n",
      "1  Gomez_2p4         5.012462\n",
      "2  Gomez_4p6         7.903992\n",
      "3  Gomez_3p3         9.905482\n",
      "4  Gomez_2p2        12.377603\n",
      "       sample  defect_area_mm2\n",
      "20  Gomez_3p1         8.459768\n",
      "21  Gomez_3p6        11.463010\n",
      "22  Gomez 5p5        12.406270\n",
      "23  Gomez_1p3        11.815759\n",
      "24  Gomez_4p3        10.306166\n",
      "Collected 25 files into combined__defect_area.csv\n"
     ]
    }
   ],
   "source": [
    "# Example usage:\n",
    "suffix = \"_defect_area.csv\"\n",
    "\n",
    "collect_csvs(suffix)"
   ]
  }
 ],
 "metadata": {
  "kernelspec": {
   "display_name": "Python 3 (ipykernel)",
   "language": "python",
   "name": "python3"
  },
  "language_info": {
   "codemirror_mode": {
    "name": "ipython",
    "version": 3
   },
   "file_extension": ".py",
   "mimetype": "text/x-python",
   "name": "python",
   "nbconvert_exporter": "python",
   "pygments_lexer": "ipython3",
   "version": "3.9.10"
  }
 },
 "nbformat": 4,
 "nbformat_minor": 5
}
