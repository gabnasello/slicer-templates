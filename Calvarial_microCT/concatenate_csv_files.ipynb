{
 "cells": [
  {
   "cell_type": "markdown",
   "id": "8d5cdf36-330a-4d9c-b820-6d1e531f2dce",
   "metadata": {},
   "source": [
    "- recursively gather all `.csv` files in your subdirectories\n",
    "- concatenate them into one big dataframe\n",
    "\n",
    "You can do this easily in Python with `pandas` and `glob`"
   ]
  },
  {
   "cell_type": "code",
   "execution_count": 2,
   "id": "b1744a72-2669-42f8-8a51-71bc5aa663d5",
   "metadata": {},
   "outputs": [],
   "source": [
    "import pandas as pd\n",
    "import glob\n",
    "import os\n",
    "\n",
    "def collect_csvs(suffix=\"_defect_area.csv\"):\n",
    "    # Find all matching csv files\n",
    "    csv_files = glob.glob(f\"**/*{suffix}\", recursive=True)\n",
    "\n",
    "    # Exclude already combined files\n",
    "    csv_files = [f for f in csv_files if not os.path.basename(f).startswith(\"combined\")]\n",
    "    \n",
    "    dfs = []\n",
    "    for file in csv_files:\n",
    "        df = pd.read_csv(file)\n",
    "        dfs.append(df)\n",
    "\n",
    "    combined_df = pd.concat(dfs, ignore_index=True)\n",
    "\n",
    "    # Show preview\n",
    "    print(combined_df.head())\n",
    "    print(combined_df.tail())\n",
    "    \n",
    "    # Output filename derived from suffix\n",
    "    output_file = f\"combined_{suffix}\"\n",
    "    combined_df.to_csv(output_file, index=False)\n",
    "\n",
    "    print(f\"Collected {len(csv_files)} files into {output_file}\")"
   ]
  },
  {
   "cell_type": "code",
   "execution_count": 3,
   "id": "b36ba9df-f761-4071-88b5-01eb99572e77",
   "metadata": {},
   "outputs": [
    {
     "name": "stdout",
     "output_type": "stream",
     "text": [
      "      sample  defect_area_mm2\n",
      "0  Gomez_2p3        10.507689\n",
      "1  Gomez_2p4         5.012462\n",
      "2  Gomez_4p6         7.903992\n",
      "3  Gomez_3p3         9.905482\n",
      "4  Gomez_2p2        12.377603\n",
      "       sample  defect_area_mm2\n",
      "23  Gomez_3p6        11.463010\n",
      "24  Gomez 5p5        12.406270\n",
      "25  Gomez 5p2         7.171833\n",
      "26  Gomez_1p3        11.815759\n",
      "27  Gomez_4p3        10.306166\n",
      "Collected 28 files into combined__defect_area.csv\n"
     ]
    }
   ],
   "source": [
    "# Example usage:\n",
    "suffix = \"_defect_area.csv\"\n",
    "\n",
    "collect_csvs(suffix)"
   ]
  },
  {
   "cell_type": "markdown",
   "id": "7119030b-4b3f-4332-94e8-cfe17ab88de4",
   "metadata": {},
   "source": [
    "# Merge the combined CSV files \n",
    "\n",
    "Reshape the data into wide format"
   ]
  },
  {
   "cell_type": "code",
   "execution_count": 4,
   "id": "7095da84-1ccf-4759-bb46-4eba4c26cefa",
   "metadata": {},
   "outputs": [],
   "source": [
    "import pandas as pd\n",
    "\n",
    "# Load the CSV files\n",
    "defect_area_df = pd.read_csv(\"combined__defect_area.csv\")\n",
    "original_defect_df = pd.read_csv(\"combined__original_defect.csv\")\n",
    "volume_ingrowth_df = pd.read_csv(\"combined__volume_ingrowth.csv\")\n",
    "\n",
    "# Pivot the volume ingrowth data to wide format\n",
    "volume_wide_df = volume_ingrowth_df.pivot(\n",
    "    index=\"sample\", \n",
    "    columns=\"segmentName\", \n",
    "    values=\"volume_mm3\"\n",
    ").reset_index()\n",
    "\n",
    "# Merge all dataframes on 'sample'\n",
    "merged_df = defect_area_df.merge(original_defect_df, on=\"sample\", how=\"outer\")\n",
    "merged_df = merged_df.merge(volume_wide_df, on=\"sample\", how=\"outer\")\n",
    "\n",
    "# Save the result to a new CSV file\n",
    "merged_df.to_csv(\"combined__wide_format.csv\", index=False)"
   ]
  },
  {
   "cell_type": "code",
   "execution_count": null,
   "id": "37cd8bbc-8895-4df6-b0b7-6f7f01f0b6be",
   "metadata": {},
   "outputs": [],
   "source": []
  }
 ],
 "metadata": {
  "kernelspec": {
   "display_name": "Python 3 (ipykernel)",
   "language": "python",
   "name": "python3"
  },
  "language_info": {
   "codemirror_mode": {
    "name": "ipython",
    "version": 3
   },
   "file_extension": ".py",
   "mimetype": "text/x-python",
   "name": "python",
   "nbconvert_exporter": "python",
   "pygments_lexer": "ipython3",
   "version": "3.9.10"
  }
 },
 "nbformat": 4,
 "nbformat_minor": 5
}
