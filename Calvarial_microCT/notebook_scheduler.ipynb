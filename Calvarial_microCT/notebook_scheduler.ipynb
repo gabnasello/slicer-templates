{
 "cells": [
  {
   "cell_type": "code",
   "execution_count": 1,
   "id": "fcaa4379-da43-4168-a32c-f96cfc433532",
   "metadata": {
    "editable": true,
    "slideshow": {
     "slide_type": ""
    },
    "tags": []
   },
   "outputs": [],
   "source": [
    "from pathlib import Path\n",
    "import shutil\n",
    "import papermill as pm"
   ]
  },
  {
   "cell_type": "code",
   "execution_count": null,
   "id": "aaa69d01-3840-4add-b686-ba98e33058db",
   "metadata": {},
   "outputs": [],
   "source": [
    "import psutil\n",
    "\n",
    "# Get memory information\n",
    "memoryInfo = psutil.virtual_memory()\n",
    "total_memory = memoryInfo.total / (1024 ** 3)\n",
    "available_memory = memoryInfo.available / (1024 ** 3)\n",
    "used_memory = memoryInfo.used / (1024 ** 3)\n",
    "\n",
    "print(f\"Total Memory: {total_memory:.2f} GB\")\n",
    "print(f\"Available Memory: {available_memory:.2f} GB\")\n",
    "print(f\"Used Memory: {used_memory:.2f} GB\")"
   ]
  },
  {
   "cell_type": "markdown",
   "id": "e0e5a54c-9bc3-41cb-83cd-928917f29ec8",
   "metadata": {
    "editable": true,
    "jp-MarkdownHeadingCollapsed": true,
    "slideshow": {
     "slide_type": ""
    },
    "tags": []
   },
   "source": [
    "# Run `generate_nrrd_volumes` function"
   ]
  },
  {
   "cell_type": "code",
   "execution_count": 21,
   "id": "9014b873-40ce-4a75-a4a8-cef4f4f39408",
   "metadata": {},
   "outputs": [],
   "source": [
    "def generate_preview_nrrd_volumes(sample_dir, tiff_subdir='TIFF Stacks'):\n",
    "    sample_path = Path(sample_dir)\n",
    "    tiff_path = sample_path / tiff_subdir\n",
    "    output_dir = sample_path / 'microCT_volume_preview'\n",
    "\n",
    "    paper_dict = dict(image_directory_name=str(tiff_path),\n",
    "                      output_dir_path=str(output_dir))\n",
    "\n",
    "    # Run preview quality notebook\n",
    "    input_nb = '00_tif2nrrd_previewQuality.ipynb'\n",
    "    output_nb = sample_path / input_nb\n",
    "    print(input_nb)\n",
    "    pm.execute_notebook(input_nb, str(output_nb), parameters=paper_dict)\n",
    "\n",
    "    # Copy `02_set_segment_mask.ipynb` script\n",
    "    # Define source and destination paths\n",
    "    source_path = '02_set_segment_mask.ipynb'\n",
    "    destination_path = sample_path / source_path \n",
    "    \n",
    "    # Copy the file\n",
    "    shutil.copy(source_path, destination_path)\n",
    "\n",
    "    # Copy `03_manual_originalDefect.ipynb` script\n",
    "    # Define source and destination paths\n",
    "    source_path = '03_manual_originalDefect.ipynb'\n",
    "    destination_path = sample_path / source_path \n",
    "    \n",
    "    # Copy the file\n",
    "    shutil.copy(source_path, destination_path)"
   ]
  },
  {
   "cell_type": "code",
   "execution_count": null,
   "id": "87a0b706-1197-4a71-8e65-a8b0cdcfd643",
   "metadata": {
    "editable": true,
    "slideshow": {
     "slide_type": ""
    },
    "tags": []
   },
   "outputs": [],
   "source": [
    "sample_dir = '/config/Downloads/Gomez_4p5/'\n",
    "tiff_subdir = 'TIFF Stacks'\n",
    "\n",
    "generate_preview_nrrd_volumes(sample_dir, tiff_subdir)\n",
   ]
  },
  {
   "cell_type": "markdown",
   "id": "1be43106-63bb-42d0-9e9e-42445d51547f",
   "metadata": {
    "editable": true,
    "jp-MarkdownHeadingCollapsed": true,
    "slideshow": {
     "slide_type": ""
    },
    "tags": []
   },
   "source": [
    "# Run `largeVolume_thresholdInspector` function"
   ]
  },
  {
   "cell_type": "code",
   "execution_count": 33,
   "id": "8e7e3117-b9b4-4766-810a-0333ae915ed1",
   "metadata": {},
   "outputs": [],
   "source": [
    "def largeVolume_thresholdInspector(sample_dir, tiff_subdir='TIFF Stacks', delete_tiff=False):\n",
    "    \n",
    "    sample_path = Path(sample_dir)\n",
    "    tiff_path = sample_path / tiff_subdir\n",
    "\n",
    "    output_dir = sample_path / 'microCT_volume'\n",
    "\n",
    "    paper_dict = dict(image_directory_name=str(tiff_path),\n",
    "                  output_dir_path=str(output_dir))\n",
    "    # Run full quality notebook\n",
    "    input_nb = '00_tif2nrrd_fullQuality.ipynb'\n",
    "    output_nb = sample_path / input_nb\n",
    "    print(input_nb)\n",
    "    pm.execute_notebook(input_nb, str(output_nb), parameters=paper_dict)\n",
    "\n",
    "    # Optionally delete TIFF directory\n",
    "    if delete_tiff:\n",
    "        try:\n",
    "            shutil.rmtree(tiff_path)\n",
    "            print(f\"Deleted directory: {tiff_path}\")\n",
    "        except Exception as e:\n",
    "            print(f\"Error deleting directory {tiff_path}: {e}\")    \n",
    "\n",
    "    # 01_inspect_thresholds\n",
    "    paper_dict = dict(volume_file = str(sample_path / 'microCT_volume/microCT_volume.nrrd'),\n",
    "                      output_dir_path = str(sample_path / 'segmented_volumes/'),\n",
    "                 )\n",
    "\n",
    "    input_nb = '01_inspect_thresholds.ipynb'\n",
    "    output_nb =  sample_path / input_nb\n",
    "\n",
    "    print(input_nb)\n",
    "    pm.execute_notebook(\n",
    "       input_nb,\n",
    "       str(output_nb),\n",
    "       parameters=dict(paper_dict)\n",
    "    );"
   ]
  },
  {
   "cell_type": "code",
   "execution_count": null,
   "id": "eabf3a24-db16-4fd0-b34f-e68b38649647",
   "metadata": {
    "editable": true,
    "slideshow": {
     "slide_type": ""
    },
    "tags": []
   },
   "outputs": [],
   "source": [
    "sample_dir = '/config/Downloads/Gomez_4p5/'\n",
    "tiff_subdir = 'TIFF Stacks'\n",
    "\n",
    "largeVolume_thresholdInspector(sample_dir, tiff_subdir, delete_tiff=True)"
   ]
  },
  {
   "cell_type": "markdown",
   "id": "af8f299e-c29f-4f35-a757-59eff616b2f0",
   "metadata": {
    "editable": true,
    "slideshow": {
     "slide_type": ""
    },
    "tags": []
   },
   "source": [
    "# Run `microCT_analyzer` function"
   ]
  },
  {
   "cell_type": "code",
   "execution_count": 11,
   "id": "096f0328-0fb9-49c0-bfca-a1b66a76e7d9",
   "metadata": {},
   "outputs": [],
   "source": [
    "def microCT_analyzer(sample_dir):    \n",
    "\n",
    "    sample_path = Path(sample_dir)\n",
    "\n",
    "    # 03_calculate_originalDefect\n",
    "    paper_dict = dict(volume_file = str(sample_path / 'microCT_volume_preview/microCT_volume_preview.nrrd'),\n",
    "                      file_segmentation = str(sample_path / 'segmented_volumes/Skull.seg.nrrd'),\n",
    "                      output_polygon_dir_path = str(sample_path / 'segmented_volumes/polygonDefect'),\n",
    "                      output_cylinder_dir_path =  str(sample_path / 'segmented_volumes/originalDefect/'),\n",
    "                      sample_name = sample_dir.split('/')[-2],\n",
    "                      camera_view_file = str(sample_path / 'segmented_volumes/camera_view.csv'),\n",
    "                     )\n",
    "    \n",
    "    input_nb = '03_calculate_originalDefect.ipynb'\n",
    "    output_nb =  str(sample_path / input_nb)\n",
    "\n",
    "    print(input_nb)\n",
    "    pm.execute_notebook(\n",
    "       input_nb,\n",
    "       output_nb,\n",
    "       parameters=dict(paper_dict)\n",
    "    );\n",
    "   \n",
    "    # 04_segment_microCT\n",
    "    paper_dict = dict(volume_file = str(sample_path / 'microCT_volume/microCT_volume.nrrd'),\n",
    "                      output_dir_path = str(sample_path / 'segmented_volumes/'),\n",
    "                      segmentMask_file = str(sample_path / 'segmented_volumes/Segment_mask.seg.nrrd'),\n",
    "                      segments_greyvalues_file = str(sample_path / 'segmented_volumes/segments_greyvalues.csv')\n",
    "                 )\n",
    "\n",
    "    input_nb = '04_segment_microCT.ipynb'\n",
    "    output_nb =  str(sample_path / input_nb)\n",
    "\n",
    "    print(input_nb)\n",
    "    pm.execute_notebook(\n",
    "       input_nb,\n",
    "       output_nb,\n",
    "       parameters=dict(paper_dict)\n",
    "    );\n",
    "    \n",
    "    # 05_segment_polygonDefects\n",
    "    paper_dict = dict(volume_file = str(sample_path / 'microCT_volume/microCT_volume.nrrd'),\n",
    "                      file_nuclei_segmentation = str(sample_path / 'segmented_volumes/Bone.seg.nrrd'),\n",
    "                      output_polygon_dir_path =  str(sample_path / 'segmented_volumes/polygonDefect/'),\n",
    "                      sample_name = sample_dir.split('/')[-2],\n",
    "                      camera_view_file =  str(sample_path / 'segmented_volumes/camera_view.csv')\n",
    "                     )\n",
    "    \n",
    "    input_nb = '05_segment_polygonDefects.ipynb'\n",
    "    output_nb =  str(sample_path / input_nb)\n",
    "\n",
    "    print(input_nb)\n",
    "    pm.execute_notebook(\n",
    "       input_nb,\n",
    "       output_nb,\n",
    "       parameters=dict(paper_dict)\n",
    "    );\n",
    "\n",
    "    # 06_segment_originalDefects\n",
    "    paper_dict = dict(volume_file = str(sample_path / 'microCT_volume/microCT_volume.nrrd'),\n",
    "                      file_segmentation = str(sample_path / 'segmented_volumes/Bone.seg.nrrd'),\n",
    "                      original_defect_path =  str(sample_path / 'segmented_volumes/originalDefect/'),\n",
    "                      sample_name = sample_dir.split('/')[-2],\n",
    "                     )\n",
    "    \n",
    "    input_nb = '06_segment_originalDefects.ipynb'\n",
    "    output_nb =  str(sample_path / input_nb)\n",
    "\n",
    "    print(input_nb)\n",
    "    pm.execute_notebook(\n",
    "       input_nb,\n",
    "       output_nb,\n",
    "       parameters=dict(paper_dict)\n",
    "    );\n",
    "\n",
    "    # 07_calvaria_3Dvisualizer    \n",
    "    paper_dict = dict(model_dir = sample_dir\n",
    "                     )\n",
    "    \n",
    "    input_nb = '07_calvaria_3Dvisualizer.ipynb'\n",
    "    output_nb =  str(sample_path / input_nb)\n",
    "\n",
    "    print(input_nb)\n",
    "    pm.execute_notebook(\n",
    "       input_nb,\n",
    "       output_nb,\n",
    "       parameters=dict(paper_dict)\n",
    "    );"
   ]
  },
  {
   "cell_type": "code",
   "execution_count": null,
   "id": "1d33bb2e-46dc-4325-aae2-1974c3e2d398",
   "metadata": {},
   "outputs": [],
   "source": [
    "sample_dir = '/config/Downloads/Gomez 5p4/'\n",
    "\n",
    "microCT_analyzer(sample_dir)"
   ]
  }
 ],
 "metadata": {
  "kernelspec": {
   "display_name": "Slicer 5.6",
   "language": "python",
   "name": "slicer-5.6"
  },
  "language_info": {
   "file_extension": ".py",
   "mimetype": "text/x-python",
   "name": "python",
   "version": "3.9.10"
  }
 },
 "nbformat": 4,
 "nbformat_minor": 5
}
