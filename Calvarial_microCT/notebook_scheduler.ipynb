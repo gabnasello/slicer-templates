{
 "cells": [
  {
   "cell_type": "code",
   "execution_count": null,
   "id": "fcaa4379-da43-4168-a32c-f96cfc433532",
   "metadata": {
    "editable": true,
    "slideshow": {
     "slide_type": ""
    },
    "tags": []
   },
   "outputs": [],
   "source": [
    "from pathlib import Path\n",
    "import shutil\n",
    "import papermill as pm"
   ]
  },
  {
   "cell_type": "code",
   "execution_count": null,
   "id": "aaa69d01-3840-4add-b686-ba98e33058db",
   "metadata": {},
   "outputs": [],
   "source": [
    "import psutil\n",
    "\n",
    "# Get memory information\n",
    "memoryInfo = psutil.virtual_memory()\n",
    "total_memory = memoryInfo.total / (1024 ** 3)\n",
    "available_memory = memoryInfo.available / (1024 ** 3)\n",
    "used_memory = memoryInfo.used / (1024 ** 3)\n",
    "\n",
    "print(f\"Total Memory: {total_memory:.2f} GB\")\n",
    "print(f\"Available Memory: {available_memory:.2f} GB\")\n",
    "print(f\"Used Memory: {used_memory:.2f} GB\")"
   ]
  },
  {
   "cell_type": "markdown",
   "id": "e0e5a54c-9bc3-41cb-83cd-928917f29ec8",
   "metadata": {
    "editable": true,
    "slideshow": {
     "slide_type": ""
    },
    "tags": []
   },
   "source": [
    "# Run `generate_nrrd_volumes` function"
   ]
  },
  {
   "cell_type": "code",
   "execution_count": null,
   "id": "9014b873-40ce-4a75-a4a8-cef4f4f39408",
   "metadata": {},
   "outputs": [],
   "source": [
    "def generate_nrrd_volumes(sample_dir, tiff_subdir='TIFF Stacks', delete_tiff=False):\n",
    "    sample_path = Path(sample_dir)\n",
    "    tiff_path = sample_path / tiff_subdir\n",
    "    output_dir = sample_path / 'microCT_volume_preview'\n",
    "\n",
    "    paper_dict = dict(image_directory_name=str(tiff_path),\n",
    "                      output_dir_path=str(output_dir))\n",
    "\n",
    "    # Run preview quality notebook\n",
    "    input_nb = '00_tif2nrrd_previewQuality.ipynb'\n",
    "    output_nb = sample_path / input_nb\n",
    "    print(input_nb)\n",
    "    pm.execute_notebook(input_nb, str(output_nb), parameters=paper_dict)\n",
    "\n",
    "    # Copy `01_set_segment_mask.ipynb` script\n",
    "    # Define source and destination paths\n",
    "    source_path = '01_set_segment_mask.ipynb'\n",
    "    destination_path = sample_path / source_path \n",
    "    \n",
    "    # Copy the file\n",
    "    shutil.copy(source_path, destination_path)\n",
    "\n",
    "    output_dir = sample_path / 'microCT_volume'\n",
    "    paper_dict = dict(image_directory_name=str(tiff_path),\n",
    "                      output_dir_path=str(output_dir))\n",
    "    # Run full quality notebook\n",
    "    input_nb = '00_tif2nrrd_fullQuality.ipynb'\n",
    "    output_nb = sample_path / input_nb\n",
    "    print(input_nb)\n",
    "    pm.execute_notebook(input_nb, str(output_nb), parameters=paper_dict)\n",
    "\n",
    "    # Optionally delete TIFF directory\n",
    "    if delete_tiff:\n",
    "        try:\n",
    "            shutil.rmtree(tiff_path)\n",
    "            print(f\"Deleted directory: {tiff_path}\")\n",
    "        except Exception as e:\n",
    "            print(f\"Error deleting directory {tiff_path}: {e}\")\n"
   ]
  },
  {
   "cell_type": "code",
   "execution_count": null,
   "id": "a666262d-3882-4845-8f90-9d83c0c34b2a",
   "metadata": {
    "editable": true,
    "slideshow": {
     "slide_type": ""
    },
    "tags": []
   },
   "outputs": [],
   "source": [
    "sample_dir = '/config/Downloads/Gomez 5p1/'\n",
    "tiff_subdir = 'TIFF Stacks'\n",
    "\n",
    "generate_nrrd_volumes(sample_dir, tiff_subdir, delete_tiff=True)"
   ]
  },
  {
   "cell_type": "markdown",
   "id": "af8f299e-c29f-4f35-a757-59eff616b2f0",
   "metadata": {
    "editable": true,
    "slideshow": {
     "slide_type": ""
    },
    "tags": []
   },
   "source": [
    "# Run `microCT_analyzer` function"
   ]
  },
  {
   "cell_type": "code",
   "execution_count": null,
   "id": "096f0328-0fb9-49c0-bfca-a1b66a76e7d9",
   "metadata": {},
   "outputs": [],
   "source": [
    "def microCT_analyzer(sample_dir):    \n",
    "    # 02_segment_microCT\n",
    "    paper_dict = dict(volume_file = sample_dir + 'microCT_volume/microCT_volume.nrrd',\n",
    "                  output_dir_path = sample_dir + 'segmented_volumes/',\n",
    "                  segmentMask_file = sample_dir + 'segmented_volumes/Segment_mask.seg.nrrd'\n",
    "                 )\n",
    "\n",
    "    input_nb = '02_segment_microCT.ipynb'\n",
    "    output_nb =  sample_dir + input_nb\n",
    "\n",
    "    print(input_nb)\n",
    "    pm.execute_notebook(\n",
    "       input_nb,\n",
    "       output_nb,\n",
    "       parameters=dict(paper_dict)\n",
    "    );\n",
    "    \n",
    "    # 03_segment_polygonDefects\n",
    "    paper_dict = dict(volume_file = sample_dir + 'microCT_volume/microCT_volume.nrrd',\n",
    "                      file_nuclei_segmentation = sample_dir + 'segmented_volumes/Bone.seg.nrrd',\n",
    "                      output_polygon_dir_path =  sample_dir + 'segmented_volumes/polygonDefect/',\n",
    "                      sample_name = sample_dir.split('/')[-2],\n",
    "                      camera_view_file =  sample_dir + 'segmented_volumes/camera_view.csv'\n",
    "                     )\n",
    "    \n",
    "    input_nb = '03_segment_polygonDefects.ipynb'\n",
    "    output_nb =  sample_dir + input_nb\n",
    "\n",
    "    print(input_nb)\n",
    "    pm.execute_notebook(\n",
    "       input_nb,\n",
    "       output_nb,\n",
    "       parameters=dict(paper_dict)\n",
    "    );\n",
    "\n",
    "    # 04_calvaria_3Dvisualizer    \n",
    "    paper_dict = dict(model_dir = sample_dir\n",
    "                     )\n",
    "    \n",
    "    input_nb = '04_calvaria_3Dvisualizer.ipynb'\n",
    "    output_nb =  sample_dir + input_nb\n",
    "\n",
    "    print(input_nb)\n",
    "    pm.execute_notebook(\n",
    "       input_nb,\n",
    "       output_nb,\n",
    "       parameters=dict(paper_dict)\n",
    "    );"
   ]
  },
  {
   "cell_type": "code",
   "execution_count": null,
   "id": "1ac05fc2-434f-4e1a-bae6-09d4c4e38b32",
   "metadata": {},
   "outputs": [],
   "source": [
    "sample_dir = '/config/Downloads/Gomez 5p1/'\n",
    "\n",
    "microCT_analyzer(sample_dir)"
   ]
  },
  {
   "cell_type": "code",
   "execution_count": null,
   "id": "8ca0cda4-67c5-4984-bcf8-52841a98284e",
   "metadata": {},
   "outputs": [],
   "source": []
  }
 ],
 "metadata": {
  "kernelspec": {
   "display_name": "Slicer 5.6",
   "language": "python",
   "name": "slicer-5.6"
  },
  "language_info": {
   "file_extension": ".py",
   "mimetype": "text/x-python",
   "name": "python",
   "version": "3.9.10"
  }
 },
 "nbformat": 4,
 "nbformat_minor": 5
}
