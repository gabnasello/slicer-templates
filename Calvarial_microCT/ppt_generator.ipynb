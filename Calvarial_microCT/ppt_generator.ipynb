{
 "cells": [
  {
   "cell_type": "markdown",
   "id": "4364ed54-acff-42fd-adc1-3f0d3ad02877",
   "metadata": {},
   "source": [
    "# Automatic powerpoint generation\n",
    "\n",
    "you want to **generate a PowerPoint file** where:\n",
    "\n",
    "* Each slide contains **8 images** (arranged neatly),\n",
    "* The **filename** (without extension) is shown **above each image**.\n",
    "\n",
    "---\n",
    "\n",
    "### 📌 Explanation\n",
    "\n",
    "* **Slide layout:** 4 columns × 2 rows = 8 images per slide.\n",
    "* **Spacing:** Small margins between images and text.\n",
    "* **Filename:** Placed in a textbox above each image.\n",
    "* **Order:** Images are inserted in sorted order by filename.\n",
    "\n",
    "---\n",
    "\n",
    "👉 Do you want me to **fit the images proportionally** (keeping aspect ratio, instead of forcing 2×2 inches) or is it okay to **scale them into fixed squares** as in this example?\n"
   ]
  },
  {
   "cell_type": "code",
   "execution_count": 1,
   "id": "dfc8c0f5-5eb1-4048-a453-f003a3901a37",
   "metadata": {},
   "outputs": [],
   "source": [
    "#%pip install python-pptx\n",
    "from pptx import Presentation\n",
    "from pptx.util import Inches, Pt\n",
    "from pathlib import Path\n",
    "import math"
   ]
  },
  {
   "cell_type": "code",
   "execution_count": 2,
   "id": "9db0ec23-07e7-42dd-89c2-58cb4e18484b",
   "metadata": {},
   "outputs": [],
   "source": [
    "def images_to_pptx(image_dir, output_pptx, images_per_slide=8):\n",
    "    prs = Presentation()\n",
    "    blank_slide_layout = prs.slide_layouts[6]  # empty layout\n",
    "\n",
    "    image_dir = Path(image_dir)\n",
    "    image_files = sorted(image_dir.glob(\"*.png\"))\n",
    "\n",
    "    # layout: 4 columns x 2 rows for 8 images\n",
    "    cols = 4\n",
    "    rows = 2\n",
    "    margin_left = Inches(0.5)\n",
    "    margin_top = Inches(1)\n",
    "    img_width = Inches(2)\n",
    "    img_height = Inches(2)\n",
    "\n",
    "    for i in range(0, len(image_files), images_per_slide):\n",
    "        slide = prs.slides.add_slide(blank_slide_layout)\n",
    "        batch = image_files[i:i+images_per_slide]\n",
    "\n",
    "        for j, img_path in enumerate(batch):\n",
    "            row = j // cols\n",
    "            col = j % cols\n",
    "\n",
    "            left = margin_left + col * (img_width + Inches(0.3))\n",
    "            top = margin_top + row * (img_height + Inches(1))\n",
    "\n",
    "            # add filename above image\n",
    "            textbox = slide.shapes.add_textbox(left, top - Inches(0.4), img_width, Inches(0.4))\n",
    "            text_frame = textbox.text_frame\n",
    "            text_frame.text = img_path.stem  # filename without extension\n",
    "            text_frame.paragraphs[0].font.size = Pt(14)\n",
    "\n",
    "            # add image\n",
    "            slide.shapes.add_picture(str(img_path), left, top, width=img_width, height=img_height)\n",
    "\n",
    "    prs.save(output_pptx)\n",
    "    print(f\"Saved presentation: {output_pptx}\")"
   ]
  },
  {
   "cell_type": "code",
   "execution_count": 9,
   "id": "5f82ec5d-2cdb-4ceb-95fc-94981310fe71",
   "metadata": {},
   "outputs": [
    {
     "name": "stdout",
     "output_type": "stream",
     "text": [
      "Saved presentation: bone_originalDefect/bone_originalDefect.pptx\n"
     ]
    }
   ],
   "source": [
    "# Example usage\n",
    "image_dir = 'bone_originalDefect/'\n",
    "output_pptx = Path(image_dir) / (Path(image_dir).stem + '.pptx')\n",
    "images_per_slide=8\n",
    "\n",
    "images_to_pptx(image_dir, output_pptx, images_per_slide)"
   ]
  },
  {
   "cell_type": "markdown",
   "id": "3e5ab65b-2ea8-496d-8db1-5d5df41f8da4",
   "metadata": {},
   "source": [
    "# Two-step workflow to sort pictures\n",
    "\n",
    "✅ You want a **two-step workflow**:\n",
    "\n",
    "1. **Export a list of images** → one `.csv` with all filenames.\n",
    "2. **Define slide placement manually** → another `.csv` where you specify which slide each image should go on.\n",
    "3. **Build the PowerPoint** based on the mapping file.\n",
    "\n",
    "---"
   ]
  },
  {
   "cell_type": "markdown",
   "id": "40942fdb-0b85-4741-a6a0-44f390a0c511",
   "metadata": {},
   "source": [
    "### Step 1: Create `images.csv`\n",
    "\n",
    "This file just lists all images in your folder:\n"
   ]
  },
  {
   "cell_type": "code",
   "execution_count": 26,
   "id": "65b9bae7-4106-42db-a06a-90816387a845",
   "metadata": {},
   "outputs": [],
   "source": [
    "import pandas as pd\n",
    "from pathlib import Path\n",
    "\n",
    "def export_image_list(image_dir, output_csv=\"images.csv\"):\n",
    "    image_dir = Path(image_dir)\n",
    "    files = sorted(image_dir.glob(\"*.png\"))\n",
    "    df = pd.DataFrame({\"filename\": [f.name for f in files]})\n",
    "    df.to_csv(image_dir / output_csv, index=False)\n",
    "    print(f\"Exported {len(files)} image filenames to {output_csv}\")"
   ]
  },
  {
   "cell_type": "code",
   "execution_count": 29,
   "id": "364d95a1-591e-44a7-9cad-d2ed89259a50",
   "metadata": {},
   "outputs": [
    {
     "name": "stdout",
     "output_type": "stream",
     "text": [
      "Exported 28 image filenames to images.csv\n"
     ]
    }
   ],
   "source": [
    "# Example usage\n",
    "image_dir = 'bone_originalDefect/'\n",
    "export_image_list(image_dir)"
   ]
  },
  {
   "cell_type": "markdown",
   "id": "8522b321-802b-4115-8057-8d4d2c0c51f5",
   "metadata": {},
   "source": [
    "---\n",
    "\n",
    "### Step 2: Manually create `slides.csv`\n",
    "\n",
    "You edit this file to specify which **slide number** each image should go on:\n",
    "\n",
    "```csv\n",
    "filename,slide\n",
    "subdir1.png,1\n",
    "subdir2.png,1\n",
    "subdir3.png,2\n",
    "subdir4.png,2\n",
    "```\n",
    "\n",
    "---\n"
   ]
  },
  {
   "cell_type": "markdown",
   "id": "bb1634c9-025d-405e-8045-f3ba12bc4c60",
   "metadata": {},
   "source": [
    "### Step 3: Generate PowerPoint from `slides.csv`\n"
   ]
  },
  {
   "cell_type": "code",
   "execution_count": 14,
   "id": "0276a22d-316b-4c6f-82a0-4bcad7434556",
   "metadata": {},
   "outputs": [],
   "source": [
    "from pptx import Presentation\n",
    "from pptx.util import Inches, Pt\n",
    "import pandas as pd\n",
    "from pathlib import Path"
   ]
  },
  {
   "cell_type": "code",
   "execution_count": 15,
   "id": "80458733-c6d2-47f1-8283-bd12fbfc86aa",
   "metadata": {},
   "outputs": [],
   "source": [
    "def build_ppt_from_csv(image_dir, slide_csv, output_pptx):\n",
    "    prs = Presentation()\n",
    "    blank_slide_layout = prs.slide_layouts[6]  # empty slide\n",
    "\n",
    "    image_dir = Path(image_dir)\n",
    "    df = pd.read_csv(slide_csv)\n",
    "\n",
    "    # Group images by slide number\n",
    "    grouped = df.groupby(\"slide\")[\"filename\"].apply(list).to_dict()\n",
    "\n",
    "    # layout: 4x2 grid\n",
    "    cols, rows = 4, 2\n",
    "    margin_left, margin_top = Inches(0.5), Inches(1)\n",
    "    img_width, img_height = Inches(2), Inches(2)\n",
    "\n",
    "    for slide_num in sorted(grouped.keys()):\n",
    "        slide = prs.slides.add_slide(blank_slide_layout)\n",
    "        batch = grouped[slide_num]\n",
    "\n",
    "        for j, fname in enumerate(batch):\n",
    "            img_path = image_dir / fname\n",
    "            if not img_path.exists():\n",
    "                print(f\"⚠️ Skipping missing file: {fname}\")\n",
    "                continue\n",
    "\n",
    "            row, col = j // cols, j % cols\n",
    "            left = margin_left + col * (img_width + Inches(0.3))\n",
    "            top = margin_top + row * (img_height + Inches(1))\n",
    "\n",
    "            # Add filename above image\n",
    "            textbox = slide.shapes.add_textbox(left, top - Inches(0.4), img_width, Inches(0.4))\n",
    "            text_frame = textbox.text_frame\n",
    "            text_frame.text = img_path.stem\n",
    "            text_frame.paragraphs[0].font.size = Pt(14)\n",
    "\n",
    "            # Add image\n",
    "            slide.shapes.add_picture(str(img_path), left, top, width=img_width, height=img_height)\n",
    "\n",
    "    prs.save(output_pptx)\n",
    "    print(f\"✅ Saved presentation: {output_pptx}\")"
   ]
  },
  {
   "cell_type": "code",
   "execution_count": 30,
   "id": "673d144d-7b71-4eb5-b9e5-c1ece6d6ba2f",
   "metadata": {},
   "outputs": [
    {
     "name": "stdout",
     "output_type": "stream",
     "text": [
      "✅ Saved presentation: bone_originalDefect/bone_originalDefect.pptx\n"
     ]
    }
   ],
   "source": [
    "# image_dir = 'bone_defect/'\n",
    "slide_csv = Path(image_dir) / \"slides.csv\"\n",
    "output_pptx = Path(image_dir) / (Path(image_dir).stem + '.pptx')\n",
    "\n",
    "# Example usage\n",
    "build_ppt_from_csv(image_dir, slide_csv, output_pptx)"
   ]
  },
  {
   "cell_type": "code",
   "execution_count": null,
   "id": "fd715fc4-082c-45bf-813b-1a70e25ca0c5",
   "metadata": {},
   "outputs": [],
   "source": []
  }
 ],
 "metadata": {
  "kernelspec": {
   "display_name": "Python 3 (ipykernel)",
   "language": "python",
   "name": "python3"
  },
  "language_info": {
   "codemirror_mode": {
    "name": "ipython",
    "version": 3
   },
   "file_extension": ".py",
   "mimetype": "text/x-python",
   "name": "python",
   "nbconvert_exporter": "python",
   "pygments_lexer": "ipython3",
   "version": "3.9.10"
  }
 },
 "nbformat": 4,
 "nbformat_minor": 5
}
