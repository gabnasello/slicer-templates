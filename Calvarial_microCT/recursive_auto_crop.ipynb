{
 "cells": [
  {
   "cell_type": "markdown",
   "id": "76680a66-f39d-48ee-b422-2162efd62cef",
   "metadata": {},
   "source": [
    "You have multiple subdirectories, each containing a file called `bone_defect.png`, and you want to:\n",
    "\n",
    "1. **Open** each PNG,\n",
    "2. **Automatically crop** it (similar to GIMP’s *Auto Shrink Image* — i.e., trim borders of a uniform background),\n",
    "3. **Save** it into a new directory,\n",
    "4. **Rename** the output file so it uses the **subdirectory name** instead of just `bone_defect.png`.\n",
    "\n",
    "### 🔹 How it works\n",
    "\n",
    "* `auto_crop()` detects the background color (from the **top-left pixel**) and trims borders that match it.\n",
    "* It scans all subdirectories under `input_dir`.\n",
    "* If `bone_defect.png` is found, it crops it and saves to `cropped_output` as `<subdir_name>.png`."
   ]
  },
  {
   "cell_type": "code",
   "execution_count": 1,
   "id": "e3853d3c-a5f9-4609-b3cf-90541626c4a3",
   "metadata": {},
   "outputs": [],
   "source": [
    "import os\n",
    "from pathlib import Path\n",
    "from PIL import Image, ImageChops"
   ]
  },
  {
   "cell_type": "code",
   "execution_count": 7,
   "id": "61356b82-80dd-41ed-b01e-53ba0ed52d5d",
   "metadata": {},
   "outputs": [],
   "source": [
    "def auto_crop(image: Image.Image) -> Image.Image:\n",
    "    \"\"\"\n",
    "    Automatically crop uniform borders (like GIMP auto-shrink).\n",
    "    Works by comparing with the background color in the corners.\n",
    "    \"\"\"\n",
    "    # assume background color from top-left corner\n",
    "    bg = Image.new(image.mode, image.size, image.getpixel((0, 0)))\n",
    "    diff = ImageChops.difference(image, bg)\n",
    "    bbox = diff.getbbox()\n",
    "    if bbox:\n",
    "        return image.crop(bbox)\n",
    "    return image  # no crop if nothing found\n",
    "\n",
    "def process_images(input_root: str, output_root: str, image_file_names: str):\n",
    "    input_root = Path(input_root)\n",
    "    output_root = Path(output_root)\n",
    "    output_root.mkdir(parents=True, exist_ok=True)\n",
    "\n",
    "    for subdir, _, files in os.walk(input_root):\n",
    "        subdir_path = Path(subdir)\n",
    "        if image_file_names in files:\n",
    "            img_path = subdir_path / image_file_names\n",
    "            subdir_name = subdir_path.name\n",
    "\n",
    "            img = Image.open(img_path)\n",
    "            cropped = auto_crop(img)\n",
    "\n",
    "            out_path = output_root / f\"{subdir_name}_{image_file_names}\"\n",
    "            cropped.save(out_path)\n",
    "            print(f\"Saved cropped image: {out_path}\")"
   ]
  },
  {
   "cell_type": "code",
   "execution_count": 10,
   "id": "40f42b23-0adc-429a-9b18-6a718bb7f5ff",
   "metadata": {},
   "outputs": [
    {
     "name": "stdout",
     "output_type": "stream",
     "text": [
      "Saved cropped image: bone_originalDefect/Gomez_2p3_bone_originalDefect.png\n",
      "Saved cropped image: bone_originalDefect/Gomez_2p4_bone_originalDefect.png\n",
      "Saved cropped image: bone_originalDefect/Gomez_4p6_bone_originalDefect.png\n",
      "Saved cropped image: bone_originalDefect/Gomez_3p3_bone_originalDefect.png\n",
      "Saved cropped image: bone_originalDefect/Gomez_2p2_bone_originalDefect.png\n",
      "Saved cropped image: bone_originalDefect/Gomez_4p1_bone_originalDefect.png\n",
      "Saved cropped image: bone_originalDefect/Gomez_2p5_bone_originalDefect.png\n",
      "Saved cropped image: bone_originalDefect/Gomez_1p4_bone_originalDefect.png\n",
      "Saved cropped image: bone_originalDefect/Gomez_4p5_bone_originalDefect.png\n",
      "Saved cropped image: bone_originalDefect/Gomez_4p7_bone_originalDefect.png\n",
      "Saved cropped image: bone_originalDefect/Gomez_4p4_bone_originalDefect.png\n",
      "Saved cropped image: bone_originalDefect/Gomez_1p1_bone_originalDefect.png\n",
      "Saved cropped image: bone_originalDefect/Gomez_2p1_bone_originalDefect.png\n",
      "Saved cropped image: bone_originalDefect/Gomez_1p5_bone_originalDefect.png\n",
      "Saved cropped image: bone_originalDefect/Gomez 5p3_bone_originalDefect.png\n",
      "Saved cropped image: bone_originalDefect/Gomez 5p1_bone_originalDefect.png\n",
      "Saved cropped image: bone_originalDefect/Gomez_3p5_bone_originalDefect.png\n",
      "Saved cropped image: bone_originalDefect/Gomez_1p2_bone_originalDefect.png\n",
      "Saved cropped image: bone_originalDefect/Gomez 5p4_bone_originalDefect.png\n",
      "Saved cropped image: bone_originalDefect/Gomez_4p2_bone_originalDefect.png\n",
      "Saved cropped image: bone_originalDefect/Gomez_3p2_bone_originalDefect.png\n",
      "Saved cropped image: bone_originalDefect/Gomez_3p4_bone_originalDefect.png\n",
      "Saved cropped image: bone_originalDefect/Gomez_3p1_bone_originalDefect.png\n",
      "Saved cropped image: bone_originalDefect/Gomez_3p6_bone_originalDefect.png\n",
      "Saved cropped image: bone_originalDefect/Gomez 5p5_bone_originalDefect.png\n",
      "Saved cropped image: bone_originalDefect/Gomez 5p2_bone_originalDefect.png\n",
      "Saved cropped image: bone_originalDefect/Gomez_1p3_bone_originalDefect.png\n",
      "Saved cropped image: bone_originalDefect/Gomez_4p3_bone_originalDefect.png\n"
     ]
    }
   ],
   "source": [
    "# Example usage:\n",
    "input_dir = \"./\"\n",
    "image_file_names = \"bone_originalDefect.png\"\n",
    "cropped_output = Path(image_file_names).stem\n",
    "process_images(input_dir, cropped_output, image_file_names)"
   ]
  },
  {
   "cell_type": "code",
   "execution_count": null,
   "id": "85aa8aeb-3e91-455d-b9f0-44a2ade071a6",
   "metadata": {},
   "outputs": [],
   "source": []
  }
 ],
 "metadata": {
  "kernelspec": {
   "display_name": "Python 3 (ipykernel)",
   "language": "python",
   "name": "python3"
  },
  "language_info": {
   "codemirror_mode": {
    "name": "ipython",
    "version": 3
   },
   "file_extension": ".py",
   "mimetype": "text/x-python",
   "name": "python",
   "nbconvert_exporter": "python",
   "pygments_lexer": "ipython3",
   "version": "3.9.10"
  }
 },
 "nbformat": 4,
 "nbformat_minor": 5
}
