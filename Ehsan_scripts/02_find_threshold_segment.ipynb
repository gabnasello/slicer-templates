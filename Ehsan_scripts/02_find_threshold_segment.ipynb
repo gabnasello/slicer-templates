{
 "cells": [
  {
   "cell_type": "markdown",
   "id": "e9e365a5-96dd-44ec-9271-cb778da070dd",
   "metadata": {
    "editable": true,
    "papermill": {
     "duration": 0.023058,
     "end_time": "2025-03-05T09:26:58.543824",
     "exception": false,
     "start_time": "2025-03-05T09:26:58.520766",
     "status": "completed"
    },
    "slideshow": {
     "slide_type": ""
    },
    "tags": []
   },
   "source": [
    "<span STYLE=\"font-size:150%\"> \n",
    "    Segment microCT scans\n",
    "</span>\n",
    "\n",
    "Docker image: gnasello/slicer-env:2023-07-06 \\\n",
    "Latest update: 10 March 2023"
   ]
  },
  {
   "cell_type": "markdown",
   "id": "b06273b8-ed89-406c-af12-191b17fdc261",
   "metadata": {
    "papermill": {
     "duration": 0.022327,
     "end_time": "2025-03-05T09:26:58.583976",
     "exception": false,
     "start_time": "2025-03-05T09:26:58.561649",
     "status": "completed"
    },
    "tags": []
   },
   "source": [
    "- load image stack in Slicer\n",
    "- segment mineralized tissue\n",
    "- compute segmented statistics (volumes)"
   ]
  },
  {
   "cell_type": "markdown",
   "id": "8a604800-71f1-47b6-af62-7668c5af1d19",
   "metadata": {
    "papermill": {
     "duration": 0.010046,
     "end_time": "2025-03-05T09:26:58.610926",
     "exception": false,
     "start_time": "2025-03-05T09:26:58.600880",
     "status": "completed"
    },
    "tags": []
   },
   "source": [
    "# Load libraries"
   ]
  },
  {
   "cell_type": "code",
   "execution_count": null,
   "id": "ee34ac62-8898-4805-813b-a1b5573a675e",
   "metadata": {
    "papermill": {
     "duration": 0.351187,
     "end_time": "2025-03-05T09:26:58.969631",
     "exception": false,
     "start_time": "2025-03-05T09:26:58.618444",
     "status": "completed"
    },
    "tags": []
   },
   "outputs": [],
   "source": [
    "import pyslicer as ps\n",
    "import slicer\n",
    "from pathlib import Path\n",
    "import pandas as pd\n",
    "import numpy as np"
   ]
  },
  {
   "cell_type": "markdown",
   "id": "96139740-037b-4593-a20d-f5e8c394493a",
   "metadata": {
    "papermill": {
     "duration": 0.007606,
     "end_time": "2025-03-05T09:26:58.985911",
     "exception": false,
     "start_time": "2025-03-05T09:26:58.978305",
     "status": "completed"
    },
    "tags": []
   },
   "source": [
    "# Volume input"
   ]
  },
  {
   "cell_type": "markdown",
   "id": "dbd53820-e196-4bef-9f89-e81c638bb281",
   "metadata": {
    "papermill": {
     "duration": 0.017392,
     "end_time": "2025-03-05T09:26:59.021275",
     "exception": false,
     "start_time": "2025-03-05T09:26:59.003883",
     "status": "completed"
    },
    "tags": []
   },
   "source": [
    "## Load `.nrrd` file into 3D Slicer"
   ]
  },
  {
   "cell_type": "markdown",
   "id": "0f8c273a-7361-4112-90c4-64e98d318d02",
   "metadata": {
    "editable": true,
    "papermill": {
     "duration": 0.013509,
     "end_time": "2025-03-05T09:26:59.050591",
     "exception": false,
     "start_time": "2025-03-05T09:26:59.037082",
     "status": "completed"
    },
    "slideshow": {
     "slide_type": ""
    },
    "tags": []
   },
   "source": [
    "Write the path of the `.nrrd` file and load it to Slicer"
   ]
  },
  {
   "cell_type": "code",
   "execution_count": null,
   "id": "b1c2443d-a03c-4db9-b886-faceb7af2363",
   "metadata": {
    "editable": true,
    "papermill": {
     "duration": 0.011676,
     "end_time": "2025-03-05T09:26:59.071142",
     "exception": false,
     "start_time": "2025-03-05T09:26:59.059466",
     "status": "completed"
    },
    "slideshow": {
     "slide_type": ""
    },
    "tags": [
     "parameters"
    ]
   },
   "outputs": [],
   "source": [
    "# this cell is tagged 'parameters'\n",
    "volume_file = 'microCT_volume/microCT_volume.nrrd'\n",
    "output_dir_path = 'segmented_volumes'"
   ]
  },
  {
   "cell_type": "code",
   "execution_count": null,
   "id": "2bb809df",
   "metadata": {
    "papermill": {
     "duration": 0.019577,
     "end_time": "2025-03-05T09:26:59.098222",
     "exception": false,
     "start_time": "2025-03-05T09:26:59.078645",
     "status": "completed"
    },
    "tags": [
     "injected-parameters"
    ]
   },
   "outputs": [],
   "source": [
    "# # Parameters\n",
    "# volume_file = \"GB4_4W/microCT_volume/microCT_volume.nrrd\"\n",
    "# output_dir_path = \"GB4_4W/segmented_volumes_new/\"\n"
   ]
  },
  {
   "cell_type": "code",
   "execution_count": null,
   "id": "d5355e20-94ae-419b-9661-2c62dca0747e",
   "metadata": {
    "editable": true,
    "papermill": {
     "duration": 0.023473,
     "end_time": "2025-03-05T09:26:59.131289",
     "exception": false,
     "start_time": "2025-03-05T09:26:59.107816",
     "status": "completed"
    },
    "slideshow": {
     "slide_type": ""
    },
    "tags": []
   },
   "outputs": [],
   "source": [
    "path = Path(volume_file)\n",
    "\n",
    "# Remove image numbering _0000, _0001 ...\n",
    "filename_output = path.stem[:-4]"
   ]
  },
  {
   "cell_type": "code",
   "execution_count": null,
   "id": "431b8505-9923-40da-8ad8-fa22d8229227",
   "metadata": {
    "papermill": {
     "duration": 54.171326,
     "end_time": "2025-03-05T09:27:53.325361",
     "exception": false,
     "start_time": "2025-03-05T09:26:59.154035",
     "status": "completed"
    },
    "tags": []
   },
   "outputs": [],
   "source": [
    "masterVolumeNode = slicer.util.loadNodeFromFile(volume_file)"
   ]
  },
  {
   "cell_type": "markdown",
   "id": "23dd2291-2ccc-4b32-b6b8-850a346648c1",
   "metadata": {
    "papermill": {
     "duration": 0.017769,
     "end_time": "2025-03-05T09:27:53.365467",
     "exception": false,
     "start_time": "2025-03-05T09:27:53.347698",
     "status": "completed"
    },
    "tags": []
   },
   "source": [
    "Print spacing"
   ]
  },
  {
   "cell_type": "code",
   "execution_count": null,
   "id": "30f6aec2-0777-4bba-bcff-7f187c176336",
   "metadata": {
    "papermill": {
     "duration": 0.070318,
     "end_time": "2025-03-05T09:27:53.448673",
     "exception": false,
     "start_time": "2025-03-05T09:27:53.378355",
     "status": "completed"
    },
    "tags": []
   },
   "outputs": [],
   "source": [
    "## mm\n",
    "masterVolumeNode.GetSpacing()"
   ]
  },
  {
   "cell_type": "markdown",
   "id": "1fb1718c-d59d-49be-bb9b-481e876d42ab",
   "metadata": {
    "papermill": {
     "duration": 0.009559,
     "end_time": "2025-03-05T09:27:53.475472",
     "exception": false,
     "start_time": "2025-03-05T09:27:53.465913",
     "status": "completed"
    },
    "tags": []
   },
   "source": [
    "Make ```segmented_volumes``` folder"
   ]
  },
  {
   "cell_type": "code",
   "execution_count": null,
   "id": "6d8fc3ca-c210-4987-87d7-155a4892738f",
   "metadata": {
    "editable": true,
    "papermill": {
     "duration": 0.022117,
     "end_time": "2025-03-05T09:27:53.505802",
     "exception": false,
     "start_time": "2025-03-05T09:27:53.483685",
     "status": "completed"
    },
    "slideshow": {
     "slide_type": ""
    },
    "tags": []
   },
   "outputs": [],
   "source": [
    "output_directory = Path(output_dir_path)\n",
    "\n",
    "output_directory.mkdir(parents=True, exist_ok=True)"
   ]
  },
  {
   "cell_type": "markdown",
   "id": "4fc8e675-b224-4cf4-b500-63144e06231c",
   "metadata": {
    "papermill": {
     "duration": 0.017695,
     "end_time": "2025-03-05T09:27:53.542126",
     "exception": false,
     "start_time": "2025-03-05T09:27:53.524431",
     "status": "completed"
    },
    "tags": []
   },
   "source": [
    "## Adjust window/level (brightness/contrast)"
   ]
  },
  {
   "cell_type": "markdown",
   "id": "149bfe9f-c7d9-495a-b260-9676a98ace35",
   "metadata": {
    "papermill": {
     "duration": 0.01325,
     "end_time": "2025-03-05T09:27:53.571220",
     "exception": false,
     "start_time": "2025-03-05T09:27:53.557970",
     "status": "completed"
    },
    "tags": []
   },
   "source": [
    "Adjust the image window/level from the GUI. It is enough to select a region where the signal is present ([youtube](https://slicer.readthedocs.io/en/latest/user_guide/user_interface.html#adjusting-image-window-level)). \n",
    "\n",
    "After, get the Window and Level properties from the displayNode associate to the VolumeNode and apply them programmatically anytime you run again the same image.\n",
    "\n",
    "For more information on the relationship between window/level and brightness/contrast, see [Window and Level Contrast Enhancement](http://fisica.ciens.ucv.ve/curs/dipcourse/html/one-oper/window-level/front-page.html)"
   ]
  },
  {
   "cell_type": "code",
   "execution_count": null,
   "id": "8c4ce52e-a65b-40c0-8854-34f1974b4738",
   "metadata": {
    "papermill": {
     "duration": 0.026366,
     "end_time": "2025-03-05T09:27:53.606848",
     "exception": false,
     "start_time": "2025-03-05T09:27:53.580482",
     "status": "completed"
    },
    "scrolled": true,
    "tags": []
   },
   "outputs": [
    {
     "name": "stdout",
     "output_type": "stream",
     "text": [
      "\n"
     ]
    },
    {
     "name": "stdout",
     "output_type": "stream",
     "text": [
      "displayNode.SetLevel(130.0)"
     ]
    },
    {
     "name": "stdout",
     "output_type": "stream",
     "text": [
      "\n"
     ]
    }
   ],
   "source": [
    "displayNode = masterVolumeNode.GetDisplayNode()\n",
    "print('displayNode.SetWindow(' + str(displayNode.GetWindow()) + ')')\n",
    "print('displayNode.SetLevel(' + str(displayNode.GetLevel()) + ')')"
   ]
  },
  {
   "cell_type": "code",
   "execution_count": null,
   "id": "ae1d41db-d0df-44d0-a3da-a900a6ec32e1",
   "metadata": {
    "papermill": {
     "duration": 0.036251,
     "end_time": "2025-03-05T09:27:53.658403",
     "exception": false,
     "start_time": "2025-03-05T09:27:53.622152",
     "status": "completed"
    },
    "tags": []
   },
   "outputs": [],
   "source": [
    "# displayNode = masterVolumeNode.GetDisplayNode()\n",
    "# displayNode.AutoWindowLevelOff()\n",
    "# displayNode.SetWindow(25885.0)\n",
    "# displayNode.SetLevel(18464.5)"
   ]
  },
  {
   "cell_type": "markdown",
   "id": "43c2067b-72cf-4132-a55e-8192d9d7989a",
   "metadata": {
    "papermill": {
     "duration": 0.012167,
     "end_time": "2025-03-05T09:27:53.691571",
     "exception": false,
     "start_time": "2025-03-05T09:27:53.679404",
     "status": "completed"
    },
    "tags": []
   },
   "source": [
    "# Create segmentationNode"
   ]
  },
  {
   "cell_type": "markdown",
   "id": "d556eb23-38fa-44db-ae37-840642e803e7",
   "metadata": {
    "papermill": {
     "duration": 0.011813,
     "end_time": "2025-03-05T09:27:53.719853",
     "exception": false,
     "start_time": "2025-03-05T09:27:53.708040",
     "status": "completed"
    },
    "tags": []
   },
   "source": [
    "## Create segmentation-related nodes"
   ]
  },
  {
   "cell_type": "markdown",
   "id": "0ab7695b-0b95-456b-8fd8-22bd7eea5efe",
   "metadata": {
    "papermill": {
     "duration": 0.008436,
     "end_time": "2025-03-05T09:27:53.736074",
     "exception": false,
     "start_time": "2025-03-05T09:27:53.727638",
     "status": "completed"
    },
    "tags": []
   },
   "source": [
    "Create segmentation node"
   ]
  },
  {
   "cell_type": "code",
   "execution_count": null,
   "id": "3af57565-1da8-4124-bb96-6e8ce0860d1e",
   "metadata": {
    "papermill": {
     "duration": 0.032238,
     "end_time": "2025-03-05T09:27:53.783582",
     "exception": false,
     "start_time": "2025-03-05T09:27:53.751344",
     "status": "completed"
    },
    "tags": []
   },
   "outputs": [],
   "source": [
    "segmentationNode = ps.segmentation.segmentationNode(name='Segmentation')"
   ]
  },
  {
   "cell_type": "markdown",
   "id": "23a39787-a0b4-403c-8e39-f9e9d5c20bd6",
   "metadata": {
    "papermill": {
     "duration": 0.013806,
     "end_time": "2025-03-05T09:27:53.819380",
     "exception": false,
     "start_time": "2025-03-05T09:27:53.805574",
     "status": "completed"
    },
    "tags": []
   },
   "source": [
    "Create temporary segment editor to get access to effects"
   ]
  },
  {
   "cell_type": "code",
   "execution_count": null,
   "id": "0defe996-4c60-4375-b12b-a7026d057b52",
   "metadata": {
    "papermill": {
     "duration": 4.767831,
     "end_time": "2025-03-05T09:27:58.596219",
     "exception": false,
     "start_time": "2025-03-05T09:27:53.828388",
     "status": "completed"
    },
    "tags": []
   },
   "outputs": [],
   "source": [
    "segmentEditorWidget, segmentEditorNode = ps.segmentation.segmentEditorWidget(segmentationNode = segmentationNode, \n",
    "                                                                             masterVolumeNode = masterVolumeNode)"
   ]
  },
  {
   "cell_type": "markdown",
   "id": "e6e6599a-6624-48c1-aecc-c68ea2350427",
   "metadata": {
    "papermill": {
     "duration": 0.012398,
     "end_time": "2025-03-05T09:27:58.630693",
     "exception": false,
     "start_time": "2025-03-05T09:27:58.618295",
     "status": "completed"
    },
    "tags": []
   },
   "source": [
    "# Thresholding"
   ]
  },
  {
   "cell_type": "markdown",
   "id": "afd9833d-5e59-4987-9ab3-c4790c63425e",
   "metadata": {
    "papermill": {
     "duration": 0.007917,
     "end_time": "2025-03-05T09:27:58.647614",
     "exception": false,
     "start_time": "2025-03-05T09:27:58.639697",
     "status": "completed"
    },
    "tags": []
   },
   "source": [
    "## Check different automatic segmentation algorithms"
   ]
  },
  {
   "cell_type": "markdown",
   "id": "b598bf5d-dd75-4385-9458-d0c80fae2a2e",
   "metadata": {
    "papermill": {
     "duration": 0.008054,
     "end_time": "2025-03-05T09:27:58.664048",
     "exception": false,
     "start_time": "2025-03-05T09:27:58.655994",
     "status": "completed"
    },
    "tags": []
   },
   "source": [
    "The first time you analyze an image/channel. Go to the ```Segment Editor```, add a new segment and choose the thresholding method. There you test different automatic thresholding technique and choose the one working best. For later analysis, you can just copy the thresholding values in the ```segments_greyvalues``` object at the beginning of this notebook."
   ]
  },
  {
   "cell_type": "code",
   "execution_count": null,
   "id": "4f5100c3-7cda-4cd3-91a6-7ec5bab2edf1",
   "metadata": {
    "papermill": {
     "duration": 118.514551,
     "end_time": "2025-03-05T09:29:57.186346",
     "exception": false,
     "start_time": "2025-03-05T09:27:58.671795",
     "status": "completed"
    },
    "tags": []
   },
   "outputs": [],
   "source": [
    "ps.volume.plot_histogram(masterVolumeNode, yscale='log')"
   ]
  },
  {
   "cell_type": "markdown",
   "id": "21befe69-11d0-4d66-aa3d-dab0bd43295c",
   "metadata": {
    "papermill": {
     "duration": 0.009168,
     "end_time": "2025-03-05T09:29:57.206581",
     "exception": false,
     "start_time": "2025-03-05T09:29:57.197413",
     "status": "completed"
    },
    "tags": []
   },
   "source": [
    "Get automatic thresholding values, as indicated in [this script](https://github.com/jzeyl/3D-Slicer-Scripts/blob/db51967cc642837e8bae0fea1585a95074d8420b/load_dicom_modified_otsu.py#L56)"
   ]
  },
  {
   "cell_type": "code",
   "execution_count": null,
   "id": "6a442550-7232-4e79-951c-a32496ced7ac",
   "metadata": {
    "papermill": {
     "duration": 0.063905,
     "end_time": "2025-03-05T09:29:57.278773",
     "exception": false,
     "start_time": "2025-03-05T09:29:57.214868",
     "status": "completed"
    },
    "tags": []
   },
   "outputs": [],
   "source": [
    "methods = [\n",
    "            'HUANG',\n",
    "            'INTERMODES',\n",
    "            'ISO_DATA',\n",
    "            'KITTLER_ILLINGWORTH',\n",
    "            'LI',\n",
    "            'MAXIMUM_ENTROPY',\n",
    "            'MOMENTS',\n",
    "            'OTSU',\n",
    "            'RENYI_ENTROPY',\n",
    "            'SHANBHAG',\n",
    "            'TRIANGLE',\n",
    "            'YEN'\n",
    "            ]\n",
    "\n",
    "thresholds = dict.fromkeys(methods, None)\n",
    "thresholds"
   ]
  },
  {
   "cell_type": "markdown",
   "id": "feabde32-904c-4a18-9276-2decb5aaa940",
   "metadata": {
    "papermill": {
     "duration": 0.011071,
     "end_time": "2025-03-05T09:29:57.308709",
     "exception": false,
     "start_time": "2025-03-05T09:29:57.297638",
     "status": "completed"
    },
    "tags": []
   },
   "source": [
    "Otsu thresholding"
   ]
  },
  {
   "cell_type": "code",
   "execution_count": null,
   "id": "5f8d9dff-bf66-4fab-b1df-e5fe8b49eeb2",
   "metadata": {
    "papermill": {
     "duration": 0.03035,
     "end_time": "2025-03-05T09:29:57.347521",
     "exception": false,
     "start_time": "2025-03-05T09:29:57.317171",
     "status": "completed"
    },
    "tags": []
   },
   "outputs": [],
   "source": [
    "# method = 'OTSU'\n",
    "\n",
    "# threshold = ps.segmentation.compute_threshold(method = method, volumeNode = masterVolumeNode)\n",
    "\n",
    "# thresholds[method.upper()] = threshold\n",
    "\n",
    "# print(method + \" threshold: \" + str(threshold))\n",
    "# ps.volume.plot_histogram(masterVolumeNode, threshold = threshold, title = method, yscale='log')"
   ]
  },
  {
   "cell_type": "markdown",
   "id": "9cf1f8ea-9f62-40b9-a248-1684b4dc45ff",
   "metadata": {
    "papermill": {
     "duration": 0.009759,
     "end_time": "2025-03-05T09:29:57.370784",
     "exception": false,
     "start_time": "2025-03-05T09:29:57.361025",
     "status": "completed"
    },
    "tags": []
   },
   "source": [
    "Huang thresholding"
   ]
  },
  {
   "cell_type": "code",
   "execution_count": null,
   "id": "f3ef18fb-319d-4cc8-a6df-ba77c33a1e46",
   "metadata": {
    "papermill": {
     "duration": 0.01418,
     "end_time": "2025-03-05T09:29:57.393032",
     "exception": false,
     "start_time": "2025-03-05T09:29:57.378852",
     "status": "completed"
    },
    "tags": []
   },
   "outputs": [],
   "source": [
    "# method = 'HUANG'\n",
    "\n",
    "# threshold = ps.segmentation.compute_threshold(method = method, volumeNode = masterVolumeNode)\n",
    "\n",
    "# thresholds[method.upper()] = threshold\n",
    "\n",
    "# print(method + \" threshold: \" + str(threshold))\n",
    "# ps.volume.plot_histogram(masterVolumeNode, threshold = threshold, title = method, yscale='log')"
   ]
  },
  {
   "cell_type": "markdown",
   "id": "83c1b22c-e354-410e-9da5-23ed442144a1",
   "metadata": {
    "papermill": {
     "duration": 0.008255,
     "end_time": "2025-03-05T09:29:57.409794",
     "exception": false,
     "start_time": "2025-03-05T09:29:57.401539",
     "status": "completed"
    },
    "tags": []
   },
   "source": [
    "IsoData thresholding"
   ]
  },
  {
   "cell_type": "code",
   "execution_count": null,
   "id": "54fc99a3-e1be-4995-9699-cffd7ce12f3f",
   "metadata": {
    "papermill": {
     "duration": 0.022369,
     "end_time": "2025-03-05T09:29:57.440317",
     "exception": false,
     "start_time": "2025-03-05T09:29:57.417948",
     "status": "completed"
    },
    "tags": []
   },
   "outputs": [],
   "source": [
    "# method = 'ISO_DATA'\n",
    "\n",
    "# threshold = ps.segmentation.compute_threshold(method = method, volumeNode = masterVolumeNode)\n",
    "\n",
    "# thresholds[method.upper()] = threshold\n",
    "\n",
    "# print(method + \" threshold: \" + str(threshold))\n",
    "# ps.volume.plot_histogram(masterVolumeNode, threshold = threshold, title = method, yscale='log')"
   ]
  },
  {
   "cell_type": "markdown",
   "id": "55bbf508-72df-489d-889d-53ea896b7f2c",
   "metadata": {
    "papermill": {
     "duration": 0.008471,
     "end_time": "2025-03-05T09:29:57.459724",
     "exception": false,
     "start_time": "2025-03-05T09:29:57.451253",
     "status": "completed"
    },
    "tags": []
   },
   "source": [
    "MAXIMUM_ENTROPY thresholding"
   ]
  },
  {
   "cell_type": "code",
   "execution_count": null,
   "id": "feaf2e9f-1eac-4095-b0d2-7aa9b36c4d4b",
   "metadata": {
    "papermill": {
     "duration": 0.026834,
     "end_time": "2025-03-05T09:29:57.494747",
     "exception": false,
     "start_time": "2025-03-05T09:29:57.467913",
     "status": "completed"
    },
    "tags": []
   },
   "outputs": [],
   "source": [
    "# method = 'MAXIMUM_ENTROPY'\n",
    "\n",
    "# threshold = ps.segmentation.compute_threshold(method = method, volumeNode = masterVolumeNode)\n",
    "\n",
    "# thresholds[method.upper()] = threshold\n",
    "\n",
    "# print(method + \" threshold: \" + str(threshold))\n",
    "# ps.volume.plot_histogram(masterVolumeNode, threshold = threshold, title = method, yscale='log')"
   ]
  },
  {
   "cell_type": "markdown",
   "id": "7a37bb9e-de71-4b25-bb1e-4d9fce902754",
   "metadata": {
    "papermill": {
     "duration": 0.011965,
     "end_time": "2025-03-05T09:29:57.529318",
     "exception": false,
     "start_time": "2025-03-05T09:29:57.517353",
     "status": "completed"
    },
    "tags": []
   },
   "source": [
    "MOMENTS thresholding"
   ]
  },
  {
   "cell_type": "code",
   "execution_count": null,
   "id": "4dd50269-a1b7-4ab2-9276-1c53aede5e8d",
   "metadata": {
    "papermill": {
     "duration": 130.142523,
     "end_time": "2025-03-05T09:32:07.681071",
     "exception": false,
     "start_time": "2025-03-05T09:29:57.538548",
     "status": "completed"
    },
    "tags": []
   },
   "outputs": [],
   "source": [
    "method = 'MOMENTS'\n",
    "\n",
    "threshold = ps.segmentation.compute_threshold(method = method, volumeNode = masterVolumeNode)\n",
    "\n",
    "thresholds[method.upper()] = threshold\n",
    "\n",
    "print(method + \" threshold: \" + str(threshold))\n",
    "ps.volume.plot_histogram(masterVolumeNode, threshold = threshold, title = method, yscale='log')"
   ]
  },
  {
   "cell_type": "markdown",
   "id": "56dadd8a-85f2-438a-aea1-807d665dba4f",
   "metadata": {
    "papermill": {
     "duration": 0.016297,
     "end_time": "2025-03-05T09:32:07.725355",
     "exception": false,
     "start_time": "2025-03-05T09:32:07.709058",
     "status": "completed"
    },
    "tags": []
   },
   "source": [
    "INTERMODES thresholding"
   ]
  },
  {
   "cell_type": "code",
   "execution_count": null,
   "id": "a7599cb8-186f-40e6-a1d1-c8263745a21a",
   "metadata": {
    "papermill": {
     "duration": 0.019689,
     "end_time": "2025-03-05T09:32:07.755080",
     "exception": false,
     "start_time": "2025-03-05T09:32:07.735391",
     "status": "completed"
    },
    "tags": []
   },
   "outputs": [],
   "source": [
    "# method = 'INTERMODES'\n",
    "\n",
    "# threshold = ps.segmentation.compute_threshold(method = method, volumeNode = masterVolumeNode)\n",
    "\n",
    "# thresholds[method.upper()] = threshold\n",
    "\n",
    "# print(method + \" threshold: \" + str(threshold))\n",
    "# ps.volume.plot_histogram(masterVolumeNode, threshold = threshold, title = method, yscale='log')"
   ]
  },
  {
   "cell_type": "code",
   "execution_count": null,
   "id": "686c1a2c-6436-48f1-a9b9-ec7085437807",
   "metadata": {
    "papermill": {
     "duration": 0.022288,
     "end_time": "2025-03-05T09:32:07.792449",
     "exception": false,
     "start_time": "2025-03-05T09:32:07.770161",
     "status": "completed"
    },
    "tags": []
   },
   "outputs": [],
   "source": [
    "# method = 'LI'\n",
    "\n",
    "# threshold = ps.segmentation.compute_threshold(method = method, volumeNode = masterVolumeNode)\n",
    "\n",
    "# thresholds[method.upper()] = threshold\n",
    "\n",
    "# print(method + \" threshold: \" + str(threshold))\n",
    "# ps.volume.plot_histogram(masterVolumeNode, threshold = threshold, title = method, yscale='log')"
   ]
  },
  {
   "cell_type": "code",
   "execution_count": null,
   "id": "4bf9abaa-67ff-4e37-906b-52b5383b66e2",
   "metadata": {
    "papermill": {
     "duration": 0.029881,
     "end_time": "2025-03-05T09:32:07.834478",
     "exception": false,
     "start_time": "2025-03-05T09:32:07.804597",
     "status": "completed"
    },
    "tags": []
   },
   "outputs": [],
   "source": [
    "# method = 'KITTLER_ILLINGWORTH'\n",
    "\n",
    "# threshold = ps.segmentation.compute_threshold(method = method, volumeNode = masterVolumeNode)\n",
    "\n",
    "# thresholds[method.upper()] = threshold\n",
    "\n",
    "# print(method + \" threshold: \" + str(threshold))\n",
    "# ps.volume.plot_histogram(masterVolumeNode, threshold = threshold, title = method, yscale='log')"
   ]
  },
  {
   "cell_type": "code",
   "execution_count": null,
   "id": "d29c1d38-f40c-4e41-b325-def10ce4b17f",
   "metadata": {
    "papermill": {
     "duration": 0.016806,
     "end_time": "2025-03-05T09:32:07.873466",
     "exception": false,
     "start_time": "2025-03-05T09:32:07.856660",
     "status": "completed"
    },
    "tags": []
   },
   "outputs": [],
   "source": [
    "# method = 'RENYI_ENTROPY'\n",
    "\n",
    "# threshold = ps.segmentation.compute_threshold(method = method, volumeNode = masterVolumeNode)\n",
    "\n",
    "# thresholds[method.upper()] = threshold\n",
    "\n",
    "# print(method + \" threshold: \" + str(threshold))\n",
    "# ps.volume.plot_histogram(masterVolumeNode, threshold = threshold, title = method, yscale='log')"
   ]
  },
  {
   "cell_type": "code",
   "execution_count": null,
   "id": "957f1c7d-4f2c-4e81-87b3-1b8717383b14",
   "metadata": {
    "papermill": {
     "duration": 0.0281,
     "end_time": "2025-03-05T09:32:07.910328",
     "exception": false,
     "start_time": "2025-03-05T09:32:07.882228",
     "status": "completed"
    },
    "tags": []
   },
   "outputs": [],
   "source": [
    "# method = 'SHANBHAG'\n",
    "\n",
    "# threshold = ps.segmentation.compute_threshold(method = method, volumeNode = masterVolumeNode)\n",
    "\n",
    "# thresholds[method.upper()] = threshold\n",
    "\n",
    "# print(method + \" threshold: \" + str(threshold))\n",
    "# ps.volume.plot_histogram(masterVolumeNode, threshold = threshold, title = method, yscale='log')"
   ]
  },
  {
   "cell_type": "code",
   "execution_count": null,
   "id": "e7912c86-77e9-4300-8501-bee69e1b3f36",
   "metadata": {
    "papermill": {
     "duration": 0.028121,
     "end_time": "2025-03-05T09:32:07.952986",
     "exception": false,
     "start_time": "2025-03-05T09:32:07.924865",
     "status": "completed"
    },
    "tags": []
   },
   "outputs": [],
   "source": [
    "# method = 'YEN'\n",
    "\n",
    "# threshold = ps.segmentation.compute_threshold(method = method, volumeNode = masterVolumeNode)\n",
    "\n",
    "# thresholds[method.upper()] = threshold\n",
    "\n",
    "# print(method + \" threshold: \" + str(threshold))\n",
    "# ps.volume.plot_histogram(masterVolumeNode, threshold = threshold, title = method, yscale='log')"
   ]
  },
  {
   "cell_type": "code",
   "execution_count": null,
   "id": "77c02eda-b763-4b5b-ab60-569a0acfcca7",
   "metadata": {
    "papermill": {
     "duration": 0.023558,
     "end_time": "2025-03-05T09:32:07.991090",
     "exception": false,
     "start_time": "2025-03-05T09:32:07.967532",
     "status": "completed"
    },
    "tags": []
   },
   "outputs": [],
   "source": [
    "# method = 'TRIANGLE'\n",
    "\n",
    "# threshold = ps.segmentation.compute_threshold(method = method, volumeNode = masterVolumeNode)\n",
    "\n",
    "# thresholds[method.upper()] = threshold\n",
    "\n",
    "# print(method + \" threshold: \" + str(threshold))\n",
    "# ps.volume.plot_histogram(masterVolumeNode, threshold = threshold, title = method, yscale='log')"
   ]
  },
  {
   "cell_type": "markdown",
   "id": "009e11af-0a08-4fdb-b37d-efc9c029e4a7",
   "metadata": {
    "papermill": {
     "duration": 0.010421,
     "end_time": "2025-03-05T09:32:08.014001",
     "exception": false,
     "start_time": "2025-03-05T09:32:08.003580",
     "status": "completed"
    },
    "tags": []
   },
   "source": [
    "## Select thresholding values"
   ]
  },
  {
   "cell_type": "code",
   "execution_count": null,
   "id": "29d85ccb-afc2-4fcd-b5ae-15f79b98aa02",
   "metadata": {
    "papermill": {
     "duration": 0.031018,
     "end_time": "2025-03-05T09:32:08.055204",
     "exception": false,
     "start_time": "2025-03-05T09:32:08.024186",
     "status": "completed"
    },
    "tags": []
   },
   "outputs": [],
   "source": [
    "thresholds"
   ]
  },
  {
   "cell_type": "code",
   "execution_count": null,
   "id": "5760f8ca-6071-4919-b716-a12fc4131f54",
   "metadata": {
    "editable": true,
    "papermill": {
     "duration": 0.022271,
     "end_time": "2025-03-05T09:32:08.092357",
     "exception": false,
     "start_time": "2025-03-05T09:32:08.070086",
     "status": "completed"
    },
    "slideshow": {
     "slide_type": ""
    },
    "tags": []
   },
   "outputs": [],
   "source": [
    "target_threshold = thresholds['MOMENTS']*0.8\n",
    "\n",
    "segments_greyvalues = {\n",
    "    \"All\": [target_threshold, 255], # [MaxEntropy, MaxIntensity]\n",
    "    }\n",
    "\n",
    "segments_greyvalues"
   ]
  },
  {
   "cell_type": "code",
   "execution_count": null,
   "id": "4e7e8cd8-6316-4fbb-9e49-c62202bbae74",
   "metadata": {
    "papermill": {
     "duration": 0.034462,
     "end_time": "2025-03-05T09:32:08.138856",
     "exception": false,
     "start_time": "2025-03-05T09:32:08.104394",
     "status": "completed"
    },
    "tags": []
   },
   "outputs": [],
   "source": [
    "grey_df = pd.DataFrame(segments_greyvalues)\n",
    "\n",
    "outputfile = output_directory / 'segments_greyvalues.csv'\n",
    "grey_df.to_csv(outputfile, index=False)"
   ]
  },
  {
   "cell_type": "markdown",
   "id": "9783776b-74b5-400a-a829-1b4795ef6744",
   "metadata": {
    "papermill": {
     "duration": null,
     "end_time": null,
     "exception": null,
     "start_time": null,
     "status": "completed"
    },
    "tags": []
   },
   "source": [
    "## Check different automatic segmentation algorithms"
   ]
  },
  {
   "cell_type": "markdown",
   "id": "5fe47632-6953-4a8a-abb8-22c357fe4cbb",
   "metadata": {
    "papermill": {
     "duration": null,
     "end_time": null,
     "exception": null,
     "start_time": null,
     "status": "completed"
    },
    "tags": []
   },
   "source": [
    "The first time you analyze an image/channel. Go to the ```Segment Editor```, add a new segment and choose the thresholding method. There you test different automatic thresholding technique and choose the one working best. For later analysis, you can just copy the thresholding values in the ```segments_greyvalues``` object at the beginning of this notebook."
   ]
  },
  {
   "cell_type": "code",
   "execution_count": null,
   "id": "624d22e1-aa56-4d1d-a1b1-764f8ee9f7fa",
   "metadata": {
    "papermill": {
     "duration": null,
     "end_time": null,
     "exception": null,
     "start_time": null,
     "status": "completed"
    },
    "tags": []
   },
   "outputs": [],
   "source": [
    "import slicer\n",
    "import SimpleITK as sitk\n",
    "\n",
    "# Get the input volume\n",
    "imageData = slicer.util.arrayFromVolume(masterVolumeNode)\n",
    "\n",
    "# Create a masked array where values below target_threshold are ignored\n",
    "target_thresholdMask = imageData > target_threshold\n",
    "target_thresholdVoxels = imageData[target_thresholdMask]"
   ]
  },
  {
   "cell_type": "code",
   "execution_count": null,
   "id": "bb98f7ac-f664-4e07-9ce6-ea0275c92f84",
   "metadata": {},
   "outputs": [],
   "source": [
    "import JupyterNotebooksLib as slicernb\n",
    "import numpy as np\n",
    "import matplotlib.pyplot as plt\n",
    "import matplotlib\n",
    "matplotlib.use('Agg')\n",
    "\n",
    "# Get a volume from SampleData and compute its histogram\n",
    "histogram = np.histogram(target_thresholdVoxels, bins=50)\n",
    "\n",
    "# Show a plot using matplotlib\n",
    "fig, ax = plt.subplots()\n",
    "ax.plot(histogram[1][1:], histogram[0].astype(float))\n",
    "plt.title('Histogram of Voxels above target threshold')\n",
    "plt.xlabel('Voxel Intensity')\n",
    "plt.ylabel('Counts')\n",
    "\n",
    "plt.yscale('log')\n",
    "\n",
    "# Set the lower boundary of xlim\n",
    "plt.xlim(left=0)\n",
    "\n",
    "slicernb.MatplotlibDisplay(plt)"
   ]
  },
  {
   "cell_type": "code",
   "execution_count": null,
   "id": "939e1eab-c9a7-4b2c-aa63-38bae57b11cb",
   "metadata": {
    "papermill": {
     "duration": null,
     "end_time": null,
     "exception": null,
     "start_time": null,
     "status": "completed"
    },
    "tags": []
   },
   "outputs": [],
   "source": [
    "ps.volume.plot_histogram(masterVolumeNode, yscale='log')"
   ]
  },
  {
   "cell_type": "markdown",
   "id": "61e2c583-07f6-449a-9dfd-c25b40fb9f97",
   "metadata": {
    "papermill": {
     "duration": null,
     "end_time": null,
     "exception": null,
     "start_time": null,
     "status": "completed"
    },
    "tags": []
   },
   "source": [
    "Get automatic thresholding values, as indicated in [this script](https://github.com/jzeyl/3D-Slicer-Scripts/blob/db51967cc642837e8bae0fea1585a95074d8420b/load_dicom_modified_otsu.py#L56)"
   ]
  },
  {
   "cell_type": "markdown",
   "id": "a4fbb848-61b2-4252-b8b1-fa2f3da00570",
   "metadata": {
    "papermill": {
     "duration": null,
     "end_time": null,
     "exception": null,
     "start_time": null,
     "status": "completed"
    },
    "tags": []
   },
   "source": [
    "Otsu thresholding"
   ]
  },
  {
   "cell_type": "code",
   "execution_count": null,
   "id": "bc86b612-9966-42c9-b470-e84cffd57bd7",
   "metadata": {
    "papermill": {
     "duration": null,
     "end_time": null,
     "exception": null,
     "start_time": null,
     "status": "completed"
    },
    "tags": []
   },
   "outputs": [],
   "source": [
    "method = 'OTSU'\n",
    "\n",
    "from skimage.filters import threshold_otsu\n",
    "# Compute Otsu threshold excluding voxels below target threshold\n",
    "otsuThreshold = [threshold_otsu(target_thresholdVoxels)]\n",
    "\n",
    "print(f\"Otsu Threshold (excluding zero voxels): {otsuThreshold}\")\n",
    "\n",
    "ps.volume.plot_histogram(masterVolumeNode, threshold = otsuThreshold, title = method, yscale='log')"
   ]
  },
  {
   "cell_type": "markdown",
   "id": "098d4569-9e22-4de7-9375-61d1d66f9bc1",
   "metadata": {
    "papermill": {
     "duration": null,
     "end_time": null,
     "exception": null,
     "start_time": null,
     "status": "completed"
    },
    "tags": []
   },
   "source": [
    "## Select thresholding values"
   ]
  },
  {
   "cell_type": "code",
   "execution_count": null,
   "id": "7f3e02bc-11cb-4dc2-ba6f-c77972245622",
   "metadata": {
    "papermill": {
     "duration": null,
     "end_time": null,
     "exception": null,
     "start_time": null,
     "status": "completed"
    },
    "scrolled": true,
    "tags": []
   },
   "outputs": [],
   "source": [
    "segments_greyvalues['Bone'] = [segments_greyvalues[\"All\"][0], otsuThreshold[0]]\n",
    "segments_greyvalues['Scaffold'] = [otsuThreshold[0], 255]\n",
    "segments_greyvalues"
   ]
  },
  {
   "cell_type": "code",
   "execution_count": null,
   "id": "32b8b287-b1c4-4af4-8e13-a11ac292a7bd",
   "metadata": {
    "papermill": {
     "duration": null,
     "end_time": null,
     "exception": null,
     "start_time": null,
     "status": "completed"
    },
    "tags": []
   },
   "outputs": [],
   "source": [
    "grey_df = pd.DataFrame(segments_greyvalues)\n",
    "\n",
    "outputfile = output_directory / 'segments_greyvalues.csv'\n",
    "grey_df.to_csv(outputfile, index=False)"
   ]
  },
  {
   "cell_type": "code",
   "execution_count": null,
   "id": "a10c71f4-ae85-49c8-9ca7-fea2bcc8610b",
   "metadata": {
    "papermill": {
     "duration": null,
     "end_time": null,
     "exception": null,
     "start_time": null,
     "status": "completed"
    },
    "tags": []
   },
   "outputs": [],
   "source": [
    "title = 'FINAL THRESHOLDS'\n",
    "yscale = 'log'\n",
    "threshold = [segments_greyvalues[\"All\"][0], otsuThreshold[0]]\n",
    "xlabel='Voxel Intensity'\n",
    "ylabel='Counts'\n",
    "\n",
    "import JupyterNotebooksLib as slicernb\n",
    "import numpy as np\n",
    "import matplotlib.pyplot as plt\n",
    "import matplotlib\n",
    "\n",
    "# Extract all voxels of the volume as numpy array\n",
    "volumeArray = slicer.util.arrayFromVolume(masterVolumeNode)\n",
    "\n",
    "matplotlib.use('Agg')\n",
    "\n",
    "# Get a volume from SampleData and compute its histogram\n",
    "histogram = np.histogram(volumeArray, bins=50)\n",
    "\n",
    "# Show a plot using matplotlib\n",
    "fig, ax = plt.subplots()\n",
    "ax.plot(histogram[1][1:], histogram[0].astype(float))\n",
    "plt.xlabel(xlabel)\n",
    "plt.ylabel(ylabel)\n",
    "if title:\n",
    "    plt.title(title)\n",
    " \n",
    "if yscale:\n",
    "    plt.yscale(yscale)\n",
    " \n",
    "if threshold != None:\n",
    "    if isinstance(threshold, float):\n",
    "        ax.axvline(threshold, color='r')\n",
    "    else: # threshold is a list\n",
    "        for thresh in threshold:\n",
    "            ax.axvline(thresh, color='r')\n",
    "\n",
    "fig.savefig(output_dir_path + '/thresholds_plot.png')   # save the figure to file\n",
    "\n",
    "slicernb.MatplotlibDisplay(plt)"
   ]
  }
 ],
 "metadata": {
  "kernelspec": {
   "display_name": "Slicer 5.6",
   "language": "python",
   "name": "slicer-5.6"
  },
  "language_info": {
   "file_extension": ".py",
   "mimetype": "text/x-python",
   "name": "python",
   "version": "3.9.10"
  },
  "papermill": {
   "default_parameters": {},
   "duration": 358.340851,
   "end_time": "2025-03-05T09:32:46.967187",
   "environment_variables": {},
   "exception": null,
   "input_path": "02_find_threshold_segment.ipynb",
   "output_path": "GB4_4W/02_find_threshold_segment.ipynb",
   "parameters": {
    "output_dir_path": "GB4_4W/segmented_volumes_new/",
    "volume_file": "GB4_4W/microCT_volume/microCT_volume.nrrd"
   },
   "start_time": "2025-03-05T09:26:48.626336",
   "version": "2.6.0"
  },
  "toc-autonumbering": true
 },
 "nbformat": 4,
 "nbformat_minor": 5
}
