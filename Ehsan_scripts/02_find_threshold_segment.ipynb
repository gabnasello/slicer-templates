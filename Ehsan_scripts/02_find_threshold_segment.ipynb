{
 "cells": [
  {
   "cell_type": "markdown",
   "id": "e9e365a5-96dd-44ec-9271-cb778da070dd",
   "metadata": {
    "editable": true,
    "slideshow": {
     "slide_type": ""
    },
    "tags": []
   },
   "source": [
    "<span STYLE=\"font-size:150%\"> \n",
    "    Segment microCT scans\n",
    "</span>\n",
    "\n",
    "Docker image: gnasello/slicer-env:2023-07-06 \\\n",
    "Latest update: 10 March 2023"
   ]
  },
  {
   "cell_type": "markdown",
   "id": "b06273b8-ed89-406c-af12-191b17fdc261",
   "metadata": {},
   "source": [
    "- load image stack in Slicer\n",
    "- segment mineralized tissue\n",
    "- compute segmented statistics (volumes)"
   ]
  },
  {
   "cell_type": "markdown",
   "id": "8a604800-71f1-47b6-af62-7668c5af1d19",
   "metadata": {},
   "source": [
    "# Load libraries"
   ]
  },
  {
   "cell_type": "code",
   "execution_count": null,
   "id": "ee34ac62-8898-4805-813b-a1b5573a675e",
   "metadata": {},
   "outputs": [],
   "source": [
    "import pyslicer as ps\n",
    "import slicer\n",
    "from pathlib import Path\n",
    "import pandas as pd\n",
    "import numpy as np"
   ]
  },
  {
   "cell_type": "markdown",
   "id": "96139740-037b-4593-a20d-f5e8c394493a",
   "metadata": {
    "tags": []
   },
   "source": [
    "# Volume input"
   ]
  },
  {
   "cell_type": "markdown",
   "id": "dbd53820-e196-4bef-9f89-e81c638bb281",
   "metadata": {},
   "source": [
    "## Load `.nrrd` file into 3D Slicer"
   ]
  },
  {
   "cell_type": "markdown",
   "id": "0f8c273a-7361-4112-90c4-64e98d318d02",
   "metadata": {
    "editable": true,
    "slideshow": {
     "slide_type": ""
    },
    "tags": []
   },
   "source": [
    "Write the path of the `.nrrd` file and load it to Slicer"
   ]
  },
  {
   "cell_type": "code",
   "execution_count": null,
   "id": "b1c2443d-a03c-4db9-b886-faceb7af2363",
   "metadata": {
    "editable": true,
    "slideshow": {
     "slide_type": ""
    },
    "tags": [
     "parameters"
    ]
   },
   "outputs": [],
   "source": [
    "# this cell is tagged 'parameters'\n",
    "volume_file = 'microCT_volume/microCT_volume.nrrd'\n",
    "output_dir_path = 'segmented_volumes'"
   ]
  },
  {
   "cell_type": "code",
   "execution_count": null,
   "id": "d5355e20-94ae-419b-9661-2c62dca0747e",
   "metadata": {
    "editable": true,
    "slideshow": {
     "slide_type": ""
    },
    "tags": []
   },
   "outputs": [],
   "source": [
    "path = Path(volume_file)\n",
    "\n",
    "# Remove image numbering _0000, _0001 ...\n",
    "filename_output = path.stem[:-4]"
   ]
  },
  {
   "cell_type": "code",
   "execution_count": null,
   "id": "431b8505-9923-40da-8ad8-fa22d8229227",
   "metadata": {},
   "outputs": [],
   "source": [
    "masterVolumeNode = slicer.util.loadNodeFromFile(volume_file)"
   ]
  },
  {
   "cell_type": "markdown",
   "id": "23dd2291-2ccc-4b32-b6b8-850a346648c1",
   "metadata": {},
   "source": [
    "Print spacing"
   ]
  },
  {
   "cell_type": "code",
   "execution_count": null,
   "id": "30f6aec2-0777-4bba-bcff-7f187c176336",
   "metadata": {},
   "outputs": [],
   "source": [
    "## mm\n",
    "masterVolumeNode.GetSpacing()"
   ]
  },
  {
   "cell_type": "markdown",
   "id": "1fb1718c-d59d-49be-bb9b-481e876d42ab",
   "metadata": {},
   "source": [
    "Make ```segmented_volumes``` folder"
   ]
  },
  {
   "cell_type": "code",
   "execution_count": null,
   "id": "6d8fc3ca-c210-4987-87d7-155a4892738f",
   "metadata": {
    "editable": true,
    "slideshow": {
     "slide_type": ""
    },
    "tags": []
   },
   "outputs": [],
   "source": [
    "output_directory = Path(output_dir_path)\n",
    "\n",
    "output_directory.mkdir(parents=True, exist_ok=True)"
   ]
  },
  {
   "cell_type": "markdown",
   "id": "4fc8e675-b224-4cf4-b500-63144e06231c",
   "metadata": {},
   "source": [
    "## Adjust window/level (brightness/contrast)"
   ]
  },
  {
   "cell_type": "markdown",
   "id": "149bfe9f-c7d9-495a-b260-9676a98ace35",
   "metadata": {},
   "source": [
    "Adjust the image window/level from the GUI. It is enough to select a region where the signal is present ([youtube](https://slicer.readthedocs.io/en/latest/user_guide/user_interface.html#adjusting-image-window-level)). \n",
    "\n",
    "After, get the Window and Level properties from the displayNode associate to the VolumeNode and apply them programmatically anytime you run again the same image.\n",
    "\n",
    "For more information on the relationship between window/level and brightness/contrast, see [Window and Level Contrast Enhancement](http://fisica.ciens.ucv.ve/curs/dipcourse/html/one-oper/window-level/front-page.html)"
   ]
  },
  {
   "cell_type": "code",
   "execution_count": null,
   "id": "8c4ce52e-a65b-40c0-8854-34f1974b4738",
   "metadata": {
    "scrolled": true
   },
   "outputs": [],
   "source": [
    "displayNode = masterVolumeNode.GetDisplayNode()\n",
    "print('displayNode.SetWindow(' + str(displayNode.GetWindow()) + ')')\n",
    "print('displayNode.SetLevel(' + str(displayNode.GetLevel()) + ')')"
   ]
  },
  {
   "cell_type": "code",
   "execution_count": null,
   "id": "ae1d41db-d0df-44d0-a3da-a900a6ec32e1",
   "metadata": {},
   "outputs": [],
   "source": [
    "# displayNode = masterVolumeNode.GetDisplayNode()\n",
    "# displayNode.AutoWindowLevelOff()\n",
    "# displayNode.SetWindow(25885.0)\n",
    "# displayNode.SetLevel(18464.5)"
   ]
  },
  {
   "cell_type": "markdown",
   "id": "43c2067b-72cf-4132-a55e-8192d9d7989a",
   "metadata": {},
   "source": [
    "# Create segmentationNode"
   ]
  },
  {
   "cell_type": "markdown",
   "id": "d556eb23-38fa-44db-ae37-840642e803e7",
   "metadata": {},
   "source": [
    "## Create segmentation-related nodes"
   ]
  },
  {
   "cell_type": "markdown",
   "id": "0ab7695b-0b95-456b-8fd8-22bd7eea5efe",
   "metadata": {},
   "source": [
    "Create segmentation node"
   ]
  },
  {
   "cell_type": "code",
   "execution_count": null,
   "id": "3af57565-1da8-4124-bb96-6e8ce0860d1e",
   "metadata": {},
   "outputs": [],
   "source": [
    "segmentationNode = ps.segmentation.segmentationNode(name='Segmentation')"
   ]
  },
  {
   "cell_type": "markdown",
   "id": "23a39787-a0b4-403c-8e39-f9e9d5c20bd6",
   "metadata": {},
   "source": [
    "Create temporary segment editor to get access to effects"
   ]
  },
  {
   "cell_type": "code",
   "execution_count": null,
   "id": "0defe996-4c60-4375-b12b-a7026d057b52",
   "metadata": {},
   "outputs": [],
   "source": [
    "segmentEditorWidget, segmentEditorNode = ps.segmentation.segmentEditorWidget(segmentationNode = segmentationNode, \n",
    "                                                                             masterVolumeNode = masterVolumeNode)"
   ]
  },
  {
   "cell_type": "markdown",
   "id": "e6e6599a-6624-48c1-aecc-c68ea2350427",
   "metadata": {
    "tags": []
   },
   "source": [
    "# Thresholding"
   ]
  },
  {
   "cell_type": "markdown",
   "id": "afd9833d-5e59-4987-9ab3-c4790c63425e",
   "metadata": {},
   "source": [
    "## Check different automatic segmentation algorithms"
   ]
  },
  {
   "cell_type": "markdown",
   "id": "b598bf5d-dd75-4385-9458-d0c80fae2a2e",
   "metadata": {},
   "source": [
    "The first time you analyze an image/channel. Go to the ```Segment Editor```, add a new segment and choose the thresholding method. There you test different automatic thresholding technique and choose the one working best. For later analysis, you can just copy the thresholding values in the ```segments_greyvalues``` object at the beginning of this notebook."
   ]
  },
  {
   "cell_type": "code",
   "execution_count": null,
   "id": "4f5100c3-7cda-4cd3-91a6-7ec5bab2edf1",
   "metadata": {},
   "outputs": [],
   "source": [
    "ps.volume.plot_histogram(masterVolumeNode, yscale='log')"
   ]
  },
  {
   "cell_type": "markdown",
   "id": "21befe69-11d0-4d66-aa3d-dab0bd43295c",
   "metadata": {},
   "source": [
    "Get automatic thresholding values, as indicated in [this script](https://github.com/jzeyl/3D-Slicer-Scripts/blob/db51967cc642837e8bae0fea1585a95074d8420b/load_dicom_modified_otsu.py#L56)"
   ]
  },
  {
   "cell_type": "code",
   "execution_count": null,
   "id": "6a442550-7232-4e79-951c-a32496ced7ac",
   "metadata": {},
   "outputs": [],
   "source": [
    "methods = [\n",
    "            'HUANG',\n",
    "            'INTERMODES',\n",
    "            'ISO_DATA',\n",
    "            'KITTLER_ILLINGWORTH',\n",
    "            'LI',\n",
    "            'MAXIMUM_ENTROPY',\n",
    "            'MOMENTS',\n",
    "            'OTSU',\n",
    "            'RENYI_ENTROPY',\n",
    "            'SHANBHAG',\n",
    "            'TRIANGLE',\n",
    "            'YEN'\n",
    "            ]\n",
    "\n",
    "thresholds = dict.fromkeys(methods, None)\n",
    "thresholds"
   ]
  },
  {
   "cell_type": "markdown",
   "id": "feabde32-904c-4a18-9276-2decb5aaa940",
   "metadata": {},
   "source": [
    "Otsu thresholding"
   ]
  },
  {
   "cell_type": "code",
   "execution_count": null,
   "id": "5f8d9dff-bf66-4fab-b1df-e5fe8b49eeb2",
   "metadata": {},
   "outputs": [],
   "source": [
    "method = 'OTSU'\n",
    "\n",
    "threshold = ps.segmentation.compute_threshold(method = method, volumeNode = masterVolumeNode)\n",
    "\n",
    "thresholds[method.upper()] = threshold\n",
    "\n",
    "print(method + \" threshold: \" + str(threshold))\n",
    "ps.volume.plot_histogram(masterVolumeNode, threshold = threshold, title = method, yscale='log')"
   ]
  },
  {
   "cell_type": "markdown",
   "id": "9cf1f8ea-9f62-40b9-a248-1684b4dc45ff",
   "metadata": {},
   "source": [
    "Huang thresholding"
   ]
  },
  {
   "cell_type": "code",
   "execution_count": null,
   "id": "f3ef18fb-319d-4cc8-a6df-ba77c33a1e46",
   "metadata": {},
   "outputs": [],
   "source": [
    "method = 'HUANG'\n",
    "\n",
    "threshold = ps.segmentation.compute_threshold(method = method, volumeNode = masterVolumeNode)\n",
    "\n",
    "thresholds[method.upper()] = threshold\n",
    "\n",
    "print(method + \" threshold: \" + str(threshold))\n",
    "ps.volume.plot_histogram(masterVolumeNode, threshold = threshold, title = method, yscale='log')"
   ]
  },
  {
   "cell_type": "markdown",
   "id": "83c1b22c-e354-410e-9da5-23ed442144a1",
   "metadata": {},
   "source": [
    "IsoData thresholding"
   ]
  },
  {
   "cell_type": "code",
   "execution_count": null,
   "id": "54fc99a3-e1be-4995-9699-cffd7ce12f3f",
   "metadata": {},
   "outputs": [],
   "source": [
    "method = 'ISO_DATA'\n",
    "\n",
    "threshold = ps.segmentation.compute_threshold(method = method, volumeNode = masterVolumeNode)\n",
    "\n",
    "thresholds[method.upper()] = threshold\n",
    "\n",
    "print(method + \" threshold: \" + str(threshold))\n",
    "ps.volume.plot_histogram(masterVolumeNode, threshold = threshold, title = method, yscale='log')"
   ]
  },
  {
   "cell_type": "markdown",
   "id": "55bbf508-72df-489d-889d-53ea896b7f2c",
   "metadata": {},
   "source": [
    "MAXIMUM_ENTROPY thresholding"
   ]
  },
  {
   "cell_type": "code",
   "execution_count": null,
   "id": "feaf2e9f-1eac-4095-b0d2-7aa9b36c4d4b",
   "metadata": {},
   "outputs": [],
   "source": [
    "method = 'MAXIMUM_ENTROPY'\n",
    "\n",
    "threshold = ps.segmentation.compute_threshold(method = method, volumeNode = masterVolumeNode)\n",
    "\n",
    "thresholds[method.upper()] = threshold\n",
    "\n",
    "print(method + \" threshold: \" + str(threshold))\n",
    "ps.volume.plot_histogram(masterVolumeNode, threshold = threshold, title = method, yscale='log')"
   ]
  },
  {
   "cell_type": "markdown",
   "id": "7a37bb9e-de71-4b25-bb1e-4d9fce902754",
   "metadata": {
    "tags": []
   },
   "source": [
    "MOMENTS thresholding"
   ]
  },
  {
   "cell_type": "code",
   "execution_count": null,
   "id": "4dd50269-a1b7-4ab2-9276-1c53aede5e8d",
   "metadata": {},
   "outputs": [],
   "source": [
    "method = 'MOMENTS'\n",
    "\n",
    "threshold = ps.segmentation.compute_threshold(method = method, volumeNode = masterVolumeNode)\n",
    "\n",
    "thresholds[method.upper()] = threshold\n",
    "\n",
    "print(method + \" threshold: \" + str(threshold))\n",
    "ps.volume.plot_histogram(masterVolumeNode, threshold = threshold, title = method, yscale='log')"
   ]
  },
  {
   "cell_type": "markdown",
   "id": "56dadd8a-85f2-438a-aea1-807d665dba4f",
   "metadata": {
    "tags": []
   },
   "source": [
    "INTERMODES thresholding"
   ]
  },
  {
   "cell_type": "code",
   "execution_count": null,
   "id": "a7599cb8-186f-40e6-a1d1-c8263745a21a",
   "metadata": {},
   "outputs": [],
   "source": [
    "method = 'INTERMODES'\n",
    "\n",
    "threshold = ps.segmentation.compute_threshold(method = method, volumeNode = masterVolumeNode)\n",
    "\n",
    "thresholds[method.upper()] = threshold\n",
    "\n",
    "print(method + \" threshold: \" + str(threshold))\n",
    "ps.volume.plot_histogram(masterVolumeNode, threshold = threshold, title = method, yscale='log')"
   ]
  },
  {
   "cell_type": "code",
   "execution_count": null,
   "id": "686c1a2c-6436-48f1-a9b9-ec7085437807",
   "metadata": {},
   "outputs": [],
   "source": [
    "method = 'LI'\n",
    "\n",
    "threshold = ps.segmentation.compute_threshold(method = method, volumeNode = masterVolumeNode)\n",
    "\n",
    "thresholds[method.upper()] = threshold\n",
    "\n",
    "print(method + \" threshold: \" + str(threshold))\n",
    "ps.volume.plot_histogram(masterVolumeNode, threshold = threshold, title = method, yscale='log')"
   ]
  },
  {
   "cell_type": "code",
   "execution_count": null,
   "id": "4bf9abaa-67ff-4e37-906b-52b5383b66e2",
   "metadata": {},
   "outputs": [],
   "source": [
    "method = 'KITTLER_ILLINGWORTH'\n",
    "\n",
    "threshold = ps.segmentation.compute_threshold(method = method, volumeNode = masterVolumeNode)\n",
    "\n",
    "thresholds[method.upper()] = threshold\n",
    "\n",
    "print(method + \" threshold: \" + str(threshold))\n",
    "ps.volume.plot_histogram(masterVolumeNode, threshold = threshold, title = method, yscale='log')"
   ]
  },
  {
   "cell_type": "code",
   "execution_count": null,
   "id": "d29c1d38-f40c-4e41-b325-def10ce4b17f",
   "metadata": {},
   "outputs": [],
   "source": [
    "method = 'RENYI_ENTROPY'\n",
    "\n",
    "threshold = ps.segmentation.compute_threshold(method = method, volumeNode = masterVolumeNode)\n",
    "\n",
    "thresholds[method.upper()] = threshold\n",
    "\n",
    "print(method + \" threshold: \" + str(threshold))\n",
    "ps.volume.plot_histogram(masterVolumeNode, threshold = threshold, title = method, yscale='log')"
   ]
  },
  {
   "cell_type": "code",
   "execution_count": null,
   "id": "957f1c7d-4f2c-4e81-87b3-1b8717383b14",
   "metadata": {},
   "outputs": [],
   "source": [
    "method = 'SHANBHAG'\n",
    "\n",
    "threshold = ps.segmentation.compute_threshold(method = method, volumeNode = masterVolumeNode)\n",
    "\n",
    "thresholds[method.upper()] = threshold\n",
    "\n",
    "print(method + \" threshold: \" + str(threshold))\n",
    "ps.volume.plot_histogram(masterVolumeNode, threshold = threshold, title = method, yscale='log')"
   ]
  },
  {
   "cell_type": "code",
   "execution_count": null,
   "id": "e7912c86-77e9-4300-8501-bee69e1b3f36",
   "metadata": {},
   "outputs": [],
   "source": [
    "method = 'YEN'\n",
    "\n",
    "threshold = ps.segmentation.compute_threshold(method = method, volumeNode = masterVolumeNode)\n",
    "\n",
    "thresholds[method.upper()] = threshold\n",
    "\n",
    "print(method + \" threshold: \" + str(threshold))\n",
    "ps.volume.plot_histogram(masterVolumeNode, threshold = threshold, title = method, yscale='log')"
   ]
  },
  {
   "cell_type": "code",
   "execution_count": null,
   "id": "77c02eda-b763-4b5b-ab60-569a0acfcca7",
   "metadata": {},
   "outputs": [],
   "source": [
    "method = 'TRIANGLE'\n",
    "\n",
    "threshold = ps.segmentation.compute_threshold(method = method, volumeNode = masterVolumeNode)\n",
    "\n",
    "thresholds[method.upper()] = threshold\n",
    "\n",
    "print(method + \" threshold: \" + str(threshold))\n",
    "ps.volume.plot_histogram(masterVolumeNode, threshold = threshold, title = method, yscale='log')"
   ]
  },
  {
   "cell_type": "markdown",
   "id": "009e11af-0a08-4fdb-b37d-efc9c029e4a7",
   "metadata": {},
   "source": [
    "## Select thresholding values"
   ]
  },
  {
   "cell_type": "code",
   "execution_count": null,
   "id": "29d85ccb-afc2-4fcd-b5ae-15f79b98aa02",
   "metadata": {},
   "outputs": [],
   "source": [
    "thresholds"
   ]
  },
  {
   "cell_type": "code",
   "execution_count": null,
   "id": "5760f8ca-6071-4919-b716-a12fc4131f54",
   "metadata": {
    "editable": true,
    "slideshow": {
     "slide_type": ""
    },
    "tags": []
   },
   "outputs": [],
   "source": [
    "segments_greyvalues = {\n",
    "    \"All\": [thresholds['MOMENTS'], 255], # [MaxEntropy, MaxIntensity]\n",
    "    }\n",
    "\n",
    "segments_greyvalues"
   ]
  },
  {
   "cell_type": "code",
   "execution_count": null,
   "id": "4e7e8cd8-6316-4fbb-9e49-c62202bbae74",
   "metadata": {},
   "outputs": [],
   "source": [
    "grey_df = pd.DataFrame(segments_greyvalues)\n",
    "\n",
    "outputfile = output_directory / 'segments_greyvalues.csv'\n",
    "grey_df.to_csv(outputfile, index=False)"
   ]
  },
  {
   "cell_type": "markdown",
   "id": "28dd2914-3af2-4496-ba7a-7079a6a8873e",
   "metadata": {
    "tags": []
   },
   "source": [
    "## Create segments by thresholding"
   ]
  },
  {
   "cell_type": "code",
   "execution_count": null,
   "id": "aa539815-f96a-4809-8bc9-ba0a595d701f",
   "metadata": {},
   "outputs": [],
   "source": [
    "ps.segmentation.segments_by_thresholding(segments_greyvalues, \n",
    "                                         segmentationNode,\n",
    "                                         segmentEditorNode,\n",
    "                                         segmentEditorWidget)"
   ]
  },
  {
   "cell_type": "markdown",
   "id": "de4a4c07-16c9-482e-be07-b5490d9ad573",
   "metadata": {},
   "source": [
    "## Mask volume with segment mask"
   ]
  },
  {
   "cell_type": "code",
   "execution_count": null,
   "id": "0621932d-e842-468e-a714-3ba20ab7604c",
   "metadata": {},
   "outputs": [],
   "source": [
    "segment_name = 'All'\n",
    "inputVolume = masterVolumeNode\n",
    "operation = \"FILL_OUTSIDE\"\n",
    "fill_value = 0"
   ]
  },
  {
   "cell_type": "code",
   "execution_count": null,
   "id": "9074abae-0975-4162-a29f-6e817d5bf350",
   "metadata": {},
   "outputs": [],
   "source": [
    "# example of using Mask volume effect from a Python script\n",
    "# https://github.com/lassoan/SlicerSegmentEditorExtraEffects/blob/master/SegmentEditorSplitVolume/SegmentEditorSplitVolumeLib/SegmentEditorEffect.py#L129-L192\n",
    "\n",
    "volumesLogic = slicer.modules.volumes.logic()\n",
    "\n",
    "import SegmentEditorEffects\n",
    "maskVolumeWithSegment = SegmentEditorEffects.SegmentEditorMaskVolumeEffect.maskVolumeWithSegment\n",
    "\n",
    "scene = inputVolume.GetScene()\n",
    "outputVolumeName = inputVolume.GetName() + '_masked'\n",
    "outputVolume = volumesLogic.CloneVolumeGeneric(scene, inputVolume, outputVolumeName, False)\n",
    "\n",
    "segmentation = segmentationNode.GetSegmentation()\n",
    "sourceSegmentId = segmentation.GetSegmentIdBySegmentName(segment_name)\n",
    "\n",
    "maskVolumeWithSegment(segmentationNode = segmentationNode, \n",
    "                      segmentID = sourceSegmentId, \n",
    "                      operationMode = operation, \n",
    "                      fillValues = [fill_value], \n",
    "                      inputVolumeNode = inputVolume, \n",
    "                      outputVolumeNode = outputVolume)"
   ]
  },
  {
   "cell_type": "code",
   "execution_count": null,
   "id": "1beffdfd-9ceb-43c3-8d7f-55936043b056",
   "metadata": {},
   "outputs": [],
   "source": [
    "masked_volume_node = outputVolume"
   ]
  },
  {
   "cell_type": "markdown",
   "id": "2cb5c5fb-1e69-4a24-bf48-5a389c68719e",
   "metadata": {},
   "source": [
    "Delete `All` segment before computing volumes"
   ]
  },
  {
   "cell_type": "code",
   "execution_count": null,
   "id": "bd45a052-4564-49e3-80f3-477c8221bc66",
   "metadata": {},
   "outputs": [],
   "source": [
    "segmentName = 'All'\n",
    "segmentId = segmentationNode.GetSegmentation().GetSegmentIdBySegmentName(segmentName)\n",
    "segmentationNode.GetSegmentation().RemoveSegment('1')"
   ]
  },
  {
   "cell_type": "markdown",
   "id": "9783776b-74b5-400a-a829-1b4795ef6744",
   "metadata": {},
   "source": [
    "## Check different automatic segmentation algorithms"
   ]
  },
  {
   "cell_type": "markdown",
   "id": "5fe47632-6953-4a8a-abb8-22c357fe4cbb",
   "metadata": {},
   "source": [
    "The first time you analyze an image/channel. Go to the ```Segment Editor```, add a new segment and choose the thresholding method. There you test different automatic thresholding technique and choose the one working best. For later analysis, you can just copy the thresholding values in the ```segments_greyvalues``` object at the beginning of this notebook."
   ]
  },
  {
   "cell_type": "code",
   "execution_count": null,
   "id": "939e1eab-c9a7-4b2c-aa63-38bae57b11cb",
   "metadata": {},
   "outputs": [],
   "source": [
    "ps.volume.plot_histogram(masked_volume_node, yscale='log')"
   ]
  },
  {
   "cell_type": "markdown",
   "id": "61e2c583-07f6-449a-9dfd-c25b40fb9f97",
   "metadata": {},
   "source": [
    "Get automatic thresholding values, as indicated in [this script](https://github.com/jzeyl/3D-Slicer-Scripts/blob/db51967cc642837e8bae0fea1585a95074d8420b/load_dicom_modified_otsu.py#L56)"
   ]
  },
  {
   "cell_type": "code",
   "execution_count": null,
   "id": "4d9883cb-81f4-4477-957e-de61ca06d2db",
   "metadata": {},
   "outputs": [],
   "source": [
    "methods = [\n",
    "            'HUANG',\n",
    "            'INTERMODES',\n",
    "            'ISO_DATA',\n",
    "            'KITTLER_ILLINGWORTH',\n",
    "            'LI',\n",
    "            'MAXIMUM_ENTROPY',\n",
    "            'MOMENTS',\n",
    "            'OTSU',\n",
    "            'RENYI_ENTROPY',\n",
    "            'SHANBHAG',\n",
    "            'TRIANGLE',\n",
    "            'YEN'\n",
    "            ]\n",
    "\n",
    "thresholds = dict.fromkeys(methods, None)\n",
    "thresholds"
   ]
  },
  {
   "cell_type": "markdown",
   "id": "a4fbb848-61b2-4252-b8b1-fa2f3da00570",
   "metadata": {},
   "source": [
    "Otsu thresholding"
   ]
  },
  {
   "cell_type": "code",
   "execution_count": null,
   "id": "e957114e-850f-432d-ba91-c140e678ef7a",
   "metadata": {},
   "outputs": [],
   "source": [
    "method = 'OTSU'\n",
    "\n",
    "threshold = ps.segmentation.compute_threshold(method = method, volumeNode = masked_volume_node)\n",
    "\n",
    "thresholds[method.upper()] = threshold\n",
    "\n",
    "print(method + \" threshold: \" + str(threshold))\n",
    "ps.volume.plot_histogram(masked_volume_node, threshold = threshold, title = method, yscale='log')"
   ]
  },
  {
   "cell_type": "markdown",
   "id": "b31237fc-4ad0-4069-8731-07ee08628968",
   "metadata": {},
   "source": [
    "Huang thresholding"
   ]
  },
  {
   "cell_type": "code",
   "execution_count": null,
   "id": "b49c4b9e-3f39-4efd-91d0-eccb8a759a29",
   "metadata": {},
   "outputs": [],
   "source": [
    "method = 'HUANG'\n",
    "\n",
    "threshold = ps.segmentation.compute_threshold(method = method, volumeNode = masked_volume_node)\n",
    "\n",
    "thresholds[method.upper()] = threshold\n",
    "\n",
    "print(method + \" threshold: \" + str(threshold))\n",
    "ps.volume.plot_histogram(masked_volume_node, threshold = threshold, title = method, yscale='log')"
   ]
  },
  {
   "cell_type": "markdown",
   "id": "4a5f243e-35be-40ff-acd8-84d57feb24b1",
   "metadata": {},
   "source": [
    "IsoData thresholding"
   ]
  },
  {
   "cell_type": "code",
   "execution_count": null,
   "id": "6d40aa40-535d-47fd-8dca-84364c377326",
   "metadata": {},
   "outputs": [],
   "source": [
    "method = 'ISO_DATA'\n",
    "\n",
    "threshold = ps.segmentation.compute_threshold(method = method, volumeNode = masked_volume_node)\n",
    "\n",
    "thresholds[method.upper()] = threshold\n",
    "\n",
    "print(method + \" threshold: \" + str(threshold))\n",
    "ps.volume.plot_histogram(masked_volume_node, threshold = threshold, title = method, yscale='log')"
   ]
  },
  {
   "cell_type": "markdown",
   "id": "de7cad11-9a8e-49e0-833d-e9441fdb0464",
   "metadata": {},
   "source": [
    "MAXIMUM_ENTROPY thresholding"
   ]
  },
  {
   "cell_type": "code",
   "execution_count": null,
   "id": "6a98c701-b1f3-458a-bd3d-776eec87b8f5",
   "metadata": {},
   "outputs": [],
   "source": [
    "method = 'MAXIMUM_ENTROPY'\n",
    "\n",
    "threshold = ps.segmentation.compute_threshold(method = method, volumeNode = masked_volume_node)\n",
    "\n",
    "thresholds[method.upper()] = threshold\n",
    "\n",
    "print(method + \" threshold: \" + str(threshold))\n",
    "ps.volume.plot_histogram(masked_volume_node, threshold = threshold, title = method, yscale='log')"
   ]
  },
  {
   "cell_type": "markdown",
   "id": "36f76d55-2259-492a-a893-bea7ccc6a139",
   "metadata": {
    "tags": []
   },
   "source": [
    "MOMENTS thresholding"
   ]
  },
  {
   "cell_type": "code",
   "execution_count": null,
   "id": "a7bfa694-9deb-42be-b705-a76d0d264fda",
   "metadata": {},
   "outputs": [],
   "source": [
    "method = 'MOMENTS'\n",
    "\n",
    "threshold = ps.segmentation.compute_threshold(method = method, volumeNode = masked_volume_node)\n",
    "\n",
    "thresholds[method.upper()] = threshold\n",
    "\n",
    "print(method + \" threshold: \" + str(threshold))\n",
    "ps.volume.plot_histogram(masked_volume_node, threshold = threshold, title = method, yscale='log')"
   ]
  },
  {
   "cell_type": "markdown",
   "id": "918dc918-3831-4938-95cf-d3faafe0c205",
   "metadata": {
    "tags": []
   },
   "source": [
    "INTERMODES thresholding"
   ]
  },
  {
   "cell_type": "code",
   "execution_count": null,
   "id": "6080c43d-a60c-44ea-a114-4a7a7e894e1a",
   "metadata": {},
   "outputs": [],
   "source": [
    "method = 'INTERMODES'\n",
    "\n",
    "threshold = ps.segmentation.compute_threshold(method = method, volumeNode = masked_volume_node)\n",
    "\n",
    "thresholds[method.upper()] = threshold\n",
    "\n",
    "print(method + \" threshold: \" + str(threshold))\n",
    "ps.volume.plot_histogram(masked_volume_node, threshold = threshold, title = method, yscale='log')"
   ]
  },
  {
   "cell_type": "code",
   "execution_count": null,
   "id": "7497c84f-fcf5-49b3-a5a1-abc615d5ca2e",
   "metadata": {},
   "outputs": [],
   "source": [
    "method = 'LI'\n",
    "\n",
    "threshold = ps.segmentation.compute_threshold(method = method, volumeNode = masked_volume_node)\n",
    "\n",
    "thresholds[method.upper()] = threshold\n",
    "\n",
    "print(method + \" threshold: \" + str(threshold))\n",
    "ps.volume.plot_histogram(masked_volume_node, threshold = threshold, title = method, yscale='log')"
   ]
  },
  {
   "cell_type": "code",
   "execution_count": null,
   "id": "d723fd59-4f88-4f38-bb51-de82ebb7cb85",
   "metadata": {},
   "outputs": [],
   "source": [
    "method = 'KITTLER_ILLINGWORTH'\n",
    "\n",
    "threshold = ps.segmentation.compute_threshold(method = method, volumeNode = masked_volume_node)\n",
    "\n",
    "thresholds[method.upper()] = threshold\n",
    "\n",
    "print(method + \" threshold: \" + str(threshold))\n",
    "ps.volume.plot_histogram(masked_volume_node, threshold = threshold, title = method, yscale='log')"
   ]
  },
  {
   "cell_type": "code",
   "execution_count": null,
   "id": "2989f8dd-5e0d-4e53-852d-afc52390b422",
   "metadata": {},
   "outputs": [],
   "source": [
    "method = 'RENYI_ENTROPY'\n",
    "\n",
    "threshold = ps.segmentation.compute_threshold(method = method, volumeNode = masked_volume_node)\n",
    "\n",
    "thresholds[method.upper()] = threshold\n",
    "\n",
    "print(method + \" threshold: \" + str(threshold))\n",
    "ps.volume.plot_histogram(masked_volume_node, threshold = threshold, title = method, yscale='log')"
   ]
  },
  {
   "cell_type": "code",
   "execution_count": null,
   "id": "0a96d319-1bd3-4143-b1e6-e7b42288a737",
   "metadata": {},
   "outputs": [],
   "source": [
    "method = 'SHANBHAG'\n",
    "\n",
    "threshold = ps.segmentation.compute_threshold(method = method, volumeNode = masked_volume_node)\n",
    "\n",
    "thresholds[method.upper()] = threshold\n",
    "\n",
    "print(method + \" threshold: \" + str(threshold))\n",
    "ps.volume.plot_histogram(masked_volume_node, threshold = threshold, title = method, yscale='log')"
   ]
  },
  {
   "cell_type": "code",
   "execution_count": null,
   "id": "df83483c-f6bc-4e69-a098-c93f5cb7efcc",
   "metadata": {},
   "outputs": [],
   "source": [
    "method = 'YEN'\n",
    "\n",
    "threshold = ps.segmentation.compute_threshold(method = method, volumeNode = masked_volume_node)\n",
    "\n",
    "thresholds[method.upper()] = threshold\n",
    "\n",
    "print(method + \" threshold: \" + str(threshold))\n",
    "ps.volume.plot_histogram(masked_volume_node, threshold = threshold, title = method, yscale='log')"
   ]
  },
  {
   "cell_type": "code",
   "execution_count": null,
   "id": "d3be822d-aee3-4679-94ef-9b9030a7d18c",
   "metadata": {},
   "outputs": [],
   "source": [
    "method = 'TRIANGLE'\n",
    "\n",
    "threshold = ps.segmentation.compute_threshold(method = method, volumeNode = masked_volume_node)\n",
    "\n",
    "thresholds[method.upper()] = threshold\n",
    "\n",
    "print(method + \" threshold: \" + str(threshold))\n",
    "ps.volume.plot_histogram(masked_volume_node, threshold = threshold, title = method, yscale='log')"
   ]
  },
  {
   "cell_type": "markdown",
   "id": "098d4569-9e22-4de7-9375-61d1d66f9bc1",
   "metadata": {},
   "source": [
    "## Select thresholding values"
   ]
  },
  {
   "cell_type": "code",
   "execution_count": null,
   "id": "9d1fa3dc-e123-4f30-b506-a8917a70ceb6",
   "metadata": {},
   "outputs": [],
   "source": [
    "thresholds"
   ]
  },
  {
   "cell_type": "code",
   "execution_count": null,
   "id": "7f3e02bc-11cb-4dc2-ba6f-c77972245622",
   "metadata": {
    "scrolled": true
   },
   "outputs": [],
   "source": [
    "segments_greyvalues['Bone'] = [segments_greyvalues[\"All\"][0], thresholds['INTERMODES']]\n",
    "segments_greyvalues['Scaffold'] = [thresholds['INTERMODES'], 255]\n",
    "segments_greyvalues"
   ]
  },
  {
   "cell_type": "code",
   "execution_count": null,
   "id": "32b8b287-b1c4-4af4-8e13-a11ac292a7bd",
   "metadata": {},
   "outputs": [],
   "source": [
    "grey_df = pd.DataFrame(segments_greyvalues)\n",
    "\n",
    "outputfile = output_directory / 'segments_greyvalues.csv'\n",
    "grey_df.to_csv(outputfile, index=False)"
   ]
  },
  {
   "cell_type": "code",
   "execution_count": null,
   "id": "a10c71f4-ae85-49c8-9ca7-fea2bcc8610b",
   "metadata": {},
   "outputs": [],
   "source": [
    "title = 'FINAL THRESHOLDS'\n",
    "yscale = 'log'\n",
    "threshold = [segments_greyvalues[\"All\"][0], thresholds['INTERMODES']]\n",
    "xlabel='Voxel Intensity'\n",
    "ylabel='Counts'\n",
    "\n",
    "import JupyterNotebooksLib as slicernb\n",
    "import numpy as np\n",
    "import matplotlib.pyplot as plt\n",
    "import matplotlib\n",
    "\n",
    "# Extract all voxels of the volume as numpy array\n",
    "volumeArray = slicer.util.arrayFromVolume(masterVolumeNode)\n",
    "\n",
    "matplotlib.use('Agg')\n",
    "\n",
    "# Get a volume from SampleData and compute its histogram\n",
    "histogram = np.histogram(volumeArray, bins=50)\n",
    "\n",
    "# Show a plot using matplotlib\n",
    "fig, ax = plt.subplots()\n",
    "ax.plot(histogram[1][1:], histogram[0].astype(float))\n",
    "plt.xlabel(xlabel)\n",
    "plt.ylabel(ylabel)\n",
    "if title:\n",
    "    plt.title(title)\n",
    " \n",
    "if yscale:\n",
    "    plt.yscale(yscale)\n",
    " \n",
    "if threshold != None:\n",
    "    if isinstance(threshold, float):\n",
    "        ax.axvline(threshold, color='r')\n",
    "    else: # threshold is a list\n",
    "        for thresh in threshold:\n",
    "            ax.axvline(thresh, color='r')\n",
    "\n",
    "fig.savefig(output_dir_path + '/thresholds_plot.png')   # save the figure to file\n",
    "\n",
    "slicernb.MatplotlibDisplay(plt)"
   ]
  },
  {
   "cell_type": "markdown",
   "id": "4528e9b6-30e2-489d-a942-a35dd2144df3",
   "metadata": {},
   "source": [
    "Remove a node from 3D Slicer using Python scripting"
   ]
  },
  {
   "cell_type": "code",
   "execution_count": null,
   "id": "dbb6a9e3-7fe9-43f2-92e3-49c7e8e2fc97",
   "metadata": {},
   "outputs": [],
   "source": [
    "# # Function to remove a node by its name\n",
    "# def remove_node_by_name(node_name):\n",
    "#     # Get the MRML scene\n",
    "#     scene = slicer.mrmlScene\n",
    "    \n",
    "#     # Find the node by name\n",
    "#     node = scene.GetFirstNodeByName(node_name)\n",
    "    \n",
    "#     # Check if the node exists\n",
    "#     if node:\n",
    "#         # Remove the node from the scene\n",
    "#         scene.RemoveNode(node)\n",
    "#         print(f\"Node '{node_name}' has been removed.\")\n",
    "#     else:\n",
    "#         print(f\"Node '{node_name}' not found.\")\n",
    "\n",
    "# # Example usage\n",
    "# node_name_to_remove = \"vtkMRMLScalarVolumeNode1\"  # Replace with your node name\n",
    "# remove_node_by_name(node_name_to_remove)"
   ]
  },
  {
   "cell_type": "code",
   "execution_count": null,
   "id": "8ae8cb03-9bd4-4a12-b58c-c695b73bd5b5",
   "metadata": {},
   "outputs": [],
   "source": [
    "# # Get the MRML scene\n",
    "# scene = slicer.mrmlScene\n",
    "\n",
    "# scene.RemoveNode(masked_volume_node)"
   ]
  }
 ],
 "metadata": {
  "kernelspec": {
   "display_name": "Slicer 5.6",
   "language": "python",
   "name": "slicer-5.6"
  },
  "language_info": {
   "file_extension": ".py",
   "mimetype": "text/x-python",
   "name": "python",
   "version": "3.9.10"
  },
  "toc-autonumbering": true
 },
 "nbformat": 4,
 "nbformat_minor": 5
}
