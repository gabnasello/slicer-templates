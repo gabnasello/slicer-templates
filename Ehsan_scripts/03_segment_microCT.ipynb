{
 "cells": [
  {
   "cell_type": "markdown",
   "id": "e9e365a5-96dd-44ec-9271-cb778da070dd",
   "metadata": {
    "editable": true,
    "papermill": {
     "duration": 0.019313,
     "end_time": "2024-06-04T22:38:12.205826",
     "exception": false,
     "start_time": "2024-06-04T22:38:12.186513",
     "status": "completed"
    },
    "slideshow": {
     "slide_type": ""
    },
    "tags": []
   },
   "source": [
    "<span STYLE=\"font-size:150%\"> \n",
    "    Segment microCT scans\n",
    "</span>\n",
    "\n",
    "Docker image: gnasello/slicer-env:2023-07-06 \\\n",
    "Latest update: 10 March 2023"
   ]
  },
  {
   "cell_type": "markdown",
   "id": "b06273b8-ed89-406c-af12-191b17fdc261",
   "metadata": {
    "papermill": {
     "duration": 0.007578,
     "end_time": "2024-06-04T22:38:12.225025",
     "exception": false,
     "start_time": "2024-06-04T22:38:12.217447",
     "status": "completed"
    },
    "tags": []
   },
   "source": [
    "- load image stack in Slicer\n",
    "- segment mineralized tissue\n",
    "- compute segmented statistics (volumes)"
   ]
  },
  {
   "cell_type": "markdown",
   "id": "8a604800-71f1-47b6-af62-7668c5af1d19",
   "metadata": {
    "papermill": {
     "duration": 0.006194,
     "end_time": "2024-06-04T22:38:12.237194",
     "exception": false,
     "start_time": "2024-06-04T22:38:12.231000",
     "status": "completed"
    },
    "tags": []
   },
   "source": [
    "# Load libraries"
   ]
  },
  {
   "cell_type": "code",
   "execution_count": null,
   "id": "ee34ac62-8898-4805-813b-a1b5573a675e",
   "metadata": {
    "papermill": {
     "duration": 0.265007,
     "end_time": "2024-06-04T22:38:12.508082",
     "exception": false,
     "start_time": "2024-06-04T22:38:12.243075",
     "status": "completed"
    },
    "tags": []
   },
   "outputs": [],
   "source": [
    "import pyslicer as ps\n",
    "import slicer\n",
    "from pathlib import Path\n",
    "import pandas as pd\n",
    "import numpy as np\n",
    "import os\n",
    "from ScreenCapture import ScreenCaptureLogic"
   ]
  },
  {
   "cell_type": "markdown",
   "id": "96139740-037b-4593-a20d-f5e8c394493a",
   "metadata": {
    "papermill": {
     "duration": 0.009736,
     "end_time": "2024-06-04T22:38:12.534499",
     "exception": false,
     "start_time": "2024-06-04T22:38:12.524763",
     "status": "completed"
    },
    "tags": []
   },
   "source": [
    "# Volume input"
   ]
  },
  {
   "cell_type": "markdown",
   "id": "dbd53820-e196-4bef-9f89-e81c638bb281",
   "metadata": {
    "papermill": {
     "duration": 0.005904,
     "end_time": "2024-06-04T22:38:12.547652",
     "exception": false,
     "start_time": "2024-06-04T22:38:12.541748",
     "status": "completed"
    },
    "tags": []
   },
   "source": [
    "## Load `.nrrd` file into 3D Slicer"
   ]
  },
  {
   "cell_type": "markdown",
   "id": "0f8c273a-7361-4112-90c4-64e98d318d02",
   "metadata": {
    "editable": true,
    "papermill": {
     "duration": 0.018323,
     "end_time": "2024-06-04T22:38:12.573443",
     "exception": false,
     "start_time": "2024-06-04T22:38:12.555120",
     "status": "completed"
    },
    "slideshow": {
     "slide_type": ""
    },
    "tags": []
   },
   "source": [
    "Write the path of the `.nrrd` file and load it to Slicer"
   ]
  },
  {
   "cell_type": "code",
   "execution_count": null,
   "id": "b1c2443d-a03c-4db9-b886-faceb7af2363",
   "metadata": {
    "editable": true,
    "papermill": {
     "duration": 0.025062,
     "end_time": "2024-06-04T22:38:12.609180",
     "exception": false,
     "start_time": "2024-06-04T22:38:12.584118",
     "status": "completed"
    },
    "slideshow": {
     "slide_type": ""
    },
    "tags": [
     "parameters"
    ]
   },
   "outputs": [],
   "source": [
    "# this cell is tagged 'parameters'\n",
    "volume_file = 'microCT_volume/microCT_volume.nrrd'\n",
    "output_dir_path = 'segmented_volumes'"
   ]
  },
  {
   "cell_type": "code",
   "execution_count": null,
   "id": "d5355e20-94ae-419b-9661-2c62dca0747e",
   "metadata": {
    "editable": true,
    "papermill": {
     "duration": 0.024367,
     "end_time": "2024-06-04T22:38:12.675513",
     "exception": false,
     "start_time": "2024-06-04T22:38:12.651146",
     "status": "completed"
    },
    "slideshow": {
     "slide_type": ""
    },
    "tags": []
   },
   "outputs": [],
   "source": [
    "path = Path(volume_file)\n",
    "\n",
    "# Remove image numbering _0000, _0001 ...\n",
    "filename_output = path.stem[:-4]"
   ]
  },
  {
   "cell_type": "code",
   "execution_count": null,
   "id": "431b8505-9923-40da-8ad8-fa22d8229227",
   "metadata": {
    "papermill": {
     "duration": 37.637223,
     "end_time": "2024-06-04T22:38:50.318420",
     "exception": false,
     "start_time": "2024-06-04T22:38:12.681197",
     "status": "completed"
    },
    "tags": []
   },
   "outputs": [],
   "source": [
    "masterVolumeNode = slicer.util.loadNodeFromFile(volume_file)"
   ]
  },
  {
   "cell_type": "markdown",
   "id": "23dd2291-2ccc-4b32-b6b8-850a346648c1",
   "metadata": {
    "papermill": {
     "duration": 0.015321,
     "end_time": "2024-06-04T22:38:50.346197",
     "exception": false,
     "start_time": "2024-06-04T22:38:50.330876",
     "status": "completed"
    },
    "tags": []
   },
   "source": [
    "Print spacing"
   ]
  },
  {
   "cell_type": "code",
   "execution_count": null,
   "id": "30f6aec2-0777-4bba-bcff-7f187c176336",
   "metadata": {
    "papermill": {
     "duration": 0.024753,
     "end_time": "2024-06-04T22:38:50.379600",
     "exception": false,
     "start_time": "2024-06-04T22:38:50.354847",
     "status": "completed"
    },
    "tags": []
   },
   "outputs": [],
   "source": [
    "## mm\n",
    "masterVolumeNode.GetSpacing()"
   ]
  },
  {
   "cell_type": "markdown",
   "id": "1fb1718c-d59d-49be-bb9b-481e876d42ab",
   "metadata": {
    "papermill": {
     "duration": 0.007143,
     "end_time": "2024-06-04T22:38:50.394598",
     "exception": false,
     "start_time": "2024-06-04T22:38:50.387455",
     "status": "completed"
    },
    "tags": []
   },
   "source": [
    "Make ```segmented_volumes``` folder"
   ]
  },
  {
   "cell_type": "code",
   "execution_count": null,
   "id": "6d8fc3ca-c210-4987-87d7-155a4892738f",
   "metadata": {
    "editable": true,
    "papermill": {
     "duration": 0.01974,
     "end_time": "2024-06-04T22:38:50.420609",
     "exception": false,
     "start_time": "2024-06-04T22:38:50.400869",
     "status": "completed"
    },
    "slideshow": {
     "slide_type": ""
    },
    "tags": []
   },
   "outputs": [],
   "source": [
    "output_directory = Path(output_dir_path)\n",
    "\n",
    "output_directory.mkdir(parents=True, exist_ok=True)"
   ]
  },
  {
   "cell_type": "markdown",
   "id": "4fc8e675-b224-4cf4-b500-63144e06231c",
   "metadata": {
    "papermill": {
     "duration": 0.006928,
     "end_time": "2024-06-04T22:38:50.435004",
     "exception": false,
     "start_time": "2024-06-04T22:38:50.428076",
     "status": "completed"
    },
    "tags": []
   },
   "source": [
    "## Adjust window/level (brightness/contrast)"
   ]
  },
  {
   "cell_type": "markdown",
   "id": "149bfe9f-c7d9-495a-b260-9676a98ace35",
   "metadata": {
    "papermill": {
     "duration": 0.021157,
     "end_time": "2024-06-04T22:38:50.463288",
     "exception": false,
     "start_time": "2024-06-04T22:38:50.442131",
     "status": "completed"
    },
    "tags": []
   },
   "source": [
    "Adjust the image window/level from the GUI. It is enough to select a region where the signal is present ([youtube](https://slicer.readthedocs.io/en/latest/user_guide/user_interface.html#adjusting-image-window-level)). \n",
    "\n",
    "After, get the Window and Level properties from the displayNode associate to the VolumeNode and apply them programmatically anytime you run again the same image.\n",
    "\n",
    "For more information on the relationship between window/level and brightness/contrast, see [Window and Level Contrast Enhancement](http://fisica.ciens.ucv.ve/curs/dipcourse/html/one-oper/window-level/front-page.html)"
   ]
  },
  {
   "cell_type": "code",
   "execution_count": null,
   "id": "8c4ce52e-a65b-40c0-8854-34f1974b4738",
   "metadata": {
    "papermill": {
     "duration": 0.019195,
     "end_time": "2024-06-04T22:38:50.495678",
     "exception": false,
     "start_time": "2024-06-04T22:38:50.476483",
     "status": "completed"
    },
    "scrolled": true,
    "tags": []
   },
   "outputs": [],
   "source": [
    "displayNode = masterVolumeNode.GetDisplayNode()\n",
    "print('displayNode.SetWindow(' + str(displayNode.GetWindow()) + ')')\n",
    "print('displayNode.SetLevel(' + str(displayNode.GetLevel()) + ')')"
   ]
  },
  {
   "cell_type": "code",
   "execution_count": null,
   "id": "ae1d41db-d0df-44d0-a3da-a900a6ec32e1",
   "metadata": {
    "papermill": {
     "duration": 0.016065,
     "end_time": "2024-06-04T22:38:50.518065",
     "exception": false,
     "start_time": "2024-06-04T22:38:50.502000",
     "status": "completed"
    },
    "tags": []
   },
   "outputs": [],
   "source": [
    "# displayNode = masterVolumeNode.GetDisplayNode()\n",
    "# displayNode.AutoWindowLevelOff()\n",
    "# displayNode.SetWindow(25885.0)\n",
    "# displayNode.SetLevel(18464.5)"
   ]
  },
  {
   "cell_type": "markdown",
   "id": "893d7e6a-dea5-4a8b-b571-0d82fd9aa5cc",
   "metadata": {},
   "source": [
    "# Take screenshots of original image"
   ]
  },
  {
   "cell_type": "code",
   "execution_count": null,
   "id": "c70d4409-a408-4b72-b56c-702c5c3c1ef1",
   "metadata": {
    "editable": true,
    "papermill": {
     "duration": 0.01974,
     "end_time": "2024-06-04T22:38:50.420609",
     "exception": false,
     "start_time": "2024-06-04T22:38:50.400869",
     "status": "completed"
    },
    "slideshow": {
     "slide_type": ""
    },
    "tags": []
   },
   "outputs": [],
   "source": [
    "screenshots_directory = output_directory / 'Screenshots'\n",
    "\n",
    "screenshots_directory.mkdir(parents=True, exist_ok=True)"
   ]
  },
  {
   "cell_type": "code",
   "execution_count": null,
   "id": "65abab66-74d1-49ce-a105-9a3eed65c523",
   "metadata": {},
   "outputs": [],
   "source": [
    "# Function to capture a screenshot of a specific view\n",
    "def capture_view(view, output_path):\n",
    "    screen_capture_logic = ScreenCaptureLogic()\n",
    "    screen_capture_logic.captureImageFromView(view, output_path)\n",
    "\n",
    "# Get the layout manager\n",
    "layout_manager = slicer.app.layoutManager()\n",
    "\n",
    "# Capture screenshots of the Red, Yellow, Green, and 3D views\n",
    "views = {\n",
    "    'Red': layout_manager.sliceWidget('Red').sliceView(),\n",
    "    'Yellow': layout_manager.sliceWidget('Yellow').sliceView(),\n",
    "    'Green': layout_manager.sliceWidget('Green').sliceView(),\n",
    "    # '3D': layout_manager.threeDWidget(0).threeDView()\n",
    "}\n",
    "\n",
    "for view_name, view_widget in views.items():\n",
    "    output_path = os.path.join(str(screenshots_directory), f'{view_name}_original_view.png')\n",
    "    capture_view(view_widget, output_path)\n",
    "    print(f'Screenshot saved: {output_path}')\n",
    "\n",
    "print('Screenshots captured successfully.')\n"
   ]
  },
  {
   "cell_type": "markdown",
   "id": "43c2067b-72cf-4132-a55e-8192d9d7989a",
   "metadata": {
    "papermill": {
     "duration": 0.01641,
     "end_time": "2024-06-04T22:38:50.549864",
     "exception": false,
     "start_time": "2024-06-04T22:38:50.533454",
     "status": "completed"
    },
    "tags": []
   },
   "source": [
    "# Create segmentationNode"
   ]
  },
  {
   "cell_type": "markdown",
   "id": "d556eb23-38fa-44db-ae37-840642e803e7",
   "metadata": {
    "papermill": {
     "duration": 0.006862,
     "end_time": "2024-06-04T22:38:50.566714",
     "exception": false,
     "start_time": "2024-06-04T22:38:50.559852",
     "status": "completed"
    },
    "tags": []
   },
   "source": [
    "## Create segmentation-related nodes"
   ]
  },
  {
   "cell_type": "markdown",
   "id": "0ab7695b-0b95-456b-8fd8-22bd7eea5efe",
   "metadata": {
    "papermill": {
     "duration": 0.006518,
     "end_time": "2024-06-04T22:38:50.579742",
     "exception": false,
     "start_time": "2024-06-04T22:38:50.573224",
     "status": "completed"
    },
    "tags": []
   },
   "source": [
    "Create segmentation node"
   ]
  },
  {
   "cell_type": "code",
   "execution_count": null,
   "id": "3af57565-1da8-4124-bb96-6e8ce0860d1e",
   "metadata": {
    "papermill": {
     "duration": 0.022589,
     "end_time": "2024-06-04T22:38:50.608400",
     "exception": false,
     "start_time": "2024-06-04T22:38:50.585811",
     "status": "completed"
    },
    "tags": []
   },
   "outputs": [],
   "source": [
    "segmentationNode = ps.segmentation.segmentationNode(name='Segmentation')"
   ]
  },
  {
   "cell_type": "markdown",
   "id": "23a39787-a0b4-403c-8e39-f9e9d5c20bd6",
   "metadata": {
    "papermill": {
     "duration": 0.009482,
     "end_time": "2024-06-04T22:38:50.625368",
     "exception": false,
     "start_time": "2024-06-04T22:38:50.615886",
     "status": "completed"
    },
    "tags": []
   },
   "source": [
    "Create temporary segment editor to get access to effects"
   ]
  },
  {
   "cell_type": "code",
   "execution_count": null,
   "id": "0defe996-4c60-4375-b12b-a7026d057b52",
   "metadata": {
    "papermill": {
     "duration": 3.65027,
     "end_time": "2024-06-04T22:38:54.297377",
     "exception": false,
     "start_time": "2024-06-04T22:38:50.647107",
     "status": "completed"
    },
    "tags": []
   },
   "outputs": [],
   "source": [
    "segmentEditorWidget, segmentEditorNode = ps.segmentation.segmentEditorWidget(segmentationNode = segmentationNode, \n",
    "                                                                             masterVolumeNode = masterVolumeNode)"
   ]
  },
  {
   "cell_type": "markdown",
   "id": "e6e6599a-6624-48c1-aecc-c68ea2350427",
   "metadata": {
    "papermill": {
     "duration": 0.020692,
     "end_time": "2024-06-04T22:38:54.335893",
     "exception": false,
     "start_time": "2024-06-04T22:38:54.315201",
     "status": "completed"
    },
    "tags": []
   },
   "source": [
    "# Thresholding"
   ]
  },
  {
   "cell_type": "markdown",
   "id": "9b8ee609-ac3f-4677-9ea1-ef5296796d52",
   "metadata": {
    "papermill": {
     "duration": 0.007143,
     "end_time": "2024-06-04T22:38:54.351221",
     "exception": false,
     "start_time": "2024-06-04T22:38:54.344078",
     "status": "completed"
    },
    "tags": []
   },
   "source": [
    "Load thresholding values"
   ]
  },
  {
   "cell_type": "code",
   "execution_count": null,
   "id": "f5733a32-31a2-4c0e-abe8-7e75d3f7c94b",
   "metadata": {
    "papermill": {
     "duration": 0.025259,
     "end_time": "2024-06-04T22:38:54.382873",
     "exception": false,
     "start_time": "2024-06-04T22:38:54.357614",
     "status": "completed"
    },
    "tags": []
   },
   "outputs": [],
   "source": [
    "df_greyvalues = pd.read_csv(str(output_directory / 'segments_greyvalues.csv'))\n",
    "\n",
    "segments_greyvalues = df_greyvalues.to_dict()\n",
    "segments_greyvalues"
   ]
  },
  {
   "cell_type": "markdown",
   "id": "e4ee0270-5aac-477c-9aba-5088472a9a2d",
   "metadata": {
    "papermill": {
     "duration": 0.008123,
     "end_time": "2024-06-04T22:38:54.399799",
     "exception": false,
     "start_time": "2024-06-04T22:38:54.391676",
     "status": "completed"
    },
    "tags": []
   },
   "source": [
    "## Create segments by thresholding"
   ]
  },
  {
   "cell_type": "code",
   "execution_count": null,
   "id": "e60ff0ed-a022-43db-99b2-826b53e6c2ec",
   "metadata": {
    "papermill": {
     "duration": 32.707582,
     "end_time": "2024-06-04T22:39:27.113471",
     "exception": false,
     "start_time": "2024-06-04T22:38:54.405889",
     "status": "completed"
    },
    "tags": []
   },
   "outputs": [],
   "source": [
    "ps.segmentation.segments_by_thresholding(dict((k, segments_greyvalues[k]) for k in ('Bone', 'Scaffold')) , \n",
    "                                         segmentationNode,\n",
    "                                         segmentEditorNode,\n",
    "                                         segmentEditorWidget)"
   ]
  },
  {
   "cell_type": "markdown",
   "id": "1af2bf00-5b93-4aeb-8f1b-71d5c2ab17b3",
   "metadata": {
    "papermill": {
     "duration": 0.018979,
     "end_time": "2024-06-04T22:39:27.161679",
     "exception": false,
     "start_time": "2024-06-04T22:39:27.142700",
     "status": "completed"
    },
    "tags": []
   },
   "source": [
    "Set segments color"
   ]
  },
  {
   "cell_type": "code",
   "execution_count": null,
   "id": "91f790cf-b870-4f08-8b15-89471ba4d7e5",
   "metadata": {
    "papermill": {
     "duration": 0.013967,
     "end_time": "2024-06-04T22:39:27.186374",
     "exception": false,
     "start_time": "2024-06-04T22:39:27.172407",
     "status": "completed"
    },
    "tags": []
   },
   "outputs": [],
   "source": [
    "segments_color = {\n",
    "    \"Bone\": (0.9450980392156862, 0.8392156862745098, 0.5686274509803921), # \"Bone\" color in Slicer\n",
    "    \"Scaffold\": (1, 1, 225/250), # \"Bone\" color in Slicer\n",
    "    }\n",
    "\n",
    "segments_color"
   ]
  },
  {
   "cell_type": "code",
   "execution_count": null,
   "id": "e1fcfc37-a9cd-4415-a0b7-b0a68c6e3117",
   "metadata": {
    "papermill": {
     "duration": 0.017875,
     "end_time": "2024-06-04T22:39:27.210572",
     "exception": false,
     "start_time": "2024-06-04T22:39:27.192697",
     "status": "completed"
    },
    "tags": []
   },
   "outputs": [],
   "source": [
    "ps.segmentation.set_segments_color(segments_color, segmentationNode)"
   ]
  },
  {
   "cell_type": "markdown",
   "id": "de154c45-0aa3-4fad-8941-b9f557886abe",
   "metadata": {
    "papermill": {
     "duration": 0.008675,
     "end_time": "2024-06-04T22:39:27.226818",
     "exception": false,
     "start_time": "2024-06-04T22:39:27.218143",
     "status": "completed"
    },
    "tags": []
   },
   "source": [
    "# Operation on segments"
   ]
  },
  {
   "cell_type": "markdown",
   "id": "e27b5d1a-3aa9-440d-8703-3d07db3588eb",
   "metadata": {
    "papermill": {
     "duration": 0.012145,
     "end_time": "2024-06-04T22:39:27.253532",
     "exception": false,
     "start_time": "2024-06-04T22:39:27.241387",
     "status": "completed"
    },
    "tags": []
   },
   "source": [
    "## Manual fix of the segmentation"
   ]
  },
  {
   "cell_type": "markdown",
   "id": "0edf5e8f-8b82-4635-9eaf-c667b148fcbb",
   "metadata": {
    "papermill": {
     "duration": 0.006959,
     "end_time": "2024-06-04T22:39:27.268425",
     "exception": false,
     "start_time": "2024-06-04T22:39:27.261466",
     "status": "completed"
    },
    "tags": []
   },
   "source": [
    "Sometimes it might be necessary to remove speckles at the image boundaries. If so, use the `scissor` tool in the `Segment Editor` before proceeding with the rest of the script. "
   ]
  },
  {
   "cell_type": "markdown",
   "id": "ce968233-8300-4abf-a79b-99d872ed9273",
   "metadata": {
    "papermill": {
     "duration": 0.006912,
     "end_time": "2024-06-04T22:39:27.282038",
     "exception": false,
     "start_time": "2024-06-04T22:39:27.275126",
     "status": "completed"
    },
    "tags": []
   },
   "source": [
    "## Keep largest islands"
   ]
  },
  {
   "cell_type": "code",
   "execution_count": null,
   "id": "528bcf97-2629-4681-b659-aac99a789405",
   "metadata": {
    "papermill": {
     "duration": 0.018052,
     "end_time": "2024-06-04T22:39:27.306614",
     "exception": false,
     "start_time": "2024-06-04T22:39:27.288562",
     "status": "completed"
    },
    "tags": []
   },
   "outputs": [],
   "source": [
    "# segment_name = 'Scaffold'\n",
    "# minimum_size = 2000 #number of voxels"
   ]
  },
  {
   "cell_type": "code",
   "execution_count": null,
   "id": "cae26ff6-42c5-449c-bef5-aa53d607e302",
   "metadata": {
    "papermill": {
     "duration": 0.033249,
     "end_time": "2024-06-04T22:39:27.352253",
     "exception": false,
     "start_time": "2024-06-04T22:39:27.319004",
     "status": "completed"
    },
    "tags": []
   },
   "outputs": [],
   "source": [
    "# ps.segmentation.keep_largest_island(minimum_size, \n",
    "#                                     segment_name, \n",
    "#                                     segmentEditorNode,\n",
    "#                                     segmentEditorWidget)"
   ]
  },
  {
   "cell_type": "markdown",
   "id": "be884a0c-26fe-46ab-8edd-dbcdd050c32f",
   "metadata": {
    "papermill": {
     "duration": 0.013219,
     "end_time": "2024-06-04T22:39:27.382021",
     "exception": false,
     "start_time": "2024-06-04T22:39:27.368802",
     "status": "completed"
    },
    "tags": []
   },
   "source": [
    "## Remove small islands"
   ]
  },
  {
   "cell_type": "markdown",
   "id": "414efee1-e770-4a31-aa9a-cfa0d67ee45a",
   "metadata": {
    "papermill": {
     "duration": 0.006847,
     "end_time": "2024-06-04T22:39:27.398084",
     "exception": false,
     "start_time": "2024-06-04T22:39:27.391237",
     "status": "completed"
    },
    "tags": []
   },
   "source": [
    "REMOVE_SMALL_ISLANDS operation from the [SegmentEditorIslandsEffect](https://github.com/Slicer/Slicer/blob/294ef47edbac2ccb194d5ee982a493696795cdc0/Modules/Loadable/Segmentations/EditorEffects/Python/SegmentEditorIslandsEffect.py#L402)"
   ]
  },
  {
   "cell_type": "code",
   "execution_count": null,
   "id": "a3ea1a94-4585-4591-8194-7147a48d750a",
   "metadata": {
    "papermill": {
     "duration": 0.01742,
     "end_time": "2024-06-04T22:39:27.422077",
     "exception": false,
     "start_time": "2024-06-04T22:39:27.404657",
     "status": "completed"
    },
    "tags": []
   },
   "outputs": [],
   "source": [
    "# segment_name = 'Bone'\n",
    "# minimum_size = 20 #number of voxels"
   ]
  },
  {
   "cell_type": "code",
   "execution_count": null,
   "id": "1fcadc44-db10-4e31-a887-72d221048a25",
   "metadata": {
    "papermill": {
     "duration": 0.022969,
     "end_time": "2024-06-04T22:39:27.453595",
     "exception": false,
     "start_time": "2024-06-04T22:39:27.430626",
     "status": "completed"
    },
    "tags": []
   },
   "outputs": [],
   "source": [
    "# ps.segmentation.remove_small_islands(minimum_size, \n",
    "#                                      segment_name, \n",
    "#                                      segmentEditorNode,\n",
    "#                                      segmentEditorWidget)"
   ]
  },
  {
   "cell_type": "markdown",
   "id": "a4c6c0c1-240b-405f-b40c-bf786447f5ea",
   "metadata": {
    "papermill": {
     "duration": 0.007554,
     "end_time": "2024-06-04T22:39:27.469642",
     "exception": false,
     "start_time": "2024-06-04T22:39:27.462088",
     "status": "completed"
    },
    "tags": []
   },
   "source": [
    "## Smoothing thresholded segment"
   ]
  },
  {
   "cell_type": "code",
   "execution_count": null,
   "id": "dcaa466a-c5d7-45e7-8f64-c0d212197c48",
   "metadata": {
    "papermill": {
     "duration": 0.017443,
     "end_time": "2024-06-04T22:39:27.497457",
     "exception": false,
     "start_time": "2024-06-04T22:39:27.480014",
     "status": "completed"
    },
    "tags": []
   },
   "outputs": [],
   "source": [
    "# segment_name = 'Bone'\n",
    "# gaussiaSD_mm = 0.001 #units are in millimiters"
   ]
  },
  {
   "cell_type": "code",
   "execution_count": null,
   "id": "bd736688-a36e-487e-a7ed-b7fbd970126c",
   "metadata": {
    "papermill": {
     "duration": 0.018229,
     "end_time": "2024-06-04T22:39:27.522407",
     "exception": false,
     "start_time": "2024-06-04T22:39:27.504178",
     "status": "completed"
    },
    "tags": []
   },
   "outputs": [],
   "source": [
    "# ps.segmentation.gaussian_smoothing(gaussiaSD_mm, \n",
    "#                                    segment_name, \n",
    "#                                    segmentEditorNode, \n",
    "#                                    segmentEditorWidget)"
   ]
  },
  {
   "cell_type": "code",
   "execution_count": null,
   "id": "c8293211-9006-446b-b8d6-04ca813750fe",
   "metadata": {
    "papermill": {
     "duration": 0.023015,
     "end_time": "2024-06-04T22:39:27.553978",
     "exception": false,
     "start_time": "2024-06-04T22:39:27.530963",
     "status": "completed"
    },
    "tags": []
   },
   "outputs": [],
   "source": [
    "# segment_name = 'Scaffold'\n",
    "# gaussiaSD_mm = 0.001 #units are in millimiters"
   ]
  },
  {
   "cell_type": "code",
   "execution_count": null,
   "id": "e73fa85f-8a9c-48e4-be6e-5598d702f903",
   "metadata": {
    "papermill": {
     "duration": 0.02126,
     "end_time": "2024-06-04T22:39:27.592636",
     "exception": false,
     "start_time": "2024-06-04T22:39:27.571376",
     "status": "completed"
    },
    "tags": []
   },
   "outputs": [],
   "source": [
    "# ps.segmentation.gaussian_smoothing(gaussiaSD_mm, \n",
    "#                                    segment_name, \n",
    "#                                    segmentEditorNode, \n",
    "#                                    segmentEditorWidget)"
   ]
  },
  {
   "cell_type": "markdown",
   "id": "71062d4f-2f82-4bcf-887f-963e26a5c61c",
   "metadata": {},
   "source": [
    "# Save screenshots"
   ]
  },
  {
   "cell_type": "code",
   "execution_count": null,
   "id": "13303e8a-fd1b-41d9-bc2a-36eda79a018d",
   "metadata": {},
   "outputs": [],
   "source": [
    "# Function to capture a screenshot of a specific view\n",
    "def capture_view(view, output_path):\n",
    "    screen_capture_logic = ScreenCaptureLogic()\n",
    "    screen_capture_logic.captureImageFromView(view, output_path)\n",
    "\n",
    "# Get the layout manager\n",
    "layout_manager = slicer.app.layoutManager()\n",
    "\n",
    "# Capture screenshots of the Red, Yellow, Green, and 3D views\n",
    "views = {\n",
    "    'Red': layout_manager.sliceWidget('Red').sliceView(),\n",
    "    'Yellow': layout_manager.sliceWidget('Yellow').sliceView(),\n",
    "    'Green': layout_manager.sliceWidget('Green').sliceView(),\n",
    "    # '3D': layout_manager.threeDWidget(0).threeDView()\n",
    "}\n",
    "\n",
    "for view_name, view_widget in views.items():\n",
    "    output_path = os.path.join(str(screenshots_directory), f'{view_name}_segmented_view.png')\n",
    "    capture_view(view_widget, output_path)\n",
    "    print(f'Screenshot saved: {output_path}')\n",
    "\n",
    "print('Screenshots captured successfully.')\n"
   ]
  },
  {
   "cell_type": "markdown",
   "id": "0135e5e9-cec8-48ae-bed8-57f212ef983d",
   "metadata": {
    "papermill": {
     "duration": 0.008162,
     "end_time": "2024-06-04T22:39:27.610015",
     "exception": false,
     "start_time": "2024-06-04T22:39:27.601853",
     "status": "completed"
    },
    "tags": []
   },
   "source": [
    "# Export segments"
   ]
  },
  {
   "cell_type": "markdown",
   "id": "299998fa-4c18-4b69-8c5d-bc13066a1d1f",
   "metadata": {
    "papermill": {
     "duration": 0.006598,
     "end_time": "2024-06-04T22:39:27.623323",
     "exception": false,
     "start_time": "2024-06-04T22:39:27.616725",
     "status": "completed"
    },
    "tags": []
   },
   "source": [
    "## As seg.nrrd file (labelmap node)"
   ]
  },
  {
   "cell_type": "markdown",
   "id": "808af064-05f2-4f4b-b292-5cb1ce76bf9a",
   "metadata": {
    "papermill": {
     "duration": 0.0066,
     "end_time": "2024-06-04T22:39:27.636493",
     "exception": false,
     "start_time": "2024-06-04T22:39:27.629893",
     "status": "completed"
    },
    "tags": []
   },
   "source": [
    "Export a selection of segments (identified by their names), from [slicer tutorial](https://slicer.readthedocs.io/en/latest/developer_guide/script_repository.html#export-labelmap-node-from-segmentation-node)"
   ]
  },
  {
   "cell_type": "markdown",
   "id": "67d49ed1-4998-40d6-b375-6ce826e3a7cf",
   "metadata": {
    "papermill": {
     "duration": 0.006599,
     "end_time": "2024-06-04T22:39:27.649584",
     "exception": false,
     "start_time": "2024-06-04T22:39:27.642985",
     "status": "completed"
    },
    "tags": []
   },
   "source": [
    "Bone LabelmapNode"
   ]
  },
  {
   "cell_type": "code",
   "execution_count": null,
   "id": "3c5aa6ec-1d59-48a5-98d0-e39b5ba1a713",
   "metadata": {
    "papermill": {
     "duration": 0.01037,
     "end_time": "2024-06-04T22:39:27.666472",
     "exception": false,
     "start_time": "2024-06-04T22:39:27.656102",
     "status": "completed"
    },
    "tags": []
   },
   "outputs": [],
   "source": [
    "seg_name = 'Bone'"
   ]
  },
  {
   "cell_type": "code",
   "execution_count": null,
   "id": "7e67c502-b901-49a3-bca5-577ace0f9a36",
   "metadata": {
    "papermill": {
     "duration": 12.992639,
     "end_time": "2024-06-04T22:39:40.747396",
     "exception": false,
     "start_time": "2024-06-04T22:39:27.754757",
     "status": "completed"
    },
    "tags": []
   },
   "outputs": [],
   "source": [
    "mineralized_labelmap = ps.segmentation.individual_segment_to_labelmapNode(segmentName = seg_name,\n",
    "                                                                          segmentationNode = segmentationNode,\n",
    "                                                                          volumeNode = masterVolumeNode)"
   ]
  },
  {
   "cell_type": "code",
   "execution_count": null,
   "id": "683f317a-d0d1-42fe-a529-2aa1650aa1dc",
   "metadata": {
    "papermill": {
     "duration": 35.161595,
     "end_time": "2024-06-04T22:40:15.917891",
     "exception": false,
     "start_time": "2024-06-04T22:39:40.756296",
     "status": "completed"
    },
    "tags": []
   },
   "outputs": [],
   "source": [
    "filename_output = seg_name + '.seg.nrrd'\n",
    "\n",
    "slicer.util.exportNode(mineralized_labelmap, output_directory / filename_output)"
   ]
  },
  {
   "cell_type": "code",
   "execution_count": null,
   "id": "c209a54c-74d4-47b8-b85c-420b526911d3",
   "metadata": {
    "papermill": {
     "duration": 0.023244,
     "end_time": "2024-06-04T22:40:15.951242",
     "exception": false,
     "start_time": "2024-06-04T22:40:15.927998",
     "status": "completed"
    },
    "tags": []
   },
   "outputs": [],
   "source": [
    "seg_name = 'Scaffold'"
   ]
  },
  {
   "cell_type": "code",
   "execution_count": null,
   "id": "d04a09a1-0b67-435c-924b-9a3257c3e81e",
   "metadata": {
    "papermill": {
     "duration": 12.733056,
     "end_time": "2024-06-04T22:40:28.694441",
     "exception": false,
     "start_time": "2024-06-04T22:40:15.961385",
     "status": "completed"
    },
    "tags": []
   },
   "outputs": [],
   "source": [
    "mineralized_labelmap = ps.segmentation.individual_segment_to_labelmapNode(segmentName = seg_name,\n",
    "                                                                          segmentationNode = segmentationNode,\n",
    "                                                                          volumeNode = masterVolumeNode)"
   ]
  },
  {
   "cell_type": "code",
   "execution_count": null,
   "id": "75c21a42-ee94-421f-a7e0-68551e501d07",
   "metadata": {
    "papermill": {
     "duration": 34.017531,
     "end_time": "2024-06-04T22:41:02.721248",
     "exception": false,
     "start_time": "2024-06-04T22:40:28.703717",
     "status": "completed"
    },
    "tags": []
   },
   "outputs": [],
   "source": [
    "filename_output = seg_name + '.seg.nrrd'\n",
    "\n",
    "slicer.util.exportNode(mineralized_labelmap, output_directory / filename_output)"
   ]
  }
 ],
 "metadata": {
  "kernelspec": {
   "display_name": "Slicer 5.6",
   "language": "python",
   "name": "slicer-5.6"
  },
  "language_info": {
   "file_extension": ".py",
   "mimetype": "text/x-python",
   "name": "python",
   "version": "3.9.10"
  },
  "papermill": {
   "default_parameters": {},
   "duration": 180.519821,
   "end_time": "2024-06-04T22:41:02.851164",
   "environment_variables": {},
   "exception": null,
   "input_path": "03_segment_microCT.ipynb",
   "output_path": "8_weeks/GC/GC1_8W/03_segment_microCT.ipynb",
   "parameters": {
    "output_dir_path": "8_weeks/GC/GC1_8W/segmented_volumes/",
    "volume_file": "8_weeks/GC/GC1_8W/microCT_volume/microCT_volume.nrrd"
   },
   "start_time": "2024-06-04T22:38:02.331343",
   "version": "2.6.0"
  },
  "toc-autonumbering": true
 },
 "nbformat": 4,
 "nbformat_minor": 5
}
