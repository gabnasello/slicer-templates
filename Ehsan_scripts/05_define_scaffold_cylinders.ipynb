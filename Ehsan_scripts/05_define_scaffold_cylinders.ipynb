{
 "cells": [
  {
   "cell_type": "markdown",
   "id": "e9e365a5-96dd-44ec-9271-cb778da070dd",
   "metadata": {
    "editable": true,
    "slideshow": {
     "slide_type": ""
    },
    "tags": []
   },
   "source": [
    "<span STYLE=\"font-size:150%\"> \n",
    "    Segment cylinder regions from microCT scans\n",
    "</span>\n",
    "\n",
    "Docker image: gnasello/slicer-env:2023-10-10 \\\n",
    "Latest update: 11 October 2023"
   ]
  },
  {
   "cell_type": "markdown",
   "id": "b06273b8-ed89-406c-af12-191b17fdc261",
   "metadata": {},
   "source": [
    "- load image stack in Slicer\n",
    "- segment mineralized tissue\n",
    "- compute segmented statistics (volumes)"
   ]
  },
  {
   "cell_type": "markdown",
   "id": "8a604800-71f1-47b6-af62-7668c5af1d19",
   "metadata": {},
   "source": [
    "# Load libraries"
   ]
  },
  {
   "cell_type": "code",
   "execution_count": 1,
   "id": "5ec23998-6d12-4bd1-9905-01adba17c65c",
   "metadata": {},
   "outputs": [
    {
     "name": "stdout",
     "output_type": "stream",
     "text": [
      "Total Memory: 125.58 GB\n",
      "Available Memory: 118.92 GB\n",
      "Used Memory: 5.47 GB\n"
     ]
    }
   ],
   "source": [
    "import psutil\n",
    "\n",
    "# Get memory information\n",
    "memoryInfo = psutil.virtual_memory()\n",
    "total_memory = memoryInfo.total / (1024 ** 3)\n",
    "available_memory = memoryInfo.available / (1024 ** 3)\n",
    "used_memory = memoryInfo.used / (1024 ** 3)\n",
    "\n",
    "print(f\"Total Memory: {total_memory:.2f} GB\")\n",
    "print(f\"Available Memory: {available_memory:.2f} GB\")\n",
    "print(f\"Used Memory: {used_memory:.2f} GB\")"
   ]
  },
  {
   "cell_type": "code",
   "execution_count": 2,
   "id": "ee34ac62-8898-4805-813b-a1b5573a675e",
   "metadata": {},
   "outputs": [],
   "source": [
    "import pyslicer as ps\n",
    "import slicer\n",
    "from pathlib import Path\n",
    "import pandas as pd\n",
    "import trimesh"
   ]
  },
  {
   "cell_type": "markdown",
   "id": "dcd67865-e62c-4fbc-a92e-e124ff3dfece",
   "metadata": {
    "tags": []
   },
   "source": [
    "# Volume input"
   ]
  },
  {
   "cell_type": "markdown",
   "id": "a3fadbf4-c0a2-4da8-a6f3-4639c9a1f989",
   "metadata": {},
   "source": [
    "## Load `.nrrd` file into 3D Slicer"
   ]
  },
  {
   "cell_type": "markdown",
   "id": "090e0d8b-30a3-47d4-a894-e2bc87b9ad75",
   "metadata": {
    "editable": true,
    "slideshow": {
     "slide_type": ""
    },
    "tags": []
   },
   "source": [
    "Write the path of the `.nrrd` file and load it to Slicer"
   ]
  },
  {
   "cell_type": "code",
   "execution_count": 3,
   "id": "3e7a643c-b96a-4e37-839e-bef6d70a65c5",
   "metadata": {
    "editable": true,
    "slideshow": {
     "slide_type": ""
    },
    "tags": [
     "parameters"
    ]
   },
   "outputs": [],
   "source": [
    "# this cell is tagged 'parameters'\n",
    "segmented_dir = 'segmented_volumes/'\n",
    "volume_file = 'microCT_volume/microCT_volume.nrrd'\n",
    "scaffold_filename = segmented_dir + 'Scaffold.stl'\n",
    "output_cylinders_dir = segmented_dir + 'cylinders/'"
   ]
  },
  {
   "cell_type": "code",
   "execution_count": 4,
   "id": "2937b8df-59de-42b1-b209-e04cbbb562ca",
   "metadata": {},
   "outputs": [],
   "source": [
    "masterVolumeNode = slicer.util.loadNodeFromFile(volume_file)"
   ]
  },
  {
   "cell_type": "markdown",
   "id": "258bebce-35ad-438e-b598-78d51f5cdbfb",
   "metadata": {},
   "source": [
    "Print spacing"
   ]
  },
  {
   "cell_type": "code",
   "execution_count": 5,
   "id": "48e27e1d-5729-442c-8fa8-dff88acd90b1",
   "metadata": {},
   "outputs": [
    {
     "data": {
      "text/plain": [
       "(0.004659700000000001, 0.004659700000000001, 0.004659700000000001)"
      ]
     },
     "execution_count": 5,
     "metadata": {},
     "output_type": "execute_result"
    }
   ],
   "source": [
    "## mm\n",
    "masterVolumeNode.GetSpacing()"
   ]
  },
  {
   "cell_type": "code",
   "execution_count": 6,
   "id": "6d34f8a2-9cbb-4c1e-a625-5b23ff9210ec",
   "metadata": {},
   "outputs": [],
   "source": [
    "segmented_dir_path = Path(segmented_dir)"
   ]
  },
  {
   "cell_type": "markdown",
   "id": "3dc23f11-51f8-4620-ac62-7fc13c62e8ea",
   "metadata": {},
   "source": [
    "Make ```segmented_volumes/cylinders``` folder"
   ]
  },
  {
   "cell_type": "code",
   "execution_count": 7,
   "id": "f72d77df-fbfe-45d8-b7c1-a63c294fbb34",
   "metadata": {
    "editable": true,
    "slideshow": {
     "slide_type": ""
    },
    "tags": []
   },
   "outputs": [],
   "source": [
    "output_path = Path(output_cylinders_dir)\n",
    "\n",
    "output_path.mkdir(parents=True, exist_ok=True)"
   ]
  },
  {
   "cell_type": "markdown",
   "id": "be0823fa-36da-4db1-ac79-704d63a624f2",
   "metadata": {},
   "source": [
    "Get norebook directory name"
   ]
  },
  {
   "cell_type": "markdown",
   "id": "4fc8e675-b224-4cf4-b500-63144e06231c",
   "metadata": {},
   "source": [
    "## Adjust window/level (brightness/contrast)"
   ]
  },
  {
   "cell_type": "markdown",
   "id": "149bfe9f-c7d9-495a-b260-9676a98ace35",
   "metadata": {},
   "source": [
    "Adjust the image window/level from the GUI. It is enough to select a region where the signal is present ([youtube](https://slicer.readthedocs.io/en/latest/user_guide/user_interface.html#adjusting-image-window-level)). \n",
    "\n",
    "After, get the Window and Level properties from the displayNode associate to the VolumeNode and apply them programmatically anytime you run again the same image.\n",
    "\n",
    "For more information on the relationship between window/level and brightness/contrast, see [Window and Level Contrast Enhancement](http://fisica.ciens.ucv.ve/curs/dipcourse/html/one-oper/window-level/front-page.html)"
   ]
  },
  {
   "cell_type": "code",
   "execution_count": 8,
   "id": "8c4ce52e-a65b-40c0-8854-34f1974b4738",
   "metadata": {
    "scrolled": true
   },
   "outputs": [
    {
     "name": "stdout",
     "output_type": "stream",
     "text": [
      "displayNode.SetWindow(211.0)\n",
      "displayNode.SetLevel(121.5)\n"
     ]
    }
   ],
   "source": [
    "displayNode = masterVolumeNode.GetDisplayNode()\n",
    "print('displayNode.SetWindow(' + str(displayNode.GetWindow()) + ')')\n",
    "print('displayNode.SetLevel(' + str(displayNode.GetLevel()) + ')')"
   ]
  },
  {
   "cell_type": "code",
   "execution_count": 9,
   "id": "ae1d41db-d0df-44d0-a3da-a900a6ec32e1",
   "metadata": {},
   "outputs": [],
   "source": [
    "# displayNode = masterVolumeNode.GetDisplayNode()\n",
    "# displayNode.AutoWindowLevelOff()\n",
    "# displayNode.SetWindow(12415.0)\n",
    "# displayNode.SetLevel(11271.5)"
   ]
  },
  {
   "cell_type": "markdown",
   "id": "f65216b9-3351-4300-9764-1c5d6325350f",
   "metadata": {},
   "source": [
    "# Create segmentationNode"
   ]
  },
  {
   "cell_type": "markdown",
   "id": "6ab2842a-e11e-4a62-9c46-257c35782195",
   "metadata": {},
   "source": [
    "## Create segmentation-related nodes"
   ]
  },
  {
   "cell_type": "markdown",
   "id": "39aeb9fd-bcba-4677-b606-60829466aa84",
   "metadata": {},
   "source": [
    "Create segmentation node"
   ]
  },
  {
   "cell_type": "code",
   "execution_count": 10,
   "id": "23048984-b4af-4b52-a644-80a59f86d568",
   "metadata": {},
   "outputs": [],
   "source": [
    "segmentationNode = ps.segmentation.segmentationNode(name='Segmentation')"
   ]
  },
  {
   "cell_type": "markdown",
   "id": "1b874a78-25db-4cec-901b-d75a22651f64",
   "metadata": {},
   "source": [
    "Create temporary segment editor to get access to effects"
   ]
  },
  {
   "cell_type": "code",
   "execution_count": 11,
   "id": "aee78734-de34-4013-98c8-9fdc67859a03",
   "metadata": {},
   "outputs": [],
   "source": [
    "segmentEditorWidget, segmentEditorNode = ps.segmentation.segmentEditorWidget(segmentationNode = segmentationNode, \n",
    "                                                                             masterVolumeNode = masterVolumeNode)"
   ]
  },
  {
   "cell_type": "markdown",
   "id": "d862f668-214c-47a2-a45c-f68c7277b770",
   "metadata": {},
   "source": [
    "## Make scaffold cylinders"
   ]
  },
  {
   "cell_type": "markdown",
   "id": "ad449527-7c48-49c5-b09c-76b6334b2b2f",
   "metadata": {
    "tags": []
   },
   "source": [
    "### Compute bounding scaffold cylinder\n",
    "https://docs.pyvista.org/examples/01-filter/clipping-with-surface.html"
   ]
  },
  {
   "cell_type": "code",
   "execution_count": 12,
   "id": "44754904-7c47-45da-89a2-33c31ccb3ae7",
   "metadata": {},
   "outputs": [],
   "source": [
    "cylinder_mesh = trimesh.load(scaffold_filename).bounding_cylinder"
   ]
  },
  {
   "cell_type": "code",
   "execution_count": 13,
   "id": "bceb7c79-5a95-4018-8600-befca176a33e",
   "metadata": {},
   "outputs": [
    {
     "data": {
      "text/plain": [
       "{'height': 6.068766129935371,\n",
       " 'radius': 3.1496249443317383,\n",
       " 'transform': array([[ 0.07953169, -0.69649247, -0.71314301,  4.45254557],\n",
       "        [ 0.03233427,  0.71683522, -0.69649247,  5.51780994],\n",
       "        [ 0.99630779,  0.03233427,  0.07953169,  5.11935613],\n",
       "        [ 0.        ,  0.        ,  0.        ,  1.        ]])}"
      ]
     },
     "execution_count": 13,
     "metadata": {},
     "output_type": "execute_result"
    }
   ],
   "source": [
    "bounds_mesh = trimesh.bounds.minimum_cylinder(cylinder_mesh)\n",
    "bounds_mesh"
   ]
  },
  {
   "cell_type": "code",
   "execution_count": 14,
   "id": "25666bbc-a53c-4e17-9d96-f09826d39ab1",
   "metadata": {},
   "outputs": [
    {
     "data": {
      "text/plain": [
       "array([4.45254557, 5.51780994, 5.11935613])"
      ]
     },
     "execution_count": 14,
     "metadata": {},
     "output_type": "execute_result"
    }
   ],
   "source": [
    "cylinder_mesh.center_mass"
   ]
  },
  {
   "cell_type": "code",
   "execution_count": 15,
   "id": "75c37823-7e26-4d9b-a017-6fac142224e7",
   "metadata": {},
   "outputs": [
    {
     "data": {
      "text/plain": [
       "TrackedArray([ 0.71314301,  0.69649247, -0.07953169])"
      ]
     },
     "execution_count": 15,
     "metadata": {},
     "output_type": "execute_result"
    }
   ],
   "source": [
    "cylinder_mesh.direction"
   ]
  },
  {
   "cell_type": "code",
   "execution_count": 16,
   "id": "32fc82bf-ebea-4ff5-a668-dcb06c3a32c3",
   "metadata": {},
   "outputs": [],
   "source": [
    "def lps_to_ras(points):\n",
    "    \"\"\"\n",
    "    Convert a numpy array of points from LPS (Left, Posterior, Superior) to RAS (Right, Anterior, Superior) coordinates.\n",
    "    See https://slicer.readthedocs.io/en/latest/user_guide/coordinate_systems.html\n",
    "    \n",
    "    Parameters:\n",
    "    points (numpy.ndarray): A Nx3 numpy array of LPS points or a single 1x3 point.\n",
    "\n",
    "    Returns:\n",
    "    numpy.ndarray: A Nx3 numpy array of RAS points or a single 1x3 point.\n",
    "    \"\"\"\n",
    "    from numpy import atleast_2d\n",
    "    \n",
    "    points = atleast_2d(points)  # Ensure the points are at least 2D\n",
    "    ras_points = points.copy()\n",
    "    ras_points[:, 0] = -ras_points[:, 0]  # Flip X\n",
    "    ras_points[:, 1] = -ras_points[:, 1]  # Flip Y\n",
    "    \n",
    "    if points.shape[0] == 1:\n",
    "        return ras_points[0]  # Return as 1D array if input was a single point\n",
    "    return ras_points"
   ]
  },
  {
   "cell_type": "code",
   "execution_count": 17,
   "id": "16e235a9-85fe-424e-b9d6-29f28e1c39d6",
   "metadata": {},
   "outputs": [
    {
     "data": {
      "text/plain": [
       "array([-4.45254557, -5.51780994,  5.11935613])"
      ]
     },
     "execution_count": 17,
     "metadata": {},
     "output_type": "execute_result"
    }
   ],
   "source": [
    "center_mass_ras = lps_to_ras(cylinder_mesh.center_mass)\n",
    "center_mass_ras"
   ]
  },
  {
   "cell_type": "code",
   "execution_count": 22,
   "id": "2413505f-6126-4da0-a34b-7298294b2e16",
   "metadata": {},
   "outputs": [
    {
     "data": {
      "text/plain": [
       "TrackedArray([-0.71314301, -0.69649247, -0.07953169])"
      ]
     },
     "execution_count": 22,
     "metadata": {},
     "output_type": "execute_result"
    }
   ],
   "source": [
    "direction_ras = lps_to_ras(cylinder_mesh.direction)\n",
    "direction_ras"
   ]
  },
  {
   "cell_type": "markdown",
   "id": "e2e17364-a2bb-475f-acb2-e4070a9877e4",
   "metadata": {},
   "source": [
    "# `scaffold_cylinder.stl`"
   ]
  },
  {
   "cell_type": "code",
   "execution_count": 26,
   "id": "8ae33765-aa2e-45e2-a02c-fe40fc2a2f89",
   "metadata": {},
   "outputs": [],
   "source": [
    "model_name = 'Scaffold-Cylinder'"
   ]
  },
  {
   "cell_type": "code",
   "execution_count": 27,
   "id": "23f76545-178c-4654-a695-1c457c489bcd",
   "metadata": {},
   "outputs": [],
   "source": [
    "cylinder_model = ps.model.create_hollow_cylinder(height=bounds_mesh['height'], \n",
    "                                                         radius_inner=0, radius_outer=bounds_mesh['radius'], space =5, \n",
    "                                                         center=center_mass_ras,\n",
    "                                                         direction=direction_ras.tolist(),\n",
    "                                                         transform=False,\n",
    "                                                         nameModel=model_name, \n",
    "                                                         color=(230/255, 230/255, 77/255), \n",
    "                                                         opacity=1)"
   ]
  },
  {
   "cell_type": "code",
   "execution_count": 28,
   "id": "584c81b3-9811-4c03-b4ac-a675fb28b8f0",
   "metadata": {},
   "outputs": [
    {
     "data": {
      "text/plain": [
       "True"
      ]
     },
     "execution_count": 28,
     "metadata": {},
     "output_type": "execute_result"
    }
   ],
   "source": [
    "filename_output = model_name + '.stl'\n",
    "\n",
    "slicer.util.exportNode(cylinder_model, output_path / filename_output)"
   ]
  },
  {
   "cell_type": "markdown",
   "id": "719bcbb5-677c-426d-ab13-bc6972c69486",
   "metadata": {},
   "source": [
    "Import model to segmentation node"
   ]
  },
  {
   "cell_type": "code",
   "execution_count": 29,
   "id": "a820d272-5f89-4394-a1ce-2401b98ab483",
   "metadata": {},
   "outputs": [
    {
     "data": {
      "text/plain": [
       "True"
      ]
     },
     "execution_count": 29,
     "metadata": {},
     "output_type": "execute_result"
    }
   ],
   "source": [
    "segmentationNode = ps.segmentation.segmentationNode(name=model_name)\n",
    "\n",
    "slicer.modules.segmentations.logic().ImportModelToSegmentationNode(cylinder_model, segmentationNode)"
   ]
  },
  {
   "cell_type": "markdown",
   "id": "6f14c753-3179-4424-b068-cd487369cd0b",
   "metadata": {},
   "source": [
    "Export segment to labelmapNode"
   ]
  },
  {
   "cell_type": "code",
   "execution_count": 30,
   "id": "5e48223a-0dd4-47ed-a5c9-6b2594476891",
   "metadata": {
    "papermill": {
     "duration": null,
     "end_time": null,
     "exception": null,
     "start_time": null,
     "status": "completed"
    },
    "tags": []
   },
   "outputs": [],
   "source": [
    "labelmap = ps.segmentation.individual_segment_to_labelmapNode(segmentName = model_name,\n",
    "                                                                          segmentationNode = segmentationNode,\n",
    "                                                                          volumeNode = masterVolumeNode)"
   ]
  },
  {
   "cell_type": "code",
   "execution_count": 31,
   "id": "774cc8f9-5369-45a1-bb3e-6c70485cc854",
   "metadata": {
    "papermill": {
     "duration": null,
     "end_time": null,
     "exception": null,
     "start_time": null,
     "status": "completed"
    },
    "tags": []
   },
   "outputs": [
    {
     "data": {
      "text/plain": [
       "True"
      ]
     },
     "execution_count": 31,
     "metadata": {},
     "output_type": "execute_result"
    }
   ],
   "source": [
    "filename_output = model_name + '.seg.nrrd'\n",
    "\n",
    "slicer.util.exportNode(labelmap, output_path / filename_output)"
   ]
  },
  {
   "cell_type": "code",
   "execution_count": 32,
   "id": "4900ffdc-bb8e-4ad9-9ef8-b22aa76ea57a",
   "metadata": {},
   "outputs": [],
   "source": [
    "#Remove the model node if it is no longer needed\n",
    "slicer.mrmlScene.RemoveNode(segmentationNode)\n",
    "slicer.mrmlScene.RemoveNode(cylinder_model)\n",
    "slicer.mrmlScene.RemoveNode(labelmap)"
   ]
  },
  {
   "cell_type": "markdown",
   "id": "b75edc0e-1930-4d8d-9745-a4d09eb9d744",
   "metadata": {},
   "source": [
    "# `cylinder_outer.stl`"
   ]
  },
  {
   "cell_type": "code",
   "execution_count": 37,
   "id": "b81233c1-0568-41a4-a010-0eec059fe203",
   "metadata": {},
   "outputs": [],
   "source": [
    "model_name = 'Cylinder-Outer'"
   ]
  },
  {
   "cell_type": "code",
   "execution_count": 38,
   "id": "a07917ff-fb5b-4ce2-afae-9ebe35b1a22e",
   "metadata": {},
   "outputs": [],
   "source": [
    "cylinder_model = ps.model.create_hollow_cylinder(height=bounds_mesh['height'], \n",
    "                                                         radius_inner=bounds_mesh['radius']*2/3, radius_outer=bounds_mesh['radius'], space =5, \n",
    "                                                         center=center_mass_ras,\n",
    "                                                         direction=direction_ras.tolist(),\n",
    "                                                         transform=False,\n",
    "                                                         nameModel=model_name, \n",
    "                                                         color=(50/255, 75/255, 53/255), \n",
    "                                                         opacity=1)"
   ]
  },
  {
   "cell_type": "code",
   "execution_count": 39,
   "id": "a14906ab-2e24-46e6-9515-ff2d944a78cb",
   "metadata": {},
   "outputs": [
    {
     "data": {
      "text/plain": [
       "True"
      ]
     },
     "execution_count": 39,
     "metadata": {},
     "output_type": "execute_result"
    }
   ],
   "source": [
    "filename_output = model_name + '.stl'\n",
    "\n",
    "slicer.util.exportNode(cylinder_model, output_path / filename_output)"
   ]
  },
  {
   "cell_type": "markdown",
   "id": "dd3e0596-c2c4-4f03-a43b-b67354322704",
   "metadata": {},
   "source": [
    "Import model to segmentation node"
   ]
  },
  {
   "cell_type": "code",
   "execution_count": 40,
   "id": "6c37e24e-bb74-4e8e-bc55-73eea6e6b9b3",
   "metadata": {},
   "outputs": [
    {
     "data": {
      "text/plain": [
       "True"
      ]
     },
     "execution_count": 40,
     "metadata": {},
     "output_type": "execute_result"
    }
   ],
   "source": [
    "segmentationNode = ps.segmentation.segmentationNode(name=model_name)\n",
    "\n",
    "slicer.modules.segmentations.logic().ImportModelToSegmentationNode(cylinder_model, segmentationNode)"
   ]
  },
  {
   "cell_type": "markdown",
   "id": "538b1713-68fd-4b58-ab95-8f90a5999985",
   "metadata": {},
   "source": [
    "Export segment to labelmapNode"
   ]
  },
  {
   "cell_type": "code",
   "execution_count": 41,
   "id": "4e2ffb2e-02cd-44bd-b7a2-ddaf903dc43f",
   "metadata": {
    "papermill": {
     "duration": null,
     "end_time": null,
     "exception": null,
     "start_time": null,
     "status": "completed"
    },
    "tags": []
   },
   "outputs": [],
   "source": [
    "labelmap = ps.segmentation.individual_segment_to_labelmapNode(segmentName = model_name,\n",
    "                                                              segmentationNode = segmentationNode,\n",
    "                                                              volumeNode = masterVolumeNode)"
   ]
  },
  {
   "cell_type": "code",
   "execution_count": 42,
   "id": "87833891-b517-44fa-ba52-efd8896d9adf",
   "metadata": {
    "papermill": {
     "duration": null,
     "end_time": null,
     "exception": null,
     "start_time": null,
     "status": "completed"
    },
    "tags": []
   },
   "outputs": [
    {
     "data": {
      "text/plain": [
       "True"
      ]
     },
     "execution_count": 42,
     "metadata": {},
     "output_type": "execute_result"
    }
   ],
   "source": [
    "filename_output = model_name + '.seg.nrrd'\n",
    "\n",
    "slicer.util.exportNode(labelmap, output_path / filename_output)"
   ]
  },
  {
   "cell_type": "code",
   "execution_count": 43,
   "id": "370f2872-69a2-4372-a681-86c6ec1736d5",
   "metadata": {},
   "outputs": [],
   "source": [
    "#Remove the model node if it is no longer needed\n",
    "slicer.mrmlScene.RemoveNode(segmentationNode)\n",
    "slicer.mrmlScene.RemoveNode(cylinder_model)\n",
    "slicer.mrmlScene.RemoveNode(labelmap)"
   ]
  },
  {
   "cell_type": "markdown",
   "id": "de54798c-d9f4-4a39-bcbd-90f37d3c4866",
   "metadata": {},
   "source": [
    "# `cylinder_middle.stl`"
   ]
  },
  {
   "cell_type": "code",
   "execution_count": 45,
   "id": "c8633738-463b-49ef-a9f3-4d51d5c724cc",
   "metadata": {},
   "outputs": [],
   "source": [
    "model_name = 'Cylinder-Middle'"
   ]
  },
  {
   "cell_type": "code",
   "execution_count": 46,
   "id": "0eee9248-ebfb-4500-a6af-30c5f6443bd2",
   "metadata": {},
   "outputs": [],
   "source": [
    "cylinder_model = ps.model.create_hollow_cylinder(height=bounds_mesh['height'], \n",
    "                                                 radius_inner=bounds_mesh['radius']*1/3, radius_outer=bounds_mesh['radius']*2/3, space =5, \n",
    "                                                 center=center_mass_ras,\n",
    "                                                 direction=direction_ras.tolist(),\n",
    "                                                 transform=False,\n",
    "                                                 nameModel=model_name, \n",
    "                                                 color=(230/255, 75/255, 53/255), \n",
    "                                                 opacity=1)"
   ]
  },
  {
   "cell_type": "code",
   "execution_count": 47,
   "id": "d02aaa17-f891-410b-a9c0-38f78d66a5de",
   "metadata": {},
   "outputs": [
    {
     "data": {
      "text/plain": [
       "True"
      ]
     },
     "execution_count": 47,
     "metadata": {},
     "output_type": "execute_result"
    }
   ],
   "source": [
    "filename_output = model_name + '.stl'\n",
    "\n",
    "slicer.util.exportNode(cylinder_model, output_path / filename_output)"
   ]
  },
  {
   "cell_type": "markdown",
   "id": "5cfa1fe4-a29d-4122-8280-3ac8ec33ac40",
   "metadata": {},
   "source": [
    "Import model to segmentation node"
   ]
  },
  {
   "cell_type": "code",
   "execution_count": 48,
   "id": "0f97b3fa-265f-4ba3-83c4-1572b74dc635",
   "metadata": {},
   "outputs": [
    {
     "data": {
      "text/plain": [
       "True"
      ]
     },
     "execution_count": 48,
     "metadata": {},
     "output_type": "execute_result"
    }
   ],
   "source": [
    "segmentationNode = ps.segmentation.segmentationNode(name=model_name)\n",
    "\n",
    "slicer.modules.segmentations.logic().ImportModelToSegmentationNode(cylinder_model, segmentationNode)"
   ]
  },
  {
   "cell_type": "markdown",
   "id": "96d699eb-e849-4f22-a0eb-441a1b04b45e",
   "metadata": {},
   "source": [
    "Export segment to labelmapNode"
   ]
  },
  {
   "cell_type": "code",
   "execution_count": 49,
   "id": "cf2787c5-080a-471e-aff8-def174919bc9",
   "metadata": {
    "papermill": {
     "duration": null,
     "end_time": null,
     "exception": null,
     "start_time": null,
     "status": "completed"
    },
    "tags": []
   },
   "outputs": [],
   "source": [
    "labelmap = ps.segmentation.individual_segment_to_labelmapNode(segmentName = model_name,\n",
    "                                                              segmentationNode = segmentationNode,\n",
    "                                                              volumeNode = masterVolumeNode)"
   ]
  },
  {
   "cell_type": "code",
   "execution_count": 50,
   "id": "f77eb336-32de-4b10-9190-e479452238c6",
   "metadata": {
    "papermill": {
     "duration": null,
     "end_time": null,
     "exception": null,
     "start_time": null,
     "status": "completed"
    },
    "tags": []
   },
   "outputs": [
    {
     "data": {
      "text/plain": [
       "True"
      ]
     },
     "execution_count": 50,
     "metadata": {},
     "output_type": "execute_result"
    }
   ],
   "source": [
    "filename_output = model_name + '.seg.nrrd'\n",
    "\n",
    "slicer.util.exportNode(labelmap, output_path / filename_output)"
   ]
  },
  {
   "cell_type": "code",
   "execution_count": 51,
   "id": "72e0ae76-5345-4499-8e0f-1eb18589da72",
   "metadata": {},
   "outputs": [],
   "source": [
    "#Remove the model node if it is no longer needed\n",
    "slicer.mrmlScene.RemoveNode(segmentationNode)\n",
    "slicer.mrmlScene.RemoveNode(cylinder_model)\n",
    "slicer.mrmlScene.RemoveNode(labelmap)"
   ]
  },
  {
   "cell_type": "markdown",
   "id": "106df099-1bac-4f12-9f6d-f835f1c2f0a7",
   "metadata": {},
   "source": [
    "# `cylinder_inner.stl`"
   ]
  },
  {
   "cell_type": "code",
   "execution_count": 52,
   "id": "cb67091d-90e9-401e-8597-f95a8c17d25b",
   "metadata": {},
   "outputs": [],
   "source": [
    "model_name = 'Cylinder-Inner'"
   ]
  },
  {
   "cell_type": "code",
   "execution_count": 53,
   "id": "024ddb1d-8def-42c1-9d98-7e728db4b811",
   "metadata": {},
   "outputs": [],
   "source": [
    "cylinder_model = ps.model.create_hollow_cylinder(height=bounds_mesh['height'], \n",
    "                                                 radius_inner=0, radius_outer=bounds_mesh['radius']*1/3, space =5, \n",
    "                                                 center=center_mass_ras,\n",
    "                                                 direction=direction_ras.tolist(),\n",
    "                                                 transform=False,\n",
    "                                                 nameModel=model_name, \n",
    "                                                 color=(77/255, 187/255, 213/255), \n",
    "                                                 opacity=1)"
   ]
  },
  {
   "cell_type": "code",
   "execution_count": 54,
   "id": "334d3f2e-0baf-4fdb-8065-a5c1e4789848",
   "metadata": {},
   "outputs": [
    {
     "data": {
      "text/plain": [
       "True"
      ]
     },
     "execution_count": 54,
     "metadata": {},
     "output_type": "execute_result"
    }
   ],
   "source": [
    "filename_output = model_name + '.stl'\n",
    "\n",
    "slicer.util.exportNode(cylinder_model, output_path / filename_output)"
   ]
  },
  {
   "cell_type": "markdown",
   "id": "e6afe5a3-e561-461b-afe7-6e3bc3786a2e",
   "metadata": {},
   "source": [
    "Import model to segmentation node"
   ]
  },
  {
   "cell_type": "code",
   "execution_count": 55,
   "id": "c6100a0b-3e1a-41b3-adcf-b03ef663cb61",
   "metadata": {},
   "outputs": [
    {
     "data": {
      "text/plain": [
       "True"
      ]
     },
     "execution_count": 55,
     "metadata": {},
     "output_type": "execute_result"
    }
   ],
   "source": [
    "segmentationNode = ps.segmentation.segmentationNode(name=model_name)\n",
    "\n",
    "slicer.modules.segmentations.logic().ImportModelToSegmentationNode(cylinder_model, segmentationNode)"
   ]
  },
  {
   "cell_type": "markdown",
   "id": "83d8d3c5-d355-4de1-b9e9-55a0cded5cb0",
   "metadata": {},
   "source": [
    "Export segment to labelmapNode"
   ]
  },
  {
   "cell_type": "code",
   "execution_count": 56,
   "id": "56f68bb4-2b33-4da3-af7e-6739597aea72",
   "metadata": {
    "papermill": {
     "duration": null,
     "end_time": null,
     "exception": null,
     "start_time": null,
     "status": "completed"
    },
    "tags": []
   },
   "outputs": [],
   "source": [
    "labelmap = ps.segmentation.individual_segment_to_labelmapNode(segmentName = model_name,\n",
    "                                                              segmentationNode = segmentationNode,\n",
    "                                                              volumeNode = masterVolumeNode)"
   ]
  },
  {
   "cell_type": "code",
   "execution_count": 57,
   "id": "673347af-fd2e-4e57-83a5-d20b1e157e99",
   "metadata": {
    "papermill": {
     "duration": null,
     "end_time": null,
     "exception": null,
     "start_time": null,
     "status": "completed"
    },
    "tags": []
   },
   "outputs": [
    {
     "data": {
      "text/plain": [
       "True"
      ]
     },
     "execution_count": 57,
     "metadata": {},
     "output_type": "execute_result"
    }
   ],
   "source": [
    "filename_output = model_name + '.seg.nrrd'\n",
    "\n",
    "slicer.util.exportNode(labelmap, output_path / filename_output)"
   ]
  },
  {
   "cell_type": "code",
   "execution_count": 58,
   "id": "27094dc5-66d3-4ce8-ac4c-afdc8c14fbb5",
   "metadata": {},
   "outputs": [],
   "source": [
    "#Remove the model node if it is no longer needed\n",
    "slicer.mrmlScene.RemoveNode(segmentationNode)\n",
    "slicer.mrmlScene.RemoveNode(cylinder_model)\n",
    "slicer.mrmlScene.RemoveNode(labelmap)"
   ]
  }
 ],
 "metadata": {
  "kernelspec": {
   "display_name": "Slicer 5.6",
   "language": "python",
   "name": "slicer-5.6"
  },
  "language_info": {
   "file_extension": ".py",
   "mimetype": "text/x-python",
   "name": "python",
   "version": "3.9.10"
  },
  "toc-autonumbering": true
 },
 "nbformat": 4,
 "nbformat_minor": 5
}
