{
 "cells": [
  {
   "cell_type": "markdown",
   "id": "e9e365a5-96dd-44ec-9271-cb778da070dd",
   "metadata": {
    "editable": true,
    "papermill": {
     "duration": 0.012314,
     "end_time": "2024-06-18T13:31:43.216108",
     "exception": false,
     "start_time": "2024-06-18T13:31:43.203794",
     "status": "completed"
    },
    "slideshow": {
     "slide_type": ""
    },
    "tags": []
   },
   "source": [
    "<span STYLE=\"font-size:150%\"> \n",
    "    Segment cylinder regions from microCT scans\n",
    "</span>\n",
    "\n",
    "Docker image: gnasello/slicer-env:2023-10-10 \\\n",
    "Latest update: 11 October 2023"
   ]
  },
  {
   "cell_type": "markdown",
   "id": "b06273b8-ed89-406c-af12-191b17fdc261",
   "metadata": {
    "papermill": {
     "duration": 0.005776,
     "end_time": "2024-06-18T13:31:43.229869",
     "exception": false,
     "start_time": "2024-06-18T13:31:43.224093",
     "status": "completed"
    },
    "tags": []
   },
   "source": [
    "- load image stack in Slicer\n",
    "- segment mineralized tissue\n",
    "- compute segmented statistics (volumes)"
   ]
  },
  {
   "cell_type": "markdown",
   "id": "8a604800-71f1-47b6-af62-7668c5af1d19",
   "metadata": {
    "papermill": {
     "duration": 0.003883,
     "end_time": "2024-06-18T13:31:43.238736",
     "exception": false,
     "start_time": "2024-06-18T13:31:43.234853",
     "status": "completed"
    },
    "tags": []
   },
   "source": [
    "# Load libraries"
   ]
  },
  {
   "cell_type": "code",
   "execution_count": null,
   "id": "5ec23998-6d12-4bd1-9905-01adba17c65c",
   "metadata": {
    "papermill": {
     "duration": 0.04143,
     "end_time": "2024-06-18T13:31:43.283779",
     "exception": false,
     "start_time": "2024-06-18T13:31:43.242349",
     "status": "completed"
    },
    "tags": []
   },
   "outputs": [
    {
     "name": "stdout",
     "output_type": "stream",
     "text": [
      "\n"
     ]
    },
    {
     "name": "stdout",
     "output_type": "stream",
     "text": [
      "Used Memory: 2.37 GB"
     ]
    },
    {
     "name": "stdout",
     "output_type": "stream",
     "text": [
      "\n"
     ]
    }
   ],
   "source": [
    "import psutil\n",
    "\n",
    "# Get memory information\n",
    "memoryInfo = psutil.virtual_memory()\n",
    "total_memory = memoryInfo.total / (1024 ** 3)\n",
    "available_memory = memoryInfo.available / (1024 ** 3)\n",
    "used_memory = memoryInfo.used / (1024 ** 3)\n",
    "\n",
    "print(f\"Total Memory: {total_memory:.2f} GB\")\n",
    "print(f\"Available Memory: {available_memory:.2f} GB\")\n",
    "print(f\"Used Memory: {used_memory:.2f} GB\")"
   ]
  },
  {
   "cell_type": "code",
   "execution_count": null,
   "id": "b56a9d38-f350-4987-ba33-00bde87ae218",
   "metadata": {
    "papermill": {
     "duration": 0.012739,
     "end_time": "2024-06-18T13:31:43.301973",
     "exception": false,
     "start_time": "2024-06-18T13:31:43.289234",
     "status": "completed"
    },
    "tags": []
   },
   "outputs": [],
   "source": [
    "import slicer\n",
    "from pathlib import Path\n",
    "import SimpleITK as sitk\n",
    "import sitkUtils"
   ]
  },
  {
   "cell_type": "markdown",
   "id": "dcd67865-e62c-4fbc-a92e-e124ff3dfece",
   "metadata": {
    "papermill": {
     "duration": 0.010438,
     "end_time": "2024-06-18T13:31:43.319533",
     "exception": false,
     "start_time": "2024-06-18T13:31:43.309095",
     "status": "completed"
    },
    "tags": []
   },
   "source": [
    "# Volume input"
   ]
  },
  {
   "cell_type": "markdown",
   "id": "a3fadbf4-c0a2-4da8-a6f3-4639c9a1f989",
   "metadata": {
    "papermill": {
     "duration": 0.005266,
     "end_time": "2024-06-18T13:31:43.332718",
     "exception": false,
     "start_time": "2024-06-18T13:31:43.327452",
     "status": "completed"
    },
    "tags": []
   },
   "source": [
    "## Load `.nrrd` file into 3D Slicer"
   ]
  },
  {
   "cell_type": "markdown",
   "id": "090e0d8b-30a3-47d4-a894-e2bc87b9ad75",
   "metadata": {
    "editable": true,
    "papermill": {
     "duration": 0.004163,
     "end_time": "2024-06-18T13:31:43.341706",
     "exception": false,
     "start_time": "2024-06-18T13:31:43.337543",
     "status": "completed"
    },
    "slideshow": {
     "slide_type": ""
    },
    "tags": []
   },
   "source": [
    "Write the path of the `.nrrd` file and load it to Slicer"
   ]
  },
  {
   "cell_type": "code",
   "execution_count": null,
   "id": "3e7a643c-b96a-4e37-839e-bef6d70a65c5",
   "metadata": {
    "editable": true,
    "papermill": {
     "duration": 0.018304,
     "end_time": "2024-06-18T13:31:43.363538",
     "exception": false,
     "start_time": "2024-06-18T13:31:43.345234",
     "status": "completed"
    },
    "slideshow": {
     "slide_type": ""
    },
    "tags": [
     "parameters"
    ]
   },
   "outputs": [],
   "source": [
    "# this cell is tagged 'parameters'\n",
    "sample_name = 'GB4_4W'\n",
    "segmented_dir = 'segmented_volumes/'\n",
    "cylinders_dir = segmented_dir + 'cylinders/'\n",
    "bone_cylinder_dir = segmented_dir + 'bone_cylinders/'\n",
    "file_segmentation = segmented_dir + 'Bone.seg.nrrd'\n",
    "model_name = 'Scaffold-Cylinder'"
   ]
  },
  {
   "cell_type": "code",
   "execution_count": null,
   "id": "f50b021a-d7f0-43ba-ad2e-f0c6439965b1",
   "metadata": {
    "papermill": {
     "duration": 0.022371,
     "end_time": "2024-06-18T13:32:15.057585",
     "exception": false,
     "start_time": "2024-06-18T13:32:15.035214",
     "status": "completed"
    },
    "tags": []
   },
   "outputs": [],
   "source": [
    "segmented_dir_path = Path(segmented_dir)"
   ]
  },
  {
   "cell_type": "markdown",
   "id": "fe93d0ca-2691-4583-a2ac-40212bd8c27f",
   "metadata": {
    "papermill": {
     "duration": 0.004258,
     "end_time": "2024-06-18T13:32:15.069810",
     "exception": false,
     "start_time": "2024-06-18T13:32:15.065552",
     "status": "completed"
    },
    "tags": []
   },
   "source": [
    "Make ```segmented_volumes/cylinders``` and  ```segmented_volumes/bone_cylinders``` directories"
   ]
  },
  {
   "cell_type": "code",
   "execution_count": null,
   "id": "0654d7b8-7908-4a00-b25f-2d4a1d24af52",
   "metadata": {
    "editable": true,
    "papermill": {
     "duration": 0.022397,
     "end_time": "2024-06-18T13:32:15.096303",
     "exception": false,
     "start_time": "2024-06-18T13:32:15.073906",
     "status": "completed"
    },
    "slideshow": {
     "slide_type": ""
    },
    "tags": []
   },
   "outputs": [],
   "source": [
    "output_path = Path(cylinders_dir)\n",
    "\n",
    "output_path.mkdir(parents=True, exist_ok=True)"
   ]
  },
  {
   "cell_type": "code",
   "execution_count": null,
   "id": "0fee087b-0536-4a69-bcc9-b4977b48febe",
   "metadata": {
    "editable": true,
    "papermill": {
     "duration": 0.01537,
     "end_time": "2024-06-18T13:32:15.115627",
     "exception": false,
     "start_time": "2024-06-18T13:32:15.100257",
     "status": "completed"
    },
    "slideshow": {
     "slide_type": ""
    },
    "tags": []
   },
   "outputs": [],
   "source": [
    "output_path = Path(bone_cylinder_dir)\n",
    "\n",
    "output_path.mkdir(parents=True, exist_ok=True)"
   ]
  },
  {
   "cell_type": "markdown",
   "id": "2d8ee75b-4d2c-4f5c-87f6-e6ee8167e3d4",
   "metadata": {
    "papermill": {
     "duration": 0.008561,
     "end_time": "2024-06-18T13:32:15.135245",
     "exception": false,
     "start_time": "2024-06-18T13:32:15.126684",
     "status": "completed"
    },
    "tags": []
   },
   "source": [
    "Get norebook directory name"
   ]
  },
  {
   "cell_type": "code",
   "execution_count": null,
   "id": "f401e9a7-5479-4287-86e8-adea053cddf9",
   "metadata": {
    "editable": true,
    "papermill": {
     "duration": 0.021447,
     "end_time": "2024-06-18T13:32:15.163497",
     "exception": false,
     "start_time": "2024-06-18T13:32:15.142050",
     "status": "completed"
    },
    "slideshow": {
     "slide_type": ""
    },
    "tags": []
   },
   "outputs": [],
   "source": [
    "sample_name"
   ]
  },
  {
   "cell_type": "code",
   "execution_count": null,
   "id": "3f25975d-e038-443e-b394-66f464029470",
   "metadata": {},
   "outputs": [],
   "source": [
    "# Read the image\n",
    "volume1 = sitk.ReadImage(file_segmentation)\n",
    "\n",
    "# Get some basic information about the image\n",
    "print(f\"Image Size: {volume1.GetSize()}\")\n",
    "print(f\"Image Spacing: {volume1.GetSpacing()}\")\n",
    "print(f\"Image Origin: {volume1.GetOrigin()}\")\n",
    "print(f\"Image Direction: {volume1.GetDirection()}\")"
   ]
  },
  {
   "cell_type": "code",
   "execution_count": null,
   "id": "334b76cf-2d7b-4cbe-b07f-b5c4012e6d4c",
   "metadata": {
    "papermill": {
     "duration": 30.026453,
     "end_time": "2024-06-18T13:32:45.268536",
     "exception": false,
     "start_time": "2024-06-18T13:32:15.242083",
     "status": "completed"
    },
    "tags": []
   },
   "outputs": [],
   "source": [
    "file_volumenode2 = cylinders_dir + model_name + '.seg.nrrd'\n",
    "\n",
    "volume2 = sitk.ReadImage(file_volumenode2)"
   ]
  },
  {
   "cell_type": "code",
   "execution_count": null,
   "id": "c2d88a86-4ed2-4c79-8cf8-451edb375499",
   "metadata": {},
   "outputs": [],
   "source": [
    "# Get some basic information about the image\n",
    "print(f\"Image Size: {volume2.GetSize()}\")\n",
    "print(f\"Image Spacing: {volume2.GetSpacing()}\")\n",
    "print(f\"Image Origin: {volume2.GetOrigin()}\")\n",
    "print(f\"Image Direction: {volume2.GetDirection()}\")"
   ]
  },
  {
   "cell_type": "code",
   "execution_count": null,
   "id": "a60ca6db-6413-44e1-b31e-297a38375666",
   "metadata": {},
   "outputs": [],
   "source": [
    "# Create a binary intersection of the two images\n",
    "intersectionImage = sitk.And(volume1 > 0, volume2 > 0)"
   ]
  },
  {
   "cell_type": "code",
   "execution_count": null,
   "id": "c998266e-03d4-424d-b9f8-7155ca565536",
   "metadata": {
    "papermill": {
     "duration": null,
     "end_time": null,
     "exception": null,
     "start_time": null,
     "status": "completed"
    },
    "tags": []
   },
   "outputs": [],
   "source": [
    "import psutil\n",
    "\n",
    "# Get memory information\n",
    "memoryInfo = psutil.virtual_memory()\n",
    "total_memory = memoryInfo.total / (1024 ** 3)\n",
    "available_memory = memoryInfo.available / (1024 ** 3)\n",
    "used_memory = memoryInfo.used / (1024 ** 3)\n",
    "\n",
    "print(f\"Total Memory: {total_memory:.2f} GB\")\n",
    "print(f\"Available Memory: {available_memory:.2f} GB\")\n",
    "print(f\"Used Memory: {used_memory:.2f} GB\")"
   ]
  },
  {
   "cell_type": "code",
   "execution_count": null,
   "id": "ed10e051-1c1b-4705-8d67-b0d8bfbce544",
   "metadata": {},
   "outputs": [],
   "source": [
    "del(volume1, volume2)"
   ]
  },
  {
   "cell_type": "code",
   "execution_count": null,
   "id": "f6d2f0b0-ea36-4b48-9b3e-2338d35ed2db",
   "metadata": {
    "papermill": {
     "duration": null,
     "end_time": null,
     "exception": null,
     "start_time": null,
     "status": "completed"
    },
    "tags": []
   },
   "outputs": [],
   "source": [
    "import psutil\n",
    "\n",
    "# Get memory information\n",
    "memoryInfo = psutil.virtual_memory()\n",
    "total_memory = memoryInfo.total / (1024 ** 3)\n",
    "available_memory = memoryInfo.available / (1024 ** 3)\n",
    "used_memory = memoryInfo.used / (1024 ** 3)\n",
    "\n",
    "print(f\"Total Memory: {total_memory:.2f} GB\")\n",
    "print(f\"Available Memory: {available_memory:.2f} GB\")\n",
    "print(f\"Used Memory: {used_memory:.2f} GB\")"
   ]
  },
  {
   "cell_type": "code",
   "execution_count": null,
   "id": "bc1e4165-49b1-41fb-b1eb-d228c7dc2ecc",
   "metadata": {},
   "outputs": [],
   "source": [
    "# Create a new volume node to store the result\n",
    "resultVolumeNode = slicer.mrmlScene.AddNewNodeByClass('vtkMRMLScalarVolumeNode', 'IntersectionVolume')\n",
    "\n",
    "# Push the SimpleITK image back to Slicer\n",
    "sitkUtils.PushVolumeToSlicer(intersectionImage, targetNode=resultVolumeNode)"
   ]
  },
  {
   "cell_type": "code",
   "execution_count": null,
   "id": "52285bc1-f9f4-4589-868f-f3a270b7eaab",
   "metadata": {
    "papermill": {
     "duration": null,
     "end_time": null,
     "exception": null,
     "start_time": null,
     "status": "completed"
    },
    "tags": []
   },
   "outputs": [],
   "source": [
    "filename_output = 'Bone_' + model_name + '.seg.nrrd'\n",
    "\n",
    "slicer.util.exportNode(resultVolumeNode, bone_cylinder_dir + filename_output)"
   ]
  }
 ],
 "metadata": {
  "kernelspec": {
   "display_name": "Slicer 5.6",
   "language": "python",
   "name": "slicer-5.6"
  },
  "language_info": {
   "file_extension": ".py",
   "mimetype": "text/x-python",
   "name": "python",
   "version": "3.9.10"
  },
  "papermill": {
   "default_parameters": {},
   "duration": 104.497651,
   "end_time": "2024-06-18T13:33:17.659500",
   "environment_variables": {},
   "exception": null,
   "input_path": "06_bone_ingrowth_scaffold-cylinder.ipynb",
   "output_path": "4_weeks/GB4_4W/06_bone_ingrowth_scaffold-cylinder.ipynb",
   "parameters": {
    "bone_cylinder_dir": "4_weeks/GB4_4W/segmented_volumes/bone_cylinders/",
    "cylinders_dir": "4_weeks/GB4_4W/segmented_volumes/cylinders/",
    "file_segmentation": "4_weeks/GB4_4W/segmented_volumes/Bone.seg.nrrd",
    "sample_name": "GB4_4W",
    "segmented_dir": "4_weeks/GB4_4W/segmented_volumes/"
   },
   "start_time": "2024-06-18T13:31:33.161849",
   "version": "2.6.0"
  },
  "toc-autonumbering": true
 },
 "nbformat": 4,
 "nbformat_minor": 5
}
