{
 "cells": [
  {
   "cell_type": "markdown",
   "id": "e9e365a5-96dd-44ec-9271-cb778da070dd",
   "metadata": {
    "editable": true,
    "slideshow": {
     "slide_type": ""
    },
    "tags": []
   },
   "source": [
    "<span STYLE=\"font-size:150%\"> \n",
    "    Segment cylinder regions from microCT scans\n",
    "</span>\n",
    "\n",
    "Docker image: gnasello/slicer-env:2023-10-10 \\\n",
    "Latest update: 11 October 2023"
   ]
  },
  {
   "cell_type": "markdown",
   "id": "b06273b8-ed89-406c-af12-191b17fdc261",
   "metadata": {},
   "source": [
    "- load image stack in Slicer\n",
    "- segment mineralized tissue\n",
    "- compute segmented statistics (volumes)"
   ]
  },
  {
   "cell_type": "markdown",
   "id": "8a604800-71f1-47b6-af62-7668c5af1d19",
   "metadata": {},
   "source": [
    "# Load libraries"
   ]
  },
  {
   "cell_type": "code",
   "execution_count": null,
   "id": "5ec23998-6d12-4bd1-9905-01adba17c65c",
   "metadata": {},
   "outputs": [],
   "source": [
    "import psutil\n",
    "\n",
    "# Get memory information\n",
    "memoryInfo = psutil.virtual_memory()\n",
    "total_memory = memoryInfo.total / (1024 ** 3)\n",
    "available_memory = memoryInfo.available / (1024 ** 3)\n",
    "used_memory = memoryInfo.used / (1024 ** 3)\n",
    "\n",
    "print(f\"Total Memory: {total_memory:.2f} GB\")\n",
    "print(f\"Available Memory: {available_memory:.2f} GB\")\n",
    "print(f\"Used Memory: {used_memory:.2f} GB\")"
   ]
  },
  {
   "cell_type": "code",
   "execution_count": null,
   "id": "54990dce-0882-4f06-b6e3-e4d6b1b378b7",
   "metadata": {},
   "outputs": [],
   "source": [
    "import pyslicer as ps\n",
    "import slicer\n",
    "import pandas as pd"
   ]
  },
  {
   "cell_type": "markdown",
   "id": "dcd67865-e62c-4fbc-a92e-e124ff3dfece",
   "metadata": {
    "tags": []
   },
   "source": [
    "# Volume input"
   ]
  },
  {
   "cell_type": "markdown",
   "id": "a3fadbf4-c0a2-4da8-a6f3-4639c9a1f989",
   "metadata": {},
   "source": [
    "## Load `.nrrd` file into 3D Slicer"
   ]
  },
  {
   "cell_type": "markdown",
   "id": "090e0d8b-30a3-47d4-a894-e2bc87b9ad75",
   "metadata": {
    "editable": true,
    "slideshow": {
     "slide_type": ""
    },
    "tags": []
   },
   "source": [
    "Write the path of the `.nrrd` file and load it to Slicer"
   ]
  },
  {
   "cell_type": "code",
   "execution_count": null,
   "id": "3e7a643c-b96a-4e37-839e-bef6d70a65c5",
   "metadata": {
    "editable": true,
    "slideshow": {
     "slide_type": ""
    },
    "tags": [
     "parameters"
    ]
   },
   "outputs": [],
   "source": [
    "# this cell is tagged 'parameters'\n",
    "sample_name = 'GB3_8W'\n",
    "segmented_dir = 'segmented_volumes/'\n",
    "volume_file = 'microCT_volume/microCT_volume.nrrd'\n",
    "bone_cylinders_dir = 'segmented_volumes/bone_cylinders/'\n",
    "file_segmentation = 'segmented_volumes/Bone.seg.nrrd'"
   ]
  },
  {
   "cell_type": "code",
   "execution_count": null,
   "id": "2937b8df-59de-42b1-b209-e04cbbb562ca",
   "metadata": {},
   "outputs": [],
   "source": [
    "masterVolumeNode = slicer.util.loadNodeFromFile(volume_file)"
   ]
  },
  {
   "cell_type": "markdown",
   "id": "258bebce-35ad-438e-b598-78d51f5cdbfb",
   "metadata": {},
   "source": [
    "Print spacing"
   ]
  },
  {
   "cell_type": "code",
   "execution_count": null,
   "id": "48e27e1d-5729-442c-8fa8-dff88acd90b1",
   "metadata": {},
   "outputs": [],
   "source": [
    "## mm\n",
    "masterVolumeNode.GetSpacing()"
   ]
  },
  {
   "cell_type": "markdown",
   "id": "be0823fa-36da-4db1-ac79-704d63a624f2",
   "metadata": {},
   "source": [
    "Get notebook directory name"
   ]
  },
  {
   "cell_type": "code",
   "execution_count": null,
   "id": "2fe299d9-625c-450c-8f64-6ac7e84d6c56",
   "metadata": {
    "editable": true,
    "slideshow": {
     "slide_type": ""
    },
    "tags": []
   },
   "outputs": [],
   "source": [
    "sample_name"
   ]
  },
  {
   "cell_type": "markdown",
   "id": "f65216b9-3351-4300-9764-1c5d6325350f",
   "metadata": {},
   "source": [
    "# Create segmentationNode"
   ]
  },
  {
   "cell_type": "markdown",
   "id": "6ab2842a-e11e-4a62-9c46-257c35782195",
   "metadata": {},
   "source": [
    "## Create segmentation-related nodes"
   ]
  },
  {
   "cell_type": "markdown",
   "id": "39aeb9fd-bcba-4677-b606-60829466aa84",
   "metadata": {},
   "source": [
    "Create segmentation node"
   ]
  },
  {
   "cell_type": "code",
   "execution_count": null,
   "id": "23048984-b4af-4b52-a644-80a59f86d568",
   "metadata": {},
   "outputs": [],
   "source": [
    "segmentationNode = ps.segmentation.segmentationNode(name='Segmentation')"
   ]
  },
  {
   "cell_type": "markdown",
   "id": "1b874a78-25db-4cec-901b-d75a22651f64",
   "metadata": {},
   "source": [
    "Create temporary segment editor to get access to effects"
   ]
  },
  {
   "cell_type": "code",
   "execution_count": null,
   "id": "aee78734-de34-4013-98c8-9fdc67859a03",
   "metadata": {},
   "outputs": [],
   "source": [
    "segmentEditorWidget, segmentEditorNode = ps.segmentation.segmentEditorWidget(segmentationNode = segmentationNode, \n",
    "                                                                             masterVolumeNode = masterVolumeNode)"
   ]
  },
  {
   "cell_type": "markdown",
   "id": "91b0fcdb-900a-43fc-a536-0cfd95b76655",
   "metadata": {},
   "source": [
    "## Load `Bone_Cylinder-Middle` segmentation to segmentation node"
   ]
  },
  {
   "cell_type": "markdown",
   "id": "5835fece-8bf3-4762-b43c-1f9fe0191c06",
   "metadata": {},
   "source": [
    "Load segmentation from .nrrd file as labelmap node slicer util module to load from File [github](https://github.com/Slicer/Slicer/blob/master/Base/Python/slicer/util.py#L341-L344)"
   ]
  },
  {
   "cell_type": "code",
   "execution_count": null,
   "id": "cb201245-e4f7-4f87-9737-61f09e4fae14",
   "metadata": {},
   "outputs": [],
   "source": [
    "file_labelmap =  'Bone_Cylinder-Middle.seg.nrrd'"
   ]
  },
  {
   "cell_type": "code",
   "execution_count": null,
   "id": "16ae3814-39d8-4e1e-90b0-f402522aa603",
   "metadata": {},
   "outputs": [],
   "source": [
    "name_labelmap = file_labelmap.split('.')[0]\n",
    "name_labelmap"
   ]
  },
  {
   "cell_type": "code",
   "execution_count": null,
   "id": "10183d3b-f20c-4bae-9cd3-b85fb0f7dc11",
   "metadata": {
    "editable": true,
    "slideshow": {
     "slide_type": ""
    },
    "tags": []
   },
   "outputs": [],
   "source": [
    "# Load segmentation from .seg.nrrd file (includes segment names and colors)\n",
    "\n",
    "labelmap = slicer.util.loadNodeFromFile(bone_cylinders_dir + file_labelmap, 'VolumeFile', properties={'labelmap':True})\n",
    "# segmentationNode = slicer.util.loadSegmentation(file_nuclei_segmentation)"
   ]
  },
  {
   "cell_type": "markdown",
   "id": "2e4c4cb7-72a2-45a5-b9f8-8f9e4606e76a",
   "metadata": {},
   "source": [
    "Import bone labelmapNode to segmentationNode"
   ]
  },
  {
   "cell_type": "code",
   "execution_count": null,
   "id": "277f0fcd-a7f5-4e01-8c32-2c0e40a83573",
   "metadata": {},
   "outputs": [],
   "source": [
    "slicer.modules.segmentations.logic().ImportLabelmapToSegmentationNode(labelmap, segmentationNode)"
   ]
  },
  {
   "cell_type": "markdown",
   "id": "3c73076c-6d52-4169-8b22-eac9a1d274c1",
   "metadata": {},
   "source": [
    "Rename last segment of the segmentation node "
   ]
  },
  {
   "cell_type": "code",
   "execution_count": null,
   "id": "e5b80531-cb71-42f0-8702-b836deb73598",
   "metadata": {},
   "outputs": [],
   "source": [
    "segmentation = segmentationNode.GetSegmentation()\n",
    "segment = segmentation.GetNthSegment(segmentationNode.GetSegmentation().GetNumberOfSegments() - 1)\n",
    "segment.SetName(name_labelmap)"
   ]
  },
  {
   "cell_type": "markdown",
   "id": "23727dbd-7d14-4745-b8ed-ae9a8e0942a2",
   "metadata": {},
   "source": [
    "Delete bone labelmapNode"
   ]
  },
  {
   "cell_type": "code",
   "execution_count": null,
   "id": "8d3b120a-7e3c-4db0-a278-d43b84949d37",
   "metadata": {},
   "outputs": [],
   "source": [
    "slicer.mrmlScene.RemoveNode(labelmap)\n",
    "# masterVolumeNode.SetDisplayVisibility(1)"
   ]
  },
  {
   "cell_type": "code",
   "execution_count": null,
   "id": "5d50f7ce-930f-431d-9bdb-38911f3a3382",
   "metadata": {},
   "outputs": [],
   "source": [
    "import psutil\n",
    "\n",
    "# Get memory information\n",
    "memoryInfo = psutil.virtual_memory()\n",
    "total_memory = memoryInfo.total / (1024 ** 3)\n",
    "available_memory = memoryInfo.available / (1024 ** 3)\n",
    "used_memory = memoryInfo.used / (1024 ** 3)\n",
    "\n",
    "print(f\"Total Memory: {total_memory:.2f} GB\")\n",
    "print(f\"Available Memory: {available_memory:.2f} GB\")\n",
    "print(f\"Used Memory: {used_memory:.2f} GB\")"
   ]
  },
  {
   "cell_type": "markdown",
   "id": "170a1fe8-bc15-47f4-96be-e6a6810644b6",
   "metadata": {},
   "source": [
    "# Compute bone ingrowth volumes"
   ]
  },
  {
   "cell_type": "markdown",
   "id": "bdbcc984-a67d-40ff-b3bf-f745d3108732",
   "metadata": {},
   "source": [
    "Compute segment statistics"
   ]
  },
  {
   "cell_type": "code",
   "execution_count": null,
   "id": "8167e9cd-348a-47fd-8b91-db63c99ac858",
   "metadata": {},
   "outputs": [],
   "source": [
    "stats = ps.segmentation.segment_statistics(segmentationNode)"
   ]
  },
  {
   "cell_type": "markdown",
   "id": "7b2598fd-c704-45ae-9eed-0da0ecad5357",
   "metadata": {},
   "source": [
    "Store volume of each segment"
   ]
  },
  {
   "cell_type": "code",
   "execution_count": null,
   "id": "85ca5d04-6210-48b4-a16c-67ecc656bd2b",
   "metadata": {},
   "outputs": [],
   "source": [
    "segment_names = []\n",
    "volumes_ingrowth_mm3 = []\n",
    "\n",
    "# Display volume of each segment\n",
    "for segmentId in stats[\"SegmentIDs\"]:\n",
    "    \n",
    "    volume_mm3 = stats[segmentId,\"LabelmapSegmentStatisticsPlugin.volume_mm3\"]\n",
    "    volumes_ingrowth_mm3.append(volume_mm3)\n",
    "    \n",
    "    segmentName = segmentationNode.GetSegmentation().GetSegment(segmentId).GetName()\n",
    "    segment_names.append(segmentName)\n",
    "\n",
    "data_dict = {'segmentName': segment_names, 'volume_mm3':volumes_ingrowth_mm3}\n",
    "df_stats = pd.DataFrame(data_dict)\n",
    "df_stats.set_index('segmentName',inplace=True)\n",
    "df_stats"
   ]
  },
  {
   "cell_type": "markdown",
   "id": "77c0ab7c-52a3-4309-a8a8-35159ccfacf6",
   "metadata": {},
   "source": [
    "Define output table"
   ]
  },
  {
   "cell_type": "code",
   "execution_count": null,
   "id": "fb2a00f5-9636-4bb9-bc07-a0c6cc3c3f42",
   "metadata": {},
   "outputs": [],
   "source": [
    "data = {'ingrowth_middle' : [df_stats.loc[['Bone_Cylinder-Middle']]['volume_mm3'].iloc[0]]\n",
    "       }"
   ]
  },
  {
   "cell_type": "code",
   "execution_count": null,
   "id": "6fae5c94-e5f9-449a-bd34-d811bde5675b",
   "metadata": {},
   "outputs": [],
   "source": [
    "df_volumes = pd.read_csv(segmented_dir + sample_name + '_mineralized_volumes.csv')\n",
    "df_2 = pd.DataFrame.from_dict(data)\n",
    "\n",
    "df = df_volumes.join(df_2)"
   ]
  },
  {
   "cell_type": "code",
   "execution_count": null,
   "id": "784d1029-2190-4f72-bbcd-38b8e3a492de",
   "metadata": {},
   "outputs": [],
   "source": [
    "outputfile = segmented_dir + sample_name + '_mineralized_volumes.csv'\n",
    "df.to_csv(outputfile, index=False)"
   ]
  }
 ],
 "metadata": {
  "kernelspec": {
   "display_name": "Slicer 5.6",
   "language": "python",
   "name": "slicer-5.6"
  },
  "language_info": {
   "file_extension": ".py",
   "mimetype": "text/x-python",
   "name": "python",
   "version": "3.9.10"
  },
  "toc-autonumbering": true
 },
 "nbformat": 4,
 "nbformat_minor": 5
}
