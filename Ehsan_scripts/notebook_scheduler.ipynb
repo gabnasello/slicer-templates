{
 "cells": [
  {
   "cell_type": "code",
   "execution_count": 1,
   "id": "fcaa4379-da43-4168-a32c-f96cfc433532",
   "metadata": {
    "editable": true,
    "slideshow": {
     "slide_type": ""
    },
    "tags": []
   },
   "outputs": [],
   "source": [
    "import papermill as pm"
   ]
  },
  {
   "cell_type": "code",
   "execution_count": 2,
   "id": "553b6eb6-5544-4b78-b00b-7227968e2d26",
   "metadata": {},
   "outputs": [
    {
     "name": "stdout",
     "output_type": "stream",
     "text": [
      "Total Memory: 125.58 GB\n",
      "Available Memory: 121.79 GB\n",
      "Used Memory: 2.58 GB\n"
     ]
    }
   ],
   "source": [
    "import psutil\n",
    "\n",
    "# Get memory information\n",
    "memoryInfo = psutil.virtual_memory()\n",
    "total_memory = memoryInfo.total / (1024 ** 3)\n",
    "available_memory = memoryInfo.available / (1024 ** 3)\n",
    "used_memory = memoryInfo.used / (1024 ** 3)\n",
    "\n",
    "print(f\"Total Memory: {total_memory:.2f} GB\")\n",
    "print(f\"Available Memory: {available_memory:.2f} GB\")\n",
    "print(f\"Used Memory: {used_memory:.2f} GB\")"
   ]
  },
  {
   "cell_type": "code",
   "execution_count": 3,
   "id": "bbe3642a-c1f7-475a-b070-89baba518ca4",
   "metadata": {},
   "outputs": [],
   "source": [
    "def delete_ct_data(sample_dir):\n",
    "\n",
    "    from pathlib import Path\n",
    "    import shutil\n",
    "    \n",
    "    # Define the paths for the directory and the file\n",
    "    directory_path = Path(sample_dir + 'JPEG/')\n",
    "    file_path = Path(sample_dir + 'microCT_volume/microCT_volume.nrrd')\n",
    "    \n",
    "    # Check if the directory exists and delete it\n",
    "    if directory_path.exists() and directory_path.is_dir():\n",
    "        shutil.rmtree(directory_path)  # Remove the directory and all its contents\n",
    "        print(str(directory_path) + \" deleted!\")\n",
    "            \n",
    "    # Check if the file exists and delete it\n",
    "    if file_path.exists() and file_path.is_file():\n",
    "        file_path.unlink()  # Remove the file\n",
    "        print(str(file_path) + \" deleted!\")"
   ]
  },
  {
   "cell_type": "code",
   "execution_count": 19,
   "id": "4630e283-88e8-405c-a8d2-6ccd548cf6da",
   "metadata": {
    "editable": true,
    "slideshow": {
     "slide_type": ""
    },
    "tags": []
   },
   "outputs": [],
   "source": [
    "def run_processing_workflow(sample_dir):\n",
    "    \n",
    "    # Run `00_tif2nrrd_previewQuality.ipynb`\n",
    "    paper_dict = dict(image_directory_name = sample_dir + 'JPEG',\n",
    "                      output_dir_path = sample_dir + 'microCT_volume'\n",
    "                     )\n",
    "    \n",
    "    input_nb = '00_tif2nrrd_previewQuality.ipynb'\n",
    "    output_nb =  sample_dir + input_nb\n",
    "    \n",
    "    print(input_nb)\n",
    "    pm.execute_notebook(input_nb, output_nb, parameters=dict(paper_dict));\n",
    "    \n",
    "    # Run `00_tif2nrrd_fullQuality.ipynb`\n",
    "    paper_dict = dict(image_directory_name = sample_dir + 'JPEG',\n",
    "                      output_dir_path = sample_dir + 'microCT_volume'\n",
    "                     )\n",
    "    \n",
    "    input_nb = '00_tif2nrrd_fullQuality.ipynb'\n",
    "    output_nb =  sample_dir + input_nb\n",
    "    \n",
    "    print(input_nb)\n",
    "    pm.execute_notebook(input_nb, output_nb, parameters=dict(paper_dict));\n",
    "    \n",
    "    # Run `02_find_threshold_segment.ipynb`\n",
    "    paper_dict = dict(volume_file = sample_dir + 'microCT_volume/microCT_volume.nrrd',\n",
    "                      output_dir_path = sample_dir + 'segmented_volumes/',\n",
    "                     )\n",
    "    \n",
    "    input_nb = '02_find_threshold_segment.ipynb'\n",
    "    output_nb =  sample_dir + input_nb\n",
    "    \n",
    "    print(input_nb)\n",
    "    pm.execute_notebook(input_nb, output_nb, parameters=dict(paper_dict));\n",
    "    \n",
    "    # Run `03_segment_microCT.ipynb`\n",
    "    paper_dict = dict(volume_file = sample_dir + 'microCT_volume/microCT_volume.nrrd',\n",
    "                      output_dir_path = sample_dir + 'segmented_volumes/',\n",
    "                     )\n",
    "    \n",
    "    input_nb = '03_segment_microCT.ipynb'\n",
    "    output_nb =  sample_dir + input_nb\n",
    "    \n",
    "    print(input_nb)\n",
    "    pm.execute_notebook(input_nb, output_nb, parameters=dict(paper_dict)); \n",
    "    \n",
    "    # Run `04_scaffoldSegment_to_stlFile.ipynb`\n",
    "    paper_dict = dict(volume_file = sample_dir + 'microCT_volume/microCT_volume_preview.nrrd',\n",
    "                      output_dir_path = sample_dir + 'segmented_volumes/'\n",
    "                      )\n",
    "    \n",
    "    input_nb = '04_segments_2stlFiles.ipynb'\n",
    "    output_nb =  sample_dir + input_nb\n",
    "    \n",
    "    print(input_nb)\n",
    "    pm.execute_notebook(input_nb, output_nb, parameters=dict(paper_dict), timeout=1200);  # Set timeout to 1200 seconds (20 minutes)\n",
    "\n",
    "    # Run `05_define_scaffold_cylinders.ipynb`\n",
    "    paper_dict = dict(segmented_dir =  sample_dir +'segmented_volumes/',\n",
    "                      volume_file = sample_dir + 'microCT_volume/microCT_volume.nrrd',\n",
    "                      scaffold_filename = sample_dir + 'segmented_volumes/Segmentation_Scaffold.stl',\n",
    "                      output_cylinders_dir = sample_dir + 'segmented_volumes/cylinders/'\n",
    "                      )\n",
    "    \n",
    "    input_nb = '05_define_scaffold_cylinders.ipynb'\n",
    "    output_nb =  sample_dir + input_nb\n",
    "    \n",
    "    print(input_nb)\n",
    "    pm.execute_notebook(input_nb, output_nb, parameters=dict(paper_dict));\n",
    "    \n",
    "\n",
    "    # Run `06_bone_ingrowth_scaffold-cylinder.ipynb`\n",
    "    paper_dict = dict(sample_name = sample_dir.split('/')[-2], # 'GB3_8W',\n",
    "                      segmented_dir = sample_dir + 'segmented_volumes/',\n",
    "                      cylinders_dir = sample_dir + 'segmented_volumes/cylinders/',\n",
    "                      bone_cylinder_dir = sample_dir + 'segmented_volumes/bone_cylinders/',\n",
    "                      file_segmentation = sample_dir + 'segmented_volumes/Bone.seg.nrrd',\n",
    "                      model_name = 'Scaffold-Cylinder'\n",
    "                      )\n",
    "    \n",
    "    \n",
    "    \n",
    "    input_nb = '06_bone_ingrowth_scaffold-cylinder.ipynb'\n",
    "    output_nb =  sample_dir + input_nb\n",
    "    \n",
    "    print(input_nb)\n",
    "    pm.execute_notebook(input_nb, output_nb, parameters=dict(paper_dict));    \n",
    "\n",
    "    \n",
    "    # Run `07_bone_ingrowth_outer-cylinder.ipynb`\n",
    "    paper_dict = dict(sample_name = sample_dir.split('/')[-2], # 'GB3_8W',\n",
    "                      segmented_dir = sample_dir + 'segmented_volumes/',\n",
    "                      cylinders_dir = sample_dir + 'segmented_volumes/cylinders/',\n",
    "                      bone_cylinder_dir = sample_dir + 'segmented_volumes/bone_cylinders/',\n",
    "                      file_segmentation = sample_dir + 'segmented_volumes/Bone.seg.nrrd',\n",
    "                      model_name = 'Cylinder-Outer'\n",
    "                      )\n",
    "    \n",
    "    \n",
    "    \n",
    "    input_nb = '06_bone_ingrowth_scaffold-cylinder.ipynb'\n",
    "    output_nb =  sample_dir + '07_bone_ingrowth_outer-cylinder.ipynb'\n",
    "    \n",
    "    print(output_nb)\n",
    "    pm.execute_notebook(input_nb, output_nb, parameters=dict(paper_dict));    \n",
    "    \n",
    "    # Run `08_bone_ingrowth_middle-cylinder.ipynb`\n",
    "    paper_dict = dict(sample_name = sample_dir.split('/')[-2], # 'GB3_8W',\n",
    "                      segmented_dir = sample_dir + 'segmented_volumes/',\n",
    "                      cylinders_dir = sample_dir + 'segmented_volumes/cylinders/',\n",
    "                      bone_cylinder_dir = sample_dir + 'segmented_volumes/bone_cylinders/',\n",
    "                      file_segmentation = sample_dir + 'segmented_volumes/Bone.seg.nrrd',\n",
    "                      model_name = 'Cylinder-Middle'\n",
    "                      )\n",
    "    \n",
    "    \n",
    "    \n",
    "    input_nb = '06_bone_ingrowth_scaffold-cylinder.ipynb'\n",
    "    output_nb =  sample_dir + '08_bone_ingrowth_middle-cylinder.ipynb' \n",
    "    \n",
    "    print(output_nb)\n",
    "    pm.execute_notebook(input_nb, output_nb, parameters=dict(paper_dict));   \n",
    "    \n",
    "    # Run `09_bone_ingrowth_inner-cylinder.ipynb`\n",
    "    paper_dict = dict(sample_name = sample_dir.split('/')[-2], # 'GB3_8W',\n",
    "                      segmented_dir = sample_dir + 'segmented_volumes/',\n",
    "                      cylinders_dir = sample_dir + 'segmented_volumes/cylinders/',\n",
    "                      bone_cylinder_dir = sample_dir + 'segmented_volumes/bone_cylinders/',\n",
    "                      file_segmentation = sample_dir + 'segmented_volumes/Bone.seg.nrrd',\n",
    "                      model_name = 'Cylinder-Inner'\n",
    "                      )\n",
    "    \n",
    "    \n",
    "    \n",
    "    input_nb = '06_bone_ingrowth_scaffold-cylinder.ipynb'\n",
    "    output_nb =  sample_dir + '09_bone_ingrowth_inner-cylinder.ipynb' \n",
    "    \n",
    "    print(output_nb)\n",
    "    pm.execute_notebook(input_nb, output_nb, parameters=dict(paper_dict));\n",
    "    \n",
    "    # Run `10_bone_ingrowth_volumes_total.ipynb`\n",
    "    paper_dict = dict(sample_name = sample_dir.split('/')[-2], # 'GB3_8W',\n",
    "                      segmented_dir = sample_dir + 'segmented_volumes/',\n",
    "                      volume_file = sample_dir + 'microCT_volume/microCT_volume.nrrd',\n",
    "                      bone_cylinders_dir = sample_dir + 'segmented_volumes/bone_cylinders/',\n",
    "                      file_segmentation = sample_dir + 'segmented_volumes/Bone.seg.nrrd'\n",
    "                      )\n",
    "    \n",
    "    input_nb = '10_bone_ingrowth_volumes_total.ipynb'\n",
    "    output_nb =  sample_dir + input_nb\n",
    "    \n",
    "    print(input_nb)\n",
    "    pm.execute_notebook(input_nb, output_nb, parameters=dict(paper_dict));\n",
    "\n",
    "    # Run `11_bone_ingrowth_volumes_ingrowth.ipynb`\n",
    "    paper_dict = dict(sample_name = sample_dir.split('/')[-2], # 'GB3_8W',\n",
    "                      segmented_dir = sample_dir + 'segmented_volumes/',\n",
    "                      volume_file = sample_dir + 'microCT_volume/microCT_volume.nrrd',\n",
    "                      bone_cylinders_dir = sample_dir + 'segmented_volumes/bone_cylinders/',\n",
    "                      file_segmentation = sample_dir + 'segmented_volumes/Bone.seg.nrrd'\n",
    "                      )\n",
    "    \n",
    "    input_nb = '11_bone_ingrowth_volumes_ingrowth.ipynb'\n",
    "    output_nb =  sample_dir + input_nb\n",
    "    \n",
    "    print(input_nb)\n",
    "    pm.execute_notebook(input_nb, output_nb, parameters=dict(paper_dict));\n",
    "\n",
    "\n",
    "    # Run `12_bone_ingrowth_volumes_outer.ipynb`\n",
    "    paper_dict = dict(sample_name = sample_dir.split('/')[-2], # 'GB3_8W',\n",
    "                      segmented_dir = sample_dir + 'segmented_volumes/',\n",
    "                      volume_file = sample_dir + 'microCT_volume/microCT_volume.nrrd',\n",
    "                      bone_cylinders_dir = sample_dir + 'segmented_volumes/bone_cylinders/',\n",
    "                      file_segmentation = sample_dir + 'segmented_volumes/Bone.seg.nrrd'\n",
    "                      )\n",
    "    \n",
    "    input_nb = '12_bone_ingrowth_volumes_outer.ipynb'\n",
    "    output_nb =  sample_dir + input_nb\n",
    "    \n",
    "    print(input_nb)\n",
    "    pm.execute_notebook(input_nb, output_nb, parameters=dict(paper_dict));\n",
    "    \n",
    "    # Run `13_bone_ingrowth_volumes_middle.ipynb`\n",
    "    paper_dict = dict(sample_name = sample_dir.split('/')[-2], # 'GB3_8W',\n",
    "                      segmented_dir = sample_dir + 'segmented_volumes/',\n",
    "                      volume_file = sample_dir + 'microCT_volume/microCT_volume.nrrd',\n",
    "                      bone_cylinders_dir = sample_dir + 'segmented_volumes/bone_cylinders/',\n",
    "                      file_segmentation = sample_dir + 'segmented_volumes/Bone.seg.nrrd'\n",
    "                      )\n",
    "    \n",
    "    input_nb = '13_bone_ingrowth_volumes_middle.ipynb'\n",
    "    output_nb =  sample_dir + input_nb\n",
    "    \n",
    "    print(input_nb)\n",
    "    pm.execute_notebook(input_nb, output_nb, parameters=dict(paper_dict));\n",
    "    \n",
    "    # Run `14_bone_ingrowth_volumes_inner.ipynb`\n",
    "    paper_dict = dict(sample_name = sample_dir.split('/')[-2], # 'GB3_8W',\n",
    "                      segmented_dir = sample_dir + 'segmented_volumes/',\n",
    "                      volume_file = sample_dir + 'microCT_volume/microCT_volume.nrrd',\n",
    "                      bone_cylinders_dir = sample_dir + 'segmented_volumes/bone_cylinders/',\n",
    "                      file_segmentation = sample_dir + 'segmented_volumes/Bone.seg.nrrd'\n",
    "                      )\n",
    "    \n",
    "    input_nb = '14_bone_ingrowth_volumes_inner.ipynb'\n",
    "    output_nb =  sample_dir + input_nb\n",
    "    \n",
    "    print(input_nb)\n",
    "    pm.execute_notebook(input_nb, output_nb, parameters=dict(paper_dict));"
   ]
  },
  {
   "cell_type": "code",
   "execution_count": 5,
   "id": "267732c0-e478-4bbc-bada-ee5deb0a4376",
   "metadata": {},
   "outputs": [
    {
     "name": "stdout",
     "output_type": "stream",
     "text": [
      "4_weeks/GB4_4W/07_bone_ingrowth_outer-cylinder.ipynb\n"
     ]
    },
    {
     "name": "stderr",
     "output_type": "stream",
     "text": [
      "Executing: 100%|##########| 25/25 [01:46<00:00,  4.24s/cell]\n"
     ]
    },
    {
     "name": "stdout",
     "output_type": "stream",
     "text": [
      "4_weeks/GB4_4W/08_bone_ingrowth_middle-cylinder.ipynb\n"
     ]
    },
    {
     "name": "stderr",
     "output_type": "stream",
     "text": [
      "Executing: 100%|##########| 25/25 [01:45<00:00,  4.21s/cell]\n"
     ]
    },
    {
     "name": "stdout",
     "output_type": "stream",
     "text": [
      "4_weeks/GB4_4W/09_bone_ingrowth_inner-cylinder.ipynb\n"
     ]
    },
    {
     "name": "stderr",
     "output_type": "stream",
     "text": [
      "Executing: 100%|##########| 25/25 [01:44<00:00,  4.16s/cell]\n"
     ]
    },
    {
     "name": "stdout",
     "output_type": "stream",
     "text": [
      "10_bone_ingrowth_volumes_total.ipynb\n"
     ]
    },
    {
     "name": "stderr",
     "output_type": "stream",
     "text": [
      "Executing: 100%|##########| 40/40 [03:05<00:00,  4.63s/cell]\n"
     ]
    },
    {
     "name": "stdout",
     "output_type": "stream",
     "text": [
      "11_bone_ingrowth_volumes_ingrowth.ipynb\n"
     ]
    },
    {
     "name": "stderr",
     "output_type": "stream",
     "text": [
      "Executing: 100%|##########| 43/43 [02:28<00:00,  3.46s/cell]\n"
     ]
    },
    {
     "name": "stdout",
     "output_type": "stream",
     "text": [
      "12_bone_ingrowth_volumes_outer.ipynb\n"
     ]
    },
    {
     "name": "stderr",
     "output_type": "stream",
     "text": [
      "Executing: 100%|##########| 43/43 [02:28<00:00,  3.45s/cell]\n"
     ]
    },
    {
     "name": "stdout",
     "output_type": "stream",
     "text": [
      "13_bone_ingrowth_volumes_middle.ipynb\n"
     ]
    },
    {
     "name": "stderr",
     "output_type": "stream",
     "text": [
      "Executing: 100%|##########| 42/42 [02:26<00:00,  3.49s/cell]\n"
     ]
    },
    {
     "name": "stdout",
     "output_type": "stream",
     "text": [
      "14_bone_ingrowth_volumes_inner.ipynb\n"
     ]
    },
    {
     "name": "stderr",
     "output_type": "stream",
     "text": [
      "Executing: 100%|##########| 42/42 [02:22<00:00,  3.40s/cell]\n"
     ]
    },
    {
     "name": "stdout",
     "output_type": "stream",
     "text": [
      "4_weeks/GB4_4W/JPEG deleted!\n",
      "4_weeks/GB4_4W/microCT_volume/microCT_volume.nrrd deleted!\n"
     ]
    }
   ],
   "source": [
    "sample_dir = '4_weeks/GB4_4W/'\n",
    "\n",
    "run_processing_workflow(sample_dir)\n",
    "\n",
    "delete_ct_data(sample_dir)"
   ]
  },
  {
   "cell_type": "code",
   "execution_count": null,
   "id": "14f7d543-69a2-4a57-956e-93127254d9f3",
   "metadata": {},
   "outputs": [],
   "source": []
  }
 ],
 "metadata": {
  "kernelspec": {
   "display_name": "Slicer 5.6",
   "language": "python",
   "name": "slicer-5.6"
  },
  "language_info": {
   "file_extension": ".py",
   "mimetype": "text/x-python",
   "name": "python",
   "version": "3.9.10"
  }
 },
 "nbformat": 4,
 "nbformat_minor": 5
}
