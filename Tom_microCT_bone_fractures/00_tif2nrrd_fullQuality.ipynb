{
 "cells": [
  {
   "cell_type": "markdown",
   "id": "e9e365a5-96dd-44ec-9271-cb778da070dd",
   "metadata": {
    "editable": true,
    "papermill": {
     "duration": 0.018416,
     "end_time": "2024-12-03T14:58:03.069320",
     "exception": false,
     "start_time": "2024-12-03T14:58:03.050904",
     "status": "completed"
    },
    "slideshow": {
     "slide_type": ""
    },
    "tags": []
   },
   "source": [
    "<span STYLE=\"font-size:150%\"> \n",
    "    Convert .tif files to .nrrd\n",
    "</span>\n",
    "\n",
    "Docker image: gnasello/slicer-env:2023-10-10 \\\n",
    "Latest update: 10 October 2023"
   ]
  },
  {
   "cell_type": "markdown",
   "id": "b06273b8-ed89-406c-af12-191b17fdc261",
   "metadata": {
    "papermill": {
     "duration": 0.007587,
     "end_time": "2024-12-03T14:58:03.088476",
     "exception": false,
     "start_time": "2024-12-03T14:58:03.080889",
     "status": "completed"
    },
    "tags": []
   },
   "source": [
    "- load image stack in Slicer\n",
    "- segment mineralized tissue\n",
    "- compute segmented statistics (volumes)"
   ]
  },
  {
   "cell_type": "markdown",
   "id": "8a604800-71f1-47b6-af62-7668c5af1d19",
   "metadata": {
    "papermill": {
     "duration": 0.006408,
     "end_time": "2024-12-03T14:58:03.100980",
     "exception": false,
     "start_time": "2024-12-03T14:58:03.094572",
     "status": "completed"
    },
    "tags": []
   },
   "source": [
    "# Load libraries"
   ]
  },
  {
   "cell_type": "code",
   "execution_count": null,
   "id": "ee34ac62-8898-4805-813b-a1b5573a675e",
   "metadata": {
    "papermill": {
     "duration": 0.323054,
     "end_time": "2024-12-03T14:58:03.430178",
     "exception": false,
     "start_time": "2024-12-03T14:58:03.107124",
     "status": "completed"
    },
    "tags": []
   },
   "outputs": [],
   "source": [
    "import pyslicer as ps\n",
    "import slicer\n",
    "from pathlib import Path\n",
    "import pandas as pd\n",
    "import glob\n",
    "import os\n",
    "import subprocess"
   ]
  },
  {
   "cell_type": "markdown",
   "id": "96139740-037b-4593-a20d-f5e8c394493a",
   "metadata": {
    "papermill": {
     "duration": 0.006621,
     "end_time": "2024-12-03T14:58:03.445882",
     "exception": false,
     "start_time": "2024-12-03T14:58:03.439261",
     "status": "completed"
    },
    "tags": []
   },
   "source": [
    "# Image input"
   ]
  },
  {
   "cell_type": "markdown",
   "id": "0f8c273a-7361-4112-90c4-64e98d318d02",
   "metadata": {
    "papermill": {
     "duration": 0.004328,
     "end_time": "2024-12-03T14:58:03.456287",
     "exception": false,
     "start_time": "2024-12-03T14:58:03.451959",
     "status": "completed"
    },
    "tags": []
   },
   "source": [
    "Write the path of the image file directory and the name of the output files"
   ]
  },
  {
   "cell_type": "code",
   "execution_count": null,
   "id": "4d4ce121-b80b-49b1-bde1-273116f0f530",
   "metadata": {
    "editable": true,
    "papermill": {
     "duration": 0.010168,
     "end_time": "2024-12-03T14:58:03.469454",
     "exception": false,
     "start_time": "2024-12-03T14:58:03.459286",
     "status": "completed"
    },
    "slideshow": {
     "slide_type": ""
    },
    "tags": [
     "parameters"
    ]
   },
   "outputs": [],
   "source": [
    "# this cell is tagged 'parameters'\n",
    "image_directory_name = 'tif_stack'\n",
    "output_dir_path = 'microCT_volume'"
   ]
  },
  {
   "cell_type": "code",
   "execution_count": null,
   "id": "45647cb1",
   "metadata": {
    "papermill": {
     "duration": 0.013192,
     "end_time": "2024-12-03T14:58:03.485624",
     "exception": false,
     "start_time": "2024-12-03T14:58:03.472432",
     "status": "completed"
    },
    "tags": [
     "injected-parameters"
    ]
   },
   "outputs": [],
   "source": [
    "# Parameters\n",
    "#image_directory_name = \"/config/researcher_home/Documents/M24-145/slices M24-145\"\n",
    "#output_dir_path = \"/config/researcher_home/Documents/M24-145/microCT_volume\"\n"
   ]
  },
  {
   "cell_type": "markdown",
   "id": "f7a55b10-1181-4426-9f3b-26087e221450",
   "metadata": {
    "papermill": {
     "duration": 0.004742,
     "end_time": "2024-12-03T14:58:03.493311",
     "exception": false,
     "start_time": "2024-12-03T14:58:03.488569",
     "status": "completed"
    },
    "tags": []
   },
   "source": [
    "Get first image .tif file"
   ]
  },
  {
   "cell_type": "code",
   "execution_count": null,
   "id": "7f78a3ba-2adb-44bc-87c8-bff165d03414",
   "metadata": {
    "papermill": {
     "duration": 0.044193,
     "end_time": "2024-12-03T14:58:03.547393",
     "exception": false,
     "start_time": "2024-12-03T14:58:03.503200",
     "status": "completed"
    },
    "tags": []
   },
   "outputs": [],
   "source": [
    "tif_files = [file for file in os.listdir(image_directory_name) if file.endswith(\".tif\") and file[-8:-4].isdigit()]\n",
    "image_file_name = min(tif_files, key=lambda x: int(x[-8:-4]))\n",
    "\n",
    "image_file_path = Path(image_directory_name) / image_file_name\n",
    "image_file = str(image_file_path)\n",
    "image_file"
   ]
  },
  {
   "cell_type": "code",
   "execution_count": null,
   "id": "d5355e20-94ae-419b-9661-2c62dca0747e",
   "metadata": {
    "papermill": {
     "duration": 0.021294,
     "end_time": "2024-12-03T14:58:03.579061",
     "exception": false,
     "start_time": "2024-12-03T14:58:03.557767",
     "status": "completed"
    },
    "tags": []
   },
   "outputs": [],
   "source": [
    "path = Path(image_file)\n",
    "\n",
    "# Remove image numbering _0000, _0001 ...\n",
    "filename_output = path.stem[:-4]"
   ]
  },
  {
   "cell_type": "markdown",
   "id": "1fb1718c-d59d-49be-bb9b-481e876d42ab",
   "metadata": {
    "papermill": {
     "duration": 0.010774,
     "end_time": "2024-12-03T14:58:03.600157",
     "exception": false,
     "start_time": "2024-12-03T14:58:03.589383",
     "status": "completed"
    },
    "tags": []
   },
   "source": [
    "Make ```segmented_volumes``` folder"
   ]
  },
  {
   "cell_type": "code",
   "execution_count": null,
   "id": "6d8fc3ca-c210-4987-87d7-155a4892738f",
   "metadata": {
    "editable": true,
    "papermill": {
     "duration": 0.018967,
     "end_time": "2024-12-03T14:58:03.626769",
     "exception": false,
     "start_time": "2024-12-03T14:58:03.607802",
     "status": "completed"
    },
    "slideshow": {
     "slide_type": ""
    },
    "tags": []
   },
   "outputs": [],
   "source": [
    "output_directory = Path(output_dir_path)\n",
    "\n",
    "output_directory.mkdir(parents=True, exist_ok=True)"
   ]
  },
  {
   "cell_type": "markdown",
   "id": "b09a6bf0-5ce3-4026-8b9d-51e259c20d1e",
   "metadata": {
    "papermill": {
     "duration": 0.004357,
     "end_time": "2024-12-03T14:58:03.637666",
     "exception": false,
     "start_time": "2024-12-03T14:58:03.633309",
     "status": "completed"
    },
    "tags": []
   },
   "source": [
    "# Load image"
   ]
  },
  {
   "cell_type": "markdown",
   "id": "482af021-6e82-40f3-9208-57bbf4c05b15",
   "metadata": {
    "papermill": {
     "duration": 0.003339,
     "end_time": "2024-12-03T14:58:03.645386",
     "exception": false,
     "start_time": "2024-12-03T14:58:03.642047",
     "status": "completed"
    },
    "tags": []
   },
   "source": [
    "## Load stack of image files as a 3D volume into 3D Slicer"
   ]
  },
  {
   "cell_type": "markdown",
   "id": "8775fb2a-f447-417d-b0fa-8d459048cd5b",
   "metadata": {
    "papermill": {
     "duration": 0.006795,
     "end_time": "2024-12-03T14:58:03.655087",
     "exception": false,
     "start_time": "2024-12-03T14:58:03.648292",
     "status": "completed"
    },
    "tags": []
   },
   "source": [
    "Write the [X, Y, Z] voxel spaxing if you want it to be different from metadata.\n",
    "\n",
    "If ```manual_spacing = False```, it will use default spacing value embedded in the image files"
   ]
  },
  {
   "cell_type": "code",
   "execution_count": null,
   "id": "b5835b66-9028-4895-979f-b7982b6c21f6",
   "metadata": {},
   "outputs": [],
   "source": [
    "def find_pca_file(pca_directory_name):\n",
    "    \"\"\"Find the first file with a .pca extension in the specified directory.\"\"\"\n",
    "    for file_name in os.listdir(pca_directory_name):\n",
    "        if file_name.endswith(\".pca\"):\n",
    "            return os.path.join(pca_directory_name, file_name)\n",
    "    return None\n",
    "    \n",
    "def read_voxel_size(file_path):\n",
    "    \"\"\"Read the value of VoxelSizeX from the given file.\"\"\"\n",
    "    try:\n",
    "        with open(file_path, 'r') as file:\n",
    "            for line in file:\n",
    "                if line.startswith(\"VoxelSizeX\"):\n",
    "                    # Extract the value after '='\n",
    "                    voxel_size = line.split('=')[1].strip()\n",
    "                    return float(voxel_size)\n",
    "    except FileNotFoundError:\n",
    "        print(f\"Error: The file {file_path} was not found.\")\n",
    "    except Exception as e:\n",
    "        print(f\"An error occurred: {e}\")\n",
    "    return None"
   ]
  },
  {
   "cell_type": "code",
   "execution_count": null,
   "id": "d2e7e86c-59e5-49e9-ab4b-585dc148d232",
   "metadata": {},
   "outputs": [],
   "source": [
    "# Call the function and print the result\n",
    "pca_file = find_pca_file(pca_directory_name)\n",
    "if pca_file:\n",
    "    voxel_size = read_voxel_size(pca_file)\n",
    "    if voxel_size is not None:\n",
    "        print(f\"The value of VoxelSizeX from {pca_file} is: {voxel_size}\")\n",
    "    else:\n",
    "        print(\"VoxelSizeX not found in the file.\")\n",
    "else:\n",
    "    print(\"No .pca file found in the specified directory.\")"
   ]
  },
  {
   "cell_type": "code",
   "execution_count": null,
   "id": "97b0f37b-b7a3-4187-a212-9f816fb0f3d5",
   "metadata": {},
   "outputs": [],
   "source": [
    "#manual_spacing = False\n",
    "manual_spacing = [voxel_size, voxel_size, voxel_size] # mm"
   ]
  },
  {
   "cell_type": "code",
   "execution_count": null,
   "id": "1933f7b5-0de1-429e-8d79-6ba79d7e5a1b",
   "metadata": {},
   "outputs": [],
   "source": [
    "manual_spacing"
   ]
  },
  {
   "cell_type": "markdown",
   "id": "91f00f44-ad31-417e-852b-9f9273096da8",
   "metadata": {
    "papermill": {
     "duration": 0.00552,
     "end_time": "2024-12-03T14:58:03.698005",
     "exception": false,
     "start_time": "2024-12-03T14:58:03.692485",
     "status": "completed"
    },
    "tags": []
   },
   "source": [
    "Set the quality resolution of the output volume. \n",
    "\n",
    "The default quality is ```'preview'``` and you get it with ```quality = Flase```"
   ]
  },
  {
   "cell_type": "code",
   "execution_count": null,
   "id": "acd82a50-c486-41d8-b23b-0cbce8b21cdd",
   "metadata": {
    "papermill": {
     "duration": 0.019331,
     "end_time": "2024-12-03T14:58:03.722056",
     "exception": false,
     "start_time": "2024-12-03T14:58:03.702725",
     "status": "completed"
    },
    "tags": []
   },
   "outputs": [],
   "source": [
    "# quality = 'preview'\n",
    "# quality = 'half'\n",
    "quality = 'full'\n",
    "#quality = False"
   ]
  },
  {
   "cell_type": "code",
   "execution_count": null,
   "id": "22fd15d9-9968-4a7f-881d-4dbc07103501",
   "metadata": {
    "papermill": {
     "duration": 2.919442,
     "end_time": "2024-12-03T14:58:06.645927",
     "exception": false,
     "start_time": "2024-12-03T14:58:03.726485",
     "status": "completed"
    },
    "tags": []
   },
   "outputs": [],
   "source": [
    "masterVolumeNode = ps.load.imagestacks(first_image_file = image_file, \n",
    "                                       quality=quality,\n",
    "                                       spacing=manual_spacing)"
   ]
  },
  {
   "cell_type": "markdown",
   "id": "ef9c4702-0a45-4117-9ecd-14d77170fbec",
   "metadata": {
    "papermill": {
     "duration": 0.012126,
     "end_time": "2024-12-03T14:58:06.675267",
     "exception": false,
     "start_time": "2024-12-03T14:58:06.663141",
     "status": "completed"
    },
    "tags": []
   },
   "source": [
    "Print spacing"
   ]
  },
  {
   "cell_type": "code",
   "execution_count": null,
   "id": "c959e73e-d9e5-4d63-909b-07b1fbf2309a",
   "metadata": {
    "papermill": {
     "duration": 0.033206,
     "end_time": "2024-12-03T14:58:06.733961",
     "exception": false,
     "start_time": "2024-12-03T14:58:06.700755",
     "status": "completed"
    },
    "tags": []
   },
   "outputs": [],
   "source": [
    "## mm\n",
    "masterVolumeNode.GetSpacing()"
   ]
  },
  {
   "cell_type": "markdown",
   "id": "1c3fd32e-edf7-48ef-a812-29d366ed8fc9",
   "metadata": {
    "papermill": {
     "duration": 0.013274,
     "end_time": "2024-12-03T14:58:06.762459",
     "exception": false,
     "start_time": "2024-12-03T14:58:06.749185",
     "status": "completed"
    },
    "tags": []
   },
   "source": [
    "Export volume Node as `.nrrd` file"
   ]
  },
  {
   "cell_type": "code",
   "execution_count": null,
   "id": "c42dc1ef-d828-4539-9f68-bcef2572e222",
   "metadata": {
    "papermill": {
     "duration": 8.112632,
     "end_time": "2024-12-03T14:58:14.889273",
     "exception": false,
     "start_time": "2024-12-03T14:58:06.776641",
     "status": "completed"
    },
    "tags": []
   },
   "outputs": [],
   "source": [
    "filename_output = 'microCT_volume.nrrd'\n",
    "\n",
    "slicer.util.exportNode(masterVolumeNode, output_directory / filename_output)"
   ]
  },
  {
   "cell_type": "code",
   "execution_count": null,
   "id": "fb89632c-df9e-4446-8eb4-8133bc123132",
   "metadata": {},
   "outputs": [],
   "source": [
    "subprocess.run([\"rm\", \"-r\", image_directory_name])"
   ]
  },
  {
   "cell_type": "code",
   "execution_count": null,
   "id": "f876c0b8-4efb-4ace-8981-4d97c5d549c8",
   "metadata": {},
   "outputs": [],
   "source": []
  }
 ],
 "metadata": {
  "kernelspec": {
   "display_name": "Slicer 5.6",
   "language": "python",
   "name": "slicer-5.6"
  },
  "language_info": {
   "file_extension": ".py",
   "mimetype": "text/x-python",
   "name": "python",
   "version": "3.9.10"
  },
  "papermill": {
   "default_parameters": {},
   "duration": 25.842092,
   "end_time": "2024-12-03T14:58:14.937551",
   "environment_variables": {},
   "exception": null,
   "input_path": "00_tif2nrrd_previewQuality.ipynb",
   "output_path": "/config/researcher_home/Documents/M24-145/00_tif2nrrd_previewQuality.ipynb",
   "parameters": {
    "image_directory_name": "/config/researcher_home/Documents/M24-145/slices M24-145",
    "output_dir_path": "/config/researcher_home/Documents/M24-145/microCT_volume"
   },
   "start_time": "2024-12-03T14:57:49.095459",
   "version": "2.6.0"
  },
  "toc-autonumbering": true
 },
 "nbformat": 4,
 "nbformat_minor": 5
}
