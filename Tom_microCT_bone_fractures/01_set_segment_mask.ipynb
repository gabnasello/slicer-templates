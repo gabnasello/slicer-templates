{
 "cells": [
  {
   "cell_type": "markdown",
   "id": "e9e365a5-96dd-44ec-9271-cb778da070dd",
   "metadata": {},
   "source": [
    "<span STYLE=\"font-size:150%\"> \n",
    "    Segment microCT scans\n",
    "</span>\n",
    "\n",
    "Docker image: gnasello/slicer-env:2023-07-06 \\\n",
    "Latest update: 10 March 2023"
   ]
  },
  {
   "cell_type": "markdown",
   "id": "b06273b8-ed89-406c-af12-191b17fdc261",
   "metadata": {},
   "source": [
    "- load image stack in Slicer\n",
    "- segment mineralized tissue\n",
    "- compute segmented statistics (volumes)"
   ]
  },
  {
   "cell_type": "markdown",
   "id": "d63d6963-f622-47be-a964-8a9b38aa3377",
   "metadata": {},
   "source": [
    "# Install libraries"
   ]
  },
  {
   "cell_type": "markdown",
   "id": "2139a856-f906-4101-bd61-5faf2fdca2de",
   "metadata": {},
   "source": [
    "Run the command below one time only, then comment it"
   ]
  },
  {
   "cell_type": "code",
   "execution_count": null,
   "id": "21ae1bd4-d8d8-4684-87bd-1e875576a3ca",
   "metadata": {},
   "outputs": [],
   "source": [
    "# !git clone https://github.com/gabnasello/pyslicer.git\n",
    "# !PythonSlicer -m pip install -e pyslicer/\n",
    "# !PythonSlicer -m pip install matplotlib\n",
    "\n",
    "# import os\n",
    "# os._exit(00)"
   ]
  },
  {
   "cell_type": "markdown",
   "id": "8a604800-71f1-47b6-af62-7668c5af1d19",
   "metadata": {},
   "source": [
    "# Load libraries"
   ]
  },
  {
   "cell_type": "code",
   "execution_count": null,
   "id": "ee34ac62-8898-4805-813b-a1b5573a675e",
   "metadata": {},
   "outputs": [],
   "source": [
    "import pyslicer as ps\n",
    "import slicer\n",
    "from pathlib import Path\n",
    "import pandas as pd"
   ]
  },
  {
   "cell_type": "markdown",
   "id": "97c713cf-b480-4c66-9202-afa57c2572e4",
   "metadata": {
    "tags": []
   },
   "source": [
    "# Volume input"
   ]
  },
  {
   "cell_type": "markdown",
   "id": "05c94d5a-9541-43de-a7ce-66307c2e7ea2",
   "metadata": {},
   "source": [
    "## Load `.nrrd` file into 3D Slicer"
   ]
  },
  {
   "cell_type": "markdown",
   "id": "e5c509eb-3052-48a2-9411-99ed46576279",
   "metadata": {},
   "source": [
    "Write the path of the `.nrrd` file and load it to Slicer"
   ]
  },
  {
   "cell_type": "code",
   "execution_count": null,
   "id": "85df2450-9c71-4a39-aa38-bf6e3b7885d5",
   "metadata": {},
   "outputs": [],
   "source": [
    "volume_file = 'microCT_volume/microCT_volume_preview.nrrd'\n",
    "\n",
    "path = Path(volume_file)\n",
    "\n",
    "# Remove image numbering _0000, _0001 ...\n",
    "filename_output = path.stem[:-4]"
   ]
  },
  {
   "cell_type": "code",
   "execution_count": null,
   "id": "7ba1e387-b7b0-47ce-aaed-e113794b23e1",
   "metadata": {},
   "outputs": [],
   "source": [
    "masterVolumeNode = slicer.util.loadNodeFromFile(volume_file)"
   ]
  },
  {
   "cell_type": "markdown",
   "id": "b0c419a4-f392-48da-8903-3e76a41501f7",
   "metadata": {},
   "source": [
    "Print spacing"
   ]
  },
  {
   "cell_type": "code",
   "execution_count": null,
   "id": "f08b12e9-1a4d-4015-bdf8-39c38c24d646",
   "metadata": {},
   "outputs": [],
   "source": [
    "## mm\n",
    "masterVolumeNode.GetSpacing()"
   ]
  },
  {
   "cell_type": "markdown",
   "id": "06981e0f-9165-47c1-8481-785e38c97a1e",
   "metadata": {},
   "source": [
    "Make ```segmented_volumes``` folder"
   ]
  },
  {
   "cell_type": "code",
   "execution_count": null,
   "id": "79ae0e3d-cc3c-4449-8917-688c70d959c7",
   "metadata": {},
   "outputs": [],
   "source": [
    "output_directory = Path('segmented_volumes')\n",
    "\n",
    "output_directory.mkdir(parents=True, exist_ok=True)"
   ]
  },
  {
   "cell_type": "markdown",
   "id": "e6e6599a-6624-48c1-aecc-c68ea2350427",
   "metadata": {
    "tags": []
   },
   "source": [
    "# Thresholding"
   ]
  },
  {
   "cell_type": "markdown",
   "id": "1937edd2-778e-48cc-8669-ebb270af75a7",
   "metadata": {},
   "source": [
    "## Create segmentation-related nodes"
   ]
  },
  {
   "cell_type": "markdown",
   "id": "b1d618bb-877a-48f8-9580-7285e9132692",
   "metadata": {},
   "source": [
    "Create segmentation node"
   ]
  },
  {
   "cell_type": "code",
   "execution_count": null,
   "id": "ad698c59-5446-4061-a85f-2be27c7a2ee6",
   "metadata": {},
   "outputs": [],
   "source": [
    "segmentationNode = ps.segmentation.segmentationNode(name='Segmentation')"
   ]
  },
  {
   "cell_type": "markdown",
   "id": "39b5c5c1-556c-41ac-903a-fe02a28c7595",
   "metadata": {},
   "source": [
    "Create temporary segment editor to get access to effects"
   ]
  },
  {
   "cell_type": "code",
   "execution_count": null,
   "id": "0defe996-4c60-4375-b12b-a7026d057b52",
   "metadata": {},
   "outputs": [],
   "source": [
    "segmentEditorWidget, segmentEditorNode = ps.segmentation.segmentEditorWidget(segmentationNode = segmentationNode, \n",
    "                                                                             masterVolumeNode = masterVolumeNode)"
   ]
  },
  {
   "cell_type": "markdown",
   "id": "afd9833d-5e59-4987-9ab3-c4790c63425e",
   "metadata": {},
   "source": [
    "## Check different automatic segmentation algorithms"
   ]
  },
  {
   "cell_type": "markdown",
   "id": "b598bf5d-dd75-4385-9458-d0c80fae2a2e",
   "metadata": {},
   "source": [
    "The first time you analyze an image/channel. Go to the ```Segment Editor```, add a new segment and choose the thresholding method. There you test different automatic thresholding technique and choose the one working best. For later analysis, you can just copy the thresholding values in the ```segments_greyvalues``` object at the beginning of this notebook."
   ]
  },
  {
   "cell_type": "code",
   "execution_count": null,
   "id": "4f5100c3-7cda-4cd3-91a6-7ec5bab2edf1",
   "metadata": {},
   "outputs": [],
   "source": [
    "ps.volume.plot_histogram(masterVolumeNode, yscale='log')"
   ]
  },
  {
   "cell_type": "markdown",
   "id": "21befe69-11d0-4d66-aa3d-dab0bd43295c",
   "metadata": {},
   "source": [
    "Get automatic thresholding values, as indicated in [this script](https://github.com/jzeyl/3D-Slicer-Scripts/blob/db51967cc642837e8bae0fea1585a95074d8420b/load_dicom_modified_otsu.py#L56)"
   ]
  },
  {
   "cell_type": "code",
   "execution_count": null,
   "id": "6a442550-7232-4e79-951c-a32496ced7ac",
   "metadata": {},
   "outputs": [],
   "source": [
    "methods = [\n",
    "            'HUANG',\n",
    "            'INTERMODES',\n",
    "            'ISO_DATA',\n",
    "            'KITTLER_ILLINGWORTH',\n",
    "            'LI',\n",
    "            'MAXIMUM_ENTROPY',\n",
    "            'MOMENTS',\n",
    "            'OTSU',\n",
    "            'RENYI_ENTROPY',\n",
    "            'SHANBHAG',\n",
    "            'TRIANGLE',\n",
    "            'YEN'\n",
    "            ]\n",
    "\n",
    "thresholds = dict.fromkeys(methods, None)\n",
    "thresholds"
   ]
  },
  {
   "cell_type": "markdown",
   "id": "feabde32-904c-4a18-9276-2decb5aaa940",
   "metadata": {},
   "source": [
    "Otsu thresholding"
   ]
  },
  {
   "cell_type": "code",
   "execution_count": null,
   "id": "5f8d9dff-bf66-4fab-b1df-e5fe8b49eeb2",
   "metadata": {},
   "outputs": [],
   "source": [
    "method = 'OTSU'\n",
    "\n",
    "threshold = ps.segmentation.compute_threshold(method = method, volumeNode = masterVolumeNode)\n",
    "\n",
    "thresholds[method.upper()] = threshold\n",
    "\n",
    "print(method + \" threshold: \" + str(threshold))\n",
    "ps.volume.plot_histogram(masterVolumeNode, threshold = threshold, title = method, yscale='log')"
   ]
  },
  {
   "cell_type": "markdown",
   "id": "83c1b22c-e354-410e-9da5-23ed442144a1",
   "metadata": {},
   "source": [
    "IsoData thresholding"
   ]
  },
  {
   "cell_type": "code",
   "execution_count": null,
   "id": "54fc99a3-e1be-4995-9699-cffd7ce12f3f",
   "metadata": {},
   "outputs": [],
   "source": [
    "method = 'ISO_DATA'\n",
    "\n",
    "threshold = ps.segmentation.compute_threshold(method = method, volumeNode = masterVolumeNode)\n",
    "\n",
    "thresholds[method.upper()] = threshold\n",
    "\n",
    "print(method + \" threshold: \" + str(threshold))\n",
    "ps.volume.plot_histogram(masterVolumeNode, threshold = threshold, title = method, yscale='log')"
   ]
  },
  {
   "cell_type": "markdown",
   "id": "3f935d5c-bf83-442b-a313-f85e3fc8811c",
   "metadata": {
    "tags": []
   },
   "source": [
    "MOMENTS thresholding"
   ]
  },
  {
   "cell_type": "code",
   "execution_count": null,
   "id": "fbddaf70-a930-4c8c-a982-4cc20197572d",
   "metadata": {},
   "outputs": [],
   "source": [
    "method = 'MOMENTS'\n",
    "\n",
    "threshold = ps.segmentation.compute_threshold(method = method, volumeNode = masterVolumeNode)\n",
    "\n",
    "thresholds[method.upper()] = threshold\n",
    "\n",
    "print(method + \" threshold: \" + str(threshold))\n",
    "ps.volume.plot_histogram(masterVolumeNode, threshold = threshold, title = method, yscale='log')"
   ]
  },
  {
   "cell_type": "markdown",
   "id": "55bbf508-72df-489d-889d-53ea896b7f2c",
   "metadata": {},
   "source": [
    "MAXIMUM_ENTROPY thresholding"
   ]
  },
  {
   "cell_type": "markdown",
   "id": "56dadd8a-85f2-438a-aea1-807d665dba4f",
   "metadata": {
    "tags": []
   },
   "source": [
    "INTERMODES thresholding"
   ]
  },
  {
   "cell_type": "markdown",
   "id": "009e11af-0a08-4fdb-b37d-efc9c029e4a7",
   "metadata": {},
   "source": [
    "## Select thresholding values"
   ]
  },
  {
   "cell_type": "code",
   "execution_count": null,
   "id": "29d85ccb-afc2-4fcd-b5ae-15f79b98aa02",
   "metadata": {},
   "outputs": [],
   "source": [
    "thresholds"
   ]
  },
  {
   "cell_type": "code",
   "execution_count": null,
   "id": "5760f8ca-6071-4919-b716-a12fc4131f54",
   "metadata": {},
   "outputs": [],
   "source": [
    "segments_greyvalues = {\n",
    "    \"Bone\": [thresholds['MOMENTS']*0.9, thresholds['ISO_DATA']], # [MaxEntropy, MaxIntensity]\n",
    "    }\n",
    "\n",
    "segments_greyvalues"
   ]
  },
  {
   "cell_type": "markdown",
   "id": "28dd2914-3af2-4496-ba7a-7079a6a8873e",
   "metadata": {
    "tags": []
   },
   "source": [
    "## Create segments by thresholding"
   ]
  },
  {
   "cell_type": "code",
   "execution_count": null,
   "id": "aa539815-f96a-4809-8bc9-ba0a595d701f",
   "metadata": {},
   "outputs": [],
   "source": [
    "# Avoid overwrite of overlapping segments\n",
    "segmentEditorNode.SetOverwriteMode(slicer.vtkMRMLSegmentEditorNode.OverwriteNone)\n",
    "\n",
    "ps.segmentation.segments_by_thresholding(segments_greyvalues, \n",
    "                                         segmentationNode,\n",
    "                                         segmentEditorNode,\n",
    "                                         segmentEditorWidget)"
   ]
  },
  {
   "cell_type": "markdown",
   "id": "1af2bf00-5b93-4aeb-8f1b-71d5c2ab17b3",
   "metadata": {},
   "source": [
    "Set segments color"
   ]
  },
  {
   "cell_type": "code",
   "execution_count": null,
   "id": "91f790cf-b870-4f08-8b15-89471ba4d7e5",
   "metadata": {},
   "outputs": [],
   "source": [
    "segments_color = {\n",
    "    \"Bone\": (0.9450980392156862, 0.8392156862745098, 0.5686274509803921), # \"Bone\" color in Slicer\n",
    "    }\n",
    "\n",
    "segments_color"
   ]
  },
  {
   "cell_type": "code",
   "execution_count": null,
   "id": "e1fcfc37-a9cd-4415-a0b7-b0a68c6e3117",
   "metadata": {},
   "outputs": [],
   "source": [
    "ps.segmentation.set_segments_color(segments_color, segmentationNode)"
   ]
  },
  {
   "cell_type": "markdown",
   "id": "03ca7d61-f2f4-4e64-8df3-ea120a6efce0",
   "metadata": {},
   "source": [
    "Get closed surface representation of the segment and visualize segment in 3D view, from [slicer scripting repository](https://slicer.readthedocs.io/en/latest/developer_guide/script_repository.html#export-nodes-warped-by-transform-sequence)"
   ]
  },
  {
   "cell_type": "code",
   "execution_count": null,
   "id": "c13f7a8d-ef02-4714-ac35-3eda952dc59f",
   "metadata": {},
   "outputs": [],
   "source": [
    "segmentationNode.CreateClosedSurfaceRepresentation()"
   ]
  },
  {
   "cell_type": "markdown",
   "id": "8171433a-c4ee-4ad5-aa1e-db5f195b3ffc",
   "metadata": {},
   "source": [
    "<span style=\"color:red; font-size:200%\">Manual Task</span>\n",
    "# Draw Region of Interest in Slicer UI"
   ]
  },
  {
   "cell_type": "markdown",
   "id": "4606d247-48f2-45ce-9666-6aec781d2483",
   "metadata": {},
   "source": [
    "Before running the code below, go to the Slicer UI and define a **ROI** from the ```markups``` module.\n",
    "\n",
    "Set the name of the ROI node to ```R```. Any name is actually fine, but you should change the line below accoridngly."
   ]
  },
  {
   "cell_type": "code",
   "execution_count": null,
   "id": "cf215789-9c56-44b8-9290-75678161f545",
   "metadata": {},
   "outputs": [],
   "source": [
    "nodename = 'R'\n",
    "roiNode = slicer.util.getNode(nodename)"
   ]
  },
  {
   "cell_type": "code",
   "execution_count": null,
   "id": "e19d0012-0996-402b-a57b-826a705d58ae",
   "metadata": {},
   "outputs": [],
   "source": [
    "f_output = 'R.mrk.json'\n",
    "\n",
    "slicer.util.exportNode(roiNode, output_directory / f_output)"
   ]
  },
  {
   "cell_type": "markdown",
   "id": "ecadd8fe-d039-4a70-a493-b64a872f6dc2",
   "metadata": {},
   "source": [
    "# Create segment with ROI"
   ]
  },
  {
   "cell_type": "markdown",
   "id": "9310f09f-a338-4259-b56f-d3d3f623d4d2",
   "metadata": {},
   "source": [
    "## Crop original volume based on a Region of Interest (ROI)"
   ]
  },
  {
   "cell_type": "code",
   "execution_count": null,
   "id": "e6b8efcb-6f5c-42c9-8f6f-8eacf4dff49e",
   "metadata": {},
   "outputs": [],
   "source": [
    "# Define a function to crop a volume based on an ROI node and output to a specified node\n",
    "def crop_volume_based_on_roi(volumeNode, roiNode, outputVolumeName=\"CroppedVolume\"):\n",
    "    # Create and name the output volume node\n",
    "    outputVolumeNode = slicer.mrmlScene.AddNewNodeByClass(\"vtkMRMLScalarVolumeNode\", outputVolumeName)\n",
    "    \n",
    "    # Create a Crop Volume parameter node\n",
    "    cropVolumeParameters = slicer.vtkMRMLCropVolumeParametersNode()\n",
    "    cropVolumeParameters.SetInputVolumeNodeID(volumeNode.GetID())\n",
    "    cropVolumeParameters.SetROINodeID(roiNode.GetID())\n",
    "    cropVolumeParameters.SetOutputVolumeNodeID(outputVolumeNode.GetID())\n",
    "    \n",
    "    # Optionally set isotropic resampling (if desired)\n",
    "    cropVolumeParameters.SetIsotropicResampling(False)  # Set to True if isotropic spacing is needed\n",
    "\n",
    "    # Add the crop volume parameters node to the MRML scene\n",
    "    slicer.mrmlScene.AddNode(cropVolumeParameters)\n",
    "    \n",
    "    # Run the crop volume logic\n",
    "    cropVolumeLogic = slicer.modules.cropvolume.logic()\n",
    "    cropVolumeLogic.Apply(cropVolumeParameters)\n",
    "    \n",
    "    return outputVolumeNode\n"
   ]
  },
  {
   "cell_type": "code",
   "execution_count": null,
   "id": "ca578009-449b-4525-bc37-71d2c6bf2f36",
   "metadata": {},
   "outputs": [],
   "source": [
    "# Crop the volume based on the ROI\n",
    "croppedVolume = crop_volume_based_on_roi(masterVolumeNode, roiNode, outputVolumeName=\"croppedVolume\")"
   ]
  },
  {
   "cell_type": "markdown",
   "id": "bad9184c-1424-4eaa-bc87-f99e7fe65c4d",
   "metadata": {},
   "source": [
    "## Create segmentation node within the cropped volume node"
   ]
  },
  {
   "cell_type": "markdown",
   "id": "ac4bfa9b-68c8-4841-8d7d-e510262cc29b",
   "metadata": {},
   "source": [
    "Create segmentation node"
   ]
  },
  {
   "cell_type": "code",
   "execution_count": null,
   "id": "3b71ac52-6ca3-4cba-9146-121b3b0e8992",
   "metadata": {},
   "outputs": [],
   "source": [
    "segmentationNode_croppedVolume = ps.segmentation.segmentationNode(name='Segmentation_croppedVolume')"
   ]
  },
  {
   "cell_type": "markdown",
   "id": "13607035-4880-4dfa-8317-6a4b4ac1a0b7",
   "metadata": {},
   "source": [
    "Create temporary segment editor to get access to effects"
   ]
  },
  {
   "cell_type": "code",
   "execution_count": null,
   "id": "c612c795-9086-4724-9a04-f6306f226e00",
   "metadata": {},
   "outputs": [],
   "source": [
    "segmentEditorWidget_croppedVolume, segmentEditorNode_croppedVolume = ps.segmentation.segmentEditorWidget(segmentationNode = segmentationNode_croppedVolume, \n",
    "                                                                                                         masterVolumeNode = croppedVolume)"
   ]
  },
  {
   "cell_type": "markdown",
   "id": "d10f4de4-0731-4938-8c68-2ca39bced64e",
   "metadata": {},
   "source": [
    "## Create segment covering all cropped volume node"
   ]
  },
  {
   "cell_type": "code",
   "execution_count": null,
   "id": "1f365922-9911-4eeb-9047-92c675a8756b",
   "metadata": {},
   "outputs": [],
   "source": [
    "segments_greyvalues = {\n",
    "    \"ROI\": [0, 2**16], # [MaxEntropy, MaxIntensity]\n",
    "    }\n",
    "\n",
    "segments_greyvalues"
   ]
  },
  {
   "cell_type": "code",
   "execution_count": null,
   "id": "8f359228-a400-46c7-8811-d5e43f20eb09",
   "metadata": {},
   "outputs": [],
   "source": [
    "ps.segmentation.segments_by_thresholding(segments_greyvalues, \n",
    "                                         segmentationNode_croppedVolume,\n",
    "                                         segmentEditorNode_croppedVolume,\n",
    "                                         segmentEditorWidget_croppedVolume)"
   ]
  },
  {
   "cell_type": "markdown",
   "id": "ff64ec06-08cd-4eff-83b0-12459ed38c4f",
   "metadata": {},
   "source": [
    "## Export ROI Mask segmentation as `seg.nrrd` file (labelmap node)"
   ]
  },
  {
   "cell_type": "markdown",
   "id": "cf5af6b5-26de-46c0-bdae-47b3254e9435",
   "metadata": {},
   "source": [
    "Export a selection of segments (identified by their names), from [slicer tutorial](https://slicer.readthedocs.io/en/latest/developer_guide/script_repository.html#export-labelmap-node-from-segmentation-node)"
   ]
  },
  {
   "cell_type": "code",
   "execution_count": null,
   "id": "a81d6418-3a5b-4c9c-8274-de0d1ec6241d",
   "metadata": {},
   "outputs": [],
   "source": [
    "seg_name = \"ROI\""
   ]
  },
  {
   "cell_type": "code",
   "execution_count": null,
   "id": "abd0acc4-4638-4b26-b812-ff8284a11b87",
   "metadata": {},
   "outputs": [],
   "source": [
    "mask_labelmap = ps.segmentation.individual_segment_to_labelmapNode(segmentName = seg_name,\n",
    "                                                                   segmentationNode = segmentationNode_croppedVolume,\n",
    "                                                                   volumeNode = croppedVolume)"
   ]
  },
  {
   "cell_type": "code",
   "execution_count": null,
   "id": "5d46cace-2909-4f3f-aa3f-b6265e5f39a5",
   "metadata": {},
   "outputs": [],
   "source": [
    "filename_output = seg_name + '.seg.nrrd'\n",
    "\n",
    "slicer.util.exportNode(mask_labelmap, output_directory / filename_output)"
   ]
  },
  {
   "cell_type": "markdown",
   "id": "82875de9-9310-4a28-bf54-518a4e1eb32f",
   "metadata": {},
   "source": [
    "# Visualize segmentations in 3D view"
   ]
  },
  {
   "cell_type": "markdown",
   "id": "4e3287b7-f391-49a3-953b-bb696a7d31bb",
   "metadata": {},
   "source": [
    "Get viewNode"
   ]
  },
  {
   "cell_type": "code",
   "execution_count": null,
   "id": "3a407ed2-138d-4699-83b9-731fb6aaf11b",
   "metadata": {},
   "outputs": [],
   "source": [
    "view = slicer.app.layoutManager().threeDWidget(0).threeDView()\n",
    "viewNode = view.mrmlViewNode()\n",
    "\n",
    "# Switch off cube and labels\n",
    "viewNode.SetAxisLabelsVisible(False)\n",
    "viewNode.SetBoxVisible(False)\n",
    "\n",
    "color = (28/255, 29/255, 36/255)\n",
    "# Set view background to RGB color of choice\n",
    "viewNode.SetBackgroundColor(color[0], color[1], color[2])\n",
    "viewNode.SetBackgroundColor2(color[0], color[1], color[2])\n",
    "\n",
    "# Se?t Orthographic rendering, which is required to show the ruler in a 3D view\n",
    "viewNode.SetRenderMode(viewNode.Orthographic)\n",
    "\n",
    "# Set thick and white ruler\n",
    "viewNode.SetRulerType(2) # 2 - thick\n",
    "viewNode.SetRulerColor(0) # 0 - white\n",
    "\n",
    "# Get camera position\n",
    "cameraNode = slicer.modules.cameras.logic().GetViewActiveCameraNode(viewNode)"
   ]
  },
  {
   "cell_type": "markdown",
   "id": "35cd6356-2070-4571-8694-115ccd36992c",
   "metadata": {},
   "source": [
    "## Get camera position in 3D view"
   ]
  },
  {
   "cell_type": "code",
   "execution_count": null,
   "id": "59aede66-2270-4771-a1f5-c9629c7a2301",
   "metadata": {},
   "outputs": [],
   "source": [
    "position = cameraNode.GetPosition()\n",
    "\n",
    "viewAngle = cameraNode.GetViewAngle()\n",
    "\n",
    "viewUp = cameraNode.GetViewUp()\n",
    "\n",
    "focalPoint = cameraNode.GetFocalPoint()\n",
    "\n",
    "parallelScale = cameraNode.GetParallelScale()"
   ]
  },
  {
   "cell_type": "code",
   "execution_count": null,
   "id": "64175818-edb3-41bd-9917-c128284c7c22",
   "metadata": {},
   "outputs": [],
   "source": [
    "df1 = pd.DataFrame({'position':position,\n",
    "                    'viewUp':viewUp,\n",
    "                    'focalPoint':focalPoint})\n",
    "\n",
    "df2 = pd.DataFrame({'viewAngle':[viewAngle],\n",
    "                    'parallelScale':[parallelScale]})\n",
    "\n",
    "df_camera = pd.concat([df1,df2], axis=1)\n",
    "df_camera"
   ]
  },
  {
   "cell_type": "code",
   "execution_count": null,
   "id": "dc4d75f3-dc2f-4bc7-9d94-9428be70a8d5",
   "metadata": {},
   "outputs": [],
   "source": [
    "outputfile = output_directory / 'camera_view.csv'\n",
    "df_camera.to_csv(outputfile, index=False, na_rep='NULL')"
   ]
  }
 ],
 "metadata": {
  "kernelspec": {
   "display_name": "Slicer 5.6",
   "language": "python",
   "name": "slicer-5.6"
  },
  "language_info": {
   "file_extension": ".py",
   "mimetype": "text/x-python",
   "name": "python",
   "version": "3.9.10"
  },
  "toc-autonumbering": true
 },
 "nbformat": 4,
 "nbformat_minor": 5
}
