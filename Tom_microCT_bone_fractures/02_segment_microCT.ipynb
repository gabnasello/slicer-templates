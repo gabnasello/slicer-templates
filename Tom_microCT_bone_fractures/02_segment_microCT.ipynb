{
 "cells": [
  {
   "cell_type": "markdown",
   "id": "e9e365a5-96dd-44ec-9271-cb778da070dd",
   "metadata": {
    "editable": true,
    "slideshow": {
     "slide_type": ""
    },
    "tags": []
   },
   "source": [
    "<span STYLE=\"font-size:150%\"> \n",
    "    Segment microCT scans\n",
    "</span>\n",
    "\n",
    "Docker image: gnasello/slicer-env:2023-07-06 \\\n",
    "Latest update: 10 March 2023"
   ]
  },
  {
   "cell_type": "markdown",
   "id": "b06273b8-ed89-406c-af12-191b17fdc261",
   "metadata": {},
   "source": [
    "- load image stack in Slicer\n",
    "- segment mineralized tissue\n",
    "- compute segmented statistics (volumes)"
   ]
  },
  {
   "cell_type": "markdown",
   "id": "8a604800-71f1-47b6-af62-7668c5af1d19",
   "metadata": {},
   "source": [
    "# Load libraries"
   ]
  },
  {
   "cell_type": "code",
   "execution_count": null,
   "id": "ee34ac62-8898-4805-813b-a1b5573a675e",
   "metadata": {},
   "outputs": [],
   "source": [
    "import pyslicer as ps\n",
    "import slicer\n",
    "from pathlib import Path\n",
    "import pandas as pd"
   ]
  },
  {
   "cell_type": "markdown",
   "id": "96139740-037b-4593-a20d-f5e8c394493a",
   "metadata": {
    "tags": []
   },
   "source": [
    "# Volume input"
   ]
  },
  {
   "cell_type": "markdown",
   "id": "dbd53820-e196-4bef-9f89-e81c638bb281",
   "metadata": {},
   "source": [
    "## Load `.nrrd` file into 3D Slicer"
   ]
  },
  {
   "cell_type": "markdown",
   "id": "0f8c273a-7361-4112-90c4-64e98d318d02",
   "metadata": {
    "editable": true,
    "slideshow": {
     "slide_type": ""
    },
    "tags": []
   },
   "source": [
    "Write the path of the `.nrrd` file and load it to Slicer"
   ]
  },
  {
   "cell_type": "code",
   "execution_count": null,
   "id": "b1c2443d-a03c-4db9-b886-faceb7af2363",
   "metadata": {
    "editable": true,
    "slideshow": {
     "slide_type": ""
    },
    "tags": [
     "parameters"
    ]
   },
   "outputs": [],
   "source": [
    "# this cell is tagged 'parameters'\n",
    "volume_file = 'microCT_volume/microCT_volume.nrrd'\n",
    "output_dir_path = 'segmented_volumes'\n",
    "segmentMask_file = 'segmented_volumes/ROI.seg.nrrd'\n",
    "segments_greyvalues_file = 'segmented_volumes/segments_greyvalues.csv'"
   ]
  },
  {
   "cell_type": "code",
   "execution_count": null,
   "id": "d5355e20-94ae-419b-9661-2c62dca0747e",
   "metadata": {
    "editable": true,
    "slideshow": {
     "slide_type": ""
    },
    "tags": []
   },
   "outputs": [],
   "source": [
    "path = Path(volume_file)\n",
    "\n",
    "# Remove image numbering _0000, _0001 ...\n",
    "filename_output = path.stem[:-4]"
   ]
  },
  {
   "cell_type": "code",
   "execution_count": null,
   "id": "431b8505-9923-40da-8ad8-fa22d8229227",
   "metadata": {},
   "outputs": [],
   "source": [
    "masterVolumeNode = slicer.util.loadNodeFromFile(volume_file)"
   ]
  },
  {
   "cell_type": "markdown",
   "id": "23dd2291-2ccc-4b32-b6b8-850a346648c1",
   "metadata": {},
   "source": [
    "Print spacing"
   ]
  },
  {
   "cell_type": "code",
   "execution_count": null,
   "id": "30f6aec2-0777-4bba-bcff-7f187c176336",
   "metadata": {},
   "outputs": [],
   "source": [
    "## mm\n",
    "masterVolumeNode.GetSpacing()"
   ]
  },
  {
   "cell_type": "markdown",
   "id": "1fb1718c-d59d-49be-bb9b-481e876d42ab",
   "metadata": {},
   "source": [
    "Make ```segmented_volumes``` folder"
   ]
  },
  {
   "cell_type": "code",
   "execution_count": null,
   "id": "6d8fc3ca-c210-4987-87d7-155a4892738f",
   "metadata": {
    "editable": true,
    "slideshow": {
     "slide_type": ""
    },
    "tags": []
   },
   "outputs": [],
   "source": [
    "output_directory = Path(output_dir_path)\n",
    "\n",
    "output_directory.mkdir(parents=True, exist_ok=True)"
   ]
  },
  {
   "cell_type": "markdown",
   "id": "4fc8e675-b224-4cf4-b500-63144e06231c",
   "metadata": {},
   "source": [
    "## Adjust window/level (brightness/contrast)"
   ]
  },
  {
   "cell_type": "markdown",
   "id": "149bfe9f-c7d9-495a-b260-9676a98ace35",
   "metadata": {},
   "source": [
    "Adjust the image window/level from the GUI. It is enough to select a region where the signal is present ([youtube](https://slicer.readthedocs.io/en/latest/user_guide/user_interface.html#adjusting-image-window-level)). \n",
    "\n",
    "After, get the Window and Level properties from the displayNode associate to the VolumeNode and apply them programmatically anytime you run again the same image.\n",
    "\n",
    "For more information on the relationship between window/level and brightness/contrast, see [Window and Level Contrast Enhancement](http://fisica.ciens.ucv.ve/curs/dipcourse/html/one-oper/window-level/front-page.html)"
   ]
  },
  {
   "cell_type": "code",
   "execution_count": null,
   "id": "8c4ce52e-a65b-40c0-8854-34f1974b4738",
   "metadata": {
    "scrolled": true
   },
   "outputs": [],
   "source": [
    "displayNode = masterVolumeNode.GetDisplayNode()\n",
    "print('displayNode.SetWindow(' + str(displayNode.GetWindow()) + ')')\n",
    "print('displayNode.SetLevel(' + str(displayNode.GetLevel()) + ')')"
   ]
  },
  {
   "cell_type": "code",
   "execution_count": null,
   "id": "ae1d41db-d0df-44d0-a3da-a900a6ec32e1",
   "metadata": {},
   "outputs": [],
   "source": [
    "# displayNode = masterVolumeNode.GetDisplayNode()\n",
    "# displayNode.AutoWindowLevelOff()\n",
    "# displayNode.SetWindow(25885.0)\n",
    "# displayNode.SetLevel(18464.5)"
   ]
  },
  {
   "cell_type": "markdown",
   "id": "43c2067b-72cf-4132-a55e-8192d9d7989a",
   "metadata": {},
   "source": [
    "# Create segmentationNode"
   ]
  },
  {
   "cell_type": "markdown",
   "id": "d556eb23-38fa-44db-ae37-840642e803e7",
   "metadata": {},
   "source": [
    "## Create segmentation-related nodes"
   ]
  },
  {
   "cell_type": "markdown",
   "id": "0ab7695b-0b95-456b-8fd8-22bd7eea5efe",
   "metadata": {},
   "source": [
    "Create segmentation node"
   ]
  },
  {
   "cell_type": "code",
   "execution_count": null,
   "id": "3af57565-1da8-4124-bb96-6e8ce0860d1e",
   "metadata": {},
   "outputs": [],
   "source": [
    "segmentationNode = ps.segmentation.segmentationNode(name='Segmentation')"
   ]
  },
  {
   "cell_type": "markdown",
   "id": "23a39787-a0b4-403c-8e39-f9e9d5c20bd6",
   "metadata": {},
   "source": [
    "Create temporary segment editor to get access to effects"
   ]
  },
  {
   "cell_type": "code",
   "execution_count": null,
   "id": "0defe996-4c60-4375-b12b-a7026d057b52",
   "metadata": {},
   "outputs": [],
   "source": [
    "segmentEditorWidget, segmentEditorNode = ps.segmentation.segmentEditorWidget(segmentationNode = segmentationNode, \n",
    "                                                                             masterVolumeNode = masterVolumeNode)"
   ]
  },
  {
   "cell_type": "markdown",
   "id": "02cd8449-c3d9-4d56-a344-e84f191e7fc3",
   "metadata": {},
   "source": [
    "## Load Segment Mask LabelmapNode"
   ]
  },
  {
   "cell_type": "markdown",
   "id": "e54f9d8b-3372-447e-ba3a-9761f7ef0cbb",
   "metadata": {},
   "source": [
    "Load segmentation from .nrrd file as labelmap node slicer util module to load from File [github](https://github.com/Slicer/Slicer/blob/master/Base/Python/slicer/util.py#L341-L344)"
   ]
  },
  {
   "cell_type": "code",
   "execution_count": null,
   "id": "b917fa39-c884-480a-9881-f1b53f142ba4",
   "metadata": {
    "editable": true,
    "slideshow": {
     "slide_type": ""
    },
    "tags": []
   },
   "outputs": [],
   "source": [
    "# Load segmentation from .seg.nrrd file (includes segment names and colors)\n",
    "\n",
    "segmentMask_labelmap = slicer.util.loadNodeFromFile(segmentMask_file, 'VolumeFile', properties={'labelmap':True})\n",
    "# segmentationNode = slicer.util.loadSegmentation(file_nuclei_segmentation)"
   ]
  },
  {
   "cell_type": "markdown",
   "id": "a865d5ec-5901-41eb-ba59-e042ff57ac10",
   "metadata": {},
   "source": [
    "Import SegmentMask labelmapNode to segmentationNode"
   ]
  },
  {
   "cell_type": "code",
   "execution_count": null,
   "id": "7ab33dcd-c954-466a-90df-136fd4bbd7d9",
   "metadata": {},
   "outputs": [],
   "source": [
    "slicer.modules.segmentations.logic().ImportLabelmapToSegmentationNode(segmentMask_labelmap, segmentationNode)"
   ]
  },
  {
   "cell_type": "markdown",
   "id": "709dcb5a-fff2-435b-82cc-0385c52aaf59",
   "metadata": {},
   "source": [
    "Rename segment of the segmentation node "
   ]
  },
  {
   "cell_type": "code",
   "execution_count": null,
   "id": "383a5a72-7391-49d6-b9d3-5c96e9cb7418",
   "metadata": {},
   "outputs": [],
   "source": [
    "segmentation = segmentationNode.GetSegmentation()\n",
    "segment = segmentation.GetNthSegment(0)\n",
    "segment.SetName(\"SegmentMask\")"
   ]
  },
  {
   "cell_type": "markdown",
   "id": "700a89bf-b680-4312-be3e-efdc73731a73",
   "metadata": {},
   "source": [
    "Delete bone labelmapNode"
   ]
  },
  {
   "cell_type": "code",
   "execution_count": null,
   "id": "af30d45a-9db1-4301-9200-a2dc2a0e5443",
   "metadata": {},
   "outputs": [],
   "source": [
    "slicer.mrmlScene.RemoveNode(segmentMask_labelmap)\n",
    "# masterVolumeNode.SetDisplayVisibility(1)"
   ]
  },
  {
   "cell_type": "markdown",
   "id": "05dcd4ba-de7b-4b69-80b8-b2751d939791",
   "metadata": {},
   "source": [
    "## Set a mask in segmentation node\n",
    "[link](https://discourse.slicer.org/t/masking-settings-from-a-script-on-a-segment-editor-effect-in-python/14323/7)"
   ]
  },
  {
   "cell_type": "code",
   "execution_count": null,
   "id": "87fd48ac-1b10-4747-a3c7-41105162fac3",
   "metadata": {},
   "outputs": [],
   "source": [
    "MaskSegment_name = 'SegmentMask'\n",
    "\n",
    "MaskSegmentID = segmentation.GetSegmentIdBySegmentName(MaskSegment_name)\n",
    "segmentEditorNode.SetMaskSegmentID(MaskSegmentID)\n",
    "\n",
    "# Mask Mode 5 means paint only allowed inside one segment\n",
    "# https://discourse.slicer.org/t/how-can-i-set-masking-settings-on-a-segment-editor-effect-in-python/4406/2\n",
    "segmentEditorNode.SetMaskMode(5)\n",
    "\n",
    "# Avoid overwrite of overlapping segments\n",
    "segmentEditorNode.SetOverwriteMode(slicer.vtkMRMLSegmentEditorNode.OverwriteNone)"
   ]
  },
  {
   "cell_type": "markdown",
   "id": "e6e6599a-6624-48c1-aecc-c68ea2350427",
   "metadata": {
    "tags": []
   },
   "source": [
    "# Thresholding"
   ]
  },
  {
   "cell_type": "markdown",
   "id": "afd9833d-5e59-4987-9ab3-c4790c63425e",
   "metadata": {},
   "source": [
    "## Check different automatic segmentation algorithms"
   ]
  },
  {
   "cell_type": "markdown",
   "id": "b598bf5d-dd75-4385-9458-d0c80fae2a2e",
   "metadata": {},
   "source": [
    "The first time you analyze an image/channel. Go to the ```Segment Editor```, add a new segment and choose the thresholding method. There you test different automatic thresholding technique and choose the one working best. For later analysis, you can just copy the thresholding values in the ```segments_greyvalues``` object at the beginning of this notebook."
   ]
  },
  {
   "cell_type": "code",
   "execution_count": null,
   "id": "4f5100c3-7cda-4cd3-91a6-7ec5bab2edf1",
   "metadata": {},
   "outputs": [],
   "source": [
    "ps.volume.plot_histogram(masterVolumeNode, yscale='log')"
   ]
  },
  {
   "cell_type": "markdown",
   "id": "21befe69-11d0-4d66-aa3d-dab0bd43295c",
   "metadata": {},
   "source": [
    "Get automatic thresholding values, as indicated in [this script](https://github.com/jzeyl/3D-Slicer-Scripts/blob/db51967cc642837e8bae0fea1585a95074d8420b/load_dicom_modified_otsu.py#L56)"
   ]
  },
  {
   "cell_type": "code",
   "execution_count": null,
   "id": "6a442550-7232-4e79-951c-a32496ced7ac",
   "metadata": {},
   "outputs": [],
   "source": [
    "methods = [\n",
    "            'HUANG',\n",
    "            'INTERMODES',\n",
    "            'ISO_DATA',\n",
    "            'KITTLER_ILLINGWORTH',\n",
    "            'LI',\n",
    "            'MAXIMUM_ENTROPY',\n",
    "            'MOMENTS',\n",
    "            'OTSU',\n",
    "            'RENYI_ENTROPY',\n",
    "            'SHANBHAG',\n",
    "            'TRIANGLE',\n",
    "            'YEN'\n",
    "            ]\n",
    "\n",
    "thresholds = dict.fromkeys(methods, None)\n",
    "thresholds"
   ]
  },
  {
   "cell_type": "markdown",
   "id": "feabde32-904c-4a18-9276-2decb5aaa940",
   "metadata": {},
   "source": [
    "Otsu thresholding"
   ]
  },
  {
   "cell_type": "code",
   "execution_count": null,
   "id": "5f8d9dff-bf66-4fab-b1df-e5fe8b49eeb2",
   "metadata": {},
   "outputs": [],
   "source": [
    "method = 'OTSU'\n",
    "\n",
    "threshold = ps.segmentation.compute_threshold(method = method, volumeNode = masterVolumeNode)\n",
    "\n",
    "thresholds[method.upper()] = threshold\n",
    "\n",
    "print(method + \" threshold: \" + str(threshold))\n",
    "ps.volume.plot_histogram(masterVolumeNode, threshold = threshold, title = method, yscale='log')"
   ]
  },
  {
   "cell_type": "markdown",
   "id": "9cf1f8ea-9f62-40b9-a248-1684b4dc45ff",
   "metadata": {},
   "source": [
    "Huang thresholding"
   ]
  },
  {
   "cell_type": "code",
   "execution_count": null,
   "id": "f3ef18fb-319d-4cc8-a6df-ba77c33a1e46",
   "metadata": {},
   "outputs": [],
   "source": [
    "method = 'HUANG'\n",
    "\n",
    "threshold = ps.segmentation.compute_threshold(method = method, volumeNode = masterVolumeNode)\n",
    "\n",
    "thresholds[method.upper()] = threshold\n",
    "\n",
    "print(method + \" threshold: \" + str(threshold))\n",
    "ps.volume.plot_histogram(masterVolumeNode, threshold = threshold, title = method, yscale='log')"
   ]
  },
  {
   "cell_type": "markdown",
   "id": "83c1b22c-e354-410e-9da5-23ed442144a1",
   "metadata": {},
   "source": [
    "IsoData thresholding"
   ]
  },
  {
   "cell_type": "code",
   "execution_count": null,
   "id": "54fc99a3-e1be-4995-9699-cffd7ce12f3f",
   "metadata": {},
   "outputs": [],
   "source": [
    "method = 'ISO_DATA'\n",
    "\n",
    "threshold = ps.segmentation.compute_threshold(method = method, volumeNode = masterVolumeNode)\n",
    "\n",
    "thresholds[method.upper()] = threshold\n",
    "\n",
    "print(method + \" threshold: \" + str(threshold))\n",
    "ps.volume.plot_histogram(masterVolumeNode, threshold = threshold, title = method, yscale='log')"
   ]
  },
  {
   "cell_type": "markdown",
   "id": "55bbf508-72df-489d-889d-53ea896b7f2c",
   "metadata": {},
   "source": [
    "MAXIMUM_ENTROPY thresholding"
   ]
  },
  {
   "cell_type": "code",
   "execution_count": null,
   "id": "feaf2e9f-1eac-4095-b0d2-7aa9b36c4d4b",
   "metadata": {},
   "outputs": [],
   "source": [
    "method = 'MAXIMUM_ENTROPY'\n",
    "\n",
    "threshold = ps.segmentation.compute_threshold(method = method, volumeNode = masterVolumeNode)\n",
    "\n",
    "thresholds[method.upper()] = threshold\n",
    "\n",
    "print(method + \" threshold: \" + str(threshold))\n",
    "ps.volume.plot_histogram(masterVolumeNode, threshold = threshold, title = method, yscale='log')"
   ]
  },
  {
   "cell_type": "markdown",
   "id": "7a37bb9e-de71-4b25-bb1e-4d9fce902754",
   "metadata": {
    "tags": []
   },
   "source": [
    "MOMENTS thresholding"
   ]
  },
  {
   "cell_type": "code",
   "execution_count": null,
   "id": "4dd50269-a1b7-4ab2-9276-1c53aede5e8d",
   "metadata": {},
   "outputs": [],
   "source": [
    "method = 'MOMENTS'\n",
    "\n",
    "threshold = ps.segmentation.compute_threshold(method = method, volumeNode = masterVolumeNode)\n",
    "\n",
    "thresholds[method.upper()] = threshold\n",
    "\n",
    "print(method + \" threshold: \" + str(threshold))\n",
    "ps.volume.plot_histogram(masterVolumeNode, threshold = threshold, title = method, yscale='log')"
   ]
  },
  {
   "cell_type": "markdown",
   "id": "56dadd8a-85f2-438a-aea1-807d665dba4f",
   "metadata": {
    "tags": []
   },
   "source": [
    "INTERMODES thresholding"
   ]
  },
  {
   "cell_type": "code",
   "execution_count": null,
   "id": "a7599cb8-186f-40e6-a1d1-c8263745a21a",
   "metadata": {},
   "outputs": [],
   "source": [
    "method = 'INTERMODES'\n",
    "\n",
    "threshold = ps.segmentation.compute_threshold(method = method, volumeNode = masterVolumeNode)\n",
    "\n",
    "thresholds[method.upper()] = threshold\n",
    "\n",
    "print(method + \" threshold: \" + str(threshold))\n",
    "ps.volume.plot_histogram(masterVolumeNode, threshold = threshold, title = method, yscale='log')"
   ]
  },
  {
   "cell_type": "markdown",
   "id": "009e11af-0a08-4fdb-b37d-efc9c029e4a7",
   "metadata": {},
   "source": [
    "## Select thresholding values"
   ]
  },
  {
   "cell_type": "code",
   "execution_count": null,
   "id": "29d85ccb-afc2-4fcd-b5ae-15f79b98aa02",
   "metadata": {},
   "outputs": [],
   "source": [
    "thresholds"
   ]
  },
  {
   "cell_type": "code",
   "execution_count": null,
   "id": "1729e91c-d888-45bc-b581-d62e0667c214",
   "metadata": {},
   "outputs": [],
   "source": [
    "df = pd.read_csv(segments_greyvalues_file)\n",
    "segments_greyvalues = {\"Bone\": df[\"Bone\"].tolist()}"
   ]
  },
  {
   "cell_type": "code",
   "execution_count": null,
   "id": "5760f8ca-6071-4919-b716-a12fc4131f54",
   "metadata": {
    "editable": true,
    "slideshow": {
     "slide_type": ""
    },
    "tags": []
   },
   "outputs": [],
   "source": [
    "#segments_greyvalues = {\n",
    "#    \"Bone\": [13500, 55000], # [MaxEntropy, MaxIntensity]\n",
    "#    }\n",
    "\n",
    "#segments_greyvalues"
   ]
  },
  {
   "cell_type": "code",
   "execution_count": null,
   "id": "4e7e8cd8-6316-4fbb-9e49-c62202bbae74",
   "metadata": {},
   "outputs": [],
   "source": [
    "#grey_df = pd.DataFrame(segments_greyvalues)\n",
    "\n",
    "#outputfile = output_directory / 'segments_greyvalues.csv'\n",
    "#grey_df.to_csv(outputfile, index=False)"
   ]
  },
  {
   "cell_type": "markdown",
   "id": "28dd2914-3af2-4496-ba7a-7079a6a8873e",
   "metadata": {
    "tags": []
   },
   "source": [
    "## Create segments by thresholding"
   ]
  },
  {
   "cell_type": "code",
   "execution_count": null,
   "id": "aa539815-f96a-4809-8bc9-ba0a595d701f",
   "metadata": {},
   "outputs": [],
   "source": [
    "ps.segmentation.segments_by_thresholding(segments_greyvalues, \n",
    "                                         segmentationNode,\n",
    "                                         segmentEditorNode,\n",
    "                                         segmentEditorWidget)"
   ]
  },
  {
   "cell_type": "markdown",
   "id": "1af2bf00-5b93-4aeb-8f1b-71d5c2ab17b3",
   "metadata": {},
   "source": [
    "Set segments color"
   ]
  },
  {
   "cell_type": "code",
   "execution_count": null,
   "id": "91f790cf-b870-4f08-8b15-89471ba4d7e5",
   "metadata": {},
   "outputs": [],
   "source": [
    "segments_color = {\n",
    "    \"Bone\": (0.9450980392156862, 0.8392156862745098, 0.5686274509803921), # \"Bone\" color in Slicer\n",
    "    }\n",
    "\n",
    "segments_color"
   ]
  },
  {
   "cell_type": "code",
   "execution_count": null,
   "id": "e1fcfc37-a9cd-4415-a0b7-b0a68c6e3117",
   "metadata": {},
   "outputs": [],
   "source": [
    "ps.segmentation.set_segments_color(segments_color, segmentationNode)"
   ]
  },
  {
   "cell_type": "markdown",
   "id": "10a9a428-7787-44bb-8114-c01195a8f1bf",
   "metadata": {
    "tags": []
   },
   "source": [
    "# Operation on segments"
   ]
  },
  {
   "cell_type": "markdown",
   "id": "85acbdfe-d491-4508-aa70-caf8a9e8a931",
   "metadata": {
    "tags": []
   },
   "source": [
    "## Manual fix of the segmentation"
   ]
  },
  {
   "cell_type": "markdown",
   "id": "d94829fc-d01b-4f66-a1ca-897af348728a",
   "metadata": {},
   "source": [
    "Sometimes it might be necessary to remove speckles at the image boundaries. If so, use the `scissor` tool in the `Segment Editor` before proceeding with the rest of the script. "
   ]
  },
  {
   "cell_type": "markdown",
   "id": "16eba519-91a2-4a89-b785-cb379b7839ad",
   "metadata": {
    "tags": []
   },
   "source": [
    "# Export segments"
   ]
  },
  {
   "cell_type": "markdown",
   "id": "c7a71302-3b8c-4885-96f1-50a03a55ee55",
   "metadata": {},
   "source": [
    "## As seg.nrrd file (labelmap node)"
   ]
  },
  {
   "cell_type": "markdown",
   "id": "71d892e0-1390-4794-8bb5-7db46d91ac3f",
   "metadata": {},
   "source": [
    "Export a selection of segments (identified by their names), from [slicer tutorial](https://slicer.readthedocs.io/en/latest/developer_guide/script_repository.html#export-labelmap-node-from-segmentation-node)"
   ]
  },
  {
   "cell_type": "markdown",
   "id": "d3fe402f-381e-4dc4-b87e-716d1e678096",
   "metadata": {},
   "source": [
    "Bone LabelmapNode"
   ]
  },
  {
   "cell_type": "code",
   "execution_count": null,
   "id": "24b62503-8ab1-48f5-81b8-00fb3c631430",
   "metadata": {},
   "outputs": [],
   "source": [
    "seg_name = 'Bone'"
   ]
  },
  {
   "cell_type": "code",
   "execution_count": null,
   "id": "dc7d4891-849b-4979-a3f0-9e56502f7073",
   "metadata": {},
   "outputs": [],
   "source": [
    "mineralized_labelmap = ps.segmentation.individual_segment_to_labelmapNode(segmentName = seg_name,\n",
    "                                                                          segmentationNode = segmentationNode,\n",
    "                                                                          volumeNode = masterVolumeNode)"
   ]
  },
  {
   "cell_type": "code",
   "execution_count": null,
   "id": "8a9c4d32-3a12-444d-ad12-674da812e3b5",
   "metadata": {},
   "outputs": [],
   "source": [
    "filename_output = seg_name + '.seg.nrrd'\n",
    "\n",
    "slicer.util.exportNode(mineralized_labelmap, output_directory / filename_output)"
   ]
  },
  {
   "cell_type": "markdown",
   "id": "6e97bad7-3938-499e-821e-8800f733fb55",
   "metadata": {},
   "source": [
    "## Convert all segments to model nodes"
   ]
  },
  {
   "cell_type": "markdown",
   "id": "080c982a-4b6c-45d1-8bd5-66bde7bcd4de",
   "metadata": {
    "tags": []
   },
   "source": [
    "Get closed surface representation of the segment, from [slicer scripting repository](https://slicer.readthedocs.io/en/latest/developer_guide/script_repository.html#export-nodes-warped-by-transform-sequence)"
   ]
  },
  {
   "cell_type": "code",
   "execution_count": null,
   "id": "a7dda856-ee7d-4175-a87f-b7278a5426ab",
   "metadata": {},
   "outputs": [],
   "source": [
    "segmentationNode.CreateClosedSurfaceRepresentation()"
   ]
  },
  {
   "cell_type": "code",
   "execution_count": null,
   "id": "d08f64e3-5ef2-4de7-9077-55ec55fd3087",
   "metadata": {},
   "outputs": [],
   "source": [
    "shNode = slicer.mrmlScene.GetSubjectHierarchyNode()\n",
    "exportFolderItemId = shNode.CreateFolderItem(shNode.GetSceneItemID(), \"Segments\")\n",
    "slicer.modules.segmentations.logic().ExportAllSegmentsToModels(segmentationNode, exportFolderItemId)"
   ]
  },
  {
   "cell_type": "markdown",
   "id": "549408e0-b279-447a-9fce-0a811ad94b58",
   "metadata": {
    "tags": []
   },
   "source": [
    "## Decimate model node from segmentation node"
   ]
  },
  {
   "cell_type": "markdown",
   "id": "801b0496-3d13-499b-bb75-2f57d360646d",
   "metadata": {},
   "source": [
    "Get `VTK Polydata` from model"
   ]
  },
  {
   "cell_type": "code",
   "execution_count": null,
   "id": "e82c729e-f676-4229-928f-479139260021",
   "metadata": {},
   "outputs": [],
   "source": [
    "nodename = 'Bone'\n",
    "modelNode = slicer.util.getNode(nodename)"
   ]
  },
  {
   "cell_type": "markdown",
   "id": "ad815fef-1ecd-4888-b68d-fac93ef5c878",
   "metadata": {},
   "source": [
    "Use pyvista to get faces and vertices of the `VTK PolyData` object"
   ]
  },
  {
   "cell_type": "code",
   "execution_count": null,
   "id": "6f5c5067-2889-4a11-97f7-bacaade8d3b5",
   "metadata": {},
   "outputs": [],
   "source": [
    "import pyvista as pv"
   ]
  },
  {
   "cell_type": "code",
   "execution_count": null,
   "id": "2c94155f-e191-4af3-ac65-7857062d47bc",
   "metadata": {},
   "outputs": [],
   "source": [
    "model_pv = pv.wrap(modelNode.GetPolyData())\n",
    "vertices = model_pv.points\n",
    "faces = model_pv.regular_faces"
   ]
  },
  {
   "cell_type": "markdown",
   "id": "d7cf6d16-cb83-4be7-8c3d-2d62827ba59d",
   "metadata": {},
   "source": [
    "In 3D Slicer, you can clear the scene using Python scripting by calling the Clear method on the application's MRML scene."
   ]
  },
  {
   "cell_type": "code",
   "execution_count": null,
   "id": "4b4bc03f-bfa4-4660-9392-a454b9bb3884",
   "metadata": {},
   "outputs": [],
   "source": [
    "#slicer.mrmlScene.Clear(0)"
   ]
  },
  {
   "cell_type": "markdown",
   "id": "8cc3952e-0f0d-45c1-9f59-36358c853f8d",
   "metadata": {},
   "source": [
    "Import pyvista object to pymeshlab, which performs more efficient decimation than VTK\n",
    "\n",
    "Check how to [import mesh from arrays in meshlab](https://pymeshlab.readthedocs.io/en/0.1.9/tutorials/import_mesh_from_arrays.html)"
   ]
  },
  {
   "cell_type": "code",
   "execution_count": null,
   "id": "1c35f799-b4a2-4a28-b0e7-fe67041a2bb9",
   "metadata": {},
   "outputs": [],
   "source": [
    "import pymeshlab \n",
    "# create a new Mesh with the two arrays\n",
    "model_ml = pymeshlab.Mesh(vertices, faces)\n",
    "\n",
    "# create a new MeshSet\n",
    "mesh_set = pymeshlab.MeshSet()\n",
    "\n",
    "# add the mesh to the MeshSet\n",
    "mesh_set.add_mesh(model_ml, \"mesh\")\n",
    "\n",
    "print('input mesh has', model_ml.vertex_number(), 'vertex and', model_ml.face_number(), 'faces')"
   ]
  },
  {
   "cell_type": "markdown",
   "id": "4846cf72-a131-4d1f-9863-94954991e11d",
   "metadata": {},
   "source": [
    "Decimate mesh with `pymeshlab`, from [stackoverflow](https://stackoverflow.com/questions/75169329/how-to-use-pymeshlab-to-reduce-number-of-faces-to-a-guaranteed-specific-number)"
   ]
  },
  {
   "cell_type": "code",
   "execution_count": null,
   "id": "5d434d79-e093-4a99-9a01-58705a883a37",
   "metadata": {
    "scrolled": true
   },
   "outputs": [],
   "source": [
    "decimation_factor = 0.2\n",
    "\n",
    "#Target number of vertex\n",
    "TARGET = round(model_ml.vertex_number() * decimation_factor)\n",
    "\n",
    "#Reduce to TARGET. Sometimes will fall into TARGET-1\n",
    "mesh_set.meshing_decimation_quadric_edge_collapse(targetfacenum=TARGET, preservenormal=True)\n",
    "\n",
    "model_ml = mesh_set.current_mesh()\n",
    "print('output mesh has', model_ml.vertex_number(), 'vertex and', model_ml.face_number(), 'faces')"
   ]
  },
  {
   "cell_type": "markdown",
   "id": "e6cf55f5-6044-4fe2-bd1c-8a64e09599ce",
   "metadata": {},
   "source": [
    "Load decimated model to Slicer"
   ]
  },
  {
   "cell_type": "code",
   "execution_count": null,
   "id": "d25132d2-4be2-449b-9726-c4f4ab1fcf4d",
   "metadata": {},
   "outputs": [],
   "source": [
    "vertices = model_ml.vertex_matrix()\n",
    "faces = model_ml.face_matrix()\n",
    "model_decimated = pv.PolyData.from_regular_faces(vertices, faces)\n",
    "\n",
    "decimatedNode = slicer.modules.models.logic().AddModel(model_decimated)"
   ]
  },
  {
   "cell_type": "markdown",
   "id": "c1cf7de2-2ff4-429f-9cd6-30eb01052457",
   "metadata": {
    "tags": []
   },
   "source": [
    "## Export decimated model from segmentation node"
   ]
  },
  {
   "cell_type": "markdown",
   "id": "7dee38f4-c77b-445d-a3fd-bfbe3f19fb51",
   "metadata": {},
   "source": [
    "Export pymeshlab object to .stl file"
   ]
  },
  {
   "cell_type": "code",
   "execution_count": null,
   "id": "2c97b120-07b8-4e0a-a5a6-16327a53b31c",
   "metadata": {},
   "outputs": [],
   "source": [
    "filename_output = 'Bone.stl'\n",
    "\n",
    "slicer.util.exportNode(decimatedNode, output_directory / filename_output)"
   ]
  }
 ],
 "metadata": {
  "kernelspec": {
   "display_name": "Slicer 5.6",
   "language": "python",
   "name": "slicer-5.6"
  },
  "language_info": {
   "file_extension": ".py",
   "mimetype": "text/x-python",
   "name": "python",
   "version": "3.9.10"
  },
  "toc-autonumbering": true
 },
 "nbformat": 4,
 "nbformat_minor": 5
}
