{
 "cells": [
  {
   "cell_type": "markdown",
   "id": "e9e365a5-96dd-44ec-9271-cb778da070dd",
   "metadata": {
    "editable": true,
    "slideshow": {
     "slide_type": ""
    },
    "tags": []
   },
   "source": [
    "<span STYLE=\"font-size:150%\"> \n",
    "    Compute segment volumes from microCT scans\n",
    "</span>\n",
    "\n",
    "Docker image: gnasello/slicer-env:2023-10-10 \\\n",
    "Latest update: 15 November 2024"
   ]
  },
  {
   "cell_type": "markdown",
   "id": "b06273b8-ed89-406c-af12-191b17fdc261",
   "metadata": {},
   "source": [
    "- load image stack in Slicer\n",
    "- segment mineralized tissue\n",
    "- compute segmented statistics (volumes)"
   ]
  },
  {
   "cell_type": "markdown",
   "id": "8a604800-71f1-47b6-af62-7668c5af1d19",
   "metadata": {},
   "source": [
    "# Load libraries"
   ]
  },
  {
   "cell_type": "code",
   "execution_count": null,
   "id": "ee34ac62-8898-4805-813b-a1b5573a675e",
   "metadata": {},
   "outputs": [],
   "source": [
    "import pyslicer as ps\n",
    "import slicer\n",
    "from pathlib import Path\n",
    "import pandas as pd"
   ]
  },
  {
   "cell_type": "markdown",
   "id": "dcd67865-e62c-4fbc-a92e-e124ff3dfece",
   "metadata": {
    "tags": []
   },
   "source": [
    "# Volume input"
   ]
  },
  {
   "cell_type": "markdown",
   "id": "a3fadbf4-c0a2-4da8-a6f3-4639c9a1f989",
   "metadata": {},
   "source": [
    "## Load `.nrrd` file into 3D Slicer"
   ]
  },
  {
   "cell_type": "markdown",
   "id": "090e0d8b-30a3-47d4-a894-e2bc87b9ad75",
   "metadata": {
    "editable": true,
    "slideshow": {
     "slide_type": ""
    },
    "tags": []
   },
   "source": [
    "Write the path of the `.nrrd` file and load it to Slicer"
   ]
  },
  {
   "cell_type": "code",
   "execution_count": null,
   "id": "3e7a643c-b96a-4e37-839e-bef6d70a65c5",
   "metadata": {
    "editable": true,
    "slideshow": {
     "slide_type": ""
    },
    "tags": [
     "parameters"
    ]
   },
   "outputs": [],
   "source": [
    "# this cell is tagged 'parameters'\n",
    "volume_file = 'microCT_volume/microCT_volume.nrrd'\n",
    "output_dir_path = 'segmented_volumes'\n",
    "file_bone_segment = 'segmented_volumes/Bone.seg.nrrd'\n",
    "file_roi_segment = 'segmented_volumes/ROI.seg.nrrd'"
   ]
  },
  {
   "cell_type": "code",
   "execution_count": null,
   "id": "576fbb29-dc86-45ec-a784-7dcf6024f2f0",
   "metadata": {
    "editable": true,
    "slideshow": {
     "slide_type": ""
    },
    "tags": []
   },
   "outputs": [],
   "source": [
    "path = Path(volume_file)\n",
    "\n",
    "# Remove image numbering _0000, _0001 ...\n",
    "filename_output = path.stem[:-4]"
   ]
  },
  {
   "cell_type": "code",
   "execution_count": null,
   "id": "2937b8df-59de-42b1-b209-e04cbbb562ca",
   "metadata": {},
   "outputs": [],
   "source": [
    "masterVolumeNode = slicer.util.loadNodeFromFile(volume_file)"
   ]
  },
  {
   "cell_type": "markdown",
   "id": "258bebce-35ad-438e-b598-78d51f5cdbfb",
   "metadata": {},
   "source": [
    "Print spacing"
   ]
  },
  {
   "cell_type": "code",
   "execution_count": null,
   "id": "48e27e1d-5729-442c-8fa8-dff88acd90b1",
   "metadata": {},
   "outputs": [],
   "source": [
    "## mm\n",
    "masterVolumeNode.GetSpacing()"
   ]
  },
  {
   "cell_type": "markdown",
   "id": "3dc23f11-51f8-4620-ac62-7fc13c62e8ea",
   "metadata": {},
   "source": [
    "Make ```segmented_volumes``` folder"
   ]
  },
  {
   "cell_type": "code",
   "execution_count": null,
   "id": "f72d77df-fbfe-45d8-b7c1-a63c294fbb34",
   "metadata": {
    "editable": true,
    "slideshow": {
     "slide_type": ""
    },
    "tags": []
   },
   "outputs": [],
   "source": [
    "output_path = Path(output_dir_path)\n",
    "\n",
    "output_path.mkdir(parents=True, exist_ok=True)"
   ]
  },
  {
   "cell_type": "markdown",
   "id": "be0823fa-36da-4db1-ac79-704d63a624f2",
   "metadata": {},
   "source": [
    "Get norebook directory name"
   ]
  },
  {
   "cell_type": "code",
   "execution_count": null,
   "id": "2fe299d9-625c-450c-8f64-6ac7e84d6c56",
   "metadata": {
    "editable": true,
    "slideshow": {
     "slide_type": ""
    },
    "tags": []
   },
   "outputs": [],
   "source": [
    "sample_name = sample_dir.rstrip('/').split('/')[-1]"
   ]
  },
  {
   "cell_type": "markdown",
   "id": "f65216b9-3351-4300-9764-1c5d6325350f",
   "metadata": {},
   "source": [
    "# Create segmentationNode for `Bone`"
   ]
  },
  {
   "cell_type": "markdown",
   "id": "6ab2842a-e11e-4a62-9c46-257c35782195",
   "metadata": {},
   "source": [
    "## Create segmentation-related nodes"
   ]
  },
  {
   "cell_type": "markdown",
   "id": "39aeb9fd-bcba-4677-b606-60829466aa84",
   "metadata": {},
   "source": [
    "Create segmentation node"
   ]
  },
  {
   "cell_type": "code",
   "execution_count": null,
   "id": "23048984-b4af-4b52-a644-80a59f86d568",
   "metadata": {},
   "outputs": [],
   "source": [
    "segmentationNode = ps.segmentation.segmentationNode(name='Segmentation')"
   ]
  },
  {
   "cell_type": "markdown",
   "id": "1b874a78-25db-4cec-901b-d75a22651f64",
   "metadata": {},
   "source": [
    "Create temporary segment editor to get access to effects"
   ]
  },
  {
   "cell_type": "code",
   "execution_count": null,
   "id": "aee78734-de34-4013-98c8-9fdc67859a03",
   "metadata": {},
   "outputs": [],
   "source": [
    "segmentEditorWidget, segmentEditorNode = ps.segmentation.segmentEditorWidget(segmentationNode = segmentationNode, \n",
    "                                                                             masterVolumeNode = masterVolumeNode)"
   ]
  },
  {
   "cell_type": "markdown",
   "id": "3469d6fc-6560-46ad-b3ee-e37b58ff2db5",
   "metadata": {},
   "source": [
    "## Load segmentation to segmentation node"
   ]
  },
  {
   "cell_type": "markdown",
   "id": "e2db9163-74b0-4211-b1f8-86cc05bf9b8e",
   "metadata": {},
   "source": [
    "Load segmentation from .nrrd file as labelmap node slicer util module to load from File [github](https://github.com/Slicer/Slicer/blob/master/Base/Python/slicer/util.py#L341-L344)"
   ]
  },
  {
   "cell_type": "code",
   "execution_count": null,
   "id": "f0ee4805-594c-4ceb-a47d-0b8fc9111167",
   "metadata": {
    "editable": true,
    "slideshow": {
     "slide_type": ""
    },
    "tags": []
   },
   "outputs": [],
   "source": [
    "# Load segmentation from .seg.nrrd file (includes segment names and colors)\n",
    "\n",
    "bone_labelmap = slicer.util.loadNodeFromFile(file_bone_segment, 'VolumeFile', properties={'labelmap':True})"
   ]
  },
  {
   "cell_type": "markdown",
   "id": "58cda057-889e-4373-96c2-2570dfeb33f3",
   "metadata": {},
   "source": [
    "Import bone labelmapNode to segmentationNode"
   ]
  },
  {
   "cell_type": "code",
   "execution_count": null,
   "id": "7df8e021-a13f-4d49-b434-aa607465a476",
   "metadata": {},
   "outputs": [],
   "source": [
    "slicer.modules.segmentations.logic().ImportLabelmapToSegmentationNode(bone_labelmap, segmentationNode)"
   ]
  },
  {
   "cell_type": "markdown",
   "id": "823d4578-e361-4cbb-af2d-3df6a57c3678",
   "metadata": {},
   "source": [
    "Rename segment of the segmentation node "
   ]
  },
  {
   "cell_type": "code",
   "execution_count": null,
   "id": "ea4156d5-50b5-4eae-bbc6-ccd5a4d65e1c",
   "metadata": {},
   "outputs": [],
   "source": [
    "segmentation = segmentationNode.GetSegmentation()\n",
    "segment = segmentation.GetNthSegment(0)\n",
    "segment.SetName(\"Bone\")"
   ]
  },
  {
   "cell_type": "markdown",
   "id": "b356beaf-0ca7-47f0-8ac6-3845351ce53c",
   "metadata": {},
   "source": [
    "Delete bone labelmapNode"
   ]
  },
  {
   "cell_type": "code",
   "execution_count": null,
   "id": "58d52293-c2d6-4a4b-8f27-698f94c2a27c",
   "metadata": {},
   "outputs": [],
   "source": [
    "slicer.mrmlScene.RemoveNode(bone_labelmap)\n",
    "# masterVolumeNode.SetDisplayVisibility(1)"
   ]
  },
  {
   "cell_type": "markdown",
   "id": "391b176b-f742-4059-b1da-96c1827edea8",
   "metadata": {},
   "source": [
    "## Load ROI segmentation to segmentation node"
   ]
  },
  {
   "cell_type": "markdown",
   "id": "a960369b-a1d5-41a5-8e6d-92256fc3950b",
   "metadata": {},
   "source": [
    "Load segmentation from .nrrd file as labelmap node slicer util module to load from File [github](https://github.com/Slicer/Slicer/blob/master/Base/Python/slicer/util.py#L341-L344)"
   ]
  },
  {
   "cell_type": "code",
   "execution_count": null,
   "id": "f3b6c666-f634-4239-8e94-eba640286919",
   "metadata": {
    "editable": true,
    "slideshow": {
     "slide_type": ""
    },
    "tags": []
   },
   "outputs": [],
   "source": [
    "# Load segmentation from .seg.nrrd file (includes segment names and colors)\n",
    "\n",
    "roi_labelmap = slicer.util.loadNodeFromFile(file_roi_segment, 'VolumeFile', properties={'labelmap':True})\n",
    "# segmentationNode = slicer.util.loadSegmentation(file_nuclei_segmentation)"
   ]
  },
  {
   "cell_type": "markdown",
   "id": "a8423873-99f1-4a85-befe-7ab873f2e041",
   "metadata": {},
   "source": [
    "Import bone labelmapNode to segmentationNode"
   ]
  },
  {
   "cell_type": "code",
   "execution_count": null,
   "id": "988548ee-d01a-47ff-b5ac-183818010b4d",
   "metadata": {},
   "outputs": [],
   "source": [
    "slicer.modules.segmentations.logic().ImportLabelmapToSegmentationNode(roi_labelmap, segmentationNode)"
   ]
  },
  {
   "cell_type": "markdown",
   "id": "766a287f-5bfe-4844-a522-3ec4c124032b",
   "metadata": {},
   "source": [
    "Rename segment of the segmentation node "
   ]
  },
  {
   "cell_type": "code",
   "execution_count": null,
   "id": "25f04d3e-d21f-4b2c-8306-9a654b90dd41",
   "metadata": {},
   "outputs": [],
   "source": [
    "segmentation = segmentationNode.GetSegmentation()\n",
    "segment = segmentation.GetNthSegment(1)\n",
    "segment.SetName(\"ROI\")"
   ]
  },
  {
   "cell_type": "markdown",
   "id": "5317fe41-1162-4fa9-b612-6dcd31a71ac7",
   "metadata": {},
   "source": [
    "Delete labelmapNode"
   ]
  },
  {
   "cell_type": "code",
   "execution_count": null,
   "id": "6dd8ce4d-e9bf-41ac-b181-a6255d5c6bfb",
   "metadata": {},
   "outputs": [],
   "source": [
    "slicer.mrmlScene.RemoveNode(roi_labelmap)\n",
    "# masterVolumeNode.SetDisplayVisibility(1)"
   ]
  },
  {
   "cell_type": "markdown",
   "id": "8730f234-c30d-4144-b66f-5f5be48218fc",
   "metadata": {},
   "source": [
    "## Create new segment copy"
   ]
  },
  {
   "cell_type": "code",
   "execution_count": null,
   "id": "addf683f-9898-404f-9e18-7a6b71ada796",
   "metadata": {},
   "outputs": [],
   "source": [
    "copy_segmentName = 'Bone'\n",
    "\n",
    "segmentation = segmentationNode.GetSegmentation()\n",
    "copy_segmentID = segmentation.GetSegmentIdBySegmentName(copy_segmentName)"
   ]
  },
  {
   "cell_type": "code",
   "execution_count": null,
   "id": "0a12025d-730d-4b11-a8ef-ac5c21582fc9",
   "metadata": {},
   "outputs": [],
   "source": [
    "new_segmentName = 'Bone_ROI'"
   ]
  },
  {
   "cell_type": "code",
   "execution_count": null,
   "id": "5fbcf1cb-1fb2-49c6-b21a-59218f0ada8b",
   "metadata": {},
   "outputs": [],
   "source": [
    "# '''\n",
    "# COPY operation from the [SegmentEditorLogicalEffect](https://github.com/Slicer/Slicer/blob/4483cc0e6f288b0816b6329f1829d9ef8c5aa81a/Modules/Loadable/Segmentations/EditorEffects/Python/SegmentEditorLogicalEffect.py)\n",
    "# '''\n",
    "# \n",
    "\n",
    "# Create segment\n",
    "addedSegmentID = segmentationNode.GetSegmentation().AddEmptySegment(new_segmentName)\n",
    "segmentEditorNode.SetSelectedSegmentID(addedSegmentID)\n",
    "\n",
    "# Fill by thresholding\n",
    "segmentEditorWidget.setActiveEffectByName(\"Logical operators\")\n",
    "effect = segmentEditorWidget.activeEffect()\n",
    "effect.setParameter('Operation','COPY')\n",
    "effect.setParameter(\"ModifierSegmentID\",copy_segmentID)\n",
    "effect.self().onApply()"
   ]
  },
  {
   "cell_type": "markdown",
   "id": "d7f64992-fc45-41f8-b400-bb787bbb5881",
   "metadata": {},
   "source": [
    "Set segment colors"
   ]
  },
  {
   "cell_type": "code",
   "execution_count": null,
   "id": "e78b4b8e-7798-412c-876b-aef56e4a0d7c",
   "metadata": {},
   "outputs": [],
   "source": [
    "segments_color = {'Bone':(0.9450980392156862, 0.8392156862745098, 0.5686274509803921), # \"Bone\" color in Slicer\n",
    "                  'ROI':(230/255, 75/255, 53/255),\n",
    "                  'Bone_ROI':(77/255, 187/255, 213/255)\n",
    "                  }\n",
    "\n",
    "ps.segmentation.set_segments_color(segments_color, segmentationNode)"
   ]
  },
  {
   "cell_type": "markdown",
   "id": "caf1e4e2-7bf6-42b1-8080-95b0ca4d0b43",
   "metadata": {
    "tags": []
   },
   "source": [
    "# Operation on segments"
   ]
  },
  {
   "cell_type": "markdown",
   "id": "26c9972c-4b5c-46cc-8247-0cab48fbf3c8",
   "metadata": {
    "tags": []
   },
   "source": [
    "## Manual fix of the segmentation"
   ]
  },
  {
   "cell_type": "markdown",
   "id": "fffcd1f4-b476-4a2e-94d5-e7569d1bcb2f",
   "metadata": {},
   "source": [
    "Sometimes it might be necessary to remove speckles at the image boundaries. If so, use the `scissor` tool in the `Segment Editor` before proceeding with the rest of the script. "
   ]
  },
  {
   "cell_type": "markdown",
   "id": "43427326-5625-4774-b233-3734d5c111d3",
   "metadata": {},
   "source": [
    "## Intersect cylinder segments with bone segment"
   ]
  },
  {
   "cell_type": "code",
   "execution_count": null,
   "id": "2597a8b5-c89a-4226-af0c-ec19e229fbfe",
   "metadata": {},
   "outputs": [],
   "source": [
    "# ps.segmentation.logical_intersect('1_1', '1', segmentationNode, segmentEditorNode, segmentEditorWidget)"
   ]
  },
  {
   "cell_type": "code",
   "execution_count": null,
   "id": "03616a1c-b244-4a41-bff2-36f72900f416",
   "metadata": {},
   "outputs": [],
   "source": [
    "# Function to get the segment ID by name\n",
    "def getSegmentIDByName(segmentationNode, segmentName):\n",
    "    segmentation = segmentationNode.GetSegmentation()\n",
    "    for i in range(segmentation.GetNumberOfSegments()):\n",
    "        segmentID = segmentation.GetNthSegmentID(i)\n",
    "        segment = segmentation.GetSegment(segmentID)\n",
    "        if segment.GetName() == segmentName:\n",
    "            return segmentID\n",
    "    return None  # Return None if no segment with the given name is found\n",
    "\n",
    "# Define the names of the segments\n",
    "masterSegmentName = \"Bone_ROI\"      # Replace with the actual name of the master segment\n",
    "modifierSegmentName = \"ROI\"  # Replace with the actual name of the modifier segment\n",
    "\n",
    "# Get the segment IDs by their names\n",
    "masterSegmentID = getSegmentIDByName(segmentationNode, masterSegmentName)\n",
    "modifierSegmentID = getSegmentIDByName(segmentationNode, modifierSegmentName)\n",
    "\n",
    "if not masterSegmentID:\n",
    "    raise RuntimeError(f\"Master segment '{masterSegmentName}' not found.\")\n",
    "\n",
    "if not modifierSegmentID:\n",
    "    raise RuntimeError(f\"Modifier segment '{modifierSegmentName}' not found.\")\n",
    "\n",
    "# Set the master segment as the current segment\n",
    "segmentEditorNode.SetSelectedSegmentID(masterSegmentID)\n",
    "\n",
    "# Activate the Logical operators effect\n",
    "segmentEditorWidget.setActiveEffectByName(\"Logical operators\")\n",
    "effect = segmentEditorWidget.activeEffect()\n",
    "\n",
    "if not effect:\n",
    "    raise RuntimeError(\"Failed to activate the 'Logical operators' effect.\")\n",
    "\n",
    "# Configure the intersection operation\n",
    "effect.setParameter(\"Operation\", \"INTERSECT\")\n",
    "effect.setParameter(\"ModifierSegmentID\", modifierSegmentID)\n",
    "\n",
    "# Apply the operation\n",
    "effect.self().onApply()\n",
    "\n",
    "print(\"Logical intersection operation completed successfully.\")"
   ]
  },
  {
   "cell_type": "markdown",
   "id": "170a1fe8-bc15-47f4-96be-e6a6810644b6",
   "metadata": {},
   "source": [
    "# Compute bone ingrowth volumes"
   ]
  },
  {
   "cell_type": "markdown",
   "id": "bdbcc984-a67d-40ff-b3bf-f745d3108732",
   "metadata": {},
   "source": [
    "Compute segment statistics"
   ]
  },
  {
   "cell_type": "code",
   "execution_count": null,
   "id": "8167e9cd-348a-47fd-8b91-db63c99ac858",
   "metadata": {},
   "outputs": [],
   "source": [
    "stats = ps.segmentation.segment_statistics(segmentationNode)"
   ]
  },
  {
   "cell_type": "markdown",
   "id": "7b2598fd-c704-45ae-9eed-0da0ecad5357",
   "metadata": {},
   "source": [
    "Store volume of each segment"
   ]
  },
  {
   "cell_type": "code",
   "execution_count": null,
   "id": "85ca5d04-6210-48b4-a16c-67ecc656bd2b",
   "metadata": {},
   "outputs": [],
   "source": [
    "segment_names = []\n",
    "volumes_ingrowth_mm3 = []\n",
    "\n",
    "# Display volume of each segment\n",
    "for segmentId in stats[\"SegmentIDs\"]:\n",
    "    \n",
    "    volume_mm3 = stats[segmentId,\"LabelmapSegmentStatisticsPlugin.volume_mm3\"]\n",
    "    volumes_ingrowth_mm3.append(volume_mm3)\n",
    "    \n",
    "    segmentName = segmentationNode.GetSegmentation().GetSegment(segmentId).GetName()\n",
    "    segment_names.append(segmentName)\n",
    "\n",
    "data_dict = {'segmentName': segment_names, 'volume_mm3':volumes_ingrowth_mm3}\n",
    "df = pd.DataFrame(data_dict)\n",
    "df"
   ]
  },
  {
   "cell_type": "markdown",
   "id": "de8df4ed-fafc-429c-8032-7d21fb510fd7",
   "metadata": {},
   "source": [
    "Add sample name columns to DataFrame"
   ]
  },
  {
   "cell_type": "code",
   "execution_count": null,
   "id": "4915297c-3ba8-4aab-b3a6-0c9378c9dffa",
   "metadata": {},
   "outputs": [],
   "source": [
    "df['sample'] = [sample_name] * len(df. index)\n",
    "df"
   ]
  },
  {
   "cell_type": "code",
   "execution_count": null,
   "id": "784d1029-2190-4f72-bbcd-38b8e3a492de",
   "metadata": {},
   "outputs": [],
   "source": [
    "outputfile = output_path / (sample_name + '_volumes.csv')\n",
    "df.to_csv(outputfile, index=False)"
   ]
  },
  {
   "cell_type": "code",
   "execution_count": null,
   "id": "7194a15b-42ac-4278-8f06-79da417ba4d0",
   "metadata": {},
   "outputs": [],
   "source": []
  }
 ],
 "metadata": {
  "kernelspec": {
   "display_name": "Slicer 5.6",
   "language": "python",
   "name": "slicer-5.6"
  },
  "language_info": {
   "file_extension": ".py",
   "mimetype": "text/x-python",
   "name": "python",
   "version": "3.9.10"
  },
  "toc-autonumbering": true
 },
 "nbformat": 4,
 "nbformat_minor": 5
}
