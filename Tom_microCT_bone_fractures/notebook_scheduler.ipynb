{
 "cells": [
  {
   "cell_type": "code",
   "execution_count": null,
   "id": "fcaa4379-da43-4168-a32c-f96cfc433532",
   "metadata": {
    "editable": true,
    "slideshow": {
     "slide_type": ""
    },
    "tags": []
   },
   "outputs": [],
   "source": [
    "import papermill as pm"
   ]
  },
  {
   "cell_type": "code",
   "execution_count": null,
   "id": "aaa69d01-3840-4add-b686-ba98e33058db",
   "metadata": {},
   "outputs": [],
   "source": [
    "import psutil\n",
    "\n",
    "# Get memory information\n",
    "memoryInfo = psutil.virtual_memory()\n",
    "total_memory = memoryInfo.total / (1024 ** 3)\n",
    "available_memory = memoryInfo.available / (1024 ** 3)\n",
    "used_memory = memoryInfo.used / (1024 ** 3)\n",
    "\n",
    "print(f\"Total Memory: {total_memory:.2f} GB\")\n",
    "print(f\"Available Memory: {available_memory:.2f} GB\")\n",
    "print(f\"Used Memory: {used_memory:.2f} GB\")"
   ]
  },
  {
   "cell_type": "markdown",
   "id": "e0e5a54c-9bc3-41cb-83cd-928917f29ec8",
   "metadata": {
    "editable": true,
    "slideshow": {
     "slide_type": ""
    },
    "tags": []
   },
   "source": [
    "# Run `generate_nrrd_volumes` function"
   ]
  },
  {
   "cell_type": "code",
   "execution_count": null,
   "id": "f620526b-4c29-4904-8fcc-42e489193ddd",
   "metadata": {},
   "outputs": [],
   "source": [
    "def generate_nrrd_volumes(sample_dir):\n",
    "    from pathlib import Path\n",
    "\n",
    "    sample_dir_path = Path(sample_dir)\n",
    "    sample_name = sample_dir_path.stem\n",
    "    \n",
    "    paper_dict = dict(image_directory_name = str(sample_dir_path / ('slices_' + sample_name)),\n",
    "                      output_dir_path = str(sample_dir_path / 'microCT_volume'),\n",
    "                      pca_directory_name = str(sample_dir_path)\n",
    "                     )\n",
    "    \n",
    "    input_nb = '00_tif2nrrd_previewQuality.ipynb'\n",
    "    output_nb =  str(sample_dir_path / input_nb)\n",
    "\n",
    "    print(input_nb)\n",
    "    pm.execute_notebook(\n",
    "       input_nb,\n",
    "       output_nb,\n",
    "       parameters=dict(paper_dict)\n",
    "    );\n",
    "        \n",
    "    input_nb = '00_tif2nrrd_fullQuality.ipynb'\n",
    "    output_nb =  str(sample_dir_path / input_nb)\n",
    "\n",
    "    print(input_nb)\n",
    "    pm.execute_notebook(\n",
    "       input_nb,\n",
    "       output_nb,\n",
    "       parameters=dict(paper_dict)\n",
    "    );"
   ]
  },
  {
   "cell_type": "code",
   "execution_count": null,
   "id": "003c234d-a5dd-42c7-8e1f-e143f67ed5f3",
   "metadata": {
    "scrolled": true
   },
   "outputs": [],
   "source": [
    "sample_dir = '/config/researcher_home/Documents/M24-145'\n",
    "\n",
    "generate_nrrd_volumes(sample_dir)"
   ]
  },
  {
   "cell_type": "code",
   "execution_count": null,
   "id": "97d17ac3-66e2-4d4e-bcb4-062c7ae96792",
   "metadata": {},
   "outputs": [],
   "source": [
    "sample_dir = '/config/researcher_home/Documents/M24-146'\n",
    "\n",
    "generate_nrrd_volumes(sample_dir)"
   ]
  },
  {
   "cell_type": "code",
   "execution_count": null,
   "id": "c5e247cf-8016-4e97-a3e2-79412f410383",
   "metadata": {},
   "outputs": [],
   "source": [
    "sample_dir = '/config/researcher_home/Documents/M24-153'\n",
    "\n",
    "generate_nrrd_volumes(sample_dir)"
   ]
  },
  {
   "cell_type": "code",
   "execution_count": null,
   "id": "f7585656-b2c0-496f-9263-a8ee95c87aec",
   "metadata": {},
   "outputs": [],
   "source": [
    "sample_dir = '/config/researcher_home/Documents/M24-150'\n",
    "\n",
    "generate_nrrd_volumes(sample_dir)"
   ]
  },
  {
   "cell_type": "code",
   "execution_count": null,
   "id": "2e44ad57-09fd-4c1b-af2d-65dba5a582b1",
   "metadata": {},
   "outputs": [],
   "source": [
    "sample_dir = '/config/researcher_home/Documents/M24-172'\n",
    "\n",
    "generate_nrrd_volumes(sample_dir)"
   ]
  },
  {
   "cell_type": "code",
   "execution_count": null,
   "id": "221dc24a-4e6d-4c04-9555-0705b6a829b7",
   "metadata": {},
   "outputs": [],
   "source": [
    "sample_dir = '/config/researcher_home/Documents/M24-173'\n",
    "\n",
    "generate_nrrd_volumes(sample_dir)"
   ]
  },
  {
   "cell_type": "code",
   "execution_count": null,
   "id": "e9931d80-05ed-4c3e-9a85-cd86a0ee4a80",
   "metadata": {
    "scrolled": true
   },
   "outputs": [],
   "source": [
    "sample_dir = '/config/researcher_home/Documents/M24-174'\n",
    "\n",
    "generate_nrrd_volumes(sample_dir)"
   ]
  },
  {
   "cell_type": "code",
   "execution_count": null,
   "id": "ec211d12-88e2-45ab-b1f6-afbca8f17c73",
   "metadata": {},
   "outputs": [],
   "source": [
    "sample_dir = '/config/researcher_home/Documents/M24-157'\n",
    "\n",
    "generate_nrrd_volumes(sample_dir)"
   ]
  },
  {
   "cell_type": "code",
   "execution_count": null,
   "id": "e4d9b42f-0ec5-4319-b749-e87824b80b35",
   "metadata": {},
   "outputs": [],
   "source": [
    "sample_dir = '/config/researcher_home/Documents/M24-158'\n",
    "\n",
    "generate_nrrd_volumes(sample_dir)"
   ]
  },
  {
   "cell_type": "code",
   "execution_count": null,
   "id": "c229e60d-c20d-416c-b1fc-03f092f9c4a8",
   "metadata": {},
   "outputs": [],
   "source": [
    "sample_dir = '/config/researcher_home/Documents/M24-160'\n",
    "\n",
    "generate_nrrd_volumes(sample_dir)"
   ]
  },
  {
   "cell_type": "code",
   "execution_count": null,
   "id": "0810ec6a-87b0-46e0-9a8b-62b21193b352",
   "metadata": {},
   "outputs": [],
   "source": [
    "sample_dir = '/config/researcher_home/Documents/M24-176'\n",
    "\n",
    "generate_nrrd_volumes(sample_dir)"
   ]
  },
  {
   "cell_type": "code",
   "execution_count": null,
   "id": "695511dd-01f6-4cf2-b022-0573fbfd3971",
   "metadata": {},
   "outputs": [],
   "source": [
    "sample_dir = '/config/researcher_home/Documents/M24-177'\n",
    "\n",
    "generate_nrrd_volumes(sample_dir)"
   ]
  },
  {
   "cell_type": "code",
   "execution_count": null,
   "id": "ffb67a5d-6cf0-4dbd-a464-74220904c077",
   "metadata": {},
   "outputs": [],
   "source": [
    "sample_dir = '/config/researcher_home/Documents/M24-178'\n",
    "\n",
    "generate_nrrd_volumes(sample_dir)"
   ]
  },
  {
   "cell_type": "code",
   "execution_count": null,
   "id": "4f55cea1-c34d-4b17-8690-578a598491c2",
   "metadata": {},
   "outputs": [],
   "source": [
    "sample_dir = '/config/researcher_home/Documents/M24-179'\n",
    "\n",
    "generate_nrrd_volumes(sample_dir)"
   ]
  },
  {
   "cell_type": "code",
   "execution_count": null,
   "id": "494d894c-acd2-4f89-bf70-bd30e54cd4c3",
   "metadata": {},
   "outputs": [],
   "source": [
    "sample_dir = '/config/researcher_home/Documents/M24-180'\n",
    "\n",
    "generate_nrrd_volumes(sample_dir)"
   ]
  },
  {
   "cell_type": "code",
   "execution_count": null,
   "id": "0e88f478-1c38-485c-adea-7d2c33e9cc1b",
   "metadata": {},
   "outputs": [],
   "source": [
    "sample_dir = '/config/researcher_home/Documents/M24-181'\n",
    "\n",
    "generate_nrrd_volumes(sample_dir)"
   ]
  },
  {
   "cell_type": "code",
   "execution_count": null,
   "id": "ee9bd683-956f-4f74-90c8-41d0a19857bc",
   "metadata": {},
   "outputs": [],
   "source": [
    "sample_dir = '/config/researcher_home/Documents/M24-182'\n",
    "\n",
    "generate_nrrd_volumes(sample_dir)"
   ]
  },
  {
   "cell_type": "code",
   "execution_count": null,
   "id": "bd11e501-ad7f-486a-875d-a9c896a758ec",
   "metadata": {},
   "outputs": [],
   "source": [
    "sample_dir = '/config/researcher_home/Documents/M24-183'\n",
    "\n",
    "generate_nrrd_volumes(sample_dir)"
   ]
  },
  {
   "cell_type": "code",
   "execution_count": null,
   "id": "f5a1a2ab-8e41-4ddd-9e86-1e5767f803a5",
   "metadata": {},
   "outputs": [],
   "source": [
    "sample_dir = '/config/researcher_home/Documents/M24-148'\n",
    "\n",
    "generate_nrrd_volumes(sample_dir)"
   ]
  },
  {
   "cell_type": "code",
   "execution_count": null,
   "id": "5298fa3d-254d-4831-b989-0c78dba47011",
   "metadata": {},
   "outputs": [],
   "source": [
    "sample_dir = '/config/researcher_home/Documents/M24-151'\n",
    "\n",
    "generate_nrrd_volumes(sample_dir)"
   ]
  },
  {
   "cell_type": "code",
   "execution_count": null,
   "id": "3420cf6e-84a5-44a4-97e8-21f3e8a054de",
   "metadata": {},
   "outputs": [],
   "source": [
    "sample_dir = '/config/researcher_home/Documents/M24-152'\n",
    "\n",
    "generate_nrrd_volumes(sample_dir)"
   ]
  },
  {
   "cell_type": "code",
   "execution_count": null,
   "id": "2230bf3c-204b-4c26-ac41-1a2f949036e8",
   "metadata": {},
   "outputs": [],
   "source": [
    "sample_dir = '/config/researcher_home/Documents/M24-154'\n",
    "\n",
    "generate_nrrd_volumes(sample_dir)"
   ]
  },
  {
   "cell_type": "code",
   "execution_count": null,
   "id": "4b555607-0fd9-42d0-bb40-6aaca08528db",
   "metadata": {},
   "outputs": [],
   "source": [
    "sample_dir = '/config/researcher_home/Documents/M24-155'\n",
    "\n",
    "generate_nrrd_volumes(sample_dir)"
   ]
  },
  {
   "cell_type": "code",
   "execution_count": null,
   "id": "cb6f8d59-4bf0-499a-beec-c081ab284c2b",
   "metadata": {},
   "outputs": [],
   "source": [
    "sample_dir = '/config/researcher_home/Documents/CT/043606'\n",
    "\n",
    "generate_nrrd_volumes(sample_dir)"
   ]
  },
  {
   "cell_type": "code",
   "execution_count": null,
   "id": "9fda0eb4-616d-4619-b01d-ce042547a990",
   "metadata": {
    "scrolled": true
   },
   "outputs": [],
   "source": [
    "sample_dir = '/config/researcher_home/Documents/CT/043609'\n",
    "\n",
    "generate_nrrd_volumes(sample_dir)"
   ]
  },
  {
   "cell_type": "code",
   "execution_count": null,
   "id": "87243ddb-9a16-4256-a36b-1ca880d8331c",
   "metadata": {},
   "outputs": [],
   "source": []
  },
  {
   "cell_type": "markdown",
   "id": "af8f299e-c29f-4f35-a757-59eff616b2f0",
   "metadata": {
    "editable": true,
    "slideshow": {
     "slide_type": ""
    },
    "tags": []
   },
   "source": [
    "# Run `microCT_analyzer` function"
   ]
  },
  {
   "cell_type": "code",
   "execution_count": null,
   "id": "096f0328-0fb9-49c0-bfca-a1b66a76e7d9",
   "metadata": {},
   "outputs": [],
   "source": [
    "def microCT_analyzer(sample_dir):    \n",
    "    # 02_segment_microCT\n",
    "    paper_dict = dict(volume_file = sample_dir + 'microCT_volume/microCT_volume.nrrd',\n",
    "                  output_dir_path = sample_dir + 'segmented_volumes/',\n",
    "                  segmentMask_file = sample_dir + 'segmented_volumes/ROI.seg.nrrd',\n",
    "                  segments_greyvalues_file = sample_dir +'segmented_volumes/segments_greyvalues.csv'\n",
    "                 )\n",
    "\n",
    "    input_nb = '02_segment_microCT.ipynb'\n",
    "    output_nb =  sample_dir + input_nb\n",
    "\n",
    "    print(input_nb)\n",
    "    pm.execute_notebook(\n",
    "       input_nb,\n",
    "       output_nb,\n",
    "       parameters=dict(paper_dict)\n",
    "    );\n",
    "    \n",
    "    # 03_compute_Bone_segment_Volumes\n",
    "    paper_dict = dict(volume_file = sample_dir + 'microCT_volume/microCT_volume.nrrd',\n",
    "                      output_dir_path = sample_dir + 'segmented_volumes/',\n",
    "                      file_bone_segment = sample_dir + 'segmented_volumes/Bone.seg.nrrd',\n",
    "                      file_roi_segment = sample_dir + 'segmented_volumes/ROI.seg.nrrd',\n",
    "                      sample_dir = sample_dir\n",
    "                     )\n",
    "\n",
    "    input_nb = '03_compute_Bone_segment_Volumes.ipynb'\n",
    "    output_nb =  sample_dir + input_nb\n",
    "\n",
    "    print(input_nb)\n",
    "    pm.execute_notebook(\n",
    "       input_nb,\n",
    "       output_nb,\n",
    "       parameters=dict(paper_dict)\n",
    "    );"
   ]
  },
  {
   "cell_type": "code",
   "execution_count": null,
   "id": "1ac05fc2-434f-4e1a-bae6-09d4c4e38b32",
   "metadata": {},
   "outputs": [],
   "source": [
    "sample_dir = '/config/researcher_home/Documents/CT/M24-150/'\n",
    "\n",
    "microCT_analyzer(sample_dir)"
   ]
  },
  {
   "cell_type": "code",
   "execution_count": null,
   "id": "93e8c623-4fb3-457c-9b77-e045e77da7d1",
   "metadata": {},
   "outputs": [],
   "source": [
    "sample_dir = '/config/researcher_home/Documents/CT/M24-148/'\n",
    "\n",
    "microCT_analyzer(sample_dir)"
   ]
  },
  {
   "cell_type": "code",
   "execution_count": null,
   "id": "5ebe9ecf-bcec-4102-b6b5-a6b923cd901e",
   "metadata": {},
   "outputs": [],
   "source": [
    "sample_dir = '/config/researcher_home/Documents/CT/M24-151/'\n",
    "\n",
    "microCT_analyzer(sample_dir)"
   ]
  },
  {
   "cell_type": "code",
   "execution_count": null,
   "id": "79885ae9-8b74-4dd6-81b5-3fed0218694c",
   "metadata": {},
   "outputs": [],
   "source": [
    "sample_dir = '/config/researcher_home/Documents/CT/M24-152/'\n",
    "\n",
    "microCT_analyzer(sample_dir)"
   ]
  },
  {
   "cell_type": "code",
   "execution_count": null,
   "id": "72821ce6-c0d9-4ac4-b4f0-691c8fdd1adc",
   "metadata": {},
   "outputs": [],
   "source": [
    "sample_dir = '/config/researcher_home/Documents/CT/M24-157/'\n",
    "\n",
    "microCT_analyzer(sample_dir)"
   ]
  },
  {
   "cell_type": "code",
   "execution_count": null,
   "id": "47071ac7-eeb3-41a7-9286-ec658fd4e1a0",
   "metadata": {},
   "outputs": [],
   "source": [
    "sample_dir = '/config/researcher_home/Documents/CT/M24-158/'\n",
    "\n",
    "microCT_analyzer(sample_dir)"
   ]
  },
  {
   "cell_type": "code",
   "execution_count": null,
   "id": "f32c0084-9413-42d3-9a41-b23b8bb8dcd7",
   "metadata": {},
   "outputs": [],
   "source": [
    "sample_dir = '/config/researcher_home/Documents/CT/M24-160/'\n",
    "\n",
    "microCT_analyzer(sample_dir)"
   ]
  },
  {
   "cell_type": "code",
   "execution_count": null,
   "id": "8ca0cda4-67c5-4984-bcf8-52841a98284e",
   "metadata": {},
   "outputs": [],
   "source": []
  }
 ],
 "metadata": {
  "kernelspec": {
   "display_name": "Slicer 5.6",
   "language": "python",
   "name": "slicer-5.6"
  },
  "language_info": {
   "file_extension": ".py",
   "mimetype": "text/x-python",
   "name": "python",
   "version": "3.9.10"
  }
 },
 "nbformat": 4,
 "nbformat_minor": 5
}
